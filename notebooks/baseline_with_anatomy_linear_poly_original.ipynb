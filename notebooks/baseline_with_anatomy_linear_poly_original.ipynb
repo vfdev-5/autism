{
 "cells": [
  {
   "cell_type": "markdown",
   "metadata": {},
   "source": [
    "# Baseline model based on anatomy features"
   ]
  },
  {
   "cell_type": "code",
   "execution_count": 1,
   "metadata": {},
   "outputs": [],
   "source": [
    "path = \"..\"\n",
    "\n",
    "import sys\n",
    "sys.path.insert(0, path)"
   ]
  },
  {
   "cell_type": "code",
   "execution_count": 2,
   "metadata": {},
   "outputs": [],
   "source": [
    "import numpy as np\n",
    "import pandas as pd\n",
    "\n",
    "import matplotlib.pylab as plt\n",
    "%matplotlib inline\n",
    "import seaborn as sns"
   ]
  },
  {
   "cell_type": "code",
   "execution_count": 3,
   "metadata": {},
   "outputs": [],
   "source": [
    "from problem import get_train_data, get_test_data\n",
    "\n",
    "data_train, labels_train = get_train_data(path=path)\n",
    "data_test, labels_test = get_test_data(path=path)"
   ]
  },
  {
   "cell_type": "code",
   "execution_count": 4,
   "metadata": {},
   "outputs": [],
   "source": [
    "data_train['participants_sex'] = data_train['participants_sex'].map({'F': -1.0, 'M': +1.0}) "
   ]
  },
  {
   "cell_type": "code",
   "execution_count": 5,
   "metadata": {},
   "outputs": [
    {
     "data": {
      "text/plain": [
       "((1127, 220), (23, 220))"
      ]
     },
     "execution_count": 5,
     "metadata": {},
     "output_type": "execute_result"
    }
   ],
   "source": [
    "data_train.shape, data_test.shape"
   ]
  },
  {
   "cell_type": "code",
   "execution_count": 8,
   "metadata": {},
   "outputs": [],
   "source": [
    "from sklearn.pipeline import make_pipeline\n",
    "from sklearn.model_selection import cross_validate, StratifiedShuffleSplit\n",
    "\n",
    "\n",
    "def evaluation(X, y):\n",
    "    pipe = make_pipeline(FeatureExtractor(), Classifier())\n",
    "    cv = StratifiedShuffleSplit(n_splits=10, test_size=0.5, random_state=42).split(X, y)\n",
    "    results = cross_validate(pipe, X, y, scoring=['roc_auc', 'accuracy'], cv=cv,\n",
    "                             verbose=1, return_train_score=True,\n",
    "                             n_jobs=1)\n",
    "    \n",
    "    return results"
   ]
  },
  {
   "cell_type": "code",
   "execution_count": 9,
   "metadata": {},
   "outputs": [],
   "source": [
    "anatomy_cols = [col for col in data_train1.columns if col.startswith('anatomy')]\n",
    "anatomy_cols.remove('anatomy_select')\n",
    "null_anatomy_cols = [\n",
    "    'anatomy_Left-WM-hypointensities',\n",
    "    'anatomy_Right-WM-hypointensities',\n",
    "    'anatomy_Left-non-WM-hypointensities',\n",
    "    'anatomy_Right-non-WM-hypointensities'\n",
    "]\n",
    "\n",
    "for c in null_anatomy_cols:\n",
    "    anatomy_cols.remove(c)\n",
    "\n",
    "participant_cols = [col for col in data_train1.columns if col.startswith('participant')]\n",
    "participant_cols.remove('participants_site')"
   ]
  },
  {
   "cell_type": "code",
   "execution_count": null,
   "metadata": {},
   "outputs": [],
   "source": [
    "inverted_cols = []\n",
    "\n",
    "for c in anatomy_cols + [\"participants_age\", ]:\n",
    "    data_train1.loc[:, \"1/{}\".format(c)] = 1.0 / (data_train1[c] + 1e-7)\n",
    "    inverted_cols.append(\"1/{}\".format(c))"
   ]
  },
  {
   "cell_type": "markdown",
   "metadata": {},
   "source": [
    "### Basic logistic regression "
   ]
  },
  {
   "cell_type": "code",
   "execution_count": 20,
   "metadata": {},
   "outputs": [],
   "source": [
    "from sklearn.base import BaseEstimator\n",
    "from sklearn.base import TransformerMixin\n",
    "from sklearn.base import BaseEstimator\n",
    "from sklearn.preprocessing import StandardScaler\n",
    "from sklearn.linear_model import LogisticRegression\n",
    "from sklearn.preprocessing import PolynomialFeatures\n",
    "from sklearn.pipeline import make_pipeline\n",
    "\n",
    "\n",
    "class FeatureExtractor(BaseEstimator, TransformerMixin):\n",
    "    def fit(self, X_df, y):\n",
    "        return self\n",
    "\n",
    "    def transform(self, X_df):\n",
    "        # get only the anatomical information\n",
    "        return X_df[anatomy_cols + participant_cols]\n",
    "        \n",
    "\n",
    "class Classifier(BaseEstimator):\n",
    "    def __init__(self):\n",
    "        self.clf = make_pipeline(PolynomialFeatures(2),\n",
    "                                 StandardScaler(), \n",
    "                                 LogisticRegression())\n",
    "\n",
    "    def fit(self, X, y):\n",
    "        self.clf.fit(X, y)\n",
    "        return self\n",
    "        \n",
    "    def predict(self, X):\n",
    "        return self.clf.predict(X)\n",
    "\n",
    "    def predict_proba(self, X):\n",
    "        return self.clf.predict_proba(X)\n"
   ]
  },
  {
   "cell_type": "code",
   "execution_count": 21,
   "metadata": {},
   "outputs": [
    {
     "name": "stdout",
     "output_type": "stream",
     "text": [
      "Training score ROC-AUC: 1.000 +- 0.000\n",
      "Validation score ROC-AUC: 0.626 +- 0.014 \n",
      "\n",
      "Training score accuracy: 1.000 +- 0.000\n",
      "Validation score accuracy: 0.594 +- 0.014\n"
     ]
    },
    {
     "name": "stderr",
     "output_type": "stream",
     "text": [
      "[Parallel(n_jobs=1)]: Done  10 out of  10 | elapsed: 15.0min finished\n"
     ]
    }
   ],
   "source": [
    "import numpy as np\n",
    "\n",
    "results = evaluation(data_train, labels_train)\n",
    "\n",
    "print(\"Training score ROC-AUC: {:.3f} +- {:.3f}\".format(np.mean(results['train_roc_auc']),\n",
    "                                                        np.std(results['train_roc_auc'])))\n",
    "print(\"Validation score ROC-AUC: {:.3f} +- {:.3f} \\n\".format(np.mean(results['test_roc_auc']),\n",
    "                                                          np.std(results['test_roc_auc'])))\n",
    "\n",
    "print(\"Training score accuracy: {:.3f} +- {:.3f}\".format(np.mean(results['train_accuracy']),\n",
    "                                                         np.std(results['train_accuracy'])))\n",
    "print(\"Validation score accuracy: {:.3f} +- {:.3f}\".format(np.mean(results['test_accuracy']),\n",
    "                                                           np.std(results['test_accuracy'])))"
   ]
  },
  {
   "cell_type": "markdown",
   "metadata": {},
   "source": [
    "```\n",
    "Training score ROC-AUC: 1.000 +- 0.000\n",
    "Validation score ROC-AUC: 0.637 +- 0.014 \n",
    "\n",
    "Training score accuracy: 1.000 +- 0.000\n",
    "Validation score accuracy: 0.604 +- 0.014\n",
    "```"
   ]
  },
  {
   "cell_type": "markdown",
   "metadata": {},
   "source": [
    "Let's visualize feature importance:"
   ]
  },
  {
   "cell_type": "code",
   "execution_count": 30,
   "metadata": {},
   "outputs": [],
   "source": [
    "def visualize_coefficients(classifier, feature_names, n_top_features=25):\n",
    "    # get coefficients with large absolute values \n",
    "    coef = classifier.coef_.ravel()\n",
    "    positive_coefficients = np.argsort(coef)[-n_top_features:]\n",
    "    negative_coefficients = np.argsort(coef)[:n_top_features]\n",
    "    interesting_coefficients = np.hstack([negative_coefficients, positive_coefficients])\n",
    "    # plot them\n",
    "    plt.figure(figsize=(20, 10))\n",
    "    colors = [\"red\" if c < 0 else \"blue\" for c in coef[interesting_coefficients]]\n",
    "    plt.bar(np.arange(2 * n_top_features), coef[interesting_coefficients], color=colors)\n",
    "    if feature_names is not None:\n",
    "        feature_names = np.array(feature_names)\n",
    "        plt.xticks(np.arange(1, 1 + 2 * n_top_features), feature_names[interesting_coefficients], rotation=60, ha=\"right\");"
   ]
  },
  {
   "cell_type": "code",
   "execution_count": 23,
   "metadata": {},
   "outputs": [
    {
     "data": {
      "text/plain": [
       "Pipeline(memory=None,\n",
       "     steps=[('featureextractor', FeatureExtractor()), ('classifier', Classifier())])"
      ]
     },
     "execution_count": 23,
     "metadata": {},
     "output_type": "execute_result"
    }
   ],
   "source": [
    "pipe = make_pipeline(FeatureExtractor(), Classifier())\n",
    "pipe.fit(data_train, labels_train)"
   ]
  },
  {
   "cell_type": "code",
   "execution_count": 24,
   "metadata": {},
   "outputs": [],
   "source": [
    "log_reg = pipe.named_steps['classifier'].clf.named_steps['logisticregression']"
   ]
  },
  {
   "cell_type": "code",
   "execution_count": 27,
   "metadata": {},
   "outputs": [],
   "source": [
    "poly_feature = pipe.named_steps['classifier'].clf.named_steps['polynomialfeatures']\n",
    "cols = anatomy_cols + participant_cols + inverted_cols"
   ]
  },
  {
   "cell_type": "code",
   "execution_count": 46,
   "metadata": {},
   "outputs": [
    {
     "data": {
      "image/png": "[encoded data removed]",
      "text/plain": [
       "<Figure size 1440x720 with 1 Axes>"
      ]
     },
     "metadata": {},
     "output_type": "display_data"
    }
   ],
   "source": [
    "visualize_coefficients(log_reg, feature_names=poly_feature.get_feature_names(input_features=cols), n_top_features=40)"
   ]
  },
  {
   "cell_type": "code",
   "execution_count": 32,
   "metadata": {},
   "outputs": [],
   "source": [
    "# coef = log_reg.coef_.ravel()\n",
    "# poly_cols = poly_feature.get_feature_names(input_features=cols)\n",
    "# np.savez_compressed(\"log_reg_coef_f_f2_1f_anatomy_participant_test_size=05.npz\", coef=coef, poly_cols=poly_cols)"
   ]
  },
  {
   "cell_type": "code",
   "execution_count": 7,
   "metadata": {},
   "outputs": [],
   "source": [
    "# log_reg_coef_2xfeatures = np.load(\"log_reg_coef_2xfeatures.npz\")\n",
    "# coef = log_reg_coef_2xfeatures['coef']\n",
    "# poly_cols = log_reg_coef_2xfeatures['poly_cols']"
   ]
  },
  {
   "cell_type": "code",
   "execution_count": 53,
   "metadata": {},
   "outputs": [],
   "source": [
    "coef = log_reg.coef_.ravel()\n",
    "positive_coefficients_ = np.argsort(coef)\n",
    "negative_coefficients_ = np.argsort(coef)"
   ]
  },
  {
   "cell_type": "code",
   "execution_count": 68,
   "metadata": {},
   "outputs": [
    {
     "data": {
      "text/plain": [
       "(-0.31531439861437294, 0.28770429347592985, 0.0)"
      ]
     },
     "execution_count": 68,
     "metadata": {},
     "output_type": "execute_result"
    }
   ],
   "source": [
    "coef.min(), coef.max(), np.abs(coef).min()"
   ]
  },
  {
   "cell_type": "code",
   "execution_count": 71,
   "metadata": {},
   "outputs": [
    {
     "name": "stderr",
     "output_type": "stream",
     "text": [
      "/opt/conda/envs/rampwf/lib/python3.6/site-packages/matplotlib/axes/_axes.py:6462: UserWarning: The 'normed' kwarg is deprecated, and has been replaced by the 'density' kwarg.\n",
      "  warnings.warn(\"The 'normed' kwarg is deprecated, and has been \"\n"
     ]
    },
    {
     "data": {
      "text/plain": [
       "<matplotlib.axes._subplots.AxesSubplot at 0x7fe9626a7710>"
      ]
     },
     "execution_count": 71,
     "metadata": {},
     "output_type": "execute_result"
    },
    {
     "data": {
      "image/png": "[encoded data removed]",
      "text/plain": [
       "<Figure size 432x288 with 1 Axes>"
      ]
     },
     "metadata": {},
     "output_type": "display_data"
    }
   ],
   "source": [
    "sns.distplot(coef, kde=False)"
   ]
  },
  {
   "cell_type": "code",
   "execution_count": 77,
   "metadata": {},
   "outputs": [
    {
     "data": {
      "text/plain": [
       "(1617, 787)"
      ]
     },
     "execution_count": 77,
     "metadata": {},
     "output_type": "execute_result"
    }
   ],
   "source": [
    "t = 0.06\n",
    "len(coef[(coef > t) | (coef < -t)]), len(coef[(coef > t)])"
   ]
  },
  {
   "cell_type": "code",
   "execution_count": null,
   "metadata": {},
   "outputs": [],
   "source": []
  },
  {
   "cell_type": "code",
   "execution_count": null,
   "metadata": {},
   "outputs": [],
   "source": []
  },
  {
   "cell_type": "code",
   "execution_count": 54,
   "metadata": {},
   "outputs": [],
   "source": [
    "n_top_features = 1000\n",
    "\n",
    "positive_coefficients = positive_coefficients_[-n_top_features:]\n",
    "negative_coefficients = negative_coefficients_[:n_top_features]\n",
    "interesting_coefficients = np.hstack([negative_coefficients, positive_coefficients])\n",
    "\n",
    "topk_2xfeature_names = np.array(poly_cols)[interesting_coefficients].tolist()"
   ]
  },
  {
   "cell_type": "code",
   "execution_count": 48,
   "metadata": {
    "scrolled": true
   },
   "outputs": [
    {
     "data": {
      "text/plain": [
       "2000"
      ]
     },
     "execution_count": 48,
     "metadata": {},
     "output_type": "execute_result"
    }
   ],
   "source": [
    "len(topk_2xfeature_names)"
   ]
  },
  {
   "cell_type": "code",
   "execution_count": 49,
   "metadata": {},
   "outputs": [
    {
     "data": {
      "text/plain": [
       "84"
      ]
     },
     "execution_count": 49,
     "metadata": {},
     "output_type": "execute_result"
    }
   ],
   "source": [
    "topk_feature_names = [\"anatomy_MaskVol\", \"anatomy_rhCerebralWhiteMatterVol\", \"anatomy_rh_MeanThickness_thickness\", \"anatomy_Brain-Stem\", \"anatomy_lh_MeanThickness_thickness\", \"anatomy_lh_precentral_area\", \"anatomy_rh_lateralorbitofrontal_thickness\", \"anatomy_lh_superiortemporal_area\", \"anatomy_rh_middletemporal_thickness\", \"anatomy_Right-Cerebellum-White-Matter\", \"anatomy_rh_insula_thickness\", \"anatomy_lh_rostralmiddlefrontal_area\", \"anatomy_rh_pericalcarine_area\", \"anatomy_BrainSegVol\", \"anatomy_lh_entorhinal_area\", \"anatomy_BrainSegVolNotVent\", \"anatomy_lh_superiorparietal_area\", \"anatomy_lh_pericalcarine_area\", \"anatomy_rh_middletemporal_area\", \"anatomy_SupraTentorialVolNotVentVox\", \"anatomy_lhCortexVol\", \"anatomy_lh_lateralorbitofrontal_area\", \"anatomy_rh_medialorbitofrontal_area\", \"anatomy_rhSurfaceHoles\", \"anatomy_rh_inferiorparietal_area\", \"anatomy_rh_fusiform_area\", \"anatomy_CC_Posterior\", \"anatomy_rh_temporalpole_area\", \"anatomy_Right-Amygdala\", \"anatomy_Left-Thalamus-Proper\", \"anatomy_lh_frontalpole_area\", \"anatomy_lh_entorhinal_thickness\", \"anatomy_rh_insula_area\", \"anatomy_lh_caudalanteriorcingulate_area\", \"anatomy_lh_lateralorbitofrontal_thickness\", \"anatomy_Right-Accumbens-area\", \"anatomy_lh_precuneus_thickness\", \"anatomy_Left-Putamen\", \"anatomy_rh_caudalmiddlefrontal_thickness\", \"anatomy_CC_Central\", \"anatomy_Left-Caudate\", \"anatomy_rh_postcentral_thickness\", \"anatomy_lh_insula_thickness\", \"participants_sex\", \"anatomy_rh_entorhinal_thickness\", \"anatomy_Left-Inf-Lat-Vent\", \"anatomy_rh_precentral_area\", \"participants_age\", \"anatomy_rh_frontalpole_area\", \"anatomy_Right-Pallidum\", \"anatomy_rh_rostralmiddlefrontal_area\", \"anatomy_rh_superiortemporal_thickness\", \"anatomy_Left-Hippocampus\", \"anatomy_WM-hypointensities\", \"anatomy_lh_insula_area\", \"anatomy_eTIV\", \"anatomy_EstimatedTotalIntraCranialVol\", \"anatomy_lh_medialorbitofrontal_thickness\", \"anatomy_rh_rostralmiddlefrontal_thickness\", \"anatomy_rh_bankssts_area\", \"anatomy_rh_precuneus_area\", \"anatomy_Left-Amygdala\", \"anatomy_lhSurfaceHoles\", \"anatomy_lh_lingual_area\", \"anatomy_rhCortexVol\", \"anatomy_rh_lateraloccipital_thickness\", \"anatomy_Right-Cerebellum-Cortex\", \"anatomy_rh_parsorbitalis_thickness\", \"anatomy_lh_cuneus_thickness\", \"anatomy_lh_parsorbitalis_area\", \"anatomy_rh_lateraloccipital_area\", \"anatomy_lh_fusiform_thickness\", \"anatomy_rh_superiorfrontal_area\", \"anatomy_SubCortGrayVol\", \"anatomy_CC_Mid_Anterior\", \"anatomy_3rd-Ventricle\", \"anatomy_Left-VentralDC\", \"anatomy_lh_superiortemporal_thickness\", \"anatomy_rh_inferiortemporal_area\", \"anatomy_BrainSegVol-to-eTIV\", \"anatomy_lhCerebralWhiteMatterVol\", \"anatomy_rh_precuneus_thickness\", \"anatomy_lh_superiorfrontal_thickness\", \"anatomy_MaskVol-to-eTIV\", ]\n",
    "\n",
    "len(topk_feature_names)"
   ]
  },
  {
   "cell_type": "markdown",
   "metadata": {},
   "source": [
    "### Basic logistic regression on poly features"
   ]
  },
  {
   "cell_type": "code",
   "execution_count": 50,
   "metadata": {},
   "outputs": [],
   "source": [
    "X_df = data_train\n",
    "for fname in topk_2xfeature_names:\n",
    "    if \" \" in fname:\n",
    "        X_df.loc[:, fname] = 0.0\n",
    "        f1, f2 = fname.split(\" \")\n",
    "        X_df.loc[:, fname] = X_df[f1] * X_df[f2]"
   ]
  },
  {
   "cell_type": "code",
   "execution_count": 51,
   "metadata": {},
   "outputs": [],
   "source": [
    "class FeatureExtractor(BaseEstimator, TransformerMixin):\n",
    "    def fit(self, X_df, y):                \n",
    "        return self\n",
    "\n",
    "    def transform(self, X_df):\n",
    "        # create polynomial features:\n",
    "#         if X_df['participants_sex'].unique().dtype != int:\n",
    "#             X_df['participants_sex'] = X_df['participants_sex'].map({'F': 0, 'M': 1}) \n",
    "#         for fname in topk_2xfeature_names:\n",
    "#             if \" \" in fname:\n",
    "#                 X_df.loc[:, fname] = 0.0\n",
    "#                 f1, f2 = fname.split(\" \")\n",
    "#                 X_df.loc[:, fname] = X_df[f1] * X_df[f2]\n",
    "        return X_df[topk_2xfeature_names + topk_feature_names]\n",
    "    \n",
    "    \n",
    "from sklearn.linear_model import LogisticRegressionCV, LogisticRegression\n",
    "seed = 100\n",
    "        \n",
    "\n",
    "class Classifier(BaseEstimator):\n",
    "    def __init__(self):\n",
    "        self.clf = None\n",
    "\n",
    "    def fit(self, X, y):\n",
    "        \n",
    "        pipe_cv = make_pipeline(StandardScaler(), \n",
    "                                LogisticRegressionCV(n_jobs=8, scoring=\"roc_auc\", random_state=seed))\n",
    "        pipe_cv.fit(X, y)\n",
    "        best_C = pipe_cv.named_steps['logisticregressioncv'].C_[0]\n",
    "        self.clf = make_pipeline(StandardScaler(), LogisticRegression(C=best_C, random_state=seed))\n",
    "        self.clf.fit(X, y)\n",
    "        return self\n",
    "        \n",
    "    def predict(self, X):\n",
    "        return self.clf.predict(X)\n",
    "\n",
    "    def predict_proba(self, X):\n",
    "        return self.clf.predict_proba(X)\n"
   ]
  },
  {
   "cell_type": "code",
   "execution_count": 52,
   "metadata": {
    "scrolled": false
   },
   "outputs": [
    {
     "name": "stdout",
     "output_type": "stream",
     "text": [
      "Training score ROC-AUC: 1.000 +- 0.000\n",
      "Validation score ROC-AUC: 0.760 +- 0.022 \n",
      "\n",
      "Training score accuracy: 1.000 +- 0.000\n",
      "Validation score accuracy: 0.694 +- 0.016\n"
     ]
    },
    {
     "name": "stderr",
     "output_type": "stream",
     "text": [
      "[Parallel(n_jobs=1)]: Done  10 out of  10 | elapsed:   30.1s finished\n"
     ]
    }
   ],
   "source": [
    "import numpy as np\n",
    "\n",
    "results = evaluation(data_train, labels_train)\n",
    "\n",
    "print(\"Training score ROC-AUC: {:.3f} +- {:.3f}\".format(np.mean(results['train_roc_auc']),\n",
    "                                                        np.std(results['train_roc_auc'])))\n",
    "print(\"Validation score ROC-AUC: {:.3f} +- {:.3f} \\n\".format(np.mean(results['test_roc_auc']),\n",
    "                                                          np.std(results['test_roc_auc'])))\n",
    "\n",
    "print(\"Training score accuracy: {:.3f} +- {:.3f}\".format(np.mean(results['train_accuracy']),\n",
    "                                                         np.std(results['train_accuracy'])))\n",
    "print(\"Validation score accuracy: {:.3f} +- {:.3f}\".format(np.mean(results['test_accuracy']),\n",
    "                                                           np.std(results['test_accuracy'])))"
   ]
  },
  {
   "cell_type": "code",
   "execution_count": null,
   "metadata": {},
   "outputs": [],
   "source": []
  },
  {
   "cell_type": "code",
   "execution_count": null,
   "metadata": {},
   "outputs": [],
   "source": []
  },
  {
   "cell_type": "code",
   "execution_count": null,
   "metadata": {},
   "outputs": [],
   "source": []
  },
  {
   "cell_type": "markdown",
   "metadata": {},
   "source": [
    "Find optimal number of features"
   ]
  },
  {
   "cell_type": "code",
   "execution_count": 104,
   "metadata": {},
   "outputs": [],
   "source": [
    "n_top_features = 1000\n",
    "positive_coefficients = np.argsort(coef)[-n_top_features:]\n",
    "negative_coefficients = np.argsort(coef)[:n_top_features]\n",
    "interesting_coefficients = np.hstack([negative_coefficients, positive_coefficients])\n",
    "topk_2xfeature_names = np.array(poly_cols)[interesting_coefficients].tolist()\n",
    "\n",
    "\n",
    "X_df = data_train\n",
    "for fname in topk_2xfeature_names:\n",
    "    if \" \" in fname:\n",
    "        X_df.loc[:, fname] = 0.0\n",
    "        f1, f2 = fname.split(\" \")\n",
    "        X_df.loc[:, fname] = X_df[f1] * X_df[f2]"
   ]
  },
  {
   "cell_type": "code",
   "execution_count": 102,
   "metadata": {},
   "outputs": [],
   "source": [
    "from hyperopt import fmin, tpe, hp, STATUS_OK, Trials"
   ]
  },
  {
   "cell_type": "code",
   "execution_count": 113,
   "metadata": {
    "collapsed": true
   },
   "outputs": [
    {
     "name": "stdout",
     "output_type": "stream",
     "text": [
      "Trial: num_features: 644 -> Score: roc = 0.7835549114737572 | acc = 0.7120567375886525\n",
      "Trial: num_features: 186 -> "
     ]
    },
    {
     "name": "stderr",
     "output_type": "stream",
     "text": [
      "[Parallel(n_jobs=1)]: Done  10 out of  10 | elapsed:   19.9s finished\n"
     ]
    },
    {
     "name": "stdout",
     "output_type": "stream",
     "text": [
      "Score: roc = 0.7466561653329973 | acc = 0.6828014184397164\n",
      "Trial: num_features: 605 -> "
     ]
    },
    {
     "name": "stderr",
     "output_type": "stream",
     "text": [
      "[Parallel(n_jobs=1)]: Done  10 out of  10 | elapsed:   10.8s finished\n"
     ]
    },
    {
     "name": "stdout",
     "output_type": "stream",
     "text": [
      "Score: roc = 0.783729443639342 | acc = 0.7148936170212765\n",
      "Trial: num_features: 350 -> "
     ]
    },
    {
     "name": "stderr",
     "output_type": "stream",
     "text": [
      "[Parallel(n_jobs=1)]: Done  10 out of  10 | elapsed:   18.5s finished\n"
     ]
    },
    {
     "name": "stdout",
     "output_type": "stream",
     "text": [
      "Score: roc = 0.7749593598386995 | acc = 0.7070921985815602\n",
      "Trial: num_features: 408 -> "
     ]
    },
    {
     "name": "stderr",
     "output_type": "stream",
     "text": [
      "[Parallel(n_jobs=1)]: Done  10 out of  10 | elapsed:   13.7s finished\n"
     ]
    },
    {
     "name": "stdout",
     "output_type": "stream",
     "text": [
      "Score: roc = 0.7816583706130679 | acc = 0.7122340425531914\n",
      "Trial: num_features: 629 -> "
     ]
    },
    {
     "name": "stderr",
     "output_type": "stream",
     "text": [
      "[Parallel(n_jobs=1)]: Done  10 out of  10 | elapsed:   15.0s finished\n"
     ]
    },
    {
     "name": "stdout",
     "output_type": "stream",
     "text": [
      "Score: roc = 0.7852416356877324 | acc = 0.7152482269503546\n",
      "Trial: num_features: 395 -> "
     ]
    },
    {
     "name": "stderr",
     "output_type": "stream",
     "text": [
      "[Parallel(n_jobs=1)]: Done  10 out of  10 | elapsed:   18.1s finished\n"
     ]
    },
    {
     "name": "stdout",
     "output_type": "stream",
     "text": [
      "Score: roc = 0.7802665238485287 | acc = 0.7101063829787234\n",
      "Trial: num_features: 711 -> "
     ]
    },
    {
     "name": "stderr",
     "output_type": "stream",
     "text": [
      "[Parallel(n_jobs=1)]: Done  10 out of  10 | elapsed:   14.3s finished\n"
     ]
    },
    {
     "name": "stdout",
     "output_type": "stream",
     "text": [
      "Score: roc = 0.7889150022052801 | acc = 0.7145390070921986\n",
      "Trial: num_features: 547 -> "
     ]
    },
    {
     "name": "stderr",
     "output_type": "stream",
     "text": [
      "[Parallel(n_jobs=1)]: Done  10 out of  10 | elapsed:   20.3s finished\n"
     ]
    },
    {
     "name": "stdout",
     "output_type": "stream",
     "text": [
      "Score: roc = 0.7863039506017264 | acc = 0.7157801418439717\n",
      "Trial: num_features: 773 -> "
     ]
    },
    {
     "name": "stderr",
     "output_type": "stream",
     "text": [
      "[Parallel(n_jobs=1)]: Done  10 out of  10 | elapsed:   17.2s finished\n"
     ]
    },
    {
     "name": "stdout",
     "output_type": "stream",
     "text": [
      "Score: roc = 0.7863726293239243 | acc = 0.7145390070921985\n",
      "Trial: num_features: 769 -> "
     ]
    },
    {
     "name": "stderr",
     "output_type": "stream",
     "text": [
      "[Parallel(n_jobs=1)]: Done  10 out of  10 | elapsed:   22.0s finished\n"
     ]
    },
    {
     "name": "stdout",
     "output_type": "stream",
     "text": [
      "Score: roc = 0.7836330413962573 | acc = 0.7115248226950355\n",
      "Trial: num_features: 232 -> "
     ]
    },
    {
     "name": "stderr",
     "output_type": "stream",
     "text": [
      "[Parallel(n_jobs=1)]: Done  10 out of  10 | elapsed:   22.6s finished\n"
     ]
    },
    {
     "name": "stdout",
     "output_type": "stream",
     "text": [
      "Score: roc = 0.756112406275597 | acc = 0.6920212765957447\n",
      "Trial: num_features: 875 -> "
     ]
    },
    {
     "name": "stderr",
     "output_type": "stream",
     "text": [
      "[Parallel(n_jobs=1)]: Done  10 out of  10 | elapsed:   11.5s finished\n"
     ]
    },
    {
     "name": "stdout",
     "output_type": "stream",
     "text": [
      "Score: roc = 0.7857601915443262 | acc = 0.7143617021276596\n",
      "Trial: num_features: 606 -> "
     ]
    },
    {
     "name": "stderr",
     "output_type": "stream",
     "text": [
      "[Parallel(n_jobs=1)]: Done  10 out of  10 | elapsed:   24.3s finished\n"
     ]
    },
    {
     "name": "stdout",
     "output_type": "stream",
     "text": [
      "Score: roc = 0.7834131434692206 | acc = 0.7148936170212767\n",
      "Trial: num_features: 425 -> "
     ]
    },
    {
     "name": "stderr",
     "output_type": "stream",
     "text": [
      "[Parallel(n_jobs=1)]: Done  10 out of  10 | elapsed:   18.0s finished\n"
     ]
    },
    {
     "name": "stdout",
     "output_type": "stream",
     "text": [
      "Score: roc = 0.7814063386050029 | acc = 0.7088652482269503\n",
      "Trial: num_features: 452 -> "
     ]
    },
    {
     "name": "stderr",
     "output_type": "stream",
     "text": [
      "[Parallel(n_jobs=1)]: Done  10 out of  10 | elapsed:   15.4s finished\n"
     ]
    },
    {
     "name": "stdout",
     "output_type": "stream",
     "text": [
      "Score: roc = 0.7843992187007749 | acc = 0.7111702127659574\n",
      "Trial: num_features: 602 -> "
     ]
    },
    {
     "name": "stderr",
     "output_type": "stream",
     "text": [
      "[Parallel(n_jobs=1)]: Done  10 out of  10 | elapsed:   15.0s finished\n"
     ]
    },
    {
     "name": "stdout",
     "output_type": "stream",
     "text": [
      "Score: roc = 0.7865981979711424 | acc = 0.7170212765957447\n",
      "Trial: num_features: 846 -> "
     ]
    },
    {
     "name": "stderr",
     "output_type": "stream",
     "text": [
      "[Parallel(n_jobs=1)]: Done  10 out of  10 | elapsed:   16.7s finished\n"
     ]
    },
    {
     "name": "stdout",
     "output_type": "stream",
     "text": [
      "Score: roc = 0.7872345787915066 | acc = 0.7161347517730496\n",
      "Trial: num_features: 520 -> "
     ]
    },
    {
     "name": "stderr",
     "output_type": "stream",
     "text": [
      "[Parallel(n_jobs=1)]: Done  10 out of  10 | elapsed:   23.9s finished\n"
     ]
    },
    {
     "name": "stdout",
     "output_type": "stream",
     "text": [
      "Score: roc = 0.7847848276731144 | acc = 0.7152482269503546\n",
      "Trial: num_features: 228 -> "
     ]
    },
    {
     "name": "stderr",
     "output_type": "stream",
     "text": [
      "[Parallel(n_jobs=1)]: Done  10 out of  10 | elapsed:   16.3s finished\n"
     ]
    },
    {
     "name": "stdout",
     "output_type": "stream",
     "text": [
      "Score: roc = 0.7537981223615399 | acc = 0.6906028368794326\n",
      "Trial: num_features: 156 -> "
     ]
    },
    {
     "name": "stderr",
     "output_type": "stream",
     "text": [
      "[Parallel(n_jobs=1)]: Done  10 out of  10 | elapsed:   11.4s finished\n"
     ]
    },
    {
     "name": "stdout",
     "output_type": "stream",
     "text": [
      "Score: roc = 0.7433148509860753 | acc = 0.677836879432624\n",
      "Trial: num_features: 518 -> "
     ]
    },
    {
     "name": "stderr",
     "output_type": "stream",
     "text": [
      "[Parallel(n_jobs=1)]: Done  10 out of  10 | elapsed:   10.0s finished\n"
     ]
    },
    {
     "name": "stdout",
     "output_type": "stream",
     "text": [
      "Score: roc = 0.7827988154495621 | acc = 0.7118794326241135\n",
      "Trial: num_features: 807 -> "
     ]
    },
    {
     "name": "stderr",
     "output_type": "stream",
     "text": [
      "[Parallel(n_jobs=1)]: Done  10 out of  10 | elapsed:   16.6s finished\n"
     ]
    },
    {
     "name": "stdout",
     "output_type": "stream",
     "text": [
      "Score: roc = 0.7866523848528764 | acc = 0.7131205673758865\n",
      "Trial: num_features: 437 -> "
     ]
    },
    {
     "name": "stderr",
     "output_type": "stream",
     "text": [
      "[Parallel(n_jobs=1)]: Done  10 out of  10 | elapsed:   23.2s finished\n"
     ]
    },
    {
     "name": "stdout",
     "output_type": "stream",
     "text": [
      "Score: roc = 0.7837149517988784 | acc = 0.7118794326241135\n",
      "Trial: num_features: 602 -> "
     ]
    },
    {
     "name": "stderr",
     "output_type": "stream",
     "text": [
      "[Parallel(n_jobs=1)]: Done  10 out of  10 | elapsed:   14.9s finished\n"
     ]
    },
    {
     "name": "stdout",
     "output_type": "stream",
     "text": [
      "Score: roc = 0.7865981979711424 | acc = 0.7170212765957447\n",
      "Trial: num_features: 585 -> "
     ]
    },
    {
     "name": "stderr",
     "output_type": "stream",
     "text": [
      "[Parallel(n_jobs=1)]: Done  10 out of  10 | elapsed:   18.5s finished\n"
     ]
    },
    {
     "name": "stdout",
     "output_type": "stream",
     "text": [
      "Score: roc = 0.7851490139247685 | acc = 0.7115248226950355\n",
      "Trial: num_features: 550 -> "
     ]
    },
    {
     "name": "stderr",
     "output_type": "stream",
     "text": [
      "[Parallel(n_jobs=1)]: Done  10 out of  10 | elapsed:   17.1s finished\n"
     ]
    },
    {
     "name": "stdout",
     "output_type": "stream",
     "text": [
      "Score: roc = 0.7841963329342827 | acc = 0.7127659574468085\n",
      "Trial: num_features: 602 -> "
     ]
    },
    {
     "name": "stderr",
     "output_type": "stream",
     "text": [
      "[Parallel(n_jobs=1)]: Done  10 out of  10 | elapsed:   16.7s finished\n"
     ]
    },
    {
     "name": "stdout",
     "output_type": "stream",
     "text": [
      "Score: roc = 0.7865981979711424 | acc = 0.7170212765957447\n",
      "Trial: num_features: 310 -> "
     ]
    },
    {
     "name": "stderr",
     "output_type": "stream",
     "text": [
      "[Parallel(n_jobs=1)]: Done  10 out of  10 | elapsed:   17.3s finished\n"
     ]
    },
    {
     "name": "stdout",
     "output_type": "stream",
     "text": [
      "Score: roc = 0.7663656984437023 | acc = 0.6957446808510637\n",
      "Trial: num_features: 166 -> "
     ]
    },
    {
     "name": "stderr",
     "output_type": "stream",
     "text": [
      "[Parallel(n_jobs=1)]: Done  10 out of  10 | elapsed:   13.5s finished\n"
     ]
    },
    {
     "name": "stdout",
     "output_type": "stream",
     "text": [
      "Score: roc = 0.7435486106735555 | acc = 0.6764184397163121\n",
      "Trial: num_features: 284 -> "
     ]
    },
    {
     "name": "stderr",
     "output_type": "stream",
     "text": [
      "[Parallel(n_jobs=1)]: Done  10 out of  10 | elapsed:   11.3s finished\n"
     ]
    },
    {
     "name": "stdout",
     "output_type": "stream",
     "text": [
      "Score: roc = 0.7614932896477853 | acc = 0.6904255319148935\n",
      "Trial: num_features: 276 -> "
     ]
    },
    {
     "name": "stderr",
     "output_type": "stream",
     "text": [
      "[Parallel(n_jobs=1)]: Done  10 out of  10 | elapsed:   12.1s finished\n"
     ]
    },
    {
     "name": "stdout",
     "output_type": "stream",
     "text": [
      "Score: roc = 0.7601335769642745 | acc = 0.6890070921985816\n",
      "Trial: num_features: 612 -> "
     ]
    },
    {
     "name": "stderr",
     "output_type": "stream",
     "text": [
      "[Parallel(n_jobs=1)]: Done  10 out of  10 | elapsed:   12.5s finished\n"
     ]
    },
    {
     "name": "stdout",
     "output_type": "stream",
     "text": [
      "Score: roc = 0.7843254993384161 | acc = 0.7177304964539009\n",
      "Trial: num_features: 341 -> "
     ]
    },
    {
     "name": "stderr",
     "output_type": "stream",
     "text": [
      "[Parallel(n_jobs=1)]: Done  10 out of  10 | elapsed:   18.1s finished\n"
     ]
    },
    {
     "name": "stdout",
     "output_type": "stream",
     "text": [
      "Score: roc = 0.7740690567702098 | acc = 0.7053191489361701\n",
      "Trial: num_features: 488 -> "
     ]
    },
    {
     "name": "stderr",
     "output_type": "stream",
     "text": [
      "[Parallel(n_jobs=1)]: Done  10 out of  10 | elapsed:   13.8s finished\n"
     ]
    },
    {
     "name": "stdout",
     "output_type": "stream",
     "text": [
      "Score: roc = 0.7838806628441812 | acc = 0.7086879432624114\n",
      "Trial: num_features: 169 -> "
     ]
    },
    {
     "name": "stderr",
     "output_type": "stream",
     "text": [
      "[Parallel(n_jobs=1)]: Done  10 out of  10 | elapsed:   15.1s finished\n"
     ]
    },
    {
     "name": "stdout",
     "output_type": "stream",
     "text": [
      "Score: roc = 0.7455050091361604 | acc = 0.6810283687943264\n",
      "Trial: num_features: 762 -> "
     ]
    },
    {
     "name": "stderr",
     "output_type": "stream",
     "text": [
      "[Parallel(n_jobs=1)]: Done  10 out of  10 | elapsed:   11.3s finished\n"
     ]
    },
    {
     "name": "stdout",
     "output_type": "stream",
     "text": [
      "Score: roc = 0.7849310062377922 | acc = 0.7120567375886525\n",
      "Trial: num_features: 619 -> "
     ]
    },
    {
     "name": "stderr",
     "output_type": "stream",
     "text": [
      "[Parallel(n_jobs=1)]: Done  10 out of  10 | elapsed:   21.7s finished\n"
     ]
    },
    {
     "name": "stdout",
     "output_type": "stream",
     "text": [
      "Score: roc = 0.7841578980530527 | acc = 0.7157801418439715\n",
      "Trial: num_features: 255 -> "
     ]
    },
    {
     "name": "stderr",
     "output_type": "stream",
     "text": [
      "[Parallel(n_jobs=1)]: Done  10 out of  10 | elapsed:   18.4s finished\n"
     ]
    },
    {
     "name": "stdout",
     "output_type": "stream",
     "text": [
      "Score: roc = 0.7568615714195703 | acc = 0.6895390070921985\n",
      "Trial: num_features: 562 -> "
     ]
    },
    {
     "name": "stderr",
     "output_type": "stream",
     "text": [
      "[Parallel(n_jobs=1)]: Done  10 out of  10 | elapsed:   12.0s finished\n"
     ]
    },
    {
     "name": "stdout",
     "output_type": "stream",
     "text": [
      "Score: roc = 0.7833129607460148 | acc = 0.7140070921985815\n",
      "Trial: num_features: 254 -> "
     ]
    },
    {
     "name": "stderr",
     "output_type": "stream",
     "text": [
      "[Parallel(n_jobs=1)]: Done  10 out of  10 | elapsed:   16.9s finished\n"
     ]
    },
    {
     "name": "stdout",
     "output_type": "stream",
     "text": [
      "Score: roc = 0.7578741100119715 | acc = 0.6907801418439716\n",
      "Trial: num_features: 743 -> "
     ]
    },
    {
     "name": "stderr",
     "output_type": "stream",
     "text": [
      "[Parallel(n_jobs=1)]: Done  10 out of  10 | elapsed:   11.2s finished\n"
     ]
    },
    {
     "name": "stdout",
     "output_type": "stream",
     "text": [
      "Score: roc = 0.7872465503118896 | acc = 0.7129432624113475\n",
      "Trial: num_features: 833 -> "
     ]
    },
    {
     "name": "stderr",
     "output_type": "stream",
     "text": [
      "[Parallel(n_jobs=1)]: Done  10 out of  10 | elapsed:   22.2s finished\n"
     ]
    },
    {
     "name": "stdout",
     "output_type": "stream",
     "text": [
      "Score: roc = 0.7880788860185244 | acc = 0.7148936170212765\n",
      "Trial: num_features: 515 -> "
     ]
    },
    {
     "name": "stderr",
     "output_type": "stream",
     "text": [
      "[Parallel(n_jobs=1)]: Done  10 out of  10 | elapsed:   23.2s finished\n"
     ]
    },
    {
     "name": "stdout",
     "output_type": "stream",
     "text": [
      "Score: roc = 0.7839984878079516 | acc = 0.7134751773049646\n",
      "Trial: num_features: 181 -> "
     ]
    },
    {
     "name": "stderr",
     "output_type": "stream",
     "text": [
      "[Parallel(n_jobs=1)]: Done  10 out of  10 | elapsed:   17.0s finished\n"
     ]
    },
    {
     "name": "stdout",
     "output_type": "stream",
     "text": [
      "Score: roc = 0.7469371810219898 | acc = 0.6833333333333333\n",
      "Trial: num_features: 688 -> "
     ]
    },
    {
     "name": "stderr",
     "output_type": "stream",
     "text": [
      "[Parallel(n_jobs=1)]: Done  10 out of  10 | elapsed:   12.4s finished\n"
     ]
    },
    {
     "name": "stdout",
     "output_type": "stream",
     "text": [
      "Score: roc = 0.7851773675256758 | acc = 0.7122340425531914\n",
      "Trial: num_features: 806 -> "
     ]
    },
    {
     "name": "stderr",
     "output_type": "stream",
     "text": [
      "[Parallel(n_jobs=1)]: Done  10 out of  10 | elapsed:   20.3s finished\n"
     ]
    },
    {
     "name": "stdout",
     "output_type": "stream",
     "text": [
      "Score: roc = 0.7854640539348497 | acc = 0.7122340425531914\n",
      "Trial: num_features: 836 -> "
     ]
    },
    {
     "name": "stderr",
     "output_type": "stream",
     "text": [
      "[Parallel(n_jobs=1)]: Done  10 out of  10 | elapsed:   22.4s finished\n"
     ]
    },
    {
     "name": "stdout",
     "output_type": "stream",
     "text": [
      "Score: roc = 0.788337218826791 | acc = 0.7152482269503546\n",
      "Trial: num_features: 831 -> "
     ]
    },
    {
     "name": "stderr",
     "output_type": "stream",
     "text": [
      "[Parallel(n_jobs=1)]: Done  10 out of  10 | elapsed:   22.8s finished\n"
     ]
    },
    {
     "name": "stdout",
     "output_type": "stream",
     "text": [
      "Score: roc = 0.7863820805242265 | acc = 0.7129432624113475\n",
      "Trial: num_features: 194 -> "
     ]
    },
    {
     "name": "stderr",
     "output_type": "stream",
     "text": [
      "[Parallel(n_jobs=1)]: Done  10 out of  10 | elapsed:   23.8s finished\n"
     ]
    },
    {
     "name": "stdout",
     "output_type": "stream",
     "text": [
      "Score: roc = 0.7443670846197467 | acc = 0.6799645390070922\n",
      "Trial: num_features: 332 -> "
     ]
    },
    {
     "name": "stderr",
     "output_type": "stream",
     "text": [
      "[Parallel(n_jobs=1)]: Done  10 out of  10 | elapsed:   11.5s finished\n"
     ]
    },
    {
     "name": "stdout",
     "output_type": "stream",
     "text": [
      "Score: roc = 0.7705380883372188 | acc = 0.700354609929078\n",
      "Trial: num_features: 266 -> "
     ]
    },
    {
     "name": "stderr",
     "output_type": "stream",
     "text": [
      "[Parallel(n_jobs=1)]: Done  10 out of  10 | elapsed:   14.1s finished\n"
     ]
    },
    {
     "name": "stdout",
     "output_type": "stream",
     "text": [
      "Score: roc = 0.7579194757734232 | acc = 0.6879432624113474\n",
      "Trial: num_features: 285 -> "
     ]
    },
    {
     "name": "stderr",
     "output_type": "stream",
     "text": [
      "[Parallel(n_jobs=1)]: Done  10 out of  10 | elapsed:   12.2s finished\n"
     ]
    },
    {
     "name": "stdout",
     "output_type": "stream",
     "text": [
      "Score: roc = 0.7622348938315165 | acc = 0.6907801418439716\n",
      "Trial: num_features: 614 -> "
     ]
    },
    {
     "name": "stderr",
     "output_type": "stream",
     "text": [
      "[Parallel(n_jobs=1)]: Done  10 out of  10 | elapsed:   12.6s finished\n"
     ]
    },
    {
     "name": "stdout",
     "output_type": "stream",
     "text": [
      "Score: roc = 0.7825215802406906 | acc = 0.7154255319148938\n",
      "Trial: num_features: 552 -> "
     ]
    },
    {
     "name": "stderr",
     "output_type": "stream",
     "text": [
      "[Parallel(n_jobs=1)]: Done  10 out of  10 | elapsed:   18.3s finished\n"
     ]
    },
    {
     "name": "stdout",
     "output_type": "stream",
     "text": [
      "Score: roc = 0.7835870455547854 | acc = 0.7161347517730496\n",
      "Trial: num_features: 380 -> "
     ]
    },
    {
     "name": "stderr",
     "output_type": "stream",
     "text": [
      "[Parallel(n_jobs=1)]: Done  10 out of  10 | elapsed:   17.4s finished\n"
     ]
    },
    {
     "name": "stdout",
     "output_type": "stream",
     "text": [
      "Score: roc = 0.7773895784764665 | acc = 0.7074468085106382\n",
      "Trial: num_features: 357 -> "
     ]
    },
    {
     "name": "stderr",
     "output_type": "stream",
     "text": [
      "[Parallel(n_jobs=1)]: Done  10 out of  10 | elapsed:   14.0s finished\n"
     ]
    },
    {
     "name": "stdout",
     "output_type": "stream",
     "text": [
      "Score: roc = 0.776736815575578 | acc = 0.7079787234042553\n",
      "Trial: num_features: 324 -> "
     ]
    },
    {
     "name": "stderr",
     "output_type": "stream",
     "text": [
      "[Parallel(n_jobs=1)]: Done  10 out of  10 | elapsed:   14.0s finished\n"
     ]
    },
    {
     "name": "stdout",
     "output_type": "stream",
     "text": [
      "Score: roc = 0.7660695608342261 | acc = 0.6943262411347517\n",
      "Trial: num_features: 618 -> "
     ]
    },
    {
     "name": "stderr",
     "output_type": "stream",
     "text": [
      "[Parallel(n_jobs=1)]: Done  10 out of  10 | elapsed:   13.8s finished\n"
     ]
    },
    {
     "name": "stdout",
     "output_type": "stream",
     "text": [
      "Score: roc = 0.7836702161174469 | acc = 0.7143617021276596\n",
      "Trial: num_features: 473 -> "
     ]
    },
    {
     "name": "stderr",
     "output_type": "stream",
     "text": [
      "[Parallel(n_jobs=1)]: Done  10 out of  10 | elapsed:   17.7s finished\n"
     ]
    },
    {
     "name": "stdout",
     "output_type": "stream",
     "text": [
      "Score: roc = 0.7835271879528699 | acc = 0.7085106382978723\n",
      "Trial: num_features: 892 -> "
     ]
    },
    {
     "name": "stderr",
     "output_type": "stream",
     "text": [
      "[Parallel(n_jobs=1)]: Done  10 out of  10 | elapsed:   16.0s finished\n"
     ]
    },
    {
     "name": "stdout",
     "output_type": "stream",
     "text": [
      "Score: roc = 0.7858276101064835 | acc = 0.7148936170212766\n",
      "Trial: num_features: 653 -> "
     ]
    },
    {
     "name": "stderr",
     "output_type": "stream",
     "text": [
      "[Parallel(n_jobs=1)]: Done  10 out of  10 | elapsed:   25.9s finished\n"
     ]
    },
    {
     "name": "stdout",
     "output_type": "stream",
     "text": [
      "Score: roc = 0.7832373511435952 | acc = 0.7127659574468086\n",
      "Trial: num_features: 236 -> "
     ]
    },
    {
     "name": "stderr",
     "output_type": "stream",
     "text": [
      "[Parallel(n_jobs=1)]: Done  10 out of  10 | elapsed:   18.4s finished\n"
     ]
    },
    {
     "name": "stdout",
     "output_type": "stream",
     "text": [
      "Score: roc = 0.7587335391594733 | acc = 0.6891843971631205\n",
      "Trial: num_features: 379 -> "
     ]
    },
    {
     "name": "stderr",
     "output_type": "stream",
     "text": [
      "[Parallel(n_jobs=1)]: Done  10 out of  10 | elapsed:   11.9s finished\n"
     ]
    },
    {
     "name": "stdout",
     "output_type": "stream",
     "text": [
      "Score: roc = 0.7787203074790499 | acc = 0.7069148936170213\n",
      "Trial: num_features: 202 -> "
     ]
    },
    {
     "name": "stderr",
     "output_type": "stream",
     "text": [
      "[Parallel(n_jobs=1)]: Done  10 out of  10 | elapsed:   14.8s finished\n"
     ]
    },
    {
     "name": "stdout",
     "output_type": "stream",
     "text": [
      "Score: roc = 0.746930250141768 | acc = 0.6849290780141845\n",
      "Trial: num_features: 531 -> "
     ]
    },
    {
     "name": "stderr",
     "output_type": "stream",
     "text": [
      "[Parallel(n_jobs=1)]: Done  10 out of  10 | elapsed:   11.2s finished\n"
     ]
    },
    {
     "name": "stdout",
     "output_type": "stream",
     "text": [
      "Score: roc = 0.7858042971457374 | acc = 0.7166666666666667\n",
      "Trial: num_features: 519 -> "
     ]
    },
    {
     "name": "stderr",
     "output_type": "stream",
     "text": [
      "[Parallel(n_jobs=1)]: Done  10 out of  10 | elapsed:   16.4s finished\n"
     ]
    },
    {
     "name": "stdout",
     "output_type": "stream",
     "text": [
      "Score: roc = 0.78453531598513 | acc = 0.7129432624113475\n",
      "Trial: num_features: 602 -> "
     ]
    },
    {
     "name": "stderr",
     "output_type": "stream",
     "text": [
      "[Parallel(n_jobs=1)]: Done  10 out of  10 | elapsed:   16.5s finished\n"
     ]
    },
    {
     "name": "stdout",
     "output_type": "stream",
     "text": [
      "Score: roc = 0.7865981979711424 | acc = 0.7170212765957447\n",
      "Trial: num_features: 208 -> "
     ]
    },
    {
     "name": "stderr",
     "output_type": "stream",
     "text": [
      "[Parallel(n_jobs=1)]: Done  10 out of  10 | elapsed:   18.5s finished\n"
     ]
    },
    {
     "name": "stdout",
     "output_type": "stream",
     "text": [
      "Score: roc = 0.7457375086636002 | acc = 0.6822695035460994\n",
      "Trial: num_features: 459 -> "
     ]
    },
    {
     "name": "stderr",
     "output_type": "stream",
     "text": [
      "[Parallel(n_jobs=1)]: Done  10 out of  10 | elapsed:   11.2s finished\n"
     ]
    },
    {
     "name": "stdout",
     "output_type": "stream",
     "text": [
      "Score: roc = 0.7801631907252221 | acc = 0.7058510638297872\n",
      "Trial: num_features: 334 -> "
     ]
    },
    {
     "name": "stderr",
     "output_type": "stream",
     "text": [
      "[Parallel(n_jobs=1)]: Done  10 out of  10 | elapsed:   16.1s finished\n"
     ]
    },
    {
     "name": "stdout",
     "output_type": "stream",
     "text": [
      "Score: roc = 0.7728863965723647 | acc = 0.701063829787234\n",
      "Trial: num_features: 702 -> "
     ]
    },
    {
     "name": "stderr",
     "output_type": "stream",
     "text": [
      "[Parallel(n_jobs=1)]: Done  10 out of  10 | elapsed:   12.8s finished\n"
     ]
    },
    {
     "name": "stdout",
     "output_type": "stream",
     "text": [
      "Score: roc = 0.787430533677777 | acc = 0.7099290780141843\n",
      "Trial: num_features: 602 -> "
     ]
    },
    {
     "name": "stderr",
     "output_type": "stream",
     "text": [
      "[Parallel(n_jobs=1)]: Done  10 out of  10 | elapsed:   19.9s finished\n"
     ]
    },
    {
     "name": "stdout",
     "output_type": "stream",
     "text": [
      "Score: roc = 0.7865981979711424 | acc = 0.7170212765957447\n",
      "Trial: num_features: 720 -> "
     ]
    },
    {
     "name": "stderr",
     "output_type": "stream",
     "text": [
      "[Parallel(n_jobs=1)]: Done  10 out of  10 | elapsed:   17.4s finished\n"
     ]
    },
    {
     "name": "stdout",
     "output_type": "stream",
     "text": [
      "Score: roc = 0.7868388885388444 | acc = 0.7134751773049646\n",
      "Trial: num_features: 237 -> "
     ]
    },
    {
     "name": "stderr",
     "output_type": "stream",
     "text": [
      "[Parallel(n_jobs=1)]: Done  10 out of  10 | elapsed:   20.6s finished\n"
     ]
    },
    {
     "name": "stdout",
     "output_type": "stream",
     "text": [
      "Score: roc = 0.757903093692899 | acc = 0.6895390070921985\n",
      "Trial: num_features: 590 -> "
     ]
    },
    {
     "name": "stderr",
     "output_type": "stream",
     "text": [
      "[Parallel(n_jobs=1)]: Done  10 out of  10 | elapsed:   11.8s finished\n"
     ]
    },
    {
     "name": "stdout",
     "output_type": "stream",
     "text": [
      "Score: roc = 0.785972528511121 | acc = 0.7131205673758865\n",
      "Trial: num_features: 602 -> "
     ]
    },
    {
     "name": "stderr",
     "output_type": "stream",
     "text": [
      "[Parallel(n_jobs=1)]: Done  10 out of  10 | elapsed:   17.4s finished\n"
     ]
    },
    {
     "name": "stdout",
     "output_type": "stream",
     "text": [
      "Score: roc = 0.7865981979711424 | acc = 0.7170212765957447\n",
      "Trial: num_features: 649 -> "
     ]
    },
    {
     "name": "stderr",
     "output_type": "stream",
     "text": [
      "[Parallel(n_jobs=1)]: Done  10 out of  10 | elapsed:   17.2s finished\n"
     ]
    },
    {
     "name": "stdout",
     "output_type": "stream",
     "text": [
      "Score: roc = 0.7849184046373889 | acc = 0.7159574468085107\n",
      "Trial: num_features: 314 -> "
     ]
    },
    {
     "name": "stderr",
     "output_type": "stream",
     "text": [
      "[Parallel(n_jobs=1)]: Done  10 out of  10 | elapsed:   18.9s finished\n"
     ]
    },
    {
     "name": "stdout",
     "output_type": "stream",
     "text": [
      "Score: roc = 0.7655062692962006 | acc = 0.6946808510638297\n",
      "Trial: num_features: 462 -> "
     ]
    },
    {
     "name": "stderr",
     "output_type": "stream",
     "text": [
      "[Parallel(n_jobs=1)]: Done  10 out of  10 | elapsed:   13.3s finished\n"
     ]
    },
    {
     "name": "stdout",
     "output_type": "stream",
     "text": [
      "Score: roc = 0.7841786906937182 | acc = 0.7085106382978723\n",
      "Trial: num_features: 187 -> "
     ]
    },
    {
     "name": "stderr",
     "output_type": "stream",
     "text": [
      "[Parallel(n_jobs=1)]: Done  10 out of  10 | elapsed:   14.7s finished\n"
     ]
    },
    {
     "name": "stdout",
     "output_type": "stream",
     "text": [
      "Score: roc = 0.7465314094890051 | acc = 0.6836879432624114\n",
      "Trial: num_features: 751 -> "
     ]
    },
    {
     "name": "stderr",
     "output_type": "stream",
     "text": [
      "[Parallel(n_jobs=1)]: Done  10 out of  10 | elapsed:   10.7s finished\n"
     ]
    },
    {
     "name": "stdout",
     "output_type": "stream",
     "text": [
      "Score: roc = 0.7886314661962068 | acc = 0.7148936170212766\n",
      "Trial: num_features: 463 -> "
     ]
    },
    {
     "name": "stderr",
     "output_type": "stream",
     "text": [
      "[Parallel(n_jobs=1)]: Done  10 out of  10 | elapsed:   20.6s finished\n"
     ]
    },
    {
     "name": "stdout",
     "output_type": "stream",
     "text": [
      "Score: roc = 0.7827383277676265 | acc = 0.7076241134751773\n",
      "Trial: num_features: 512 -> "
     ]
    },
    {
     "name": "stderr",
     "output_type": "stream",
     "text": [
      "[Parallel(n_jobs=1)]: Done  10 out of  10 | elapsed:   15.7s finished\n"
     ]
    },
    {
     "name": "stdout",
     "output_type": "stream",
     "text": [
      "Score: roc = 0.7848598071955137 | acc = 0.7111702127659574\n",
      "Trial: num_features: 779 -> "
     ]
    },
    {
     "name": "stderr",
     "output_type": "stream",
     "text": [
      "[Parallel(n_jobs=1)]: Done  10 out of  10 | elapsed:   16.9s finished\n"
     ]
    },
    {
     "name": "stdout",
     "output_type": "stream",
     "text": [
      "Score: roc = 0.7853386680108373 | acc = 0.7120567375886526\n",
      "Trial: num_features: 626 -> "
     ]
    },
    {
     "name": "stderr",
     "output_type": "stream",
     "text": [
      "[Parallel(n_jobs=1)]: Done  10 out of  10 | elapsed:   22.7s finished\n"
     ]
    },
    {
     "name": "stdout",
     "output_type": "stream",
     "text": [
      "Score: roc = 0.7845201940646462 | acc = 0.7127659574468086\n",
      "Trial: num_features: 602 -> "
     ]
    },
    {
     "name": "stderr",
     "output_type": "stream",
     "text": [
      "[Parallel(n_jobs=1)]: Done  10 out of  10 | elapsed:   18.6s finished\n"
     ]
    },
    {
     "name": "stdout",
     "output_type": "stream",
     "text": [
      "Score: roc = 0.7865981979711424 | acc = 0.7170212765957447\n",
      "Trial: num_features: 791 -> "
     ]
    },
    {
     "name": "stderr",
     "output_type": "stream",
     "text": [
      "[Parallel(n_jobs=1)]: Done  10 out of  10 | elapsed:   17.4s finished\n"
     ]
    },
    {
     "name": "stdout",
     "output_type": "stream",
     "text": [
      "Score: roc = 0.7879478293743305 | acc = 0.7148936170212765\n",
      "Trial: num_features: 450 -> "
     ]
    },
    {
     "name": "stderr",
     "output_type": "stream",
     "text": [
      "[Parallel(n_jobs=1)]: Done  10 out of  10 | elapsed:   22.7s finished\n"
     ]
    },
    {
     "name": "stdout",
     "output_type": "stream",
     "text": [
      "Score: roc = 0.7851565748850104 | acc = 0.7093971631205673\n",
      "Trial: num_features: 436 -> "
     ]
    },
    {
     "name": "stderr",
     "output_type": "stream",
     "text": [
      "[Parallel(n_jobs=1)]: Done  10 out of  10 | elapsed:   15.4s finished\n"
     ]
    },
    {
     "name": "stdout",
     "output_type": "stream",
     "text": [
      "Score: roc = 0.7824547917585533 | acc = 0.7081560283687943\n",
      "Trial: num_features: 886 -> "
     ]
    },
    {
     "name": "stderr",
     "output_type": "stream",
     "text": [
      "[Parallel(n_jobs=1)]: Done  10 out of  10 | elapsed:   14.7s finished\n"
     ]
    },
    {
     "name": "stdout",
     "output_type": "stream",
     "text": [
      "Score: roc = 0.7862346417995085 | acc = 0.7148936170212765\n",
      "Trial: num_features: 203 -> "
     ]
    },
    {
     "name": "stderr",
     "output_type": "stream",
     "text": [
      "[Parallel(n_jobs=1)]: Done  10 out of  10 | elapsed:   24.1s finished\n"
     ]
    },
    {
     "name": "stdout",
     "output_type": "stream",
     "text": [
      "Score: roc = 0.7449404574380947 | acc = 0.6826241134751774\n",
      "Trial: num_features: 877 -> "
     ]
    },
    {
     "name": "stderr",
     "output_type": "stream",
     "text": [
      "[Parallel(n_jobs=1)]: Done  10 out of  10 | elapsed:   11.0s finished\n"
     ]
    },
    {
     "name": "stdout",
     "output_type": "stream",
     "text": [
      "Score: roc = 0.7847022871904732 | acc = 0.7138297872340427\n",
      "Trial: num_features: 885 -> "
     ]
    },
    {
     "name": "stderr",
     "output_type": "stream",
     "text": [
      "[Parallel(n_jobs=1)]: Done  10 out of  10 | elapsed:   24.3s finished\n"
     ]
    },
    {
     "name": "stdout",
     "output_type": "stream",
     "text": [
      "Score: roc = 0.785566126898116 | acc = 0.7163120567375887\n",
      "Trial: num_features: 542 -> "
     ]
    },
    {
     "name": "stderr",
     "output_type": "stream",
     "text": [
      "[Parallel(n_jobs=1)]: Done  10 out of  10 | elapsed:   25.0s finished\n"
     ]
    },
    {
     "name": "stdout",
     "output_type": "stream",
     "text": [
      "Score: roc = 0.784821372314284 | acc = 0.7143617021276596\n",
      "Trial: num_features: 339 -> "
     ]
    },
    {
     "name": "stderr",
     "output_type": "stream",
     "text": [
      "[Parallel(n_jobs=1)]: Done  10 out of  10 | elapsed:   17.3s finished\n"
     ]
    },
    {
     "name": "stdout",
     "output_type": "stream",
     "text": [
      "Score: roc = 0.7735983869951484 | acc = 0.7037234042553191\n",
      "Trial: num_features: 712 -> "
     ]
    },
    {
     "name": "stderr",
     "output_type": "stream",
     "text": [
      "[Parallel(n_jobs=1)]: Done  10 out of  10 | elapsed:   13.2s finished\n"
     ]
    },
    {
     "name": "stdout",
     "output_type": "stream",
     "text": [
      "Score: roc = 0.7882288450633231 | acc = 0.7147163120567376\n",
      "Trial: num_features: 692 -> "
     ]
    },
    {
     "name": "stderr",
     "output_type": "stream",
     "text": [
      "[Parallel(n_jobs=1)]: Done  10 out of  10 | elapsed:   21.0s finished\n"
     ]
    },
    {
     "name": "stdout",
     "output_type": "stream",
     "text": [
      "Score: roc = 0.7851408228845063 | acc = 0.7113475177304964\n",
      "Trial: num_features: 598 -> "
     ]
    },
    {
     "name": "stderr",
     "output_type": "stream",
     "text": [
      "[Parallel(n_jobs=1)]: Done  10 out of  10 | elapsed:   20.3s finished\n"
     ]
    },
    {
     "name": "stdout",
     "output_type": "stream",
     "text": [
      "Score: roc = 0.7869913679037237 | acc = 0.7140070921985815\n",
      "Trial: num_features: 220 -> "
     ]
    },
    {
     "name": "stderr",
     "output_type": "stream",
     "text": [
      "[Parallel(n_jobs=1)]: Done  10 out of  10 | elapsed:   17.8s finished\n"
     ]
    },
    {
     "name": "stdout",
     "output_type": "stream",
     "text": [
      "Score: roc = 0.7537464557998866 | acc = 0.6893617021276596\n",
      "Trial: num_features: 329 -> "
     ]
    },
    {
     "name": "stderr",
     "output_type": "stream",
     "text": [
      "[Parallel(n_jobs=1)]: Done  10 out of  10 | elapsed:   11.8s finished\n"
     ]
    },
    {
     "name": "stdout",
     "output_type": "stream",
     "text": [
      "Score: roc = 0.7711108310755466 | acc = 0.699822695035461\n",
      "Trial: num_features: 464 -> "
     ]
    },
    {
     "name": "stderr",
     "output_type": "stream",
     "text": [
      "[Parallel(n_jobs=1)]: Done  10 out of  10 | elapsed:   13.1s finished\n"
     ]
    },
    {
     "name": "stdout",
     "output_type": "stream",
     "text": [
      "Score: roc = 0.7823533488753072 | acc = 0.7069148936170213\n",
      "Trial: num_features: 584 -> "
     ]
    },
    {
     "name": "stderr",
     "output_type": "stream",
     "text": [
      "[Parallel(n_jobs=1)]: Done  10 out of  10 | elapsed:   16.3s finished\n"
     ]
    },
    {
     "name": "stdout",
     "output_type": "stream",
     "text": [
      "Score: roc = 0.7840407031693024 | acc = 0.7092198581560283\n",
      "Trial: num_features: 812 -> "
     ]
    },
    {
     "name": "stderr",
     "output_type": "stream",
     "text": [
      "[Parallel(n_jobs=1)]: Done  10 out of  10 | elapsed:   18.0s finished\n"
     ]
    },
    {
     "name": "stdout",
     "output_type": "stream",
     "text": [
      "Score: roc = 0.7885671980341504 | acc = 0.7152482269503546\n",
      "Trial: num_features: 812 -> "
     ]
    },
    {
     "name": "stderr",
     "output_type": "stream",
     "text": [
      "[Parallel(n_jobs=1)]: Done  10 out of  10 | elapsed:   23.0s finished\n"
     ]
    },
    {
     "name": "stdout",
     "output_type": "stream",
     "text": [
      "Score: roc = 0.7885671980341504 | acc = 0.7152482269503546\n",
      "Trial: num_features: 747 -> "
     ]
    },
    {
     "name": "stderr",
     "output_type": "stream",
     "text": [
      "[Parallel(n_jobs=1)]: Done  10 out of  10 | elapsed:   22.2s finished\n"
     ]
    },
    {
     "name": "stdout",
     "output_type": "stream",
     "text": [
      "Score: roc = 0.787430533677777 | acc = 0.7152482269503546\n",
      "Trial: num_features: 631 -> "
     ]
    },
    {
     "name": "stderr",
     "output_type": "stream",
     "text": [
      "[Parallel(n_jobs=1)]: Done  10 out of  10 | elapsed:   20.8s finished\n"
     ]
    },
    {
     "name": "stdout",
     "output_type": "stream",
     "text": [
      "Score: roc = 0.7849820427194254 | acc = 0.7170212765957447\n",
      "Trial: num_features: 219 -> "
     ]
    },
    {
     "name": "stderr",
     "output_type": "stream",
     "text": [
      "[Parallel(n_jobs=1)]: Done  10 out of  10 | elapsed:   18.3s finished\n"
     ]
    },
    {
     "name": "stdout",
     "output_type": "stream",
     "text": [
      "Score: roc = 0.7536721063575074 | acc = 0.6900709219858155\n",
      "Trial: num_features: 509 -> "
     ]
    },
    {
     "name": "stderr",
     "output_type": "stream",
     "text": [
      "[Parallel(n_jobs=1)]: Done  10 out of  10 | elapsed:   11.7s finished\n"
     ]
    },
    {
     "name": "stdout",
     "output_type": "stream",
     "text": [
      "Score: roc = 0.7845573687858358 | acc = 0.7122340425531914\n",
      "Trial: num_features: 407 -> "
     ]
    },
    {
     "name": "stderr",
     "output_type": "stream",
     "text": [
      "[Parallel(n_jobs=1)]: Done  10 out of  10 | elapsed:   15.8s finished\n"
     ]
    },
    {
     "name": "stdout",
     "output_type": "stream",
     "text": [
      "Score: roc = 0.7816508096528259 | acc = 0.7093971631205673\n",
      "Trial: num_features: 274 -> "
     ]
    },
    {
     "name": "stderr",
     "output_type": "stream",
     "text": [
      "[Parallel(n_jobs=1)]: Done  10 out of  10 | elapsed:   14.7s finished\n"
     ]
    },
    {
     "name": "stdout",
     "output_type": "stream",
     "text": [
      "Score: roc = 0.7618335328586731 | acc = 0.6920212765957446\n",
      "Trial: num_features: 355 -> "
     ]
    },
    {
     "name": "stderr",
     "output_type": "stream",
     "text": [
      "[Parallel(n_jobs=1)]: Done  10 out of  10 | elapsed:   13.3s finished\n"
     ]
    },
    {
     "name": "stdout",
     "output_type": "stream",
     "text": [
      "Score: roc = 0.7757891752252537 | acc = 0.7083333333333334\n",
      "Trial: num_features: 532 -> "
     ]
    },
    {
     "name": "stderr",
     "output_type": "stream",
     "text": [
      "[Parallel(n_jobs=1)]: Done  10 out of  10 | elapsed:   12.9s finished\n"
     ]
    },
    {
     "name": "stdout",
     "output_type": "stream",
     "text": [
      "Score: roc = 0.7839310692457943 | acc = 0.7145390070921985\n",
      "Trial: num_features: 788 -> "
     ]
    },
    {
     "name": "stderr",
     "output_type": "stream",
     "text": [
      "[Parallel(n_jobs=1)]: Done  10 out of  10 | elapsed:   16.2s finished\n"
     ]
    },
    {
     "name": "stdout",
     "output_type": "stream",
     "text": [
      "Score: roc = 0.7870770587864659 | acc = 0.7156028368794326\n",
      "Trial: num_features: 182 -> "
     ]
    },
    {
     "name": "stderr",
     "output_type": "stream",
     "text": [
      "[Parallel(n_jobs=1)]: Done  10 out of  10 | elapsed:   23.0s finished\n"
     ]
    },
    {
     "name": "stdout",
     "output_type": "stream",
     "text": [
      "Score: roc = 0.747387058156386 | acc = 0.6835106382978724\n",
      "Trial: num_features: 812 -> "
     ]
    },
    {
     "name": "stderr",
     "output_type": "stream",
     "text": [
      "[Parallel(n_jobs=1)]: Done  10 out of  10 | elapsed:   11.2s finished\n"
     ]
    },
    {
     "name": "stdout",
     "output_type": "stream",
     "text": [
      "Score: roc = 0.7885671980341504 | acc = 0.7152482269503546\n",
      "Trial: num_features: 850 -> "
     ]
    },
    {
     "name": "stderr",
     "output_type": "stream",
     "text": [
      "[Parallel(n_jobs=1)]: Done  10 out of  10 | elapsed:   23.6s finished\n"
     ]
    },
    {
     "name": "stdout",
     "output_type": "stream",
     "text": [
      "Score: roc = 0.787089030306849 | acc = 0.7140070921985816\n",
      "Trial: num_features: 715 -> "
     ]
    },
    {
     "name": "stderr",
     "output_type": "stream",
     "text": [
      "[Parallel(n_jobs=1)]: Done  10 out of  10 | elapsed:   23.8s finished\n"
     ]
    },
    {
     "name": "stdout",
     "output_type": "stream",
     "text": [
      "Score: roc = 0.7852554974481759 | acc = 0.7108156028368795\n",
      "Trial: num_features: 857 -> "
     ]
    },
    {
     "name": "stderr",
     "output_type": "stream",
     "text": [
      "[Parallel(n_jobs=1)]: Done  10 out of  10 | elapsed:   22.2s finished\n"
     ]
    },
    {
     "name": "stdout",
     "output_type": "stream",
     "text": [
      "Score: roc = 0.7856625291412009 | acc = 0.7131205673758865\n",
      "Trial: num_features: 812 -> "
     ]
    },
    {
     "name": "stderr",
     "output_type": "stream",
     "text": [
      "[Parallel(n_jobs=1)]: Done  10 out of  10 | elapsed:   23.7s finished\n"
     ]
    },
    {
     "name": "stdout",
     "output_type": "stream",
     "text": [
      "Score: roc = 0.7885671980341504 | acc = 0.7152482269503546\n",
      "Trial: num_features: 205 -> "
     ]
    },
    {
     "name": "stderr",
     "output_type": "stream",
     "text": [
      "[Parallel(n_jobs=1)]: Done  10 out of  10 | elapsed:   22.8s finished\n"
     ]
    },
    {
     "name": "stdout",
     "output_type": "stream",
     "text": [
      "Score: roc = 0.7443362106987588 | acc = 0.6847517730496454\n",
      "Trial: num_features: 215 -> "
     ]
    },
    {
     "name": "stderr",
     "output_type": "stream",
     "text": [
      "[Parallel(n_jobs=1)]: Done  10 out of  10 | elapsed:   11.0s finished\n"
     ]
    },
    {
     "name": "stdout",
     "output_type": "stream",
     "text": [
      "Score: roc = 0.7495854073467331 | acc = 0.6820921985815602\n",
      "Trial: num_features: 758 -> "
     ]
    },
    {
     "name": "stderr",
     "output_type": "stream",
     "text": [
      "[Parallel(n_jobs=1)]: Done  10 out of  10 | elapsed:   11.7s finished\n"
     ]
    },
    {
     "name": "stdout",
     "output_type": "stream",
     "text": [
      "Score: roc = 0.7885249826727995 | acc = 0.7168439716312057\n",
      "Trial: num_features: 198 -> "
     ]
    },
    {
     "name": "stderr",
     "output_type": "stream",
     "text": [
      "[Parallel(n_jobs=1)]: Done  10 out of  10 | elapsed:   22.0s finished\n"
     ]
    },
    {
     "name": "stdout",
     "output_type": "stream",
     "text": [
      "Score: roc = 0.7468388885388444 | acc = 0.6819148936170214\n",
      "Trial: num_features: 322 -> "
     ]
    },
    {
     "name": "stderr",
     "output_type": "stream",
     "text": [
      "[Parallel(n_jobs=1)]: Done  10 out of  10 | elapsed:   11.0s finished\n"
     ]
    },
    {
     "name": "stdout",
     "output_type": "stream",
     "text": [
      "Score: roc = 0.7677191103270115 | acc = 0.6969858156028368\n",
      "Trial: num_features: 789 -> "
     ]
    },
    {
     "name": "stderr",
     "output_type": "stream",
     "text": [
      "[Parallel(n_jobs=1)]: Done  10 out of  10 | elapsed:   13.3s finished\n"
     ]
    },
    {
     "name": "stdout",
     "output_type": "stream",
     "text": [
      "Score: roc = 0.7867059416545902 | acc = 0.7136524822695035\n",
      "Trial: num_features: 758 -> "
     ]
    },
    {
     "name": "stderr",
     "output_type": "stream",
     "text": [
      "[Parallel(n_jobs=1)]: Done  10 out of  10 | elapsed:   22.3s finished\n"
     ]
    },
    {
     "name": "stdout",
     "output_type": "stream",
     "text": [
      "Score: roc = 0.7885249826727995 | acc = 0.7168439716312057\n",
      "Trial: num_features: 817 -> "
     ]
    },
    {
     "name": "stderr",
     "output_type": "stream",
     "text": [
      "[Parallel(n_jobs=1)]: Done  10 out of  10 | elapsed:   21.0s finished\n"
     ]
    },
    {
     "name": "stdout",
     "output_type": "stream",
     "text": [
      "Score: roc = 0.789012034528385 | acc = 0.7166666666666667\n",
      "Trial: num_features: 811 -> "
     ]
    },
    {
     "name": "stderr",
     "output_type": "stream",
     "text": [
      "[Parallel(n_jobs=1)]: Done  10 out of  10 | elapsed:   24.0s finished\n"
     ]
    },
    {
     "name": "stdout",
     "output_type": "stream",
     "text": [
      "Score: roc = 0.7886932140381828 | acc = 0.7157801418439715\n",
      "Trial: num_features: 646 -> "
     ]
    },
    {
     "name": "stderr",
     "output_type": "stream",
     "text": [
      "[Parallel(n_jobs=1)]: Done  10 out of  10 | elapsed:   22.7s finished\n"
     ]
    },
    {
     "name": "stdout",
     "output_type": "stream",
     "text": [
      "Score: roc = 0.7852542372881356 | acc = 0.7141843971631205\n",
      "Trial: num_features: 822 -> "
     ]
    },
    {
     "name": "stderr",
     "output_type": "stream",
     "text": [
      "[Parallel(n_jobs=1)]: Done  10 out of  10 | elapsed:   18.7s finished\n"
     ]
    },
    {
     "name": "stdout",
     "output_type": "stream",
     "text": [
      "Score: roc = 0.7893610988595553 | acc = 0.7173758865248226\n",
      "Trial: num_features: 693 -> "
     ]
    },
    {
     "name": "stderr",
     "output_type": "stream",
     "text": [
      "[Parallel(n_jobs=1)]: Done  10 out of  10 | elapsed:   22.2s finished\n"
     ]
    },
    {
     "name": "stdout",
     "output_type": "stream",
     "text": [
      "Score: roc = 0.7855598260979144 | acc = 0.7115248226950354\n",
      "Trial: num_features: 778 -> "
     ]
    },
    {
     "name": "stderr",
     "output_type": "stream",
     "text": [
      "[Parallel(n_jobs=1)]: Done  10 out of  10 | elapsed:   20.2s finished\n"
     ]
    },
    {
     "name": "stdout",
     "output_type": "stream",
     "text": [
      "Score: roc = 0.7868262869384411 | acc = 0.7140070921985816\n",
      "Trial: num_features: 430 -> "
     ]
    },
    {
     "name": "stderr",
     "output_type": "stream",
     "text": [
      "[Parallel(n_jobs=1)]: Done  10 out of  10 | elapsed:   21.6s finished\n"
     ]
    },
    {
     "name": "stdout",
     "output_type": "stream",
     "text": [
      "Score: roc = 0.7810087581122803 | acc = 0.7062056737588652\n",
      "Trial: num_features: 554 -> "
     ]
    },
    {
     "name": "stderr",
     "output_type": "stream",
     "text": [
      "[Parallel(n_jobs=1)]: Done  10 out of  10 | elapsed:   15.4s finished\n"
     ]
    },
    {
     "name": "stdout",
     "output_type": "stream",
     "text": [
      "Score: roc = 0.7826463360846827 | acc = 0.7125886524822694\n",
      "Trial: num_features: 630 -> "
     ]
    },
    {
     "name": "stderr",
     "output_type": "stream",
     "text": [
      "[Parallel(n_jobs=1)]: Done  10 out of  10 | elapsed:   16.1s finished\n"
     ]
    },
    {
     "name": "stdout",
     "output_type": "stream",
     "text": [
      "Score: roc = 0.7848932014365825 | acc = 0.7150709219858157\n",
      "Trial: num_features: 157 -> "
     ]
    },
    {
     "name": "stderr",
     "output_type": "stream",
     "text": [
      "[Parallel(n_jobs=1)]: Done  10 out of  10 | elapsed:   17.9s finished\n"
     ]
    },
    {
     "name": "stdout",
     "output_type": "stream",
     "text": [
      "Score: roc = 0.7431989162623653 | acc = 0.6787234042553192\n",
      "Trial: num_features: 841 -> "
     ]
    },
    {
     "name": "stderr",
     "output_type": "stream",
     "text": [
      "[Parallel(n_jobs=1)]: Done  10 out of  10 | elapsed:   10.7s finished\n"
     ]
    },
    {
     "name": "stdout",
     "output_type": "stream",
     "text": [
      "Score: roc = 0.7876088463234832 | acc = 0.7159574468085107\n",
      "Trial: num_features: 438 -> "
     ]
    },
    {
     "name": "stderr",
     "output_type": "stream",
     "text": [
      "[Parallel(n_jobs=1)]: Done  10 out of  10 | elapsed:   22.9s finished\n"
     ]
    },
    {
     "name": "stdout",
     "output_type": "stream",
     "text": [
      "Score: roc = 0.7824560519185937 | acc = 0.7115248226950355\n",
      "Trial: num_features: 569 -> "
     ]
    },
    {
     "name": "stderr",
     "output_type": "stream",
     "text": [
      "[Parallel(n_jobs=1)]: Done  10 out of  10 | elapsed:   14.7s finished\n"
     ]
    },
    {
     "name": "stdout",
     "output_type": "stream",
     "text": [
      "Score: roc = 0.7849511687984373 | acc = 0.7141843971631204\n",
      "Trial: num_features: 837 -> "
     ]
    },
    {
     "name": "stderr",
     "output_type": "stream",
     "text": [
      "[Parallel(n_jobs=1)]: Done  10 out of  10 | elapsed:   17.3s finished\n"
     ]
    },
    {
     "name": "stdout",
     "output_type": "stream",
     "text": [
      "Score: roc = 0.787786528889169 | acc = 0.7156028368794326\n",
      "Trial: num_features: 469 -> "
     ]
    },
    {
     "name": "stderr",
     "output_type": "stream",
     "text": [
      "[Parallel(n_jobs=1)]: Done  10 out of  10 | elapsed:   23.3s finished\n"
     ]
    },
    {
     "name": "stdout",
     "output_type": "stream",
     "text": [
      "Score: roc = 0.7816596307731082 | acc = 0.7058510638297872\n",
      "Trial: num_features: 855 -> "
     ]
    },
    {
     "name": "stderr",
     "output_type": "stream",
     "text": [
      "[Parallel(n_jobs=1)]: Done  10 out of  10 | elapsed:   14.9s finished\n"
     ]
    },
    {
     "name": "stdout",
     "output_type": "stream",
     "text": [
      "Score: roc = 0.78542624913364 | acc = 0.7138297872340426\n",
      "Trial: num_features: 707 -> "
     ]
    },
    {
     "name": "stderr",
     "output_type": "stream",
     "text": [
      "[Parallel(n_jobs=1)]: Done  10 out of  10 | elapsed:   24.7s finished\n"
     ]
    },
    {
     "name": "stdout",
     "output_type": "stream",
     "text": [
      "Score: roc = 0.7872667128725348 | acc = 0.7113475177304964\n",
      "Trial: num_features: 824 -> "
     ]
    },
    {
     "name": "stderr",
     "output_type": "stream",
     "text": [
      "[Parallel(n_jobs=1)]: Done  10 out of  10 | elapsed:   20.6s finished\n"
     ]
    },
    {
     "name": "stdout",
     "output_type": "stream",
     "text": [
      "Score: roc = 0.7861508411568269 | acc = 0.7156028368794327\n",
      "Trial: num_features: 758 -> "
     ]
    },
    {
     "name": "stderr",
     "output_type": "stream",
     "text": [
      "[Parallel(n_jobs=1)]: Done  10 out of  10 | elapsed:   24.1s finished\n"
     ]
    },
    {
     "name": "stdout",
     "output_type": "stream",
     "text": [
      "Score: roc = 0.7885249826727995 | acc = 0.7168439716312057\n",
      "Trial: num_features: 587 -> "
     ]
    },
    {
     "name": "stderr",
     "output_type": "stream",
     "text": [
      "[Parallel(n_jobs=1)]: Done  10 out of  10 | elapsed:   21.6s finished\n"
     ]
    },
    {
     "name": "stdout",
     "output_type": "stream",
     "text": [
      "Score: roc = 0.7828826160922436 | acc = 0.7092198581560283\n",
      "Trial: num_features: 523 -> "
     ]
    },
    {
     "name": "stderr",
     "output_type": "stream",
     "text": [
      "[Parallel(n_jobs=1)]: Done  10 out of  10 | elapsed:   16.7s finished\n"
     ]
    },
    {
     "name": "stdout",
     "output_type": "stream",
     "text": [
      "Score: roc = 0.7844288324617226 | acc = 0.7124113475177305\n",
      "Trial: num_features: 758 -> "
     ]
    },
    {
     "name": "stderr",
     "output_type": "stream",
     "text": [
      "[Parallel(n_jobs=1)]: Done  10 out of  10 | elapsed:   16.8s finished\n"
     ]
    },
    {
     "name": "stdout",
     "output_type": "stream",
     "text": [
      "Score: roc = 0.7885249826727995 | acc = 0.7168439716312057\n",
      "Trial: num_features: 822 -> "
     ]
    },
    {
     "name": "stderr",
     "output_type": "stream",
     "text": [
      "[Parallel(n_jobs=1)]: Done  10 out of  10 | elapsed:   22.0s finished\n"
     ]
    },
    {
     "name": "stdout",
     "output_type": "stream",
     "text": [
      "Score: roc = 0.7893610988595553 | acc = 0.7173758865248226\n",
      "Trial: num_features: 262 -> "
     ]
    },
    {
     "name": "stderr",
     "output_type": "stream",
     "text": [
      "[Parallel(n_jobs=1)]: Done  10 out of  10 | elapsed:   23.6s finished\n"
     ]
    },
    {
     "name": "stdout",
     "output_type": "stream",
     "text": [
      "Score: roc = 0.7574210824774746 | acc = 0.6911347517730496\n",
      "Trial: num_features: 832 -> "
     ]
    },
    {
     "name": "stderr",
     "output_type": "stream",
     "text": [
      "[Parallel(n_jobs=1)]: Done  10 out of  10 | elapsed:   12.7s finished\n"
     ]
    },
    {
     "name": "stdout",
     "output_type": "stream",
     "text": [
      "Score: roc = 0.7878892319324555 | acc = 0.7145390070921986\n",
      "Trial: num_features: 361 -> "
     ]
    },
    {
     "name": "stderr",
     "output_type": "stream",
     "text": [
      "[Parallel(n_jobs=1)]: Done  10 out of  10 | elapsed:   24.0s finished\n"
     ]
    },
    {
     "name": "stdout",
     "output_type": "stream",
     "text": [
      "Score: roc = 0.7768495998991872 | acc = 0.7090425531914893\n",
      "Trial: num_features: 575 -> "
     ]
    },
    {
     "name": "stderr",
     "output_type": "stream",
     "text": [
      "[Parallel(n_jobs=1)]: Done  10 out of  10 | elapsed:   13.4s finished\n"
     ]
    },
    {
     "name": "stdout",
     "output_type": "stream",
     "text": [
      "Score: roc = 0.7856795413017454 | acc = 0.7150709219858156\n",
      "Trial: num_features: 400 -> "
     ]
    },
    {
     "name": "stderr",
     "output_type": "stream",
     "text": [
      "[Parallel(n_jobs=1)]: Done  10 out of  10 | elapsed:   18.7s finished\n"
     ]
    },
    {
     "name": "stdout",
     "output_type": "stream",
     "text": [
      "Score: roc = 0.7799426627181651 | acc = 0.7113475177304964\n",
      "Trial: num_features: 257 -> "
     ]
    },
    {
     "name": "stderr",
     "output_type": "stream",
     "text": [
      "[Parallel(n_jobs=1)]: Done  10 out of  10 | elapsed:   14.5s finished\n"
     ]
    },
    {
     "name": "stdout",
     "output_type": "stream",
     "text": [
      "Score: roc = 0.7585917711549367 | acc = 0.6895390070921985\n",
      "Trial: num_features: 858 -> "
     ]
    },
    {
     "name": "stderr",
     "output_type": "stream",
     "text": [
      "[Parallel(n_jobs=1)]: Done  10 out of  10 | elapsed:   13.0s finished\n"
     ]
    },
    {
     "name": "stdout",
     "output_type": "stream",
     "text": [
      "Score: roc = 0.7861905361980972 | acc = 0.7129432624113475\n",
      "Trial: num_features: 382 -> "
     ]
    },
    {
     "name": "stderr",
     "output_type": "stream",
     "text": [
      "[Parallel(n_jobs=1)]: Done  10 out of  10 | elapsed:   24.5s finished\n"
     ]
    },
    {
     "name": "stdout",
     "output_type": "stream",
     "text": [
      "Score: roc = 0.7787505513200177 | acc = 0.7069148936170213\n",
      "Trial: num_features: 678 -> "
     ]
    },
    {
     "name": "stderr",
     "output_type": "stream",
     "text": [
      "[Parallel(n_jobs=1)]: Done  10 out of  10 | elapsed:   15.2s finished\n"
     ]
    },
    {
     "name": "stdout",
     "output_type": "stream",
     "text": [
      "Score: roc = 0.7838315166026085 | acc = 0.7117021276595745\n",
      "Trial: num_features: 229 -> "
     ]
    },
    {
     "name": "stderr",
     "output_type": "stream",
     "text": [
      "[Parallel(n_jobs=1)]: Done  10 out of  10 | elapsed:   20.7s finished\n"
     ]
    },
    {
     "name": "stdout",
     "output_type": "stream",
     "text": [
      "Score: roc = 0.7536481633167413 | acc = 0.6902482269503546\n",
      "Trial: num_features: 887 -> "
     ]
    },
    {
     "name": "stderr",
     "output_type": "stream",
     "text": [
      "[Parallel(n_jobs=1)]: Done  10 out of  10 | elapsed:   10.9s finished\n"
     ]
    },
    {
     "name": "stdout",
     "output_type": "stream",
     "text": [
      "Score: roc = 0.7859429147501733 | acc = 0.7173758865248228\n",
      "Trial: num_features: 216 -> "
     ]
    },
    {
     "name": "stderr",
     "output_type": "stream",
     "text": [
      "[Parallel(n_jobs=1)]: Done  10 out of  10 | elapsed:   26.3s finished\n",
      "Process ForkPoolWorker-13913:\n",
      "Process ForkPoolWorker-13914:\n",
      "Traceback (most recent call last):\n",
      "Process ForkPoolWorker-13912:\n",
      "Traceback (most recent call last):\n",
      "  File \"/opt/conda/envs/rampwf/lib/python3.6/multiprocessing/process.py\", line 258, in _bootstrap\n",
      "    self.run()\n"
     ]
    },
    {
     "ename": "KeyboardInterrupt",
     "evalue": "",
     "output_type": "error",
     "traceback": [
      "\u001b[0;31m---------------------------------------------------------------------------\u001b[0m",
      "\u001b[0;31mKeyboardInterrupt\u001b[0m                         Traceback (most recent call last)",
      "\u001b[0;32m<ipython-input-113-82621e57555c>\u001b[0m in \u001b[0;36m<module>\u001b[0;34m()\u001b[0m\n\u001b[1;32m     55\u001b[0m \u001b[0;34m\u001b[0m\u001b[0m\n\u001b[1;32m     56\u001b[0m \u001b[0mtrials\u001b[0m \u001b[0;34m=\u001b[0m \u001b[0mTrials\u001b[0m\u001b[0;34m(\u001b[0m\u001b[0;34m)\u001b[0m\u001b[0;34m\u001b[0m\u001b[0m\n\u001b[0;32m---> 57\u001b[0;31m \u001b[0mbest_weights\u001b[0m \u001b[0;34m=\u001b[0m \u001b[0moptimize\u001b[0m\u001b[0;34m(\u001b[0m\u001b[0mtrials\u001b[0m\u001b[0;34m,\u001b[0m \u001b[0mmax_evals\u001b[0m\u001b[0;34m=\u001b[0m\u001b[0;36m500\u001b[0m\u001b[0;34m)\u001b[0m\u001b[0;34m\u001b[0m\u001b[0m\n\u001b[0m\u001b[1;32m     58\u001b[0m \u001b[0mbest_weights\u001b[0m\u001b[0;34m\u001b[0m\u001b[0m\n",
      "\u001b[0;32m<ipython-input-113-82621e57555c>\u001b[0m in \u001b[0;36moptimize\u001b[0;34m(trials, max_evals)\u001b[0m\n\u001b[1;32m     50\u001b[0m \u001b[0;32mdef\u001b[0m \u001b[0moptimize\u001b[0m\u001b[0;34m(\u001b[0m\u001b[0mtrials\u001b[0m\u001b[0;34m,\u001b[0m \u001b[0mmax_evals\u001b[0m\u001b[0;34m)\u001b[0m\u001b[0;34m:\u001b[0m\u001b[0;34m\u001b[0m\u001b[0m\n\u001b[1;32m     51\u001b[0m     \u001b[0mparams\u001b[0m \u001b[0;34m=\u001b[0m \u001b[0;34m{\u001b[0m\u001b[0;34m'num_features'\u001b[0m\u001b[0;34m:\u001b[0m \u001b[0mget_num_features\u001b[0m\u001b[0;34m(\u001b[0m\u001b[0;34m)\u001b[0m\u001b[0;34m}\u001b[0m\u001b[0;34m\u001b[0m\u001b[0m\n\u001b[0;32m---> 52\u001b[0;31m     \u001b[0mbest\u001b[0m \u001b[0;34m=\u001b[0m \u001b[0mfmin\u001b[0m\u001b[0;34m(\u001b[0m\u001b[0mscore\u001b[0m\u001b[0;34m,\u001b[0m \u001b[0mparams\u001b[0m\u001b[0;34m,\u001b[0m \u001b[0malgo\u001b[0m\u001b[0;34m=\u001b[0m\u001b[0mtpe\u001b[0m\u001b[0;34m.\u001b[0m\u001b[0msuggest\u001b[0m\u001b[0;34m,\u001b[0m \u001b[0mtrials\u001b[0m\u001b[0;34m=\u001b[0m\u001b[0mtrials\u001b[0m\u001b[0;34m,\u001b[0m \u001b[0mmax_evals\u001b[0m\u001b[0;34m=\u001b[0m\u001b[0mmax_evals\u001b[0m\u001b[0;34m)\u001b[0m\u001b[0;34m\u001b[0m\u001b[0m\n\u001b[0m\u001b[1;32m     53\u001b[0m     \u001b[0;32mreturn\u001b[0m \u001b[0mbest\u001b[0m\u001b[0;34m\u001b[0m\u001b[0m\n\u001b[1;32m     54\u001b[0m \u001b[0;34m\u001b[0m\u001b[0m\n",
      "\u001b[0;32m/opt/conda/envs/rampwf/lib/python3.6/site-packages/hyperopt/fmin.py\u001b[0m in \u001b[0;36mfmin\u001b[0;34m(fn, space, algo, max_evals, trials, rstate, allow_trials_fmin, pass_expr_memo_ctrl, catch_eval_exceptions, verbose, return_argmin)\u001b[0m\n\u001b[1;32m    305\u001b[0m             \u001b[0mverbose\u001b[0m\u001b[0;34m=\u001b[0m\u001b[0mverbose\u001b[0m\u001b[0;34m,\u001b[0m\u001b[0;34m\u001b[0m\u001b[0m\n\u001b[1;32m    306\u001b[0m             \u001b[0mcatch_eval_exceptions\u001b[0m\u001b[0;34m=\u001b[0m\u001b[0mcatch_eval_exceptions\u001b[0m\u001b[0;34m,\u001b[0m\u001b[0;34m\u001b[0m\u001b[0m\n\u001b[0;32m--> 307\u001b[0;31m             \u001b[0mreturn_argmin\u001b[0m\u001b[0;34m=\u001b[0m\u001b[0mreturn_argmin\u001b[0m\u001b[0;34m,\u001b[0m\u001b[0;34m\u001b[0m\u001b[0m\n\u001b[0m\u001b[1;32m    308\u001b[0m         )\n\u001b[1;32m    309\u001b[0m \u001b[0;34m\u001b[0m\u001b[0m\n",
      "\u001b[0;32m/opt/conda/envs/rampwf/lib/python3.6/site-packages/hyperopt/base.py\u001b[0m in \u001b[0;36mfmin\u001b[0;34m(self, fn, space, algo, max_evals, rstate, verbose, pass_expr_memo_ctrl, catch_eval_exceptions, return_argmin)\u001b[0m\n\u001b[1;32m    633\u001b[0m             \u001b[0mpass_expr_memo_ctrl\u001b[0m\u001b[0;34m=\u001b[0m\u001b[0mpass_expr_memo_ctrl\u001b[0m\u001b[0;34m,\u001b[0m\u001b[0;34m\u001b[0m\u001b[0m\n\u001b[1;32m    634\u001b[0m             \u001b[0mcatch_eval_exceptions\u001b[0m\u001b[0;34m=\u001b[0m\u001b[0mcatch_eval_exceptions\u001b[0m\u001b[0;34m,\u001b[0m\u001b[0;34m\u001b[0m\u001b[0m\n\u001b[0;32m--> 635\u001b[0;31m             return_argmin=return_argmin)\n\u001b[0m\u001b[1;32m    636\u001b[0m \u001b[0;34m\u001b[0m\u001b[0m\n\u001b[1;32m    637\u001b[0m \u001b[0;34m\u001b[0m\u001b[0m\n",
      "\u001b[0;32m/opt/conda/envs/rampwf/lib/python3.6/site-packages/hyperopt/fmin.py\u001b[0m in \u001b[0;36mfmin\u001b[0;34m(fn, space, algo, max_evals, trials, rstate, allow_trials_fmin, pass_expr_memo_ctrl, catch_eval_exceptions, verbose, return_argmin)\u001b[0m\n\u001b[1;32m    318\u001b[0m                     verbose=verbose)\n\u001b[1;32m    319\u001b[0m     \u001b[0mrval\u001b[0m\u001b[0;34m.\u001b[0m\u001b[0mcatch_eval_exceptions\u001b[0m \u001b[0;34m=\u001b[0m \u001b[0mcatch_eval_exceptions\u001b[0m\u001b[0;34m\u001b[0m\u001b[0m\n\u001b[0;32m--> 320\u001b[0;31m     \u001b[0mrval\u001b[0m\u001b[0;34m.\u001b[0m\u001b[0mexhaust\u001b[0m\u001b[0;34m(\u001b[0m\u001b[0;34m)\u001b[0m\u001b[0;34m\u001b[0m\u001b[0m\n\u001b[0m\u001b[1;32m    321\u001b[0m     \u001b[0;32mif\u001b[0m \u001b[0mreturn_argmin\u001b[0m\u001b[0;34m:\u001b[0m\u001b[0;34m\u001b[0m\u001b[0m\n\u001b[1;32m    322\u001b[0m         \u001b[0;32mreturn\u001b[0m \u001b[0mtrials\u001b[0m\u001b[0;34m.\u001b[0m\u001b[0margmin\u001b[0m\u001b[0;34m\u001b[0m\u001b[0m\n",
      "\u001b[0;32m/opt/conda/envs/rampwf/lib/python3.6/site-packages/hyperopt/fmin.py\u001b[0m in \u001b[0;36mexhaust\u001b[0;34m(self)\u001b[0m\n\u001b[1;32m    197\u001b[0m     \u001b[0;32mdef\u001b[0m \u001b[0mexhaust\u001b[0m\u001b[0;34m(\u001b[0m\u001b[0mself\u001b[0m\u001b[0;34m)\u001b[0m\u001b[0;34m:\u001b[0m\u001b[0;34m\u001b[0m\u001b[0m\n\u001b[1;32m    198\u001b[0m         \u001b[0mn_done\u001b[0m \u001b[0;34m=\u001b[0m \u001b[0mlen\u001b[0m\u001b[0;34m(\u001b[0m\u001b[0mself\u001b[0m\u001b[0;34m.\u001b[0m\u001b[0mtrials\u001b[0m\u001b[0;34m)\u001b[0m\u001b[0;34m\u001b[0m\u001b[0m\n\u001b[0;32m--> 199\u001b[0;31m         \u001b[0mself\u001b[0m\u001b[0;34m.\u001b[0m\u001b[0mrun\u001b[0m\u001b[0;34m(\u001b[0m\u001b[0mself\u001b[0m\u001b[0;34m.\u001b[0m\u001b[0mmax_evals\u001b[0m \u001b[0;34m-\u001b[0m \u001b[0mn_done\u001b[0m\u001b[0;34m,\u001b[0m \u001b[0mblock_until_done\u001b[0m\u001b[0;34m=\u001b[0m\u001b[0mself\u001b[0m\u001b[0;34m.\u001b[0m\u001b[0masync\u001b[0m\u001b[0;34m)\u001b[0m\u001b[0;34m\u001b[0m\u001b[0m\n\u001b[0m\u001b[1;32m    200\u001b[0m         \u001b[0mself\u001b[0m\u001b[0;34m.\u001b[0m\u001b[0mtrials\u001b[0m\u001b[0;34m.\u001b[0m\u001b[0mrefresh\u001b[0m\u001b[0;34m(\u001b[0m\u001b[0;34m)\u001b[0m\u001b[0;34m\u001b[0m\u001b[0m\n\u001b[1;32m    201\u001b[0m         \u001b[0;32mreturn\u001b[0m \u001b[0mself\u001b[0m\u001b[0;34m\u001b[0m\u001b[0m\n",
      "\u001b[0;32m/opt/conda/envs/rampwf/lib/python3.6/site-packages/hyperopt/fmin.py\u001b[0m in \u001b[0;36mrun\u001b[0;34m(self, N, block_until_done)\u001b[0m\n\u001b[1;32m    171\u001b[0m             \u001b[0;32melse\u001b[0m\u001b[0;34m:\u001b[0m\u001b[0;34m\u001b[0m\u001b[0m\n\u001b[1;32m    172\u001b[0m                 \u001b[0;31m# -- loop over trials and do the jobs directly\u001b[0m\u001b[0;34m\u001b[0m\u001b[0;34m\u001b[0m\u001b[0m\n\u001b[0;32m--> 173\u001b[0;31m                 \u001b[0mself\u001b[0m\u001b[0;34m.\u001b[0m\u001b[0mserial_evaluate\u001b[0m\u001b[0;34m(\u001b[0m\u001b[0;34m)\u001b[0m\u001b[0;34m\u001b[0m\u001b[0m\n\u001b[0m\u001b[1;32m    174\u001b[0m \u001b[0;34m\u001b[0m\u001b[0m\n\u001b[1;32m    175\u001b[0m             \u001b[0;32mif\u001b[0m \u001b[0mstopped\u001b[0m\u001b[0;34m:\u001b[0m\u001b[0;34m\u001b[0m\u001b[0m\n",
      "\u001b[0;32m/opt/conda/envs/rampwf/lib/python3.6/site-packages/hyperopt/fmin.py\u001b[0m in \u001b[0;36mserial_evaluate\u001b[0;34m(self, N)\u001b[0m\n\u001b[1;32m     90\u001b[0m                 \u001b[0mctrl\u001b[0m \u001b[0;34m=\u001b[0m \u001b[0mbase\u001b[0m\u001b[0;34m.\u001b[0m\u001b[0mCtrl\u001b[0m\u001b[0;34m(\u001b[0m\u001b[0mself\u001b[0m\u001b[0;34m.\u001b[0m\u001b[0mtrials\u001b[0m\u001b[0;34m,\u001b[0m \u001b[0mcurrent_trial\u001b[0m\u001b[0;34m=\u001b[0m\u001b[0mtrial\u001b[0m\u001b[0;34m)\u001b[0m\u001b[0;34m\u001b[0m\u001b[0m\n\u001b[1;32m     91\u001b[0m                 \u001b[0;32mtry\u001b[0m\u001b[0;34m:\u001b[0m\u001b[0;34m\u001b[0m\u001b[0m\n\u001b[0;32m---> 92\u001b[0;31m                     \u001b[0mresult\u001b[0m \u001b[0;34m=\u001b[0m \u001b[0mself\u001b[0m\u001b[0;34m.\u001b[0m\u001b[0mdomain\u001b[0m\u001b[0;34m.\u001b[0m\u001b[0mevaluate\u001b[0m\u001b[0;34m(\u001b[0m\u001b[0mspec\u001b[0m\u001b[0;34m,\u001b[0m \u001b[0mctrl\u001b[0m\u001b[0;34m)\u001b[0m\u001b[0;34m\u001b[0m\u001b[0m\n\u001b[0m\u001b[1;32m     93\u001b[0m                 \u001b[0;32mexcept\u001b[0m \u001b[0mException\u001b[0m \u001b[0;32mas\u001b[0m \u001b[0me\u001b[0m\u001b[0;34m:\u001b[0m\u001b[0;34m\u001b[0m\u001b[0m\n\u001b[1;32m     94\u001b[0m                     \u001b[0mlogger\u001b[0m\u001b[0;34m.\u001b[0m\u001b[0minfo\u001b[0m\u001b[0;34m(\u001b[0m\u001b[0;34m'job exception: %s'\u001b[0m \u001b[0;34m%\u001b[0m \u001b[0mstr\u001b[0m\u001b[0;34m(\u001b[0m\u001b[0me\u001b[0m\u001b[0;34m)\u001b[0m\u001b[0;34m)\u001b[0m\u001b[0;34m\u001b[0m\u001b[0m\n",
      "\u001b[0;32m/opt/conda/envs/rampwf/lib/python3.6/site-packages/hyperopt/base.py\u001b[0m in \u001b[0;36mevaluate\u001b[0;34m(self, config, ctrl, attach_attachments)\u001b[0m\n\u001b[1;32m    838\u001b[0m                 \u001b[0mmemo\u001b[0m\u001b[0;34m=\u001b[0m\u001b[0mmemo\u001b[0m\u001b[0;34m,\u001b[0m\u001b[0;34m\u001b[0m\u001b[0m\n\u001b[1;32m    839\u001b[0m                 print_node_on_error=self.rec_eval_print_node_on_error)\n\u001b[0;32m--> 840\u001b[0;31m             \u001b[0mrval\u001b[0m \u001b[0;34m=\u001b[0m \u001b[0mself\u001b[0m\u001b[0;34m.\u001b[0m\u001b[0mfn\u001b[0m\u001b[0;34m(\u001b[0m\u001b[0mpyll_rval\u001b[0m\u001b[0;34m)\u001b[0m\u001b[0;34m\u001b[0m\u001b[0m\n\u001b[0m\u001b[1;32m    841\u001b[0m \u001b[0;34m\u001b[0m\u001b[0m\n\u001b[1;32m    842\u001b[0m         \u001b[0;32mif\u001b[0m \u001b[0misinstance\u001b[0m\u001b[0;34m(\u001b[0m\u001b[0mrval\u001b[0m\u001b[0;34m,\u001b[0m \u001b[0;34m(\u001b[0m\u001b[0mfloat\u001b[0m\u001b[0;34m,\u001b[0m \u001b[0mint\u001b[0m\u001b[0;34m,\u001b[0m \u001b[0mnp\u001b[0m\u001b[0;34m.\u001b[0m\u001b[0mnumber\u001b[0m\u001b[0;34m)\u001b[0m\u001b[0;34m)\u001b[0m\u001b[0;34m:\u001b[0m\u001b[0;34m\u001b[0m\u001b[0m\n",
      "\u001b[0;32m<ipython-input-113-82621e57555c>\u001b[0m in \u001b[0;36mscore\u001b[0;34m(params)\u001b[0m\n\u001b[1;32m     36\u001b[0m     \u001b[0mtopk_2xfeature_names\u001b[0m \u001b[0;34m=\u001b[0m \u001b[0mnp\u001b[0m\u001b[0;34m.\u001b[0m\u001b[0marray\u001b[0m\u001b[0;34m(\u001b[0m\u001b[0mpoly_cols\u001b[0m\u001b[0;34m)\u001b[0m\u001b[0;34m[\u001b[0m\u001b[0minteresting_coefficients\u001b[0m\u001b[0;34m]\u001b[0m\u001b[0;34m.\u001b[0m\u001b[0mtolist\u001b[0m\u001b[0;34m(\u001b[0m\u001b[0;34m)\u001b[0m\u001b[0;34m\u001b[0m\u001b[0m\n\u001b[1;32m     37\u001b[0m \u001b[0;34m\u001b[0m\u001b[0m\n\u001b[0;32m---> 38\u001b[0;31m     \u001b[0mresults\u001b[0m \u001b[0;34m=\u001b[0m \u001b[0mevaluation\u001b[0m\u001b[0;34m(\u001b[0m\u001b[0mdata_train\u001b[0m\u001b[0;34m,\u001b[0m \u001b[0mlabels_train\u001b[0m\u001b[0;34m,\u001b[0m \u001b[0mtopk_2xfeature_names\u001b[0m \u001b[0;34m+\u001b[0m \u001b[0mtopk_feature_names\u001b[0m\u001b[0;34m)\u001b[0m\u001b[0;34m\u001b[0m\u001b[0m\n\u001b[0m\u001b[1;32m     39\u001b[0m     \u001b[0mroc\u001b[0m \u001b[0;34m=\u001b[0m \u001b[0mnp\u001b[0m\u001b[0;34m.\u001b[0m\u001b[0mmean\u001b[0m\u001b[0;34m(\u001b[0m\u001b[0mresults\u001b[0m\u001b[0;34m[\u001b[0m\u001b[0;34m'test_roc_auc'\u001b[0m\u001b[0;34m]\u001b[0m\u001b[0;34m)\u001b[0m\u001b[0;34m\u001b[0m\u001b[0m\n\u001b[1;32m     40\u001b[0m     \u001b[0macc\u001b[0m \u001b[0;34m=\u001b[0m \u001b[0mnp\u001b[0m\u001b[0;34m.\u001b[0m\u001b[0mmean\u001b[0m\u001b[0;34m(\u001b[0m\u001b[0mresults\u001b[0m\u001b[0;34m[\u001b[0m\u001b[0;34m'test_accuracy'\u001b[0m\u001b[0;34m]\u001b[0m\u001b[0;34m)\u001b[0m\u001b[0;34m\u001b[0m\u001b[0m\n",
      "\u001b[0;32m<ipython-input-113-82621e57555c>\u001b[0m in \u001b[0;36mevaluation\u001b[0;34m(X, y, features)\u001b[0m\n\u001b[1;32m     20\u001b[0m     results = cross_validate(pipe, X, y, scoring=['roc_auc', 'accuracy'], cv=cv,\n\u001b[1;32m     21\u001b[0m                              \u001b[0mverbose\u001b[0m\u001b[0;34m=\u001b[0m\u001b[0;36m1\u001b[0m\u001b[0;34m,\u001b[0m \u001b[0mreturn_train_score\u001b[0m\u001b[0;34m=\u001b[0m\u001b[0;32mTrue\u001b[0m\u001b[0;34m,\u001b[0m\u001b[0;34m\u001b[0m\u001b[0m\n\u001b[0;32m---> 22\u001b[0;31m                              n_jobs=1)\n\u001b[0m\u001b[1;32m     23\u001b[0m \u001b[0;34m\u001b[0m\u001b[0m\n\u001b[1;32m     24\u001b[0m     \u001b[0;32mreturn\u001b[0m \u001b[0mresults\u001b[0m\u001b[0;34m\u001b[0m\u001b[0m\n",
      "\u001b[0;32m/opt/conda/envs/rampwf/lib/python3.6/site-packages/sklearn/model_selection/_validation.py\u001b[0m in \u001b[0;36mcross_validate\u001b[0;34m(estimator, X, y, groups, scoring, cv, n_jobs, verbose, fit_params, pre_dispatch, return_train_score)\u001b[0m\n\u001b[1;32m    204\u001b[0m             \u001b[0mfit_params\u001b[0m\u001b[0;34m,\u001b[0m \u001b[0mreturn_train_score\u001b[0m\u001b[0;34m=\u001b[0m\u001b[0mreturn_train_score\u001b[0m\u001b[0;34m,\u001b[0m\u001b[0;34m\u001b[0m\u001b[0m\n\u001b[1;32m    205\u001b[0m             return_times=True)\n\u001b[0;32m--> 206\u001b[0;31m         for train, test in cv.split(X, y, groups))\n\u001b[0m\u001b[1;32m    207\u001b[0m \u001b[0;34m\u001b[0m\u001b[0m\n\u001b[1;32m    208\u001b[0m     \u001b[0;32mif\u001b[0m \u001b[0mreturn_train_score\u001b[0m\u001b[0;34m:\u001b[0m\u001b[0;34m\u001b[0m\u001b[0m\n",
      "\u001b[0;32m/opt/conda/envs/rampwf/lib/python3.6/site-packages/sklearn/externals/joblib/parallel.py\u001b[0m in \u001b[0;36m__call__\u001b[0;34m(self, iterable)\u001b[0m\n\u001b[1;32m    777\u001b[0m             \u001b[0;31m# was dispatched. In particular this covers the edge\u001b[0m\u001b[0;34m\u001b[0m\u001b[0;34m\u001b[0m\u001b[0m\n\u001b[1;32m    778\u001b[0m             \u001b[0;31m# case of Parallel used with an exhausted iterator.\u001b[0m\u001b[0;34m\u001b[0m\u001b[0;34m\u001b[0m\u001b[0m\n\u001b[0;32m--> 779\u001b[0;31m             \u001b[0;32mwhile\u001b[0m \u001b[0mself\u001b[0m\u001b[0;34m.\u001b[0m\u001b[0mdispatch_one_batch\u001b[0m\u001b[0;34m(\u001b[0m\u001b[0miterator\u001b[0m\u001b[0;34m)\u001b[0m\u001b[0;34m:\u001b[0m\u001b[0;34m\u001b[0m\u001b[0m\n\u001b[0m\u001b[1;32m    780\u001b[0m                 \u001b[0mself\u001b[0m\u001b[0;34m.\u001b[0m\u001b[0m_iterating\u001b[0m \u001b[0;34m=\u001b[0m \u001b[0;32mTrue\u001b[0m\u001b[0;34m\u001b[0m\u001b[0m\n\u001b[1;32m    781\u001b[0m             \u001b[0;32melse\u001b[0m\u001b[0;34m:\u001b[0m\u001b[0;34m\u001b[0m\u001b[0m\n",
      "\u001b[0;32m/opt/conda/envs/rampwf/lib/python3.6/site-packages/sklearn/externals/joblib/parallel.py\u001b[0m in \u001b[0;36mdispatch_one_batch\u001b[0;34m(self, iterator)\u001b[0m\n\u001b[1;32m    623\u001b[0m                 \u001b[0;32mreturn\u001b[0m \u001b[0;32mFalse\u001b[0m\u001b[0;34m\u001b[0m\u001b[0m\n\u001b[1;32m    624\u001b[0m             \u001b[0;32melse\u001b[0m\u001b[0;34m:\u001b[0m\u001b[0;34m\u001b[0m\u001b[0m\n\u001b[0;32m--> 625\u001b[0;31m                 \u001b[0mself\u001b[0m\u001b[0;34m.\u001b[0m\u001b[0m_dispatch\u001b[0m\u001b[0;34m(\u001b[0m\u001b[0mtasks\u001b[0m\u001b[0;34m)\u001b[0m\u001b[0;34m\u001b[0m\u001b[0m\n\u001b[0m\u001b[1;32m    626\u001b[0m                 \u001b[0;32mreturn\u001b[0m \u001b[0;32mTrue\u001b[0m\u001b[0;34m\u001b[0m\u001b[0m\n\u001b[1;32m    627\u001b[0m \u001b[0;34m\u001b[0m\u001b[0m\n",
      "\u001b[0;32m/opt/conda/envs/rampwf/lib/python3.6/site-packages/sklearn/externals/joblib/parallel.py\u001b[0m in \u001b[0;36m_dispatch\u001b[0;34m(self, batch)\u001b[0m\n\u001b[1;32m    586\u001b[0m         \u001b[0mdispatch_timestamp\u001b[0m \u001b[0;34m=\u001b[0m \u001b[0mtime\u001b[0m\u001b[0;34m.\u001b[0m\u001b[0mtime\u001b[0m\u001b[0;34m(\u001b[0m\u001b[0;34m)\u001b[0m\u001b[0;34m\u001b[0m\u001b[0m\n\u001b[1;32m    587\u001b[0m         \u001b[0mcb\u001b[0m \u001b[0;34m=\u001b[0m \u001b[0mBatchCompletionCallBack\u001b[0m\u001b[0;34m(\u001b[0m\u001b[0mdispatch_timestamp\u001b[0m\u001b[0;34m,\u001b[0m \u001b[0mlen\u001b[0m\u001b[0;34m(\u001b[0m\u001b[0mbatch\u001b[0m\u001b[0;34m)\u001b[0m\u001b[0;34m,\u001b[0m \u001b[0mself\u001b[0m\u001b[0;34m)\u001b[0m\u001b[0;34m\u001b[0m\u001b[0m\n\u001b[0;32m--> 588\u001b[0;31m         \u001b[0mjob\u001b[0m \u001b[0;34m=\u001b[0m \u001b[0mself\u001b[0m\u001b[0;34m.\u001b[0m\u001b[0m_backend\u001b[0m\u001b[0;34m.\u001b[0m\u001b[0mapply_async\u001b[0m\u001b[0;34m(\u001b[0m\u001b[0mbatch\u001b[0m\u001b[0;34m,\u001b[0m \u001b[0mcallback\u001b[0m\u001b[0;34m=\u001b[0m\u001b[0mcb\u001b[0m\u001b[0;34m)\u001b[0m\u001b[0;34m\u001b[0m\u001b[0m\n\u001b[0m\u001b[1;32m    589\u001b[0m         \u001b[0mself\u001b[0m\u001b[0;34m.\u001b[0m\u001b[0m_jobs\u001b[0m\u001b[0;34m.\u001b[0m\u001b[0mappend\u001b[0m\u001b[0;34m(\u001b[0m\u001b[0mjob\u001b[0m\u001b[0;34m)\u001b[0m\u001b[0;34m\u001b[0m\u001b[0m\n\u001b[1;32m    590\u001b[0m \u001b[0;34m\u001b[0m\u001b[0m\n",
      "\u001b[0;32m/opt/conda/envs/rampwf/lib/python3.6/site-packages/sklearn/externals/joblib/_parallel_backends.py\u001b[0m in \u001b[0;36mapply_async\u001b[0;34m(self, func, callback)\u001b[0m\n\u001b[1;32m    109\u001b[0m     \u001b[0;32mdef\u001b[0m \u001b[0mapply_async\u001b[0m\u001b[0;34m(\u001b[0m\u001b[0mself\u001b[0m\u001b[0;34m,\u001b[0m \u001b[0mfunc\u001b[0m\u001b[0;34m,\u001b[0m \u001b[0mcallback\u001b[0m\u001b[0;34m=\u001b[0m\u001b[0;32mNone\u001b[0m\u001b[0;34m)\u001b[0m\u001b[0;34m:\u001b[0m\u001b[0;34m\u001b[0m\u001b[0m\n\u001b[1;32m    110\u001b[0m         \u001b[0;34m\"\"\"Schedule a func to be run\"\"\"\u001b[0m\u001b[0;34m\u001b[0m\u001b[0m\n\u001b[0;32m--> 111\u001b[0;31m         \u001b[0mresult\u001b[0m \u001b[0;34m=\u001b[0m \u001b[0mImmediateResult\u001b[0m\u001b[0;34m(\u001b[0m\u001b[0mfunc\u001b[0m\u001b[0;34m)\u001b[0m\u001b[0;34m\u001b[0m\u001b[0m\n\u001b[0m\u001b[1;32m    112\u001b[0m         \u001b[0;32mif\u001b[0m \u001b[0mcallback\u001b[0m\u001b[0;34m:\u001b[0m\u001b[0;34m\u001b[0m\u001b[0m\n\u001b[1;32m    113\u001b[0m             \u001b[0mcallback\u001b[0m\u001b[0;34m(\u001b[0m\u001b[0mresult\u001b[0m\u001b[0;34m)\u001b[0m\u001b[0;34m\u001b[0m\u001b[0m\n",
      "\u001b[0;32m/opt/conda/envs/rampwf/lib/python3.6/site-packages/sklearn/externals/joblib/_parallel_backends.py\u001b[0m in \u001b[0;36m__init__\u001b[0;34m(self, batch)\u001b[0m\n\u001b[1;32m    330\u001b[0m         \u001b[0;31m# Don't delay the application, to avoid keeping the input\u001b[0m\u001b[0;34m\u001b[0m\u001b[0;34m\u001b[0m\u001b[0m\n\u001b[1;32m    331\u001b[0m         \u001b[0;31m# arguments in memory\u001b[0m\u001b[0;34m\u001b[0m\u001b[0;34m\u001b[0m\u001b[0m\n\u001b[0;32m--> 332\u001b[0;31m         \u001b[0mself\u001b[0m\u001b[0;34m.\u001b[0m\u001b[0mresults\u001b[0m \u001b[0;34m=\u001b[0m \u001b[0mbatch\u001b[0m\u001b[0;34m(\u001b[0m\u001b[0;34m)\u001b[0m\u001b[0;34m\u001b[0m\u001b[0m\n\u001b[0m\u001b[1;32m    333\u001b[0m \u001b[0;34m\u001b[0m\u001b[0m\n\u001b[1;32m    334\u001b[0m     \u001b[0;32mdef\u001b[0m \u001b[0mget\u001b[0m\u001b[0;34m(\u001b[0m\u001b[0mself\u001b[0m\u001b[0;34m)\u001b[0m\u001b[0;34m:\u001b[0m\u001b[0;34m\u001b[0m\u001b[0m\n",
      "\u001b[0;32m/opt/conda/envs/rampwf/lib/python3.6/site-packages/sklearn/externals/joblib/parallel.py\u001b[0m in \u001b[0;36m__call__\u001b[0;34m(self)\u001b[0m\n\u001b[1;32m    129\u001b[0m \u001b[0;34m\u001b[0m\u001b[0m\n\u001b[1;32m    130\u001b[0m     \u001b[0;32mdef\u001b[0m \u001b[0m__call__\u001b[0m\u001b[0;34m(\u001b[0m\u001b[0mself\u001b[0m\u001b[0;34m)\u001b[0m\u001b[0;34m:\u001b[0m\u001b[0;34m\u001b[0m\u001b[0m\n\u001b[0;32m--> 131\u001b[0;31m         \u001b[0;32mreturn\u001b[0m \u001b[0;34m[\u001b[0m\u001b[0mfunc\u001b[0m\u001b[0;34m(\u001b[0m\u001b[0;34m*\u001b[0m\u001b[0margs\u001b[0m\u001b[0;34m,\u001b[0m \u001b[0;34m**\u001b[0m\u001b[0mkwargs\u001b[0m\u001b[0;34m)\u001b[0m \u001b[0;32mfor\u001b[0m \u001b[0mfunc\u001b[0m\u001b[0;34m,\u001b[0m \u001b[0margs\u001b[0m\u001b[0;34m,\u001b[0m \u001b[0mkwargs\u001b[0m \u001b[0;32min\u001b[0m \u001b[0mself\u001b[0m\u001b[0;34m.\u001b[0m\u001b[0mitems\u001b[0m\u001b[0;34m]\u001b[0m\u001b[0;34m\u001b[0m\u001b[0m\n\u001b[0m\u001b[1;32m    132\u001b[0m \u001b[0;34m\u001b[0m\u001b[0m\n\u001b[1;32m    133\u001b[0m     \u001b[0;32mdef\u001b[0m \u001b[0m__len__\u001b[0m\u001b[0;34m(\u001b[0m\u001b[0mself\u001b[0m\u001b[0;34m)\u001b[0m\u001b[0;34m:\u001b[0m\u001b[0;34m\u001b[0m\u001b[0m\n",
      "\u001b[0;32m/opt/conda/envs/rampwf/lib/python3.6/site-packages/sklearn/externals/joblib/parallel.py\u001b[0m in \u001b[0;36m<listcomp>\u001b[0;34m(.0)\u001b[0m\n\u001b[1;32m    129\u001b[0m \u001b[0;34m\u001b[0m\u001b[0m\n\u001b[1;32m    130\u001b[0m     \u001b[0;32mdef\u001b[0m \u001b[0m__call__\u001b[0m\u001b[0;34m(\u001b[0m\u001b[0mself\u001b[0m\u001b[0;34m)\u001b[0m\u001b[0;34m:\u001b[0m\u001b[0;34m\u001b[0m\u001b[0m\n\u001b[0;32m--> 131\u001b[0;31m         \u001b[0;32mreturn\u001b[0m \u001b[0;34m[\u001b[0m\u001b[0mfunc\u001b[0m\u001b[0;34m(\u001b[0m\u001b[0;34m*\u001b[0m\u001b[0margs\u001b[0m\u001b[0;34m,\u001b[0m \u001b[0;34m**\u001b[0m\u001b[0mkwargs\u001b[0m\u001b[0;34m)\u001b[0m \u001b[0;32mfor\u001b[0m \u001b[0mfunc\u001b[0m\u001b[0;34m,\u001b[0m \u001b[0margs\u001b[0m\u001b[0;34m,\u001b[0m \u001b[0mkwargs\u001b[0m \u001b[0;32min\u001b[0m \u001b[0mself\u001b[0m\u001b[0;34m.\u001b[0m\u001b[0mitems\u001b[0m\u001b[0;34m]\u001b[0m\u001b[0;34m\u001b[0m\u001b[0m\n\u001b[0m\u001b[1;32m    132\u001b[0m \u001b[0;34m\u001b[0m\u001b[0m\n\u001b[1;32m    133\u001b[0m     \u001b[0;32mdef\u001b[0m \u001b[0m__len__\u001b[0m\u001b[0;34m(\u001b[0m\u001b[0mself\u001b[0m\u001b[0;34m)\u001b[0m\u001b[0;34m:\u001b[0m\u001b[0;34m\u001b[0m\u001b[0m\n",
      "\u001b[0;32m/opt/conda/envs/rampwf/lib/python3.6/site-packages/sklearn/model_selection/_validation.py\u001b[0m in \u001b[0;36m_fit_and_score\u001b[0;34m(estimator, X, y, scorer, train, test, verbose, parameters, fit_params, return_train_score, return_parameters, return_n_test_samples, return_times, error_score)\u001b[0m\n\u001b[1;32m    456\u001b[0m             \u001b[0mestimator\u001b[0m\u001b[0;34m.\u001b[0m\u001b[0mfit\u001b[0m\u001b[0;34m(\u001b[0m\u001b[0mX_train\u001b[0m\u001b[0;34m,\u001b[0m \u001b[0;34m**\u001b[0m\u001b[0mfit_params\u001b[0m\u001b[0;34m)\u001b[0m\u001b[0;34m\u001b[0m\u001b[0m\n\u001b[1;32m    457\u001b[0m         \u001b[0;32melse\u001b[0m\u001b[0;34m:\u001b[0m\u001b[0;34m\u001b[0m\u001b[0m\n\u001b[0;32m--> 458\u001b[0;31m             \u001b[0mestimator\u001b[0m\u001b[0;34m.\u001b[0m\u001b[0mfit\u001b[0m\u001b[0;34m(\u001b[0m\u001b[0mX_train\u001b[0m\u001b[0;34m,\u001b[0m \u001b[0my_train\u001b[0m\u001b[0;34m,\u001b[0m \u001b[0;34m**\u001b[0m\u001b[0mfit_params\u001b[0m\u001b[0;34m)\u001b[0m\u001b[0;34m\u001b[0m\u001b[0m\n\u001b[0m\u001b[1;32m    459\u001b[0m \u001b[0;34m\u001b[0m\u001b[0m\n\u001b[1;32m    460\u001b[0m     \u001b[0;32mexcept\u001b[0m \u001b[0mException\u001b[0m \u001b[0;32mas\u001b[0m \u001b[0me\u001b[0m\u001b[0;34m:\u001b[0m\u001b[0;34m\u001b[0m\u001b[0m\n",
      "\u001b[0;32m/opt/conda/envs/rampwf/lib/python3.6/site-packages/sklearn/pipeline.py\u001b[0m in \u001b[0;36mfit\u001b[0;34m(self, X, y, **fit_params)\u001b[0m\n\u001b[1;32m    248\u001b[0m         \u001b[0mXt\u001b[0m\u001b[0;34m,\u001b[0m \u001b[0mfit_params\u001b[0m \u001b[0;34m=\u001b[0m \u001b[0mself\u001b[0m\u001b[0;34m.\u001b[0m\u001b[0m_fit\u001b[0m\u001b[0;34m(\u001b[0m\u001b[0mX\u001b[0m\u001b[0;34m,\u001b[0m \u001b[0my\u001b[0m\u001b[0;34m,\u001b[0m \u001b[0;34m**\u001b[0m\u001b[0mfit_params\u001b[0m\u001b[0;34m)\u001b[0m\u001b[0;34m\u001b[0m\u001b[0m\n\u001b[1;32m    249\u001b[0m         \u001b[0;32mif\u001b[0m \u001b[0mself\u001b[0m\u001b[0;34m.\u001b[0m\u001b[0m_final_estimator\u001b[0m \u001b[0;32mis\u001b[0m \u001b[0;32mnot\u001b[0m \u001b[0;32mNone\u001b[0m\u001b[0;34m:\u001b[0m\u001b[0;34m\u001b[0m\u001b[0m\n\u001b[0;32m--> 250\u001b[0;31m             \u001b[0mself\u001b[0m\u001b[0;34m.\u001b[0m\u001b[0m_final_estimator\u001b[0m\u001b[0;34m.\u001b[0m\u001b[0mfit\u001b[0m\u001b[0;34m(\u001b[0m\u001b[0mXt\u001b[0m\u001b[0;34m,\u001b[0m \u001b[0my\u001b[0m\u001b[0;34m,\u001b[0m \u001b[0;34m**\u001b[0m\u001b[0mfit_params\u001b[0m\u001b[0;34m)\u001b[0m\u001b[0;34m\u001b[0m\u001b[0m\n\u001b[0m\u001b[1;32m    251\u001b[0m         \u001b[0;32mreturn\u001b[0m \u001b[0mself\u001b[0m\u001b[0;34m\u001b[0m\u001b[0m\n\u001b[1;32m    252\u001b[0m \u001b[0;34m\u001b[0m\u001b[0m\n",
      "\u001b[0;32m<ipython-input-97-2090d06bab65>\u001b[0m in \u001b[0;36mfit\u001b[0;34m(self, X, y)\u001b[0m\n\u001b[1;32m     27\u001b[0m         pipe_cv = make_pipeline(StandardScaler(), \n\u001b[1;32m     28\u001b[0m                                 LogisticRegressionCV(n_jobs=8, scoring=\"roc_auc\", random_state=seed))\n\u001b[0;32m---> 29\u001b[0;31m         \u001b[0mpipe_cv\u001b[0m\u001b[0;34m.\u001b[0m\u001b[0mfit\u001b[0m\u001b[0;34m(\u001b[0m\u001b[0mX\u001b[0m\u001b[0;34m,\u001b[0m \u001b[0my\u001b[0m\u001b[0;34m)\u001b[0m\u001b[0;34m\u001b[0m\u001b[0m\n\u001b[0m\u001b[1;32m     30\u001b[0m         \u001b[0mbest_C\u001b[0m \u001b[0;34m=\u001b[0m \u001b[0mpipe_cv\u001b[0m\u001b[0;34m.\u001b[0m\u001b[0mnamed_steps\u001b[0m\u001b[0;34m[\u001b[0m\u001b[0;34m'logisticregressioncv'\u001b[0m\u001b[0;34m]\u001b[0m\u001b[0;34m.\u001b[0m\u001b[0mC_\u001b[0m\u001b[0;34m[\u001b[0m\u001b[0;36m0\u001b[0m\u001b[0;34m]\u001b[0m\u001b[0;34m\u001b[0m\u001b[0m\n\u001b[1;32m     31\u001b[0m         \u001b[0mself\u001b[0m\u001b[0;34m.\u001b[0m\u001b[0mclf\u001b[0m \u001b[0;34m=\u001b[0m \u001b[0mmake_pipeline\u001b[0m\u001b[0;34m(\u001b[0m\u001b[0mStandardScaler\u001b[0m\u001b[0;34m(\u001b[0m\u001b[0;34m)\u001b[0m\u001b[0;34m,\u001b[0m \u001b[0mLogisticRegression\u001b[0m\u001b[0;34m(\u001b[0m\u001b[0mC\u001b[0m\u001b[0;34m=\u001b[0m\u001b[0mbest_C\u001b[0m\u001b[0;34m,\u001b[0m \u001b[0mrandom_state\u001b[0m\u001b[0;34m=\u001b[0m\u001b[0mseed\u001b[0m\u001b[0;34m)\u001b[0m\u001b[0;34m)\u001b[0m\u001b[0;34m\u001b[0m\u001b[0m\n",
      "\u001b[0;32m/opt/conda/envs/rampwf/lib/python3.6/site-packages/sklearn/pipeline.py\u001b[0m in \u001b[0;36mfit\u001b[0;34m(self, X, y, **fit_params)\u001b[0m\n\u001b[1;32m    248\u001b[0m         \u001b[0mXt\u001b[0m\u001b[0;34m,\u001b[0m \u001b[0mfit_params\u001b[0m \u001b[0;34m=\u001b[0m \u001b[0mself\u001b[0m\u001b[0;34m.\u001b[0m\u001b[0m_fit\u001b[0m\u001b[0;34m(\u001b[0m\u001b[0mX\u001b[0m\u001b[0;34m,\u001b[0m \u001b[0my\u001b[0m\u001b[0;34m,\u001b[0m \u001b[0;34m**\u001b[0m\u001b[0mfit_params\u001b[0m\u001b[0;34m)\u001b[0m\u001b[0;34m\u001b[0m\u001b[0m\n\u001b[1;32m    249\u001b[0m         \u001b[0;32mif\u001b[0m \u001b[0mself\u001b[0m\u001b[0;34m.\u001b[0m\u001b[0m_final_estimator\u001b[0m \u001b[0;32mis\u001b[0m \u001b[0;32mnot\u001b[0m \u001b[0;32mNone\u001b[0m\u001b[0;34m:\u001b[0m\u001b[0;34m\u001b[0m\u001b[0m\n\u001b[0;32m--> 250\u001b[0;31m             \u001b[0mself\u001b[0m\u001b[0;34m.\u001b[0m\u001b[0m_final_estimator\u001b[0m\u001b[0;34m.\u001b[0m\u001b[0mfit\u001b[0m\u001b[0;34m(\u001b[0m\u001b[0mXt\u001b[0m\u001b[0;34m,\u001b[0m \u001b[0my\u001b[0m\u001b[0;34m,\u001b[0m \u001b[0;34m**\u001b[0m\u001b[0mfit_params\u001b[0m\u001b[0;34m)\u001b[0m\u001b[0;34m\u001b[0m\u001b[0m\n\u001b[0m\u001b[1;32m    251\u001b[0m         \u001b[0;32mreturn\u001b[0m \u001b[0mself\u001b[0m\u001b[0;34m\u001b[0m\u001b[0m\n\u001b[1;32m    252\u001b[0m \u001b[0;34m\u001b[0m\u001b[0m\n",
      "\u001b[0;32m/opt/conda/envs/rampwf/lib/python3.6/site-packages/sklearn/linear_model/logistic.py\u001b[0m in \u001b[0;36mfit\u001b[0;34m(self, X, y, sample_weight)\u001b[0m\n\u001b[1;32m   1685\u001b[0m                       \u001b[0msample_weight\u001b[0m\u001b[0;34m=\u001b[0m\u001b[0msample_weight\u001b[0m\u001b[0;34m\u001b[0m\u001b[0m\n\u001b[1;32m   1686\u001b[0m                       )\n\u001b[0;32m-> 1687\u001b[0;31m             \u001b[0;32mfor\u001b[0m \u001b[0mlabel\u001b[0m \u001b[0;32min\u001b[0m \u001b[0miter_encoded_labels\u001b[0m\u001b[0;34m\u001b[0m\u001b[0m\n\u001b[0m\u001b[1;32m   1688\u001b[0m             for train, test in folds)\n\u001b[1;32m   1689\u001b[0m \u001b[0;34m\u001b[0m\u001b[0m\n",
      "\u001b[0;32m/opt/conda/envs/rampwf/lib/python3.6/site-packages/sklearn/externals/joblib/parallel.py\u001b[0m in \u001b[0;36m__call__\u001b[0;34m(self, iterable)\u001b[0m\n\u001b[1;32m    787\u001b[0m                 \u001b[0;31m# consumption.\u001b[0m\u001b[0;34m\u001b[0m\u001b[0;34m\u001b[0m\u001b[0m\n\u001b[1;32m    788\u001b[0m                 \u001b[0mself\u001b[0m\u001b[0;34m.\u001b[0m\u001b[0m_iterating\u001b[0m \u001b[0;34m=\u001b[0m \u001b[0;32mFalse\u001b[0m\u001b[0;34m\u001b[0m\u001b[0m\n\u001b[0;32m--> 789\u001b[0;31m             \u001b[0mself\u001b[0m\u001b[0;34m.\u001b[0m\u001b[0mretrieve\u001b[0m\u001b[0;34m(\u001b[0m\u001b[0;34m)\u001b[0m\u001b[0;34m\u001b[0m\u001b[0m\n\u001b[0m\u001b[1;32m    790\u001b[0m             \u001b[0;31m# Make sure that we get a last message telling us we are done\u001b[0m\u001b[0;34m\u001b[0m\u001b[0;34m\u001b[0m\u001b[0m\n\u001b[1;32m    791\u001b[0m             \u001b[0melapsed_time\u001b[0m \u001b[0;34m=\u001b[0m \u001b[0mtime\u001b[0m\u001b[0;34m.\u001b[0m\u001b[0mtime\u001b[0m\u001b[0;34m(\u001b[0m\u001b[0;34m)\u001b[0m \u001b[0;34m-\u001b[0m \u001b[0mself\u001b[0m\u001b[0;34m.\u001b[0m\u001b[0m_start_time\u001b[0m\u001b[0;34m\u001b[0m\u001b[0m\n",
      "\u001b[0;32m/opt/conda/envs/rampwf/lib/python3.6/site-packages/sklearn/externals/joblib/parallel.py\u001b[0m in \u001b[0;36mretrieve\u001b[0;34m(self)\u001b[0m\n\u001b[1;32m    697\u001b[0m             \u001b[0;32mtry\u001b[0m\u001b[0;34m:\u001b[0m\u001b[0;34m\u001b[0m\u001b[0m\n\u001b[1;32m    698\u001b[0m                 \u001b[0;32mif\u001b[0m \u001b[0mgetattr\u001b[0m\u001b[0;34m(\u001b[0m\u001b[0mself\u001b[0m\u001b[0;34m.\u001b[0m\u001b[0m_backend\u001b[0m\u001b[0;34m,\u001b[0m \u001b[0;34m'supports_timeout'\u001b[0m\u001b[0;34m,\u001b[0m \u001b[0;32mFalse\u001b[0m\u001b[0;34m)\u001b[0m\u001b[0;34m:\u001b[0m\u001b[0;34m\u001b[0m\u001b[0m\n\u001b[0;32m--> 699\u001b[0;31m                     \u001b[0mself\u001b[0m\u001b[0;34m.\u001b[0m\u001b[0m_output\u001b[0m\u001b[0;34m.\u001b[0m\u001b[0mextend\u001b[0m\u001b[0;34m(\u001b[0m\u001b[0mjob\u001b[0m\u001b[0;34m.\u001b[0m\u001b[0mget\u001b[0m\u001b[0;34m(\u001b[0m\u001b[0mtimeout\u001b[0m\u001b[0;34m=\u001b[0m\u001b[0mself\u001b[0m\u001b[0;34m.\u001b[0m\u001b[0mtimeout\u001b[0m\u001b[0;34m)\u001b[0m\u001b[0;34m)\u001b[0m\u001b[0;34m\u001b[0m\u001b[0m\n\u001b[0m\u001b[1;32m    700\u001b[0m                 \u001b[0;32melse\u001b[0m\u001b[0;34m:\u001b[0m\u001b[0;34m\u001b[0m\u001b[0m\n\u001b[1;32m    701\u001b[0m                     \u001b[0mself\u001b[0m\u001b[0;34m.\u001b[0m\u001b[0m_output\u001b[0m\u001b[0;34m.\u001b[0m\u001b[0mextend\u001b[0m\u001b[0;34m(\u001b[0m\u001b[0mjob\u001b[0m\u001b[0;34m.\u001b[0m\u001b[0mget\u001b[0m\u001b[0;34m(\u001b[0m\u001b[0;34m)\u001b[0m\u001b[0;34m)\u001b[0m\u001b[0;34m\u001b[0m\u001b[0m\n",
      "\u001b[0;32m/opt/conda/envs/rampwf/lib/python3.6/multiprocessing/pool.py\u001b[0m in \u001b[0;36mget\u001b[0;34m(self, timeout)\u001b[0m\n\u001b[1;32m    636\u001b[0m \u001b[0;34m\u001b[0m\u001b[0m\n\u001b[1;32m    637\u001b[0m     \u001b[0;32mdef\u001b[0m \u001b[0mget\u001b[0m\u001b[0;34m(\u001b[0m\u001b[0mself\u001b[0m\u001b[0;34m,\u001b[0m \u001b[0mtimeout\u001b[0m\u001b[0;34m=\u001b[0m\u001b[0;32mNone\u001b[0m\u001b[0;34m)\u001b[0m\u001b[0;34m:\u001b[0m\u001b[0;34m\u001b[0m\u001b[0m\n\u001b[0;32m--> 638\u001b[0;31m         \u001b[0mself\u001b[0m\u001b[0;34m.\u001b[0m\u001b[0mwait\u001b[0m\u001b[0;34m(\u001b[0m\u001b[0mtimeout\u001b[0m\u001b[0;34m)\u001b[0m\u001b[0;34m\u001b[0m\u001b[0m\n\u001b[0m\u001b[1;32m    639\u001b[0m         \u001b[0;32mif\u001b[0m \u001b[0;32mnot\u001b[0m \u001b[0mself\u001b[0m\u001b[0;34m.\u001b[0m\u001b[0mready\u001b[0m\u001b[0;34m(\u001b[0m\u001b[0;34m)\u001b[0m\u001b[0;34m:\u001b[0m\u001b[0;34m\u001b[0m\u001b[0m\n\u001b[1;32m    640\u001b[0m             \u001b[0;32mraise\u001b[0m \u001b[0mTimeoutError\u001b[0m\u001b[0;34m\u001b[0m\u001b[0m\n",
      "\u001b[0;32m/opt/conda/envs/rampwf/lib/python3.6/multiprocessing/pool.py\u001b[0m in \u001b[0;36mwait\u001b[0;34m(self, timeout)\u001b[0m\n\u001b[1;32m    633\u001b[0m \u001b[0;34m\u001b[0m\u001b[0m\n\u001b[1;32m    634\u001b[0m     \u001b[0;32mdef\u001b[0m \u001b[0mwait\u001b[0m\u001b[0;34m(\u001b[0m\u001b[0mself\u001b[0m\u001b[0;34m,\u001b[0m \u001b[0mtimeout\u001b[0m\u001b[0;34m=\u001b[0m\u001b[0;32mNone\u001b[0m\u001b[0;34m)\u001b[0m\u001b[0;34m:\u001b[0m\u001b[0;34m\u001b[0m\u001b[0m\n\u001b[0;32m--> 635\u001b[0;31m         \u001b[0mself\u001b[0m\u001b[0;34m.\u001b[0m\u001b[0m_event\u001b[0m\u001b[0;34m.\u001b[0m\u001b[0mwait\u001b[0m\u001b[0;34m(\u001b[0m\u001b[0mtimeout\u001b[0m\u001b[0;34m)\u001b[0m\u001b[0;34m\u001b[0m\u001b[0m\n\u001b[0m\u001b[1;32m    636\u001b[0m \u001b[0;34m\u001b[0m\u001b[0m\n\u001b[1;32m    637\u001b[0m     \u001b[0;32mdef\u001b[0m \u001b[0mget\u001b[0m\u001b[0;34m(\u001b[0m\u001b[0mself\u001b[0m\u001b[0;34m,\u001b[0m \u001b[0mtimeout\u001b[0m\u001b[0;34m=\u001b[0m\u001b[0;32mNone\u001b[0m\u001b[0;34m)\u001b[0m\u001b[0;34m:\u001b[0m\u001b[0;34m\u001b[0m\u001b[0m\n",
      "\u001b[0;32m/opt/conda/envs/rampwf/lib/python3.6/threading.py\u001b[0m in \u001b[0;36mwait\u001b[0;34m(self, timeout)\u001b[0m\n\u001b[1;32m    549\u001b[0m             \u001b[0msignaled\u001b[0m \u001b[0;34m=\u001b[0m \u001b[0mself\u001b[0m\u001b[0;34m.\u001b[0m\u001b[0m_flag\u001b[0m\u001b[0;34m\u001b[0m\u001b[0m\n\u001b[1;32m    550\u001b[0m             \u001b[0;32mif\u001b[0m \u001b[0;32mnot\u001b[0m \u001b[0msignaled\u001b[0m\u001b[0;34m:\u001b[0m\u001b[0;34m\u001b[0m\u001b[0m\n\u001b[0;32m--> 551\u001b[0;31m                 \u001b[0msignaled\u001b[0m \u001b[0;34m=\u001b[0m \u001b[0mself\u001b[0m\u001b[0;34m.\u001b[0m\u001b[0m_cond\u001b[0m\u001b[0;34m.\u001b[0m\u001b[0mwait\u001b[0m\u001b[0;34m(\u001b[0m\u001b[0mtimeout\u001b[0m\u001b[0;34m)\u001b[0m\u001b[0;34m\u001b[0m\u001b[0m\n\u001b[0m\u001b[1;32m    552\u001b[0m             \u001b[0;32mreturn\u001b[0m \u001b[0msignaled\u001b[0m\u001b[0;34m\u001b[0m\u001b[0m\n\u001b[1;32m    553\u001b[0m \u001b[0;34m\u001b[0m\u001b[0m\n",
      "\u001b[0;32m/opt/conda/envs/rampwf/lib/python3.6/threading.py\u001b[0m in \u001b[0;36mwait\u001b[0;34m(self, timeout)\u001b[0m\n\u001b[1;32m    293\u001b[0m         \u001b[0;32mtry\u001b[0m\u001b[0;34m:\u001b[0m    \u001b[0;31m# restore state no matter what (e.g., KeyboardInterrupt)\u001b[0m\u001b[0;34m\u001b[0m\u001b[0m\n\u001b[1;32m    294\u001b[0m             \u001b[0;32mif\u001b[0m \u001b[0mtimeout\u001b[0m \u001b[0;32mis\u001b[0m \u001b[0;32mNone\u001b[0m\u001b[0;34m:\u001b[0m\u001b[0;34m\u001b[0m\u001b[0m\n\u001b[0;32m--> 295\u001b[0;31m                 \u001b[0mwaiter\u001b[0m\u001b[0;34m.\u001b[0m\u001b[0macquire\u001b[0m\u001b[0;34m(\u001b[0m\u001b[0;34m)\u001b[0m\u001b[0;34m\u001b[0m\u001b[0m\n\u001b[0m\u001b[1;32m    296\u001b[0m                 \u001b[0mgotit\u001b[0m \u001b[0;34m=\u001b[0m \u001b[0;32mTrue\u001b[0m\u001b[0;34m\u001b[0m\u001b[0m\n\u001b[1;32m    297\u001b[0m             \u001b[0;32melse\u001b[0m\u001b[0;34m:\u001b[0m\u001b[0;34m\u001b[0m\u001b[0m\n",
      "\u001b[0;31mKeyboardInterrupt\u001b[0m: "
     ]
    }
   ],
   "source": [
    "positive_coefficients = np.argsort(coef)\n",
    "negative_coefficients = np.argsort(coef)\n",
    "\n",
    "\n",
    "class _FeatureExtractor(BaseEstimator, TransformerMixin):\n",
    "    \n",
    "    def __init__(self, features):\n",
    "        self.features = features\n",
    "    \n",
    "    def fit(self, X_df, y):                \n",
    "        return self\n",
    "\n",
    "    def transform(self, X_df):\n",
    "        return X_df[self.features]\n",
    "\n",
    "    \n",
    "def _evaluation(X, y, features):\n",
    "    pipe = make_pipeline(_FeatureExtractor(features), Classifier())\n",
    "    cv = StratifiedShuffleSplit(n_splits=10, test_size=0.5, random_state=42).split(X, y)\n",
    "    results = cross_validate(pipe, X, y, scoring=['roc_auc', 'accuracy'], cv=cv,\n",
    "                             verbose=1, return_train_score=True,\n",
    "                             n_jobs=1)\n",
    "    \n",
    "    return results\n",
    "\n",
    "\n",
    "def score(params):\n",
    "    num_features = params['num_features']\n",
    "    \n",
    "    print(\"Trial: num_features: {}\".format(num_features), end=\" -> \")\n",
    "    \n",
    "    n_top_features = num_features\n",
    "    positive_coefficients_ = positive_coefficients[-n_top_features:]\n",
    "    negative_coefficients_ = negative_coefficients[:n_top_features]\n",
    "    interesting_coefficients = np.hstack([negative_coefficients_, positive_coefficients_])\n",
    "    topk_2xfeature_names = np.array(poly_cols)[interesting_coefficients].tolist()\n",
    "        \n",
    "    results = _evaluation(data_train, labels_train, topk_2xfeature_names + topk_feature_names)\n",
    "    roc = np.mean(results['test_roc_auc']) \n",
    "    acc = np.mean(results['test_accuracy'])\n",
    "    res = roc + acc\n",
    "    print(\"Score: roc = {} | acc = {}\".format(roc, acc))\n",
    "    return {'loss': 2.0 - res, 'status': STATUS_OK}\n",
    "    \n",
    "    \n",
    "def get_num_features():\n",
    "    return hp.randint('num_features', 750) + 150\n",
    "    \n",
    "    \n",
    "def optimize(trials, max_evals):\n",
    "    params = {'num_features': get_num_features()}\n",
    "    best = fmin(score, params, algo=tpe.suggest, trials=trials, max_evals=max_evals)    \n",
    "    return best\n",
    "\n",
    "\n",
    "trials = Trials()\n",
    "best_num_features = optimize(trials, max_evals=50)\n",
    "best_num_features"
   ]
  },
  {
   "cell_type": "code",
   "execution_count": 119,
   "metadata": {},
   "outputs": [
    {
     "name": "stdout",
     "output_type": "stream",
     "text": [
      "1644\n",
      "Training score ROC-AUC: 1.000 +- 0.000\n",
      "Validation score ROC-AUC: 0.789 +- 0.015 \n",
      "\n",
      "Training score accuracy: 1.000 +- 0.000\n",
      "Validation score accuracy: 0.717 +- 0.017\n"
     ]
    },
    {
     "name": "stderr",
     "output_type": "stream",
     "text": [
      "[Parallel(n_jobs=1)]: Done  10 out of  10 | elapsed:   26.0s finished\n"
     ]
    }
   ],
   "source": [
    "best_num_features = 822\n",
    "\n",
    "n_top_features = best_num_features\n",
    "positive_coefficients = np.argsort(coef)[-n_top_features:]\n",
    "negative_coefficients = np.argsort(coef)[:n_top_features]\n",
    "interesting_coefficients = np.hstack([negative_coefficients, positive_coefficients])\n",
    "topk_2xfeature_names = np.array(poly_cols)[interesting_coefficients].tolist()\n",
    "print(len(topk_2xfeature_names))\n",
    "\n",
    "class FeatureExtractor(BaseEstimator, TransformerMixin):\n",
    "    def fit(self, X_df, y):                \n",
    "        return self\n",
    "\n",
    "    def transform(self, X_df):\n",
    "        return X_df[topk_2xfeature_names + topk_feature_names]\n",
    "\n",
    "\n",
    "results = evaluation(data_train, labels_train)\n",
    "\n",
    "print(\"Training score ROC-AUC: {:.3f} +- {:.3f}\".format(np.mean(results['train_roc_auc']),\n",
    "                                                        np.std(results['train_roc_auc'])))\n",
    "print(\"Validation score ROC-AUC: {:.3f} +- {:.3f} \\n\".format(np.mean(results['test_roc_auc']),\n",
    "                                                          np.std(results['test_roc_auc'])))\n",
    "\n",
    "print(\"Training score accuracy: {:.3f} +- {:.3f}\".format(np.mean(results['train_accuracy']),\n",
    "                                                         np.std(results['train_accuracy'])))\n",
    "print(\"Validation score accuracy: {:.3f} +- {:.3f}\".format(np.mean(results['test_accuracy']),\n",
    "                                                           np.std(results['test_accuracy'])))"
   ]
  },
  {
   "cell_type": "code",
   "execution_count": null,
   "metadata": {},
   "outputs": [],
   "source": []
  },
  {
   "cell_type": "code",
   "execution_count": null,
   "metadata": {},
   "outputs": [],
   "source": []
  },
  {
   "cell_type": "markdown",
   "metadata": {},
   "source": [
    "## Test size = 0.5\n",
    "\n",
    "### Anatomy + Participant\n",
    "\n",
    "715\n",
    "```\n",
    "Training score ROC-AUC: 1.000 +- 0.000\n",
    "Validation score ROC-AUC: 0.785 +- 0.016 \n",
    "\n",
    "Training score accuracy: 1.000 +- 0.000\n",
    "Validation score accuracy: 0.711 +- 0.018\n",
    "```\n",
    "\n",
    "\n",
    "700\n",
    "```\n",
    "Training score ROC-AUC: 1.000 +- 0.000\n",
    "Validation score ROC-AUC: 0.788 +- 0.015 \n",
    "\n",
    "Training score accuracy: 1.000 +- 0.000\n",
    "Validation score accuracy: 0.711 +- 0.015\n",
    "```\n",
    "\n",
    "650\n",
    "```\n",
    "Training score ROC-AUC: 1.000 +- 0.000\n",
    "Validation score ROC-AUC: 0.785 +- 0.016 \n",
    "\n",
    "Training score accuracy: 1.000 +- 0.000\n",
    "Validation score accuracy: 0.710 +- 0.017\n",
    "```\n",
    "\n",
    "\n",
    "625\n",
    "```\n",
    "Training score ROC-AUC: 1.000 +- 0.000\n",
    "Validation score ROC-AUC: 0.784 +- 0.017 \n",
    "\n",
    "Training score accuracy: 1.000 +- 0.000\n",
    "Validation score accuracy: 0.714 +- 0.017\n",
    "```\n",
    "\n",
    "\n",
    "600\n",
    "```\n",
    "Training score ROC-AUC: 1.000 +- 0.000\n",
    "Validation score ROC-AUC: 0.787 +- 0.017 \n",
    "\n",
    "Training score accuracy: 1.000 +- 0.000\n",
    "Validation score accuracy: 0.718 +- 0.017\n",
    "```\n",
    "\n",
    "\n",
    "575\n",
    "```\n",
    "Training score ROC-AUC: 1.000 +- 0.000\n",
    "Validation score ROC-AUC: 0.786 +- 0.016 \n",
    "\n",
    "Training score accuracy: 1.000 +- 0.000\n",
    "Validation score accuracy: 0.715 +- 0.015\n",
    "```\n",
    "\n",
    "\n",
    "550\n",
    "```\n",
    "Training score ROC-AUC: 1.000 +- 0.000\n",
    "Validation score ROC-AUC: 0.784 +- 0.012 \n",
    "\n",
    "Training score accuracy: 1.000 +- 0.000\n",
    "Validation score accuracy: 0.713 +- 0.010\n",
    "```\n",
    "\n",
    "500\n",
    "```\n",
    "Training score ROC-AUC: 1.000 +- 0.000\n",
    "Validation score ROC-AUC: 0.785 +- 0.013 \n",
    "\n",
    "Training score accuracy: 1.000 +- 0.000\n",
    "Validation score accuracy: 0.712 +- 0.017\n",
    "```\n",
    "\n",
    "450\n",
    "```\n",
    "Training score ROC-AUC: 1.000 +- 0.000\n",
    "Validation score ROC-AUC: 0.785 +- 0.015 \n",
    "\n",
    "Training score accuracy: 1.000 +- 0.000\n",
    "Validation score accuracy: 0.709 +- 0.020\n",
    "```\n",
    "\n",
    "\n",
    "250\n",
    "```\n",
    "Training score ROC-AUC: 0.998 +- 0.005\n",
    "Validation score ROC-AUC: 0.756 +- 0.014 \n",
    "\n",
    "Training score accuracy: 0.994 +- 0.019\n",
    "Validation score accuracy: 0.691 +- 0.019\n",
    "```\n",
    "\n",
    "\n",
    "\n",
    "120\n",
    "```\n",
    "Training score ROC-AUC: 0.989 +- 0.020\n",
    "Validation score ROC-AUC: 0.739 +- 0.019 \n",
    "\n",
    "Training score accuracy: 0.969 +- 0.046\n",
    "Validation score accuracy: 0.677 +- 0.017\n",
    "```"
   ]
  },
  {
   "cell_type": "markdown",
   "metadata": {},
   "source": [
    "## Test size = 0.2\n",
    "\n",
    "#### Anatomy + Participant\n",
    "\n",
    "715\n",
    "```\n",
    "Training score ROC-AUC: 1.000 +- 0.000\n",
    "Validation score ROC-AUC: 0.899 +- 0.018 \n",
    "\n",
    "Training score accuracy: 1.000 +- 0.000\n",
    "Validation score accuracy: 0.812 +- 0.021\n",
    "```\n",
    "\n",
    "\n",
    "700\n",
    "```\n",
    "Training score ROC-AUC: 1.000 +- 0.000\n",
    "Validation score ROC-AUC: 0.899 +- 0.018 \n",
    "\n",
    "Training score accuracy: 1.000 +- 0.000\n",
    "Validation score accuracy: 0.820 +- 0.021\n",
    "```\n",
    "\n",
    "695\n",
    "```\n",
    "Training score ROC-AUC: 1.000 +- 0.000\n",
    "Validation score ROC-AUC: 0.896 +- 0.017 \n",
    "\n",
    "Training score accuracy: 1.000 +- 0.000\n",
    "Validation score accuracy: 0.811 +- 0.022\n",
    "```\n",
    "\n",
    "\n",
    "675\n",
    "```\n",
    "Training score ROC-AUC: 1.000 +- 0.000\n",
    "Validation score ROC-AUC: 0.895 +- 0.018 \n",
    "\n",
    "Training score accuracy: 1.000 +- 0.000\n",
    "Validation score accuracy: 0.820 +- 0.020\n",
    "```\n",
    "\n",
    "\n",
    "650\n",
    "```\n",
    "Training score ROC-AUC: 1.000 +- 0.000\n",
    "Validation score ROC-AUC: 0.892 +- 0.017 \n",
    "\n",
    "Training score accuracy: 1.000 +- 0.000\n",
    "Validation score accuracy: 0.821 +- 0.020\n",
    "```\n",
    "\n",
    "\n",
    "625\n",
    "```\n",
    "Training score ROC-AUC: 1.000 +- 0.000\n",
    "Validation score ROC-AUC: 0.891 +- 0.016 \n",
    "\n",
    "Training score accuracy: 1.000 +- 0.000\n",
    "Validation score accuracy: 0.820 +- 0.021\n",
    "```\n",
    "\n",
    "\n",
    "500\n",
    "```\n",
    "Training score ROC-AUC: 1.000 +- 0.000\n",
    "Validation score ROC-AUC: 0.884 +- 0.017 \n",
    "\n",
    "Training score accuracy: 1.000 +- 0.000\n",
    "Validation score accuracy: 0.819 +- 0.020\n",
    "```\n",
    "\n",
    "\n",
    "150\n",
    "```\n",
    "Training score ROC-AUC: 0.982 +- 0.015\n",
    "Validation score ROC-AUC: 0.797 +- 0.014 \n",
    "\n",
    "Training score accuracy: 0.935 +- 0.032\n",
    "Validation score accuracy: 0.712 +- 0.022\n",
    "```\n"
   ]
  },
  {
   "cell_type": "markdown",
   "metadata": {},
   "source": [
    "#### Anatomy only\n",
    "\n",
    "650\n",
    "```\n",
    "Training score ROC-AUC: 1.000 +- 0.000\n",
    "Validation score ROC-AUC: 0.892 +- 0.024 \n",
    "\n",
    "Training score accuracy: 1.000 +- 0.000\n",
    "Validation score accuracy: 0.822 +- 0.022\n",
    "```\n",
    "\n",
    "\n",
    "600\n",
    "```\n",
    "Training score ROC-AUC: 1.000 +- 0.000\n",
    "Validation score ROC-AUC: 0.889 +- 0.024 \n",
    "\n",
    "Training score accuracy: 1.000 +- 0.000\n",
    "Validation score accuracy: 0.810 +- 0.029\n",
    "```\n",
    "\n",
    "\n",
    "500\n",
    "```\n",
    "Training score ROC-AUC: 1.000 +- 0.000\n",
    "Validation score ROC-AUC: 0.886 +- 0.020 \n",
    "\n",
    "Training score accuracy: 1.000 +- 0.000\n",
    "Validation score accuracy: 0.802 +- 0.020\n",
    "```\n",
    "\n",
    "\n",
    "400\n",
    "```\n",
    "Training score ROC-AUC: 1.000 +- 0.000\n",
    "Validation score ROC-AUC: 0.876 +- 0.020 \n",
    "\n",
    "Training score accuracy: 1.000 +- 0.000\n",
    "Validation score accuracy: 0.799 +- 0.024\n",
    "```\n",
    "\n",
    "\n",
    "300\n",
    "```\n",
    "Training score ROC-AUC: 1.000 +- 0.000\n",
    "Validation score ROC-AUC: 0.853 +- 0.022 \n",
    "\n",
    "Training score accuracy: 1.000 +- 0.000\n",
    "Validation score accuracy: 0.769 +- 0.023\n",
    "```\n",
    "\n",
    "\n",
    "100\n",
    "```\n",
    "Training score ROC-AUC: 0.945 +- 0.014\n",
    "Validation score ROC-AUC: 0.754 +- 0.019 \n",
    "\n",
    "Training score accuracy: 0.873 +- 0.016\n",
    "Validation score accuracy: 0.685 +- 0.023\n",
    "```\n",
    "\n",
    "\n",
    "baseline 1x features:\n",
    "```\n",
    "Training score ROC-AUC: 0.819 +- 0.004\n",
    "Validation score ROC-AUC: 0.741 +- 0.018 \n",
    "\n",
    "Training score accuracy: 0.744 +- 0.008\n",
    "Validation score accuracy: 0.676 +- 0.018\n",
    "```"
   ]
  },
  {
   "cell_type": "code",
   "execution_count": 66,
   "metadata": {},
   "outputs": [
    {
     "data": {
      "text/plain": [
       "(82, 1300)"
      ]
     },
     "execution_count": 66,
     "metadata": {},
     "output_type": "execute_result"
    }
   ],
   "source": [
    "len(topk_feature_names), len(topk_2xfeature_names)"
   ]
  },
  {
   "cell_type": "markdown",
   "metadata": {},
   "source": [
    "Check coeff importance:"
   ]
  },
  {
   "cell_type": "code",
   "execution_count": 67,
   "metadata": {},
   "outputs": [],
   "source": [
    "pipe = make_pipeline(FeatureExtractor(), Classifier())"
   ]
  },
  {
   "cell_type": "code",
   "execution_count": 68,
   "metadata": {},
   "outputs": [
    {
     "data": {
      "text/plain": [
       "Pipeline(memory=None,\n",
       "     steps=[('featureextractor', FeatureExtractor()), ('classifier', Classifier())])"
      ]
     },
     "execution_count": 68,
     "metadata": {},
     "output_type": "execute_result"
    }
   ],
   "source": [
    "pipe.fit(data_train, labels_train)"
   ]
  },
  {
   "cell_type": "code",
   "execution_count": 69,
   "metadata": {},
   "outputs": [],
   "source": [
    "log_reg = pipe.named_steps['classifier'].clf.named_steps['logisticregression']"
   ]
  },
  {
   "cell_type": "code",
   "execution_count": 84,
   "metadata": {},
   "outputs": [
    {
     "data": {
      "image/png": "[encoded data removed]",
      "text/plain": [
       "<Figure size 1080x360 with 1 Axes>"
      ]
     },
     "metadata": {},
     "output_type": "display_data"
    }
   ],
   "source": [
    "visualize_coefficients(log_reg, feature_names=None, n_top_features=680)"
   ]
  },
  {
   "cell_type": "code",
   "execution_count": null,
   "metadata": {},
   "outputs": [],
   "source": []
  },
  {
   "cell_type": "code",
   "execution_count": 123,
   "metadata": {},
   "outputs": [
    {
     "data": {
      "text/plain": [
       "1644"
      ]
     },
     "execution_count": 123,
     "metadata": {},
     "output_type": "execute_result"
    }
   ],
   "source": [
    "len(topk_2xfeature_names)"
   ]
  },
  {
   "cell_type": "code",
   "execution_count": 124,
   "metadata": {},
   "outputs": [
    {
     "name": "stdout",
     "output_type": "stream",
     "text": [
      "[\"anatomy_Right-Inf-Lat-Vent anatomy_CC_Mid_Posterior\", \"anatomy_non-WM-hypointensities anatomy_Optic-Chiasm\", \"anatomy_Left-vessel anatomy_CC_Mid_Posterior\", \"anatomy_Left-Inf-Lat-Vent anatomy_CC_Mid_Posterior\", \"anatomy_rh_bankssts_area anatomy_Left-Inf-Lat-Vent\", \"anatomy_rh_pericalcarine_area anatomy_Left-Accumbens-area\", \"anatomy_WM-hypointensities participants_sex\", \"anatomy_lh_temporalpole_thickness anatomy_Optic-Chiasm\", \"anatomy_lh_pericalcarine_area anatomy_Right-Inf-Lat-Vent\", \"anatomy_lh_caudalmiddlefrontal_area anatomy_4th-Ventricle\", \"anatomy_rh_caudalmiddlefrontal_area anatomy_4th-Ventricle\", \"anatomy_lh_pericalcarine_area anatomy_Left-Accumbens-area\", \"anatomy_Left-choroid-plexus anatomy_Right-Accumbens-area\", \"anatomy_rh_entorhinal_area anatomy_CSF\", \"anatomy_rh_caudalanteriorcingulate_area anatomy_CC_Mid_Anterior\", \"anatomy_3rd-Ventricle anatomy_Left-vessel\", \"anatomy_Right-vessel anatomy_rhSurfaceHoles\", \"anatomy_Right-Lateral-Ventricle anatomy_Right-vessel\", \"anatomy_rh_frontalpole_area participants_sex\", \"anatomy_lh_supramarginal_area participants_sex\", \"participants_sex participants_age\", \"anatomy_rh_cuneus_area anatomy_Left-Accumbens-area\", \"anatomy_lh_supramarginal_area anatomy_lhSurfaceHoles\", \"anatomy_Right-Lateral-Ventricle anatomy_CC_Mid_Posterior\", \"anatomy_rh_temporalpole_thickness anatomy_Optic-Chiasm\", \"anatomy_4th-Ventricle anatomy_Right-Pallidum\", \"anatomy_Optic-Chiasm participants_age\", \"anatomy_lh_inferiorparietal_area anatomy_Left-vessel\", \"anatomy_Optic-Chiasm anatomy_rhSurfaceHoles\", \"anatomy_lhSurfaceHoles participants_sex\", \"anatomy_lh_pericalcarine_area anatomy_Left-vessel\", \"anatomy_lh_bankssts_area anatomy_Left-Inf-Lat-Vent\", \"anatomy_rh_caudalmiddlefrontal_area anatomy_rh_entorhinal_area\", \"anatomy_rh_lingual_area anatomy_Left-Accumbens-area\", \"anatomy_lh_supramarginal_area anatomy_SurfaceHoles\", \"anatomy_rh_temporalpole_area anatomy_Optic-Chiasm\", \"anatomy_lh_inferiorparietal_area anatomy_Left-Inf-Lat-Vent\", \"anatomy_non-WM-hypointensities participants_age\", \"anatomy_Left-vessel anatomy_CC_Posterior\", \"anatomy_Left-Accumbens-area anatomy_CC_Anterior\", \"anatomy_rh_frontalpole_area anatomy_Right-Cerebellum-White-Matter\", \"anatomy_lh_lingual_area anatomy_Left-vessel\", \"anatomy_lh_caudalanteriorcingulate_area anatomy_MaskVol-to-eTIV\", \"anatomy_rh_inferiorparietal_area anatomy_Left-vessel\", \"anatomy_lh_inferiorparietal_area anatomy_rh_pericalcarine_thickness\", \"anatomy_rh_insula_area anatomy_Right-Lateral-Ventricle\", \"anatomy_rh_paracentral_area participants_age\", \"anatomy_lh_supramarginal_area participants_age\", \"anatomy_lh_entorhinal_area anatomy_rh_caudalmiddlefrontal_area\", \"anatomy_lh_supramarginal_area anatomy_rhSurfaceHoles\", \"anatomy_lh_supramarginal_area anatomy_CC_Anterior\", \"anatomy_rh_rostralanteriorcingulate_area anatomy_Optic-Chiasm\", \"anatomy_lh_entorhinal_area anatomy_lh_precentral_area\", \"anatomy_lh_pericalcarine_area anatomy_rh_transversetemporal_thickness\", \"anatomy_Left-Pallidum anatomy_4th-Ventricle\", \"anatomy_rh_cuneus_area anatomy_rh_entorhinal_area\", \"anatomy_rh_paracentral_area anatomy_lh_entorhinal_thickness\", \"anatomy_lh_inferiortemporal_area anatomy_Left-vessel\", \"anatomy_Right-Cerebellum-Cortex anatomy_Optic-Chiasm\", \"anatomy_rh_pericalcarine_area anatomy_Left-choroid-plexus\", \"anatomy_lh_frontalpole_thickness anatomy_Left-choroid-plexus\", \"anatomy_lh_supramarginal_area anatomy_CC_Mid_Anterior\", \"anatomy_rh_rostralanteriorcingulate_area anatomy_Left-Accumbens-area\", \"anatomy_rh_cuneus_area anatomy_Left-choroid-plexus\", \"anatomy_rh_parahippocampal_thickness anatomy_Right-Inf-Lat-Vent\", \"anatomy_SurfaceHoles participants_sex\", \"anatomy_4th-Ventricle anatomy_Right-choroid-plexus\", \"anatomy_Right-Pallidum anatomy_Right-choroid-plexus\", \"anatomy_rh_entorhinal_area anatomy_Optic-Chiasm\", \"anatomy_lh_entorhinal_area anatomy_Right-vessel\", \"anatomy_CSF anatomy_Right-Putamen\", \"anatomy_rh_caudalanteriorcingulate_area anatomy_Left-Accumbens-area\", \"anatomy_lh_supramarginal_area anatomy_CC_Posterior\", \"anatomy_rh_frontalpole_area anatomy_Left-Cerebellum-White-Matter\", \"anatomy_lh_temporalpole_area anatomy_rh_precuneus_area\", \"anatomy_Left-vessel anatomy_Right-choroid-plexus\", \"anatomy_rh_parsopercularis_area anatomy_CC_Mid_Anterior\", \"anatomy_lh_entorhinal_area anatomy_lh_postcentral_area\", \"anatomy_lh_caudalmiddlefrontal_area anatomy_Left-Lateral-Ventricle\", \"anatomy_rh_caudalanteriorcingulate_area anatomy_rh_parsorbitalis_area\", \"anatomy_lh_bankssts_area anatomy_lh_caudalmiddlefrontal_area\", \"anatomy_lh_pericalcarine_area anatomy_Right-Accumbens-area\", \"anatomy_rh_parsorbitalis_area anatomy_Left-Inf-Lat-Vent\", \"anatomy_lh_cuneus_thickness anatomy_CC_Mid_Posterior\", \"anatomy_lh_parsopercularis_area anatomy_lh_posteriorcingulate_area\", \"anatomy_rh_rostralanteriorcingulate_area anatomy_Left-Inf-Lat-Vent\", \"anatomy_CSF anatomy_Right-Amygdala\", \"anatomy_lh_medialorbitofrontal_area anatomy_lh_cuneus_thickness\", \"anatomy_Left-Amygdala anatomy_CSF\", \"anatomy_Left-Inf-Lat-Vent anatomy_5th-Ventricle\", \"anatomy_Left-vessel anatomy_Optic-Chiasm\", \"anatomy_3rd-Ventricle participants_age\", \"anatomy_3rd-Ventricle anatomy_CC_Mid_Posterior\", \"anatomy_lh_frontalpole_thickness anatomy_Right-Inf-Lat-Vent\", \"anatomy_CC_Mid_Posterior participants_age\", \"anatomy_3rd-Ventricle anatomy_Right-Amygdala\", \"anatomy_lh_entorhinal_area anatomy_Right-Caudate\", \"anatomy_lh_parsorbitalis_thickness participants_sex\", \"anatomy_rh_parsopercularis_area anatomy_Left-Hippocampus\", \"anatomy_Right-vessel anatomy_CC_Mid_Posterior\", \"anatomy_Left-Thalamus-Proper participants_age\", \"anatomy_lh_frontalpole_area anatomy_CC_Mid_Posterior\", \"anatomy_Right-vessel anatomy_CC_Anterior\", \"anatomy_lh_frontalpole_thickness anatomy_Left-Inf-Lat-Vent\", \"anatomy_Left-Accumbens-area anatomy_Right-Cerebellum-Cortex\", \"anatomy_lh_temporalpole_area anatomy_rh_cuneus_area\", \"anatomy_lh_entorhinal_area anatomy_lh_temporalpole_area\", \"anatomy_lh_entorhinal_area anatomy_rh_lateralorbitofrontal_area\", \"anatomy_rh_parsopercularis_area anatomy_Brain-Stem\", \"anatomy_Left-Putamen anatomy_CSF\", \"anatomy_Left-Accumbens-area anatomy_Left-vessel\", \"anatomy_rh_entorhinal_area anatomy_rh_isthmuscingulate_thickness\", \"anatomy_lh_parstriangularis_area anatomy_4th-Ventricle\", \"anatomy_lh_transversetemporal_thickness anatomy_Left-Hippocampus\", \"anatomy_CC_Central anatomy_lhSurfaceHoles\", \"anatomy_rh_parsorbitalis_area anatomy_Left-choroid-plexus\", \"anatomy_lh_rostralanteriorcingulate_area participants_age\", \"anatomy_lh_bankssts_area anatomy_lh_paracentral_area\", \"anatomy_rh_caudalanteriorcingulate_area anatomy_Right-choroid-plexus\", \"anatomy_CC_Central anatomy_SurfaceHoles\", \"anatomy_rh_temporalpole_area participants_age\", \"anatomy_lh_lingual_area anatomy_lh_transversetemporal_area\", \"anatomy_rh_transversetemporal_thickness anatomy_Optic-Chiasm\", \"anatomy_rh_lingual_area anatomy_rh_transversetemporal_thickness\", \"anatomy_rh_pericalcarine_area anatomy_rh_entorhinal_thickness\", \"anatomy_rh_lateralorbitofrontal_thickness anatomy_Optic-Chiasm\", \"anatomy_lh_isthmuscingulate_thickness anatomy_Right-Inf-Lat-Vent\", \"anatomy_rh_paracentral_area anatomy_lh_temporalpole_thickness\", \"anatomy_Left-Cerebellum-Cortex anatomy_Left-Accumbens-area\", \"anatomy_lh_isthmuscingulate_area anatomy_non-WM-hypointensities\", \"anatomy_Left-Lateral-Ventricle anatomy_CC_Mid_Posterior\", \"anatomy_Right-Thalamus-Proper anatomy_CC_Posterior\", \"anatomy_CC_Central participants_age\", \"anatomy_rh_isthmuscingulate_thickness anatomy_Right-vessel\", \"anatomy_CC_Central anatomy_rhSurfaceHoles\", \"anatomy_lh_precuneus_area anatomy_rh_frontalpole_thickness\", \"anatomy_rh_cuneus_area anatomy_Right-Accumbens-area\", \"anatomy_Left-Thalamus-Proper anatomy_CC_Posterior\", \"anatomy_Left-vessel anatomy_Right-Lateral-Ventricle\", \"anatomy_lh_frontalpole_thickness anatomy_Left-Lateral-Ventricle\", \"anatomy_Left-choroid-plexus anatomy_Right-Inf-Lat-Vent\", \"anatomy_rh_caudalanteriorcingulate_thickness anatomy_Right-Amygdala\", \"anatomy_lh_lateraloccipital_area anatomy_Left-Putamen\", \"anatomy_lh_caudalanteriorcingulate_area anatomy_MaskVol\", \"anatomy_Right-vessel anatomy_SurfaceHoles\", \"anatomy_3rd-Ventricle anatomy_Right-Pallidum\", \"anatomy_lh_entorhinal_area anatomy_rhSurfaceHoles\", \"anatomy_rh_isthmuscingulate_area anatomy_Right-Lateral-Ventricle\", \"anatomy_lh_superiorfrontal_area anatomy_4th-Ventricle\", \"anatomy_rh_isthmuscingulate_thickness anatomy_CC_Central\", \"anatomy_rh_parsorbitalis_thickness anatomy_Left-Inf-Lat-Vent\", \"anatomy_rhSurfaceHoles participants_age\", \"anatomy_lh_superiorparietal_area anatomy_rh_posteriorcingulate_thickness\", \"anatomy_rh_lateraloccipital_area anatomy_Left-vessel\", \"anatomy_rh_pericalcarine_area anatomy_Right-Accumbens-area\", \"anatomy_lh_supramarginal_area anatomy_CC_Central\", \"anatomy_rh_parstriangularis_area participants_sex\", \"anatomy_lh_isthmuscingulate_area anatomy_Left-vessel\", \"anatomy_lh_entorhinal_thickness anatomy_3rd-Ventricle\", \"anatomy_lh_paracentral_area anatomy_3rd-Ventricle\", \"anatomy_rh_lateralorbitofrontal_area anatomy_Left-Inf-Lat-Vent\", \"anatomy_rh_superiorfrontal_area anatomy_4th-Ventricle\", \"anatomy_rh_lateraloccipital_area anatomy_CC_Mid_Posterior\", \"anatomy_lh_parstriangularis_area anatomy_3rd-Ventricle\", \"anatomy_rh_rostralmiddlefrontal_area anatomy_Right-choroid-plexus\", \"anatomy_rh_precentral_area anatomy_4th-Ventricle\", \"anatomy_lh_rostralanteriorcingulate_thickness anatomy_Right-vessel\", \"anatomy_Left-vessel anatomy_5th-Ventricle\", \"anatomy_4th-Ventricle anatomy_5th-Ventricle\", \"anatomy_rh_pericalcarine_area anatomy_Right-Inf-Lat-Vent\", \"anatomy_lh_precentral_area anatomy_rh_entorhinal_area\", \"anatomy_lh_rostralmiddlefrontal_area anatomy_MaskVol-to-eTIV\", \"anatomy_lh_frontalpole_thickness anatomy_Right-choroid-plexus\", \"anatomy_lh_pericalcarine_area anatomy_lhSurfaceHoles\", \"anatomy_lh_caudalanteriorcingulate_area anatomy_rh_entorhinal_thickness\", \"anatomy_rh_parsopercularis_area anatomy_Right-Pallidum\", \"anatomy_lh_rostralanteriorcingulate_area anatomy_rh_cuneus_area\", \"anatomy_Left-Thalamus-Proper anatomy_Optic-Chiasm\", \"anatomy_Optic-Chiasm anatomy_SurfaceHoles\", \"anatomy_lh_caudalmiddlefrontal_area anatomy_Left-choroid-plexus\", \"anatomy_Left-vessel anatomy_Right-Accumbens-area\", \"anatomy_rh_caudalanteriorcingulate_thickness anatomy_rh_parsorbitalis_thickness\", \"anatomy_Right-Accumbens-area anatomy_Right-choroid-plexus\", \"anatomy_Left-vessel participants_sex\", \"anatomy_4th-Ventricle anatomy_CC_Central\", \"anatomy_rh_bankssts_thickness anatomy_CC_Central\", \"anatomy_lh_entorhinal_area anatomy_SurfaceHoles\", \"anatomy_rh_lingual_area anatomy_Right-Accumbens-area\", \"anatomy_lh_cuneus_area anatomy_Left-vessel\", \"anatomy_lh_bankssts_area anatomy_rh_superiorfrontal_area\", \"anatomy_rhSurfaceHoles participants_sex\", \"anatomy_rh_caudalanteriorcingulate_area anatomy_CC_Anterior\", \"anatomy_rh_inferiortemporal_area anatomy_Left-vessel\", \"anatomy_rh_superiorfrontal_area participants_sex\", \"anatomy_lh_precuneus_area participants_sex\", \"anatomy_lh_caudalanteriorcingulate_area anatomy_lh_transversetemporal_thickness\", \"anatomy_rh_caudalmiddlefrontal_area anatomy_lh_entorhinal_thickness\", \"anatomy_lh_transversetemporal_area anatomy_Right-Inf-Lat-Vent\", \"anatomy_lh_superiorparietal_area anatomy_Left-choroid-plexus\", \"anatomy_rh_postcentral_area anatomy_Left-vessel\", \"anatomy_lh_frontalpole_thickness anatomy_Right-Lateral-Ventricle\", \"anatomy_Right-Inf-Lat-Vent anatomy_CC_Anterior\", \"anatomy_rh_medialorbitofrontal_area anatomy_Left-vessel\", \"anatomy_lh_rostralmiddlefrontal_area anatomy_4th-Ventricle\", \"anatomy_lh_postcentral_area participants_sex\", \"anatomy_lh_isthmuscingulate_area anatomy_rh_bankssts_thickness\", \"anatomy_Right-Pallidum anatomy_Optic-Chiasm\", \"anatomy_rh_entorhinal_area anatomy_rh_parsopercularis_area\", \"anatomy_lh_temporalpole_area anatomy_rh_pericalcarine_area\", \"anatomy_Left-Inf-Lat-Vent anatomy_Right-Caudate\", \"anatomy_lh_parahippocampal_thickness anatomy_Optic-Chiasm\", \"anatomy_rh_parahippocampal_thickness anatomy_Right-vessel\", \"anatomy_rh_lateralorbitofrontal_area anatomy_3rd-Ventricle\", \"anatomy_lh_bankssts_area anatomy_rh_frontalpole_thickness\", \"anatomy_lh_pericalcarine_area anatomy_rh_inferiorparietal_area\", \"anatomy_rh_parahippocampal_area anatomy_lh_frontalpole_thickness\", \"anatomy_4th-Ventricle anatomy_Right-Amygdala\", \"anatomy_rh_inferiorparietal_area anatomy_CC_Posterior\", \"anatomy_lh_inferiorparietal_area anatomy_lh_pericalcarine_area\", \"anatomy_lh_lingual_area anatomy_Left-Accumbens-area\", \"anatomy_rh_caudalanteriorcingulate_area anatomy_Right-Accumbens-area\", \"anatomy_rh_parsopercularis_thickness anatomy_Optic-Chiasm\", \"anatomy_lh_medialorbitofrontal_area anatomy_rh_superiorparietal_area\", \"anatomy_rh_bankssts_thickness participants_sex\", \"anatomy_lh_frontalpole_thickness anatomy_rhCerebralWhiteMatterVol\", \"anatomy_lh_caudalmiddlefrontal_area anatomy_Right-choroid-plexus\", \"anatomy_lh_parsorbitalis_thickness anatomy_Left-Inf-Lat-Vent\", \"anatomy_lh_precuneus_area anatomy_lh_rostralmiddlefrontal_thickness\", \"anatomy_Left-Pallidum anatomy_Optic-Chiasm\", \"anatomy_lh_medialorbitofrontal_area anatomy_rh_frontalpole_thickness\", \"anatomy_lh_pericalcarine_thickness anatomy_Left-Cerebellum-Cortex\", \"anatomy_rh_posteriorcingulate_area participants_sex\", \"anatomy_Left-Cerebellum-Cortex anatomy_Optic-Chiasm\", \"anatomy_lh_precuneus_area anatomy_lh_lateralorbitofrontal_thickness\", \"anatomy_rhSurfaceHoles anatomy_SurfaceHoles\", \"anatomy_lh_bankssts_area anatomy_rh_parstriangularis_area\", \"anatomy_rh_rostralanteriorcingulate_area anatomy_rh_superiorparietal_area\", \"anatomy_rh_bankssts_area anatomy_Right-Inf-Lat-Vent\", \"anatomy_rh_frontalpole_area anatomy_Right-vessel\", \"anatomy_lh_frontalpole_thickness anatomy_CC_Anterior\", \"anatomy_lh_postcentral_area anatomy_Left-Inf-Lat-Vent\", \"anatomy_4th-Ventricle anatomy_Left-vessel\", \"anatomy_Right-Inf-Lat-Vent anatomy_Right-Caudate\", \"anatomy_rh_frontalpole_area participants_age\", \"anatomy_rh_bankssts_area anatomy_rh_entorhinal_area\", \"anatomy_rh_entorhinal_area anatomy_rh_pericalcarine_area\", \"anatomy_Left-Caudate anatomy_Right-Inf-Lat-Vent\", \"anatomy_rh_paracentral_area anatomy_Left-choroid-plexus\", \"anatomy_rh_parstriangularis_area anatomy_rh_rostralmiddlefrontal_area\", \"anatomy_lh_entorhinal_thickness anatomy_4th-Ventricle\", \"anatomy_rh_superiorparietal_area anatomy_Left-choroid-plexus\", \"anatomy_lh_entorhinal_area anatomy_lhSurfaceHoles\", \"anatomy_rh_inferiortemporal_thickness anatomy_CC_Posterior\", \"anatomy_lh_parsopercularis_area anatomy_rh_posteriorcingulate_thickness\", \"anatomy_rh_frontalpole_area anatomy_CC_Central\", \"anatomy_rh_rostralanteriorcingulate_thickness anatomy_Left-Inf-Lat-Vent\", \"anatomy_Left-Lateral-Ventricle anatomy_rhSurfaceHoles\", \"anatomy_lh_isthmuscingulate_area anatomy_lh_parsopercularis_area\", \"anatomy_CSF anatomy_Left-Accumbens-area\", \"anatomy_Left-Hippocampus anatomy_Right-Accumbens-area\", \"anatomy_lh_fusiform_area anatomy_rh_lateralorbitofrontal_area\", \"anatomy_lh_isthmuscingulate_area anatomy_CC_Mid_Posterior\", \"anatomy_lh_superiorfrontal_area anatomy_rh_frontalpole_thickness\", \"anatomy_rh_caudalanteriorcingulate_area anatomy_rh_entorhinal_area\", \"anatomy_rh_parsopercularis_area anatomy_Right-Cerebellum-White-Matter\", \"anatomy_lh_parahippocampal_thickness anatomy_Right-Inf-Lat-Vent\", \"anatomy_rh_parahippocampal_area anatomy_Left-choroid-plexus\", \"anatomy_lh_parstriangularis_thickness participants_sex\", \"anatomy_rh_parahippocampal_area anatomy_rh_entorhinal_thickness\", \"anatomy_rh_parahippocampal_area anatomy_Right-Lateral-Ventricle\", \"anatomy_rh_medialorbitofrontal_area anatomy_Left-Inf-Lat-Vent\", \"anatomy_lh_fusiform_area anatomy_CC_Central\", \"anatomy_rh_parstriangularis_area anatomy_rh_caudalanteriorcingulate_thickness\", \"anatomy_lh_pericalcarine_area anatomy_rh_entorhinal_area\", \"anatomy_lh_rostralanteriorcingulate_area anatomy_CC_Mid_Anterior\", \"anatomy_rh_inferiorparietal_area anatomy_rh_superiorparietal_area\", \"anatomy_lh_medialorbitofrontal_area anatomy_lh_frontalpole_thickness\", \"anatomy_rh_parsorbitalis_area anatomy_rh_posteriorcingulate_area\", \"anatomy_lh_insula_area anatomy_lh_caudalanteriorcingulate_thickness\", \"anatomy_lh_supramarginal_area anatomy_CC_Mid_Posterior\", \"anatomy_rh_entorhinal_area anatomy_rh_lingual_area\", \"anatomy_lh_parstriangularis_area anatomy_lh_cuneus_thickness\", \"anatomy_rh_parahippocampal_area anatomy_MaskVol-to-eTIV\", \"anatomy_rh_pericalcarine_thickness anatomy_Left-Caudate\", \"anatomy_rh_caudalanteriorcingulate_area anatomy_rh_precuneus_area\", \"anatomy_rh_supramarginal_area participants_sex\", \"anatomy_CSF anatomy_Right-VentralDC\", \"anatomy_lh_isthmuscingulate_thickness anatomy_rh_entorhinal_thickness\", \"anatomy_lh_superiorfrontal_area participants_sex\", \"anatomy_rh_bankssts_area anatomy_rh_superiorparietal_area\", \"anatomy_rh_cuneus_thickness anatomy_CC_Posterior\", \"anatomy_lh_transversetemporal_area anatomy_Right-Cerebellum-White-Matter\", \"anatomy_lh_superiorfrontal_area anatomy_Left-choroid-plexus\", \"anatomy_lh_frontalpole_thickness anatomy_Right-Cerebellum-White-Matter\", \"anatomy_lh_inferiorparietal_area anatomy_lh_pericalcarine_thickness\", \"anatomy_rh_inferiorparietal_area anatomy_CC_Mid_Anterior\", \"anatomy_Right-Thalamus-Proper anatomy_CC_Mid_Anterior\", \"anatomy_rh_parahippocampal_area anatomy_Left-vessel\", \"anatomy_rh_medialorbitofrontal_thickness anatomy_Left-Cerebellum-White-Matter\", \"anatomy_lh_superiorparietal_area anatomy_Left-Lateral-Ventricle\", \"anatomy_lh_parstriangularis_area anatomy_Left-choroid-plexus\", \"anatomy_Left-Lateral-Ventricle anatomy_SurfaceHoles\", \"anatomy_lh_paracentral_area anatomy_rh_isthmuscingulate_thickness\", \"anatomy_rh_caudalmiddlefrontal_area anatomy_Right-Inf-Lat-Vent\", \"anatomy_rh_frontalpole_area anatomy_Right-Inf-Lat-Vent\", \"anatomy_lh_precentral_area anatomy_lh_caudalanteriorcingulate_thickness\", \"anatomy_lh_entorhinal_area anatomy_CC_Central\", \"anatomy_Left-Inf-Lat-Vent anatomy_Right-Inf-Lat-Vent\", \"anatomy_rh_isthmuscingulate_area anatomy_lh_lateraloccipital_thickness\", \"anatomy_lh_insula_thickness anatomy_Right-Inf-Lat-Vent\", \"anatomy_4th-Ventricle anatomy_Left-Hippocampus\", \"anatomy_lh_superiortemporal_area anatomy_rh_parsorbitalis_area\", \"anatomy_rh_bankssts_thickness anatomy_CC_Mid_Anterior\", \"anatomy_rh_entorhinal_area participants_age\", \"anatomy_rh_transversetemporal_area anatomy_Left-choroid-plexus\", \"anatomy_Right-vessel participants_age\", \"anatomy_rh_medialorbitofrontal_area anatomy_rh_frontalpole_area\", \"anatomy_rh_temporalpole_area anatomy_lh_frontalpole_thickness\", \"anatomy_lh_inferiortemporal_area anatomy_rh_superiorparietal_area\", \"anatomy_lh_cuneus_thickness anatomy_CC_Posterior\", \"anatomy_rh_temporalpole_thickness anatomy_Right-Inf-Lat-Vent\", \"anatomy_lh_frontalpole_area anatomy_Right-Amygdala\", \"anatomy_rh_lateraloccipital_area anatomy_CC_Anterior\", \"anatomy_lh_parahippocampal_thickness anatomy_Right-vessel\", \"anatomy_lh_middletemporal_area anatomy_Left-Inf-Lat-Vent\", \"anatomy_rh_insula_area anatomy_rh_frontalpole_thickness\", \"anatomy_lh_posteriorcingulate_area anatomy_Left-vessel\", \"anatomy_lh_rostralmiddlefrontal_area anatomy_rh_transversetemporal_thickness\", \"anatomy_rh_paracentral_area anatomy_rh_pericalcarine_area\", \"anatomy_rh_temporalpole_area anatomy_rh_isthmuscingulate_thickness\", \"anatomy_rh_paracentral_area anatomy_Optic-Chiasm\", \"anatomy_lh_transversetemporal_thickness anatomy_Right-Hippocampus\", \"anatomy_rh_inferiortemporal_area anatomy_rh_posteriorcingulate_area\", \"anatomy_rh_isthmuscingulate_area anatomy_rh_pericalcarine_thickness\", \"anatomy_lh_parahippocampal_area anatomy_lh_postcentral_area\", \"anatomy_CC_Mid_Anterior participants_age\", \"anatomy_rh_caudalanteriorcingulate_area anatomy_Left-Inf-Lat-Vent\", \"anatomy_lh_cuneus_area anatomy_Left-choroid-plexus\", \"anatomy_rh_parsopercularis_area anatomy_Right-Hippocampus\", \"anatomy_rh_paracentral_thickness anatomy_rh_pericalcarine_thickness\", \"anatomy_Right-VentralDC participants_age\", \"anatomy_lh_cuneus_area anatomy_rh_entorhinal_area\", \"anatomy_lh_transversetemporal_area anatomy_rh_parsorbitalis_area\", \"anatomy_lh_posteriorcingulate_area anatomy_lh_supramarginal_area\", \"anatomy_lh_temporalpole_thickness anatomy_Right-vessel\", \"anatomy_lh_fusiform_area anatomy_rh_precuneus_area\", \"anatomy_rh_lateraloccipital_area anatomy_CC_Posterior\", \"anatomy_rh_parahippocampal_area anatomy_Right-choroid-plexus\", \"anatomy_rh_entorhinal_area anatomy_Right-Caudate\", \"anatomy_lh_rostralmiddlefrontal_area anatomy_BrainSegVol-to-eTIV\", \"anatomy_lh_caudalmiddlefrontal_area anatomy_Left-Accumbens-area\", \"anatomy_rh_transversetemporal_area anatomy_Left-Accumbens-area\", \"anatomy_lh_frontalpole_area anatomy_CC_Central\", \"anatomy_rh_cuneus_area anatomy_rh_paracentral_area\", \"anatomy_lh_cuneus_area anatomy_lhSurfaceHoles\", \"anatomy_rh_lingual_area anatomy_Right-choroid-plexus\", \"anatomy_5th-Ventricle anatomy_lhSurfaceHoles\", \"anatomy_rh_pericalcarine_area anatomy_rh_transversetemporal_thickness\", \"anatomy_rh_lingual_area anatomy_rh_pericalcarine_thickness\", \"anatomy_lh_inferiortemporal_area anatomy_lh_pericalcarine_thickness\", \"anatomy_rh_superiorfrontal_thickness anatomy_Left-Inf-Lat-Vent\", \"anatomy_lh_parstriangularis_area anatomy_rh_posteriorcingulate_thickness\", \"anatomy_rh_temporalpole_thickness anatomy_Right-vessel\", \"anatomy_lh_bankssts_area anatomy_lh_superiorfrontal_area\", \"anatomy_Right-Inf-Lat-Vent anatomy_WM-hypointensities\", \"anatomy_lh_rostralanteriorcingulate_thickness anatomy_rh_entorhinal_thickness\", \"anatomy_Left-Lateral-Ventricle anatomy_lhSurfaceHoles\", \"anatomy_lh_transversetemporal_area anatomy_CC_Mid_Posterior\", \"anatomy_rh_entorhinal_area participants_sex\", \"anatomy_lhSurfaceHoles anatomy_rhSurfaceHoles\", \"anatomy_rh_isthmuscingulate_area anatomy_lh_paracentral_thickness\", \"anatomy_Right-Thalamus-Proper anatomy_CC_Central\", \"anatomy_lh_posteriorcingulate_thickness anatomy_Right-Amygdala\", \"anatomy_3rd-Ventricle anatomy_Right-VentralDC\", \"anatomy_rh_entorhinal_area anatomy_rh_caudalanteriorcingulate_thickness\", \"anatomy_lh_isthmuscingulate_area anatomy_Right-Lateral-Ventricle\", \"anatomy_rh_frontalpole_area anatomy_rh_temporalpole_area\", \"anatomy_lh_lingual_area anatomy_CSF\", \"anatomy_Optic-Chiasm anatomy_CC_Anterior\", \"anatomy_lh_superiorfrontal_area anatomy_rh_isthmuscingulate_thickness\", \"anatomy_lh_fusiform_area anatomy_CC_Mid_Anterior\", \"anatomy_lh_parstriangularis_area anatomy_lh_posteriorcingulate_area\", \"anatomy_lh_parsorbitalis_thickness anatomy_CC_Posterior\", \"anatomy_4th-Ventricle anatomy_MaskVol\", \"anatomy_lh_supramarginal_area anatomy_MaskVol\", \"anatomy_lh_frontalpole_area anatomy_MaskVol-to-eTIV\", \"anatomy_Right-Lateral-Ventricle anatomy_Right-VentralDC\", \"anatomy_rh_precuneus_area participants_sex\", \"anatomy_rh_caudalanteriorcingulate_area anatomy_rh_middletemporal_area\", \"anatomy_rh_bankssts_area anatomy_Optic-Chiasm\", \"anatomy_4th-Ventricle anatomy_Left-VentralDC\", \"anatomy_rh_superiorfrontal_area anatomy_rh_isthmuscingulate_thickness\", \"anatomy_rh_parsopercularis_area anatomy_Left-VentralDC\", \"anatomy_rh_lateraloccipital_thickness anatomy_CC_Mid_Anterior\", \"anatomy_lh_fusiform_area anatomy_lh_rostralanteriorcingulate_area\", \"anatomy_lh_bankssts_area anatomy_lh_precentral_area\", \"anatomy_rh_rostralmiddlefrontal_area anatomy_rh_transversetemporal_thickness\", \"anatomy_Right-Cerebellum-White-Matter participants_age\", \"anatomy_lh_postcentral_area anatomy_lh_caudalanteriorcingulate_thickness\", \"anatomy_rh_pericalcarine_area anatomy_rh_posteriorcingulate_area\", \"anatomy_rh_superiorparietal_area participants_sex\", \"anatomy_lh_caudalanteriorcingulate_thickness anatomy_rhSurfaceHoles\", \"anatomy_Right-Lateral-Ventricle anatomy_Right-Inf-Lat-Vent\", \"anatomy_rh_parahippocampal_thickness anatomy_Optic-Chiasm\", \"anatomy_rh_temporalpole_thickness anatomy_Right-Accumbens-area\", \"anatomy_Left-Thalamus-Proper anatomy_Left-vessel\", \"anatomy_lh_superiorfrontal_area anatomy_lh_isthmuscingulate_thickness\", \"anatomy_lh_parsopercularis_area anatomy_lh_rostralanteriorcingulate_area\", \"anatomy_lh_pericalcarine_area anatomy_lh_superiorparietal_area\", \"anatomy_lh_entorhinal_area anatomy_rh_postcentral_area\", \"anatomy_lh_precentral_area anatomy_lh_supramarginal_area\", \"anatomy_4th-Ventricle anatomy_Right-Inf-Lat-Vent\", \"anatomy_lh_lateraloccipital_area anatomy_Left-Cerebellum-White-Matter\", \"anatomy_lh_cuneus_area anatomy_lh_rostralanteriorcingulate_area\", \"anatomy_3rd-Ventricle anatomy_Left-Amygdala\", \"anatomy_Right-Lateral-Ventricle anatomy_Right-Putamen\", \"anatomy_lh_temporalpole_thickness anatomy_rh_transversetemporal_thickness\", \"anatomy_rh_insula_thickness anatomy_Right-Inf-Lat-Vent\", \"anatomy_4th-Ventricle anatomy_CC_Mid_Anterior\", \"anatomy_lh_fusiform_area anatomy_Left-vessel\", \"anatomy_rh_bankssts_thickness anatomy_CC_Posterior\", \"anatomy_rh_rostralmiddlefrontal_thickness anatomy_rh_frontalpole_thickness\", \"anatomy_lh_precuneus_area anatomy_rh_rostralmiddlefrontal_thickness\", \"anatomy_lh_precuneus_area anatomy_rh_caudalanteriorcingulate_area\", \"anatomy_rh_caudalmiddlefrontal_thickness anatomy_Left-Pallidum\", \"anatomy_lh_lateralorbitofrontal_thickness anatomy_Optic-Chiasm\", \"anatomy_lh_frontalpole_area anatomy_lh_parahippocampal_thickness\", \"anatomy_lh_parsorbitalis_thickness anatomy_CC_Anterior\", \"anatomy_lh_caudalmiddlefrontal_area anatomy_lh_parstriangularis_area\", \"anatomy_Left-Cerebellum-White-Matter anatomy_Optic-Chiasm\", \"anatomy_Left-Caudate anatomy_MaskVol-to-eTIV\", \"anatomy_lh_entorhinal_area anatomy_rh_precentral_area\", \"anatomy_lh_caudalmiddlefrontal_area anatomy_rh_parsorbitalis_area\", \"anatomy_rh_superiorparietal_thickness anatomy_Left-Pallidum\", \"anatomy_Brain-Stem participants_age\", \"anatomy_3rd-Ventricle anatomy_Right-vessel\", \"anatomy_lh_fusiform_area anatomy_Right-Cerebellum-White-Matter\", \"anatomy_lh_frontalpole_thickness anatomy_CerebralWhiteMatterVol\", \"anatomy_lh_caudalmiddlefrontal_area anatomy_rh_fusiform_area\", \"anatomy_lh_insula_area anatomy_lh_posteriorcingulate_thickness\", \"anatomy_rh_lateraloccipital_area anatomy_CC_Mid_Anterior\", \"anatomy_4th-Ventricle anatomy_Right-VentralDC\", \"anatomy_rh_insula_area anatomy_Right-Caudate\", \"anatomy_lh_isthmuscingulate_thickness anatomy_Right-VentralDC\", \"anatomy_lh_superiorparietal_area anatomy_rh_posteriorcingulate_area\", \"anatomy_Right-vessel anatomy_CC_Posterior\", \"anatomy_rh_rostralanteriorcingulate_area anatomy_3rd-Ventricle\", \"anatomy_lh_frontalpole_thickness anatomy_Left-Cerebellum-White-Matter\", \"anatomy_rh_frontalpole_thickness anatomy_CC_Anterior\", \"anatomy_CSF anatomy_Right-choroid-plexus\", \"anatomy_rh_parsorbitalis_thickness anatomy_Right-Inf-Lat-Vent\", \"anatomy_lh_entorhinal_area anatomy_lh_medialorbitofrontal_thickness\", \"anatomy_rh_parsorbitalis_thickness anatomy_Right-Cerebellum-White-Matter\", \"anatomy_lh_fusiform_area anatomy_rh_superiorparietal_area\", \"anatomy_rh_rostralanteriorcingulate_area anatomy_Left-Putamen\", \"anatomy_rh_caudalmiddlefrontal_area anatomy_Right-vessel\", \"anatomy_rh_pericalcarine_thickness anatomy_Right-Caudate\", \"anatomy_lh_lingual_area anatomy_rh_entorhinal_area\", \"anatomy_lh_entorhinal_thickness anatomy_Right-Pallidum\", \"anatomy_lh_rostralanteriorcingulate_area anatomy_rh_precuneus_area\", \"anatomy_lh_parahippocampal_area anatomy_rh_medialorbitofrontal_thickness\", \"anatomy_rh_transversetemporal_area anatomy_4th-Ventricle\", \"anatomy_lh_pericalcarine_thickness anatomy_Left-Caudate\", \"anatomy_lh_parstriangularis_thickness anatomy_Left-Accumbens-area\", \"anatomy_rh_cuneus_area anatomy_rh_medialorbitofrontal_area\", \"anatomy_lh_medialorbitofrontal_area anatomy_lh_frontalpole_area\", \"anatomy_lh_insula_area anatomy_lh_rostralmiddlefrontal_thickness\", \"anatomy_lh_pericalcarine_area anatomy_SurfaceHoles\", \"anatomy_lh_bankssts_area anatomy_Optic-Chiasm\", \"anatomy_rh_caudalmiddlefrontal_area anatomy_lh_isthmuscingulate_thickness\", \"anatomy_lh_precuneus_area anatomy_rh_parstriangularis_thickness\", \"anatomy_Left-VentralDC anatomy_Right-Lateral-Ventricle\", \"anatomy_rh_parsopercularis_area anatomy_rh_rostralmiddlefrontal_area\", \"anatomy_rh_superiorfrontal_area anatomy_rh_posteriorcingulate_thickness\", \"anatomy_lh_entorhinal_area anatomy_lh_posteriorcingulate_thickness\", \"anatomy_rh_inferiortemporal_area participants_age\", \"anatomy_lh_inferiorparietal_area anatomy_rh_parstriangularis_area\", \"anatomy_rh_transversetemporal_thickness anatomy_Left-Hippocampus\", \"anatomy_rh_lateraloccipital_thickness anatomy_CC_Central\", \"anatomy_Brain-Stem anatomy_Optic-Chiasm\", \"anatomy_lh_bankssts_area anatomy_lh_superiorparietal_area\", \"anatomy_rh_posteriorcingulate_area anatomy_lh_supramarginal_thickness\", \"anatomy_rh_cuneus_area anatomy_lh_parahippocampal_thickness\", \"anatomy_lh_pericalcarine_area anatomy_rh_entorhinal_thickness\", \"anatomy_lh_parstriangularis_thickness anatomy_CC_Central\", \"anatomy_rh_rostralanteriorcingulate_area anatomy_lh_frontalpole_thickness\", \"anatomy_rh_posteriorcingulate_area anatomy_rh_rostralanteriorcingulate_thickness\", \"anatomy_Left-Putamen anatomy_Right-Lateral-Ventricle\", \"anatomy_lh_entorhinal_area anatomy_rh_superiorfrontal_area\", \"anatomy_lh_fusiform_area anatomy_Left-Cerebellum-White-Matter\", \"anatomy_rh_entorhinal_thickness anatomy_lhSurfaceHoles\", \"anatomy_rh_paracentral_thickness anatomy_rh_frontalpole_thickness\", \"anatomy_rh_parsorbitalis_thickness anatomy_Right-vessel\", \"anatomy_rh_postcentral_area anatomy_lh_caudalanteriorcingulate_thickness\", \"anatomy_Left-Caudate anatomy_BrainSegVol-to-eTIV\", \"anatomy_rh_precentral_area anatomy_rh_entorhinal_thickness\", \"anatomy_rh_caudalanteriorcingulate_area anatomy_BrainSegVol-to-eTIV\", \"anatomy_lh_precentral_area anatomy_rh_inferiorparietal_thickness\", \"anatomy_rh_parahippocampal_area anatomy_rh_caudalmiddlefrontal_thickness\", \"anatomy_lh_caudalanteriorcingulate_area anatomy_lh_entorhinal_area\", \"anatomy_rh_caudalmiddlefrontal_area anatomy_lh_transversetemporal_thickness\", \"anatomy_lh_frontalpole_area anatomy_Right-vessel\", \"anatomy_Left-choroid-plexus anatomy_Right-VentralDC\", \"anatomy_rh_parsopercularis_area anatomy_rh_caudalanteriorcingulate_thickness\", \"anatomy_lh_entorhinal_area anatomy_lh_parstriangularis_area\", \"anatomy_rh_frontalpole_thickness anatomy_rhSurfaceHoles\", \"anatomy_3rd-Ventricle anatomy_Right-Lateral-Ventricle\", \"anatomy_rh_inferiorparietal_area anatomy_rh_bankssts_thickness\", \"anatomy_lh_lateraloccipital_area anatomy_Right-Putamen\", \"anatomy_rh_parsopercularis_area anatomy_Left-Thalamus-Proper\", \"anatomy_lh_superiorparietal_area anatomy_lh_posteriorcingulate_thickness\", \"anatomy_lh_posteriorcingulate_area anatomy_Right-choroid-plexus\", \"anatomy_lh_parsopercularis_area anatomy_rh_lateralorbitofrontal_area\", \"anatomy_rh_parahippocampal_area anatomy_BrainSegVol-to-eTIV\", \"anatomy_lh_transversetemporal_area anatomy_rh_caudalanteriorcingulate_area\", \"anatomy_Right-Amygdala participants_age\", \"anatomy_rh_posteriorcingulate_area anatomy_lh_rostralanteriorcingulate_thickness\", \"anatomy_lh_parsopercularis_area anatomy_lh_parahippocampal_thickness\", \"anatomy_rh_superiortemporal_area anatomy_lhSurfaceHoles\", \"anatomy_rh_cuneus_area anatomy_Right-Hippocampus\", \"anatomy_lh_fusiform_area anatomy_rh_pericalcarine_area\", \"anatomy_lh_parahippocampal_thickness anatomy_Right-Amygdala\", \"anatomy_lh_entorhinal_area anatomy_rh_parsopercularis_area\", \"anatomy_rh_parsopercularis_area anatomy_4th-Ventricle\", \"anatomy_lh_transversetemporal_area anatomy_rh_temporalpole_thickness\", \"anatomy_lh_supramarginal_area anatomy_rh_posteriorcingulate_thickness\", \"anatomy_CSF anatomy_SubCortGrayVol\", \"anatomy_lh_precuneus_area anatomy_lh_medialorbitofrontal_thickness\", \"anatomy_lh_temporalpole_thickness anatomy_Right-Caudate\", \"anatomy_rh_pericalcarine_area anatomy_rh_frontalpole_thickness\", \"anatomy_rh_inferiortemporal_area anatomy_WM-hypointensities\", \"anatomy_Left-Accumbens-area anatomy_Left-choroid-plexus\", \"anatomy_lh_frontalpole_thickness anatomy_CC_Mid_Anterior\", \"anatomy_rh_parahippocampal_area anatomy_rh_rostralanteriorcingulate_thickness\", \"anatomy_lh_pericalcarine_area anatomy_rh_superiorfrontal_area\", \"anatomy_lh_posteriorcingulate_area anatomy_Left-Inf-Lat-Vent\", \"anatomy_lh_lingual_area anatomy_rh_caudalmiddlefrontal_area\", \"anatomy_rh_caudalmiddlefrontal_area anatomy_rh_entorhinal_thickness\", \"anatomy_lh_insula_area anatomy_rh_caudalanteriorcingulate_thickness\", \"anatomy_lh_paracentral_area participants_sex\", \"anatomy_lh_superiorfrontal_area anatomy_rh_rostralanteriorcingulate_thickness\", \"anatomy_Right-Caudate anatomy_BrainSegVol-to-eTIV\", \"anatomy_lh_frontalpole_area anatomy_MaskVol\", \"anatomy_Left-Accumbens-area anatomy_CC_Mid_Anterior\", \"anatomy_rh_bankssts_area anatomy_Right-Cerebellum-White-Matter\", \"anatomy_CC_Mid_Anterior participants_sex\", \"anatomy_Left-Hippocampus anatomy_Right-vessel\", \"anatomy_lh_caudalmiddlefrontal_area anatomy_Left-Caudate\", \"anatomy_rh_rostralanteriorcingulate_area anatomy_rh_transversetemporal_thickness\", \"anatomy_lh_bankssts_area anatomy_rh_precentral_area\", \"anatomy_lh_parstriangularis_thickness anatomy_rhCerebralWhiteMatterVol\", \"anatomy_lh_cuneus_area anatomy_rh_transversetemporal_thickness\", \"anatomy_rh_entorhinal_area anatomy_rhSurfaceHoles\", \"anatomy_rh_parsopercularis_area anatomy_rh_posteriorcingulate_thickness\", \"anatomy_rh_cuneus_area anatomy_rh_inferiorparietal_area\", \"anatomy_lh_bankssts_thickness anatomy_rh_frontalpole_thickness\", \"anatomy_Left-Cerebellum-Cortex anatomy_Right-vessel\", \"anatomy_lh_parsorbitalis_area anatomy_lh_cuneus_thickness\", \"anatomy_lh_parahippocampal_area anatomy_lh_frontalpole_thickness\", \"anatomy_lh_entorhinal_area anatomy_Left-Caudate\", \"anatomy_rh_caudalmiddlefrontal_area anatomy_lh_parahippocampal_thickness\", \"anatomy_lh_postcentral_area anatomy_4th-Ventricle\", \"anatomy_lh_medialorbitofrontal_area anatomy_rh_cuneus_area\", \"anatomy_rh_parsorbitalis_thickness anatomy_Left-Amygdala\", \"anatomy_Left-Thalamus-Proper anatomy_Right-vessel\", \"anatomy_lh_lateralorbitofrontal_thickness anatomy_Right-Inf-Lat-Vent\", \"anatomy_lh_isthmuscingulate_area anatomy_Left-Accumbens-area\", \"anatomy_lh_parsopercularis_area anatomy_lh_rostralmiddlefrontal_area\", \"anatomy_lh_caudalanteriorcingulate_area anatomy_lh_superiortemporal_thickness\", \"anatomy_lh_superiorparietal_area anatomy_rh_superiorparietal_area\", \"anatomy_rh_precentral_area anatomy_Right-vessel\", \"anatomy_Right-Cerebellum-Cortex anatomy_Right-vessel\", \"anatomy_lh_parsopercularis_thickness anatomy_Optic-Chiasm\", \"anatomy_rh_supramarginal_area anatomy_Right-Pallidum\", \"anatomy_rh_medialorbitofrontal_thickness anatomy_CC_Anterior\", \"anatomy_lh_paracentral_area anatomy_lh_rostralmiddlefrontal_thickness\", \"anatomy_lh_rostralanteriorcingulate_area anatomy_lh_isthmuscingulate_thickness\", \"anatomy_lh_lateraloccipital_area anatomy_rh_transversetemporal_thickness\", \"anatomy_Left-Inf-Lat-Vent anatomy_Left-Caudate\", \"anatomy_lh_parahippocampal_thickness anatomy_rh_temporalpole_thickness\", \"anatomy_CSF anatomy_lhSurfaceHoles\", \"anatomy_Right-Amygdala anatomy_MaskVol-to-eTIV\", \"anatomy_lh_parsopercularis_area anatomy_Right-Lateral-Ventricle\", \"anatomy_rh_entorhinal_thickness anatomy_SurfaceHoles\", \"anatomy_lh_pericalcarine_area anatomy_Left-choroid-plexus\", \"anatomy_rh_inferiorparietal_area anatomy_CC_Mid_Posterior\", \"anatomy_rh_bankssts_area anatomy_rh_cuneus_area\", \"anatomy_lh_cuneus_area anatomy_rh_cuneus_area\", \"anatomy_lh_superiorfrontal_area anatomy_CC_Central\", \"anatomy_lh_rostralanteriorcingulate_area anatomy_MaskVol-to-eTIV\", \"anatomy_rh_inferiorparietal_area anatomy_rh_pericalcarine_area\", \"anatomy_rh_isthmuscingulate_area anatomy_rh_transversetemporal_thickness\", \"anatomy_lh_medialorbitofrontal_area anatomy_lh_transversetemporal_thickness\", \"anatomy_lh_cuneus_area anatomy_lh_fusiform_area\", \"anatomy_rh_isthmuscingulate_area anatomy_lh_postcentral_thickness\", \"anatomy_rh_superiorfrontal_area participants_age\", \"anatomy_lh_pericalcarine_area anatomy_rh_bankssts_area\", \"anatomy_rh_parahippocampal_area anatomy_lh_entorhinal_thickness\", \"anatomy_lh_insula_area anatomy_lhSurfaceHoles\", \"anatomy_lh_supramarginal_area anatomy_rh_transversetemporal_area\", \"anatomy_lh_frontalpole_area anatomy_Left-Amygdala\", \"anatomy_lh_cuneus_area anatomy_Left-Accumbens-area\", \"anatomy_rh_frontalpole_area anatomy_rh_insula_thickness\", \"anatomy_lh_parsopercularis_area anatomy_lh_inferiortemporal_thickness\", \"anatomy_rh_parahippocampal_area anatomy_rh_parsopercularis_thickness\", \"anatomy_rh_parsorbitalis_thickness anatomy_Left-Cerebellum-White-Matter\", \"anatomy_lh_caudalanteriorcingulate_area anatomy_lh_postcentral_thickness\", \"anatomy_lh_pericalcarine_thickness anatomy_Right-Cerebellum-Cortex\", \"anatomy_rh_parstriangularis_thickness anatomy_Right-Cerebellum-White-Matter\", \"anatomy_rh_cuneus_thickness anatomy_Left-Cerebellum-Cortex\", \"anatomy_lh_parahippocampal_area anatomy_rh_postcentral_area\", \"anatomy_lh_cuneus_area anatomy_rh_inferiorparietal_area\", \"anatomy_rh_isthmuscingulate_area anatomy_lh_parsopercularis_thickness\", \"anatomy_lh_caudalanteriorcingulate_thickness anatomy_SurfaceHoles\", \"anatomy_lh_entorhinal_area anatomy_5th-Ventricle\", \"anatomy_lh_bankssts_thickness anatomy_Left-Inf-Lat-Vent\", \"anatomy_lh_temporalpole_thickness anatomy_3rd-Ventricle\", \"anatomy_lh_parahippocampal_area anatomy_rh_lateralorbitofrontal_thickness\", \"anatomy_lh_paracentral_area anatomy_lh_entorhinal_thickness\", \"anatomy_lh_middletemporal_area anatomy_Right-Lateral-Ventricle\", \"anatomy_rh_fusiform_area anatomy_Left-Cerebellum-White-Matter\", \"anatomy_rh_lingual_thickness anatomy_Optic-Chiasm\", \"anatomy_lh_rostralmiddlefrontal_thickness anatomy_CC_Central\", \"anatomy_rh_insula_area anatomy_Left-Caudate\", \"anatomy_rh_parstriangularis_area anatomy_rh_posteriorcingulate_thickness\", \"anatomy_lh_supramarginal_area anatomy_MaskVol-to-eTIV\", \"anatomy_rh_fusiform_area anatomy_CSF\", \"anatomy_lh_parsopercularis_area anatomy_rh_pericalcarine_area\", \"anatomy_rh_paracentral_area anatomy_4th-Ventricle\", \"anatomy_rh_caudalmiddlefrontal_area anatomy_rh_rostralanteriorcingulate_thickness\", \"anatomy_lh_inferiorparietal_area anatomy_lh_entorhinal_thickness\", \"anatomy_lh_rostralanteriorcingulate_area anatomy_rh_rostralanteriorcingulate_thickness\", \"anatomy_rh_lateraloccipital_area anatomy_Right-Cerebellum-White-Matter\", \"anatomy_rh_pericalcarine_area anatomy_rh_medialorbitofrontal_thickness\", \"anatomy_lh_parahippocampal_area anatomy_lh_temporalpole_area\", \"anatomy_Left-Cerebellum-White-Matter anatomy_SurfaceHoles\", \"anatomy_rh_postcentral_area anatomy_rh_inferiortemporal_thickness\", \"anatomy_rh_cuneus_area anatomy_rh_lingual_area\", \"anatomy_rh_rostralanteriorcingulate_area anatomy_Right-Accumbens-area\", \"anatomy_lh_bankssts_area anatomy_Left-Accumbens-area\", \"anatomy_rh_parsopercularis_area anatomy_5th-Ventricle\", \"anatomy_lh_supramarginal_area anatomy_Right-Pallidum\", \"anatomy_lh_parsopercularis_area anatomy_rh_cuneus_area\", \"anatomy_Left-Cerebellum-White-Matter anatomy_rhSurfaceHoles\", \"anatomy_lh_inferiortemporal_area anatomy_Left-Hippocampus\", \"anatomy_CC_Mid_Anterior anatomy_EstimatedTotalIntraCranialVol\", \"anatomy_CC_Mid_Anterior anatomy_eTIV\", \"anatomy_rh_temporalpole_area anatomy_rh_caudalanteriorcingulate_thickness\", \"anatomy_lh_parahippocampal_thickness anatomy_CC_Posterior\", \"anatomy_lh_lateraloccipital_area anatomy_Left-vessel\", \"anatomy_rh_postcentral_thickness anatomy_Left-Pallidum\", \"anatomy_Right-Amygdala\", \"anatomy_rh_pericalcarine_area anatomy_rh_superiorfrontal_area\", \"anatomy_rh_parsorbitalis_thickness anatomy_Right-Amygdala\", \"anatomy_3rd-Ventricle anatomy_Right-choroid-plexus\", \"anatomy_lh_entorhinal_area anatomy_rh_posteriorcingulate_thickness\", \"anatomy_rh_superiorfrontal_area anatomy_Brain-Stem\", \"anatomy_lh_cuneus_thickness anatomy_lh_temporalpole_thickness\", \"anatomy_Right-vessel anatomy_CC_Mid_Anterior\", \"anatomy_rh_parsopercularis_area anatomy_Left-Cerebellum-White-Matter\", \"anatomy_rh_isthmuscingulate_area anatomy_rh_rostralanteriorcingulate_thickness\", \"anatomy_lh_parahippocampal_area anatomy_rh_parstriangularis_thickness\", \"anatomy_rh_insula_area anatomy_CC_Mid_Anterior\", \"anatomy_lh_insula_area anatomy_rh_transversetemporal_area\", \"anatomy_lh_inferiortemporal_thickness anatomy_lh_temporalpole_thickness\", \"anatomy_lh_entorhinal_area anatomy_rh_paracentral_area\", \"anatomy_CSF anatomy_Right-Hippocampus\", \"anatomy_rh_temporalpole_area anatomy_rh_rostralanteriorcingulate_thickness\", \"anatomy_rh_inferiorparietal_thickness participants_sex\", \"anatomy_lh_frontalpole_thickness anatomy_CC_Mid_Posterior\", \"anatomy_lh_temporalpole_area anatomy_rh_temporalpole_area\", \"anatomy_lh_paracentral_area anatomy_Left-Lateral-Ventricle\", \"anatomy_rh_transversetemporal_area anatomy_rh_isthmuscingulate_thickness\", \"anatomy_lh_parsorbitalis_area anatomy_lh_posteriorcingulate_area\", \"anatomy_lh_insula_area anatomy_SurfaceHoles\", \"anatomy_Left-Cerebellum-White-Matter participants_age\", \"anatomy_SurfaceHoles participants_age\", \"anatomy_rh_parahippocampal_area anatomy_rh_parstriangularis_thickness\", \"anatomy_rh_entorhinal_thickness anatomy_rh_isthmuscingulate_thickness\", \"anatomy_Right-VentralDC anatomy_CC_Posterior\", \"anatomy_Left-Cerebellum-White-Matter anatomy_lhSurfaceHoles\", \"anatomy_rh_isthmuscingulate_thickness anatomy_Right-Amygdala\", \"anatomy_lh_rostralmiddlefrontal_area participants_age\", \"anatomy_lh_transversetemporal_area anatomy_lh_middletemporal_thickness\", \"anatomy_lh_rostralanteriorcingulate_area anatomy_lh_caudalanteriorcingulate_thickness\", \"anatomy_rh_posteriorcingulate_area anatomy_rh_transversetemporal_thickness\", \"anatomy_rh_lateralorbitofrontal_thickness anatomy_Right-vessel\", \"anatomy_lh_superiorparietal_area participants_sex\", \"anatomy_Left-Inf-Lat-Vent anatomy_Right-Amygdala\", \"anatomy_rh_insula_area anatomy_CC_Mid_Posterior\", \"anatomy_lh_frontalpole_area anatomy_lh_lateraloccipital_thickness\", \"anatomy_rh_parstriangularis_area anatomy_Right-choroid-plexus\", \"anatomy_lh_rostralanteriorcingulate_area anatomy_3rd-Ventricle\", \"anatomy_lh_pericalcarine_area anatomy_rh_temporalpole_area\", \"anatomy_lh_transversetemporal_area anatomy_rh_middletemporal_thickness\", \"anatomy_rh_parsorbitalis_thickness anatomy_Left-Putamen\", \"anatomy_rh_fusiform_area anatomy_Right-Cerebellum-White-Matter\", \"anatomy_lh_parsorbitalis_area anatomy_lh_lingual_thickness\", \"anatomy_lh_fusiform_area anatomy_rh_medialorbitofrontal_area\", \"anatomy_rh_lateraloccipital_area anatomy_Left-Cerebellum-White-Matter\", \"anatomy_rh_cuneus_area anatomy_rh_superiorfrontal_area\", \"anatomy_rh_rostralanteriorcingulate_area anatomy_Right-choroid-plexus\", \"anatomy_rh_caudalanteriorcingulate_area anatomy_rh_inferiortemporal_area\", \"anatomy_Right-Thalamus-Proper participants_age\", \"anatomy_lh_fusiform_area anatomy_Left-Hippocampus\", \"anatomy_lh_lateraloccipital_area anatomy_lh_parahippocampal_thickness\", \"anatomy_lh_cuneus_area anatomy_SurfaceHoles\", \"anatomy_lh_transversetemporal_area anatomy_lh_parsorbitalis_thickness\", \"anatomy_lh_parahippocampal_area anatomy_CSF\", \"anatomy_rh_caudalanteriorcingulate_area anatomy_Right-Caudate\", \"anatomy_rh_superiorparietal_area anatomy_Left-Lateral-Ventricle\", \"anatomy_Right-choroid-plexus anatomy_CC_Mid_Anterior\", \"anatomy_lh_paracentral_area anatomy_rh_rostralanteriorcingulate_area\", \"anatomy_lh_bankssts_area anatomy_Left-Lateral-Ventricle\", \"anatomy_lh_paracentral_area anatomy_lh_caudalanteriorcingulate_thickness\", \"anatomy_lh_rostralanteriorcingulate_area anatomy_4th-Ventricle\", \"anatomy_lh_lingual_area anatomy_rh_parahippocampal_thickness\", \"anatomy_rh_frontalpole_thickness anatomy_SurfaceHoles\", \"anatomy_lh_temporalpole_area participants_age\", \"anatomy_lh_fusiform_area anatomy_Right-Hippocampus\", \"anatomy_rh_medialorbitofrontal_thickness anatomy_Right-Cerebellum-White-Matter\", \"anatomy_rh_pericalcarine_area anatomy_lh_lateralorbitofrontal_thickness\", \"anatomy_lh_parstriangularis_area anatomy_lh_transversetemporal_thickness\", \"anatomy_rh_parsopercularis_area anatomy_Right-Amygdala\", \"anatomy_lh_parstriangularis_thickness anatomy_Left-Putamen\", \"anatomy_Optic-Chiasm participants_sex\", \"anatomy_lh_entorhinal_area anatomy_rh_lingual_thickness\", \"anatomy_lh_caudalmiddlefrontal_area anatomy_Left-Amygdala\", \"anatomy_CSF anatomy_SurfaceHoles\", \"anatomy_5th-Ventricle anatomy_SurfaceHoles\", \"anatomy_lh_temporalpole_area anatomy_rh_precentral_thickness\", \"anatomy_rh_precentral_area anatomy_rh_caudalanteriorcingulate_thickness\", \"anatomy_lh_caudalmiddlefrontal_area anatomy_Left-Hippocampus\", \"anatomy_lh_parsopercularis_thickness anatomy_CC_Central\", \"anatomy_rh_postcentral_area anatomy_4th-Ventricle\", \"anatomy_rh_entorhinal_thickness anatomy_BrainSegVol-to-eTIV\", \"anatomy_Brain-Stem anatomy_Right-vessel\", \"anatomy_lh_lateraloccipital_area anatomy_rh_pericalcarine_thickness\", \"anatomy_lh_caudalmiddlefrontal_area participants_age\", \"anatomy_rh_bankssts_area anatomy_MaskVol\", \"anatomy_rh_temporalpole_area anatomy_lh_bankssts_thickness\", \"anatomy_rh_temporalpole_area anatomy_Left-vessel\", \"anatomy_rh_frontalpole_thickness anatomy_CC_Central\", \"anatomy_lh_isthmuscingulate_thickness anatomy_Left-Putamen\", \"anatomy_lh_caudalmiddlefrontal_area anatomy_lh_postcentral_area\", \"anatomy_rh_parsopercularis_area anatomy_lh_caudalanteriorcingulate_thickness\", \"anatomy_lh_transversetemporal_area anatomy_rh_pericalcarine_area\", \"anatomy_rh_lateralorbitofrontal_area anatomy_Left-Lateral-Ventricle\", \"anatomy_rh_lingual_area anatomy_Left-vessel\", \"anatomy_rh_lingual_thickness anatomy_Left-Cerebellum-Cortex\", \"anatomy_lh_transversetemporal_area anatomy_CC_Central\", \"anatomy_rh_temporalpole_area anatomy_CC_Posterior\", \"anatomy_rh_isthmuscingulate_thickness anatomy_Left-vessel\", \"anatomy_rh_parstriangularis_area anatomy_CC_Mid_Anterior\", \"anatomy_lh_precentral_area anatomy_lh_rostralanteriorcingulate_area\", \"anatomy_lh_entorhinal_area anatomy_rh_medialorbitofrontal_area\", \"anatomy_rh_lingual_area anatomy_lh_pericalcarine_thickness\", \"anatomy_rh_lateraloccipital_area participants_sex\", \"anatomy_lh_inferiorparietal_area anatomy_rh_superiorparietal_area\", \"anatomy_4th-Ventricle anatomy_SubCortGrayVol\", \"anatomy_lh_entorhinal_area anatomy_Left-Putamen\", \"anatomy_rh_temporalpole_area anatomy_lh_inferiorparietal_thickness\", \"anatomy_lh_rostralanteriorcingulate_area anatomy_Left-choroid-plexus\", \"anatomy_rh_transversetemporal_thickness anatomy_Right-Inf-Lat-Vent\", \"anatomy_Right-Accumbens-area anatomy_CC_Posterior\", \"anatomy_lh_cuneus_area anatomy_rh_caudalanteriorcingulate_area\", \"anatomy_lh_fusiform_area anatomy_lh_insula_area\", \"anatomy_lh_medialorbitofrontal_thickness anatomy_Right-vessel\", \"anatomy_rh_lingual_area anatomy_rh_parahippocampal_thickness\", \"anatomy_lh_superiortemporal_area anatomy_CC_Anterior\", \"anatomy_rh_transversetemporal_thickness anatomy_CSF\", \"anatomy_rh_inferiorparietal_area anatomy_rh_frontalpole_thickness\", \"anatomy_lh_frontalpole_thickness anatomy_rh_frontalpole_thickness\", \"anatomy_lh_rostralanteriorcingulate_thickness anatomy_rh_middletemporal_thickness\", \"anatomy_rh_middletemporal_area anatomy_Left-choroid-plexus\", \"anatomy_lh_rostralmiddlefrontal_area anatomy_lh_parahippocampal_thickness\", \"anatomy_lh_temporalpole_thickness anatomy_Left-Putamen\", \"anatomy_lh_bankssts_thickness anatomy_lh_rostralanteriorcingulate_thickness\", \"anatomy_lh_inferiortemporal_thickness anatomy_Right-choroid-plexus\", \"anatomy_rh_entorhinal_thickness anatomy_rhSurfaceHoles\", \"anatomy_lh_lingual_thickness anatomy_CC_Anterior\", \"anatomy_rh_supramarginal_area anatomy_WM-hypointensities\", \"anatomy_rh_paracentral_thickness anatomy_4th-Ventricle\", \"anatomy_lh_lingual_thickness anatomy_CSF\", \"anatomy_lh_parsorbitalis_area anatomy_rh_cuneus_thickness\", \"anatomy_lh_superiorfrontal_area anatomy_3rd-Ventricle\", \"anatomy_lh_isthmuscingulate_thickness anatomy_rh_parsopercularis_thickness\", \"anatomy_lh_medialorbitofrontal_area anatomy_rh_entorhinal_thickness\", \"anatomy_rh_caudalanteriorcingulate_area anatomy_rhCerebralWhiteMatterVol\", \"anatomy_rh_temporalpole_area anatomy_lh_caudalanteriorcingulate_thickness\", \"anatomy_3rd-Ventricle anatomy_Left-VentralDC\", \"anatomy_rh_caudalmiddlefrontal_area anatomy_lh_superiortemporal_thickness\", \"anatomy_lh_caudalmiddlefrontal_area participants_sex\", \"anatomy_lh_isthmuscingulate_area anatomy_lh_postcentral_thickness\", \"anatomy_lh_rostralanteriorcingulate_area anatomy_lh_rostralanteriorcingulate_thickness\", \"anatomy_rh_parahippocampal_area anatomy_lh_superiorparietal_thickness\", \"anatomy_lh_posteriorcingulate_area anatomy_rh_parsorbitalis_area\", \"anatomy_rh_temporalpole_area anatomy_lh_isthmuscingulate_thickness\", \"anatomy_rh_insula_area anatomy_Left-Pallidum\", \"anatomy_lh_lateraloccipital_area anatomy_rh_bankssts_area\", \"anatomy_lh_transversetemporal_area anatomy_rh_bankssts_thickness\", \"anatomy_lh_cuneus_area anatomy_lh_medialorbitofrontal_area\", \"anatomy_lh_lateralorbitofrontal_area anatomy_lh_parstriangularis_area\", \"anatomy_Left-Inf-Lat-Vent anatomy_CC_Posterior\", \"anatomy_lh_superiorfrontal_area anatomy_rh_caudalanteriorcingulate_thickness\", \"anatomy_lh_posteriorcingulate_area anatomy_lh_superiortemporal_thickness\", \"anatomy_lh_parahippocampal_area anatomy_lh_precentral_area\", \"anatomy_Left-Lateral-Ventricle anatomy_Right-Pallidum\", \"anatomy_rh_bankssts_area anatomy_MaskVol-to-eTIV\", \"anatomy_lh_rostralanteriorcingulate_area anatomy_BrainSegVol-to-eTIV\", \"anatomy_rh_isthmuscingulate_area anatomy_rh_cuneus_thickness\", \"anatomy_rh_cuneus_area anatomy_4th-Ventricle\", \"anatomy_lh_parstriangularis_area anatomy_lh_rostralmiddlefrontal_area\", \"anatomy_lh_insula_area anatomy_rhSurfaceHoles\", \"anatomy_lh_lateraloccipital_thickness anatomy_CC_Central\", \"anatomy_lh_caudalmiddlefrontal_area anatomy_Right-Lateral-Ventricle\", \"anatomy_lh_temporalpole_thickness anatomy_rh_pericalcarine_thickness\", \"anatomy_lh_rostralmiddlefrontal_area anatomy_MaskVol\", \"anatomy_rh_postcentral_area anatomy_rh_insula_thickness\", \"anatomy_lh_posteriorcingulate_area anatomy_Right-Lateral-Ventricle\", \"anatomy_rh_middletemporal_area anatomy_rh_posteriorcingulate_area\", \"anatomy_lh_inferiorparietal_area anatomy_rh_pericalcarine_area\", \"anatomy_lh_rostralanteriorcingulate_area anatomy_Right-Inf-Lat-Vent\", \"anatomy_lh_parahippocampal_thickness anatomy_lhSurfaceHoles\", \"anatomy_rh_posteriorcingulate_area anatomy_Left-Inf-Lat-Vent\", \"anatomy_lh_medialorbitofrontal_area anatomy_lh_transversetemporal_area\", \"anatomy_lh_bankssts_area anatomy_lh_parsorbitalis_thickness\", \"anatomy_rh_paracentral_area anatomy_rh_bankssts_thickness\", \"anatomy_lh_precuneus_area anatomy_rh_parsopercularis_area\", \"anatomy_lh_temporalpole_thickness anatomy_CC_Central\", \"anatomy_rh_temporalpole_area anatomy_non-WM-hypointensities\", \"anatomy_rh_parahippocampal_area anatomy_rh_frontalpole_area\", \"anatomy_lh_medialorbitofrontal_area anatomy_Left-VentralDC\", \"anatomy_lh_inferiorparietal_area participants_sex\", \"anatomy_rh_temporalpole_thickness anatomy_CC_Posterior\", \"anatomy_Right-Inf-Lat-Vent anatomy_Optic-Chiasm\", \"anatomy_rh_rostralanteriorcingulate_thickness anatomy_Left-VentralDC\", \"anatomy_lh_postcentral_area anatomy_Right-Cerebellum-Cortex\", \"anatomy_lh_bankssts_area anatomy_Right-VentralDC\", \"anatomy_rh_parstriangularis_thickness anatomy_rh_transversetemporal_thickness\", \"anatomy_rh_insula_area anatomy_rh_posteriorcingulate_thickness\", \"anatomy_rh_middletemporal_thickness anatomy_3rd-Ventricle\", \"anatomy_lh_bankssts_area participants_sex\", \"anatomy_lh_medialorbitofrontal_thickness anatomy_CC_Mid_Anterior\", \"anatomy_rh_entorhinal_area anatomy_MaskVol-to-eTIV\", \"anatomy_lh_medialorbitofrontal_area anatomy_lh_parsorbitalis_thickness\", \"anatomy_Left-Inf-Lat-Vent anatomy_lhCerebralWhiteMatterVol\", \"anatomy_lh_cuneus_area anatomy_lh_frontalpole_area\", \"anatomy_lh_parahippocampal_thickness anatomy_Left-vessel\", \"anatomy_rh_parahippocampal_area anatomy_CerebralWhiteMatterVol\", \"anatomy_lh_postcentral_area anatomy_lh_frontalpole_area\", \"anatomy_lh_entorhinal_area anatomy_lh_inferiorparietal_area\", \"anatomy_rh_temporalpole_area anatomy_3rd-Ventricle\", \"anatomy_rh_caudalanteriorcingulate_area anatomy_SurfaceHoles\", \"anatomy_lh_supramarginal_area anatomy_non-WM-hypointensities\", \"anatomy_lh_posteriorcingulate_area anatomy_CC_Mid_Anterior\", \"anatomy_lh_postcentral_thickness anatomy_Right-Inf-Lat-Vent\", \"anatomy_lh_precentral_area anatomy_SubCortGrayVol\", \"anatomy_lh_temporalpole_area anatomy_rh_transversetemporal_thickness\", \"anatomy_rh_precuneus_area anatomy_CC_Anterior\", \"anatomy_rh_isthmuscingulate_thickness participants_sex\", \"anatomy_lh_superiorfrontal_thickness anatomy_Right-Inf-Lat-Vent\", \"anatomy_lh_middletemporal_area anatomy_rh_lingual_area\", \"anatomy_rh_transversetemporal_thickness anatomy_Right-Putamen\", \"anatomy_lh_isthmuscingulate_area anatomy_rh_lingual_area\", \"anatomy_lh_caudalmiddlefrontal_area anatomy_rh_isthmuscingulate_area\", \"anatomy_rh_lingual_area anatomy_rh_rostralanteriorcingulate_area\", \"anatomy_lh_paracentral_thickness participants_age\", \"anatomy_lh_transversetemporal_area anatomy_lh_parahippocampal_thickness\", \"anatomy_rh_lingual_area anatomy_Left-Thalamus-Proper\", \"anatomy_rh_cuneus_area anatomy_lh_temporalpole_thickness\", \"anatomy_lh_postcentral_area anatomy_rh_parstriangularis_area\", \"anatomy_lh_parstriangularis_thickness anatomy_SurfaceHoles\", \"anatomy_lh_supramarginal_area anatomy_rh_superiorparietal_thickness\", \"anatomy_Brain-Stem participants_sex\", \"anatomy_lh_frontalpole_thickness anatomy_rhSurfaceHoles\", \"anatomy_lh_entorhinal_thickness anatomy_CC_Anterior\", \"anatomy_rh_pericalcarine_area anatomy_Optic-Chiasm\", \"anatomy_lh_entorhinal_thickness anatomy_rh_lateraloccipital_thickness\", \"anatomy_lh_parsorbitalis_area anatomy_MaskVol\", \"anatomy_lh_parsopercularis_area participants_sex\", \"anatomy_rh_precentral_area anatomy_Left-Pallidum\", \"anatomy_lh_transversetemporal_area anatomy_rh_pericalcarine_thickness\", \"anatomy_lh_caudalanteriorcingulate_thickness anatomy_CC_Posterior\", \"anatomy_non-WM-hypointensities anatomy_rhSurfaceHoles\", \"anatomy_rh_transversetemporal_thickness anatomy_Left-vessel\", \"anatomy_lh_precuneus_area anatomy_Left-Thalamus-Proper\", \"anatomy_rh_medialorbitofrontal_area anatomy_Left-VentralDC\", \"anatomy_rh_cuneus_area anatomy_rh_parsopercularis_thickness\", \"anatomy_rh_bankssts_area anatomy_lh_caudalmiddlefrontal_thickness\", \"anatomy_lh_isthmuscingulate_area anatomy_lh_lateralorbitofrontal_area\", \"anatomy_rh_isthmuscingulate_area anatomy_CC_Posterior\", \"anatomy_lh_precentral_area anatomy_BrainSegVol-to-eTIV\", \"anatomy_rh_rostralanteriorcingulate_thickness anatomy_Right-Cerebellum-White-Matter\", \"anatomy_rh_entorhinal_thickness anatomy_rh_frontalpole_thickness\", \"anatomy_lh_parsopercularis_area anatomy_rh_inferiorparietal_area\", \"anatomy_lh_insula_area anatomy_Right-Inf-Lat-Vent\", \"anatomy_lh_caudalanteriorcingulate_area anatomy_rh_pericalcarine_area\", \"anatomy_rh_cuneus_area anatomy_rh_rostralmiddlefrontal_thickness\", \"anatomy_rh_bankssts_area anatomy_rh_parsopercularis_thickness\", \"anatomy_lh_temporalpole_area anatomy_rh_bankssts_area\", \"anatomy_Right-Inf-Lat-Vent anatomy_Right-Cerebellum-White-Matter\", \"anatomy_lh_parsorbitalis_area anatomy_BrainSegVol-to-eTIV\", \"anatomy_lh_inferiortemporal_area anatomy_Right-Inf-Lat-Vent\", \"anatomy_rh_temporalpole_thickness anatomy_CSF\", \"anatomy_lh_pericalcarine_area anatomy_lh_isthmuscingulate_thickness\", \"anatomy_lh_superiorfrontal_thickness anatomy_Right-Cerebellum-Cortex\", \"anatomy_Left-Cerebellum-White-Matter anatomy_MaskVol-to-eTIV\", \"anatomy_rh_medialorbitofrontal_thickness anatomy_rh_transversetemporal_thickness\", \"anatomy_lh_lingual_area anatomy_rh_fusiform_area\", \"anatomy_lh_precuneus_area anatomy_Right-VentralDC\", \"anatomy_rh_transversetemporal_thickness anatomy_Left-Accumbens-area\", \"anatomy_lh_superiortemporal_area anatomy_rh_pericalcarine_thickness\", \"anatomy_lh_medialorbitofrontal_area anatomy_Left-Cerebellum-White-Matter\", \"anatomy_rh_parahippocampal_area anatomy_CC_Anterior\", \"anatomy_rh_lateralorbitofrontal_area anatomy_Right-Putamen\", \"anatomy_Left-Caudate anatomy_Right-Amygdala\", \"anatomy_lh_entorhinal_thickness anatomy_Left-vessel\", \"anatomy_rh_parstriangularis_thickness anatomy_MaskVol-to-eTIV\", \"anatomy_lh_rostralanteriorcingulate_area anatomy_rh_parsopercularis_thickness\", \"anatomy_rh_pericalcarine_area anatomy_Left-Cerebellum-White-Matter\", \"anatomy_lh_frontalpole_area anatomy_Right-Lateral-Ventricle\", \"anatomy_lh_postcentral_area anatomy_rh_frontalpole_thickness\", \"anatomy_lh_insula_area anatomy_rh_caudalanteriorcingulate_area\", \"anatomy_lh_caudalanteriorcingulate_area anatomy_lh_paracentral_area\", \"anatomy_lh_insula_area anatomy_Right-Cerebellum-Cortex\", \"anatomy_lh_caudalanteriorcingulate_thickness anatomy_CerebralWhiteMatterVol\", \"anatomy_lh_cuneus_area anatomy_rh_rostralmiddlefrontal_area\", \"anatomy_lh_superiorfrontal_thickness anatomy_Right-Cerebellum-White-Matter\", \"anatomy_BrainSegVol-to-eTIV participants_age\", \"anatomy_rh_lingual_thickness anatomy_Left-choroid-plexus\", \"anatomy_rh_bankssts_area anatomy_lh_parsorbitalis_thickness\", \"anatomy_rh_lingual_thickness anatomy_Left-vessel\", \"anatomy_CC_Mid_Anterior anatomy_SurfaceHoles\", \"anatomy_lh_lateralorbitofrontal_area anatomy_Right-VentralDC\", \"anatomy_lh_entorhinal_area anatomy_lh_parahippocampal_area\", \"anatomy_rh_superiorfrontal_thickness anatomy_Right-Cerebellum-White-Matter\", \"anatomy_lh_medialorbitofrontal_thickness anatomy_Right-Pallidum\", \"anatomy_rh_inferiorparietal_area anatomy_rh_entorhinal_thickness\", \"anatomy_lh_precuneus_area anatomy_lh_rostralmiddlefrontal_area\", \"anatomy_lh_entorhinal_thickness anatomy_lh_posteriorcingulate_thickness\", \"anatomy_rh_precentral_area anatomy_Left-choroid-plexus\", \"anatomy_lh_medialorbitofrontal_thickness anatomy_lh_frontalpole_thickness\", \"anatomy_lh_inferiortemporal_area anatomy_lh_supramarginal_area\", \"anatomy_lh_posteriorcingulate_area anatomy_lh_frontalpole_thickness\", \"anatomy_rh_caudalanteriorcingulate_area anatomy_rh_lateraloccipital_area\", \"anatomy_lh_lateralorbitofrontal_area anatomy_Left-Hippocampus\", \"anatomy_lh_parstriangularis_thickness anatomy_lhSurfaceHoles\", \"anatomy_lh_lateralorbitofrontal_area anatomy_Left-VentralDC\", \"anatomy_lh_caudalmiddlefrontal_area anatomy_CSF\", \"anatomy_rh_supramarginal_area anatomy_Optic-Chiasm\", \"anatomy_rh_paracentral_area anatomy_rh_paracentral_thickness\", \"anatomy_rh_bankssts_area anatomy_lh_parstriangularis_thickness\", \"anatomy_rh_pericalcarine_thickness anatomy_lhSurfaceHoles\", \"anatomy_lh_temporalpole_thickness anatomy_Left-vessel\", \"anatomy_lh_middletemporal_area anatomy_lh_insula_area\", \"anatomy_lh_caudalmiddlefrontal_area anatomy_lhSurfaceHoles\", \"anatomy_lh_caudalanteriorcingulate_thickness anatomy_4th-Ventricle\", \"anatomy_lh_caudalanteriorcingulate_thickness anatomy_Right-Lateral-Ventricle\", \"anatomy_lh_pericalcarine_area anatomy_lh_bankssts_thickness\", \"anatomy_lh_cuneus_area anatomy_Left-Cerebellum-Cortex\", \"anatomy_lh_inferiorparietal_area anatomy_rh_lateraloccipital_area\", \"anatomy_lh_caudalanteriorcingulate_area anatomy_Right-Inf-Lat-Vent\", \"anatomy_rh_isthmuscingulate_thickness anatomy_Left-choroid-plexus\", \"anatomy_lh_rostralanteriorcingulate_area anatomy_Right-Putamen\", \"anatomy_rh_parstriangularis_area anatomy_rh_precuneus_area\", \"anatomy_rh_superiorparietal_area anatomy_rh_rostralanteriorcingulate_thickness\", \"anatomy_3rd-Ventricle anatomy_rhCortexVol\", \"anatomy_rh_temporalpole_area anatomy_Left-Amygdala\", \"anatomy_lh_isthmuscingulate_thickness anatomy_lh_superiorfrontal_thickness\", \"anatomy_rh_superiorfrontal_area anatomy_Left-Accumbens-area\", \"anatomy_lh_rostralanteriorcingulate_thickness anatomy_Left-VentralDC\", \"anatomy_rh_cuneus_area anatomy_lh_cuneus_thickness\", \"anatomy_rh_pericalcarine_area anatomy_Right-Cerebellum-Cortex\", \"anatomy_rh_cuneus_area anatomy_rh_insula_thickness\", \"anatomy_Left-Inf-Lat-Vent anatomy_Right-Hippocampus\", \"anatomy_lh_lateraloccipital_area anatomy_rh_caudalanteriorcingulate_area\", \"anatomy_lh_rostralmiddlefrontal_area anatomy_rh_isthmuscingulate_area\", \"anatomy_rh_rostralanteriorcingulate_thickness anatomy_Right-VentralDC\", \"anatomy_lh_frontalpole_area anatomy_Right-Caudate\", \"anatomy_rh_temporalpole_area anatomy_Left-Cerebellum-White-Matter\", \"anatomy_rh_paracentral_thickness anatomy_Right-Cerebellum-White-Matter\", \"anatomy_rh_bankssts_area anatomy_non-WM-hypointensities\", \"anatomy_rh_posteriorcingulate_area anatomy_CSF\", \"anatomy_lh_posteriorcingulate_area anatomy_4th-Ventricle\", \"anatomy_lh_parstriangularis_area anatomy_rh_parsopercularis_area\", \"anatomy_lh_parsorbitalis_area anatomy_rh_parsopercularis_area\", \"anatomy_rh_precentral_area anatomy_Right-Accumbens-area\", \"anatomy_rh_caudalanteriorcingulate_thickness anatomy_MaskVol-to-eTIV\", \"anatomy_rh_lateraloccipital_thickness anatomy_Left-choroid-plexus\", \"anatomy_rh_supramarginal_area anatomy_non-WM-hypointensities\", \"anatomy_lh_parahippocampal_area anatomy_Left-Lateral-Ventricle\", \"anatomy_rh_paracentral_area anatomy_lh_parstriangularis_thickness\", \"anatomy_lh_precentral_area anatomy_rh_caudalmiddlefrontal_area\", \"anatomy_rh_postcentral_area anatomy_rh_frontalpole_area\", \"anatomy_rh_isthmuscingulate_area anatomy_rh_superiorfrontal_area\", \"anatomy_lh_medialorbitofrontal_area anatomy_lh_insula_area\", \"anatomy_lh_parahippocampal_area anatomy_Left-Cerebellum-White-Matter\", \"anatomy_rh_posteriorcingulate_area anatomy_lh_frontalpole_thickness\", \"anatomy_CC_Anterior anatomy_MaskVol\", \"anatomy_rh_entorhinal_thickness anatomy_Right-Accumbens-area\", \"anatomy_rh_rostralanteriorcingulate_area anatomy_4th-Ventricle\", \"anatomy_lh_transversetemporal_area anatomy_rh_posteriorcingulate_area\", \"anatomy_rh_precentral_area anatomy_Left-Accumbens-area\", \"anatomy_rh_entorhinal_area anatomy_SupraTentorialVolNotVentVox\", \"anatomy_lh_frontalpole_area anatomy_Left-choroid-plexus\", \"anatomy_rh_lateraloccipital_area anatomy_rh_parstriangularis_area\", \"anatomy_lh_superiortemporal_thickness anatomy_CC_Central\", \"anatomy_lh_parsopercularis_area anatomy_rh_temporalpole_area\", \"anatomy_rh_parsopercularis_area anatomy_Left-vessel\", \"anatomy_lh_transversetemporal_thickness anatomy_rh_entorhinal_thickness\", \"anatomy_lh_rostralmiddlefrontal_area anatomy_Left-Pallidum\", \"anatomy_lh_cuneus_area anatomy_lh_temporalpole_thickness\", \"anatomy_rh_temporalpole_area anatomy_Left-Accumbens-area\", \"anatomy_rh_precuneus_thickness anatomy_Left-vessel\", \"anatomy_rh_caudalanteriorcingulate_area anatomy_rh_middletemporal_thickness\", \"anatomy_Left-Cerebellum-White-Matter anatomy_BrainSegVol-to-eTIV\", \"anatomy_Left-Pallidum anatomy_CC_Anterior\", \"anatomy_lh_precuneus_area anatomy_Right-Pallidum\", \"anatomy_lh_lateraloccipital_area anatomy_lh_parahippocampal_area\", \"anatomy_lh_supramarginal_area anatomy_Left-Inf-Lat-Vent\", \"anatomy_lh_parahippocampal_area anatomy_rh_lateraloccipital_area\", \"anatomy_lh_posteriorcingulate_area anatomy_CC_Central\", \"anatomy_lh_posteriorcingulate_area anatomy_rh_lateraloccipital_area\", \"anatomy_lh_paracentral_area anatomy_lh_frontalpole_area\", \"anatomy_lh_caudalanteriorcingulate_area anatomy_Right-Lateral-Ventricle\", \"anatomy_lh_frontalpole_area anatomy_rh_precentral_area\", \"anatomy_4th-Ventricle anatomy_Optic-Chiasm\", \"anatomy_rh_superiortemporal_thickness anatomy_Left-vessel\", \"anatomy_rh_entorhinal_thickness anatomy_Left-Cerebellum-Cortex\", \"anatomy_rh_fusiform_area anatomy_rh_rostralanteriorcingulate_area\", \"anatomy_lh_parahippocampal_area anatomy_CC_Posterior\", \"anatomy_lh_lateraloccipital_area anatomy_Right-Lateral-Ventricle\", \"anatomy_rh_rostralanteriorcingulate_thickness anatomy_4th-Ventricle\", \"anatomy_lh_cuneus_area anatomy_lh_pericalcarine_thickness\", \"anatomy_rh_medialorbitofrontal_thickness anatomy_4th-Ventricle\", \"anatomy_Left-vessel anatomy_Right-Cerebellum-White-Matter\", \"anatomy_lh_bankssts_area anatomy_rh_entorhinal_thickness\", \"anatomy_rh_temporalpole_area anatomy_rh_transversetemporal_thickness\", \"anatomy_lh_precuneus_area anatomy_Left-Amygdala\", \"anatomy_rh_superiorparietal_area anatomy_CC_Posterior\", \"anatomy_Right-Pallidum anatomy_CC_Mid_Anterior\", \"anatomy_lh_middletemporal_area participants_sex\", \"anatomy_rh_rostralanteriorcingulate_area anatomy_Left-vessel\", \"anatomy_lh_bankssts_area anatomy_Right-Hippocampus\", \"anatomy_lh_postcentral_thickness anatomy_lh_frontalpole_thickness\", \"anatomy_lh_posteriorcingulate_thickness anatomy_CC_Posterior\", \"anatomy_lh_parahippocampal_area anatomy_lh_parstriangularis_area\", \"anatomy_lh_superiorfrontal_area anatomy_rh_parsopercularis_area\", \"anatomy_rh_parsorbitalis_area anatomy_lhSurfaceHoles\", \"anatomy_rh_parsorbitalis_area anatomy_Left-Hippocampus\", \"anatomy_Right-Accumbens-area anatomy_WM-hypointensities\", \"anatomy_Left-Lateral-Ventricle anatomy_Right-Cerebellum-White-Matter\", \"anatomy_Left-Inf-Lat-Vent anatomy_Right-Thalamus-Proper\", \"anatomy_lh_transversetemporal_thickness anatomy_Right-vessel\", \"anatomy_rh_fusiform_area anatomy_rh_lateraloccipital_area\", \"anatomy_rh_caudalanteriorcingulate_thickness anatomy_Optic-Chiasm\", \"anatomy_rh_superiorparietal_area anatomy_lh_transversetemporal_thickness\", \"anatomy_rh_entorhinal_area anatomy_rh_parahippocampal_thickness\", \"anatomy_rh_isthmuscingulate_area anatomy_Left-Inf-Lat-Vent\", \"anatomy_rh_supramarginal_area anatomy_rh_rostralanteriorcingulate_thickness\", \"anatomy_lh_caudalanteriorcingulate_area anatomy_lh_rostralanteriorcingulate_thickness\", \"anatomy_lh_lingual_area anatomy_rh_rostralmiddlefrontal_area\", \"anatomy_rh_superiorparietal_area anatomy_Right-Inf-Lat-Vent\", \"anatomy_rh_cuneus_area anatomy_lh_lingual_thickness\", \"anatomy_rh_cuneus_thickness anatomy_rh_frontalpole_thickness\", \"anatomy_lh_pericalcarine_thickness anatomy_lh_frontalpole_thickness\", \"anatomy_lh_paracentral_area anatomy_lh_rostralanteriorcingulate_thickness\", \"anatomy_lh_lateralorbitofrontal_area anatomy_Right-vessel\", \"anatomy_lh_entorhinal_area anatomy_Left-Amygdala\", \"anatomy_lh_frontalpole_area anatomy_rh_superiorfrontal_area\", \"anatomy_rh_isthmuscingulate_area anatomy_rh_precentral_area\", \"anatomy_lh_parahippocampal_area anatomy_rh_isthmuscingulate_thickness\", \"anatomy_lh_lateraloccipital_area anatomy_3rd-Ventricle\", \"anatomy_rh_frontalpole_area anatomy_4th-Ventricle\", \"anatomy_rh_lateralorbitofrontal_area anatomy_CC_Posterior\", \"anatomy_rh_parahippocampal_area anatomy_lh_isthmuscingulate_thickness\", \"anatomy_lh_entorhinal_area anatomy_rh_parstriangularis_area\", \"anatomy_lh_precuneus_area anatomy_SubCortGrayVol\", \"anatomy_lh_paracentral_thickness anatomy_Left-Cerebellum-White-Matter\", \"anatomy_rh_bankssts_area anatomy_rh_inferiorparietal_area\", \"anatomy_rh_parsorbitalis_area anatomy_rhSurfaceHoles\", \"anatomy_rh_entorhinal_area anatomy_Left-Lateral-Ventricle\", \"anatomy_lh_parsorbitalis_area anatomy_WM-hypointensities\", \"anatomy_rh_parstriangularis_area anatomy_rh_supramarginal_area\", \"anatomy_lh_parsorbitalis_area anatomy_Left-Cerebellum-White-Matter\", \"anatomy_lh_parahippocampal_area anatomy_Right-Cerebellum-White-Matter\", \"anatomy_rh_parsorbitalis_area anatomy_SurfaceHoles\", \"anatomy_lh_superiorparietal_area anatomy_CC_Posterior\", \"anatomy_3rd-Ventricle anatomy_Right-Inf-Lat-Vent\", \"anatomy_rh_superiorparietal_area anatomy_Right-choroid-plexus\", \"anatomy_Left-Amygdala anatomy_Right-Pallidum\", \"anatomy_lh_parsopercularis_area anatomy_4th-Ventricle\", \"anatomy_rh_medialorbitofrontal_area anatomy_CC_Mid_Posterior\", \"anatomy_rh_entorhinal_thickness anatomy_Right-choroid-plexus\", \"anatomy_lh_precentral_area anatomy_Optic-Chiasm\", \"anatomy_rh_entorhinal_area anatomy_Right-vessel\", \"anatomy_lh_entorhinal_area anatomy_Brain-Stem\", \"anatomy_lh_caudalanteriorcingulate_area anatomy_lh_parsorbitalis_area\", \"anatomy_rh_caudalmiddlefrontal_thickness anatomy_Right-Inf-Lat-Vent\", \"anatomy_lh_parsopercularis_area anatomy_lh_transversetemporal_area\", \"anatomy_rh_rostralanteriorcingulate_thickness anatomy_Left-Accumbens-area\", \"anatomy_lh_caudalanteriorcingulate_area anatomy_rh_posteriorcingulate_area\", \"anatomy_rh_entorhinal_area anatomy_lh_paracentral_thickness\", \"anatomy_lh_rostralanteriorcingulate_area anatomy_Left-Putamen\", \"anatomy_rh_medialorbitofrontal_area anatomy_CC_Anterior\", \"anatomy_lh_postcentral_area anatomy_rh_medialorbitofrontal_thickness\", \"anatomy_lh_temporalpole_area anatomy_Right-vessel\", \"anatomy_lh_fusiform_thickness anatomy_Right-Accumbens-area\", \"anatomy_lh_supramarginal_area anatomy_rh_bankssts_area\", \"anatomy_rh_cuneus_area anatomy_lh_insula_thickness\", \"anatomy_rh_frontalpole_area anatomy_lhSurfaceHoles\", \"anatomy_lh_entorhinal_area anatomy_lh_middletemporal_area\", \"anatomy_rh_medialorbitofrontal_area anatomy_CC_Posterior\", \"anatomy_lh_rostralanteriorcingulate_thickness anatomy_4th-Ventricle\", \"anatomy_CSF anatomy_Right-Cerebellum-Cortex\", \"anatomy_lh_precuneus_area anatomy_Right-Thalamus-Proper\", \"anatomy_lh_lateralorbitofrontal_area anatomy_Right-Hippocampus\", \"anatomy_lh_cuneus_area anatomy_lh_parahippocampal_area\", \"anatomy_rh_isthmuscingulate_thickness anatomy_Right-Lateral-Ventricle\", \"anatomy_lh_inferiortemporal_area anatomy_rh_supramarginal_area\", \"anatomy_rh_insula_area anatomy_Right-vessel\", \"anatomy_lh_supramarginal_area anatomy_lh_parahippocampal_thickness\", \"anatomy_lh_frontalpole_area anatomy_rh_parahippocampal_area\", \"anatomy_rh_superiorparietal_area anatomy_4th-Ventricle\", \"anatomy_rh_pericalcarine_area anatomy_lh_lingual_thickness\", \"anatomy_rh_rostralanteriorcingulate_area anatomy_rhSurfaceHoles\", \"anatomy_Left-Lateral-Ventricle anatomy_Left-Hippocampus\", \"anatomy_Right-Lateral-Ventricle anatomy_SurfaceHoles\", \"anatomy_CC_Anterior participants_age\", \"anatomy_lh_parsorbitalis_thickness anatomy_Right-Hippocampus\", \"anatomy_rh_rostralanteriorcingulate_area anatomy_CC_Mid_Posterior\", \"anatomy_lh_caudalanteriorcingulate_thickness anatomy_Right-Accumbens-area\", \"anatomy_Left-Lateral-Ventricle anatomy_Left-Inf-Lat-Vent\", \"anatomy_lh_posteriorcingulate_area anatomy_rh_bankssts_area\", \"anatomy_rh_entorhinal_area anatomy_BrainSegVol-to-eTIV\", \"anatomy_rh_lateraloccipital_area anatomy_rh_rostralanteriorcingulate_area\", \"anatomy_rh_parahippocampal_area anatomy_CC_Central\", \"anatomy_rh_precentral_area anatomy_Right-choroid-plexus\", \"anatomy_rh_paracentral_area anatomy_rh_posteriorcingulate_area\", \"anatomy_rh_lateralorbitofrontal_thickness anatomy_CC_Mid_Anterior\", \"anatomy_rh_entorhinal_area anatomy_lh_superiortemporal_thickness\", \"anatomy_lh_precentral_area anatomy_Right-choroid-plexus\", \"anatomy_rh_lingual_thickness anatomy_Right-choroid-plexus\", \"anatomy_lh_precentral_area anatomy_MaskVol-to-eTIV\", \"anatomy_lh_parstriangularis_area anatomy_Left-Pallidum\", \"anatomy_lh_medialorbitofrontal_area anatomy_Right-Putamen\", \"anatomy_lh_frontalpole_area anatomy_Left-Lateral-Ventricle\", \"anatomy_rh_lateralorbitofrontal_area anatomy_CC_Anterior\", \"anatomy_lh_parstriangularis_area anatomy_lh_entorhinal_thickness\", \"anatomy_lh_rostralanteriorcingulate_thickness anatomy_Right-Hippocampus\", \"anatomy_lh_caudalanteriorcingulate_thickness anatomy_Optic-Chiasm\", \"anatomy_lh_inferiorparietal_area anatomy_lh_parahippocampal_area\", \"anatomy_lh_insula_area anatomy_rh_parahippocampal_area\", \"anatomy_lh_isthmuscingulate_area anatomy_rh_isthmuscingulate_area\", \"anatomy_lh_middletemporal_area anatomy_lh_bankssts_thickness\", \"anatomy_lh_caudalanteriorcingulate_area anatomy_Right-Cerebellum-White-Matter\", \"anatomy_rh_caudalmiddlefrontal_area anatomy_Left-Inf-Lat-Vent\", \"anatomy_Right-Lateral-Ventricle anatomy_Right-Cerebellum-Cortex\", \"anatomy_lh_medialorbitofrontal_area anatomy_Right-VentralDC\", \"anatomy_lh_bankssts_area anatomy_rh_cuneus_thickness\", \"anatomy_lh_insula_area anatomy_rh_temporalpole_thickness\", \"anatomy_Left-Amygdala anatomy_Left-Accumbens-area\", \"anatomy_lh_inferiortemporal_area anatomy_Left-Cerebellum-White-Matter\", \"anatomy_lh_frontalpole_thickness anatomy_Left-vessel\", \"anatomy_rh_cuneus_thickness anatomy_Optic-Chiasm\", \"anatomy_lh_parstriangularis_area anatomy_rh_supramarginal_area\", \"anatomy_rh_caudalanteriorcingulate_area participants_sex\", \"anatomy_lh_lingual_area anatomy_rh_parsorbitalis_area\", \"anatomy_Left-Hippocampus participants_sex\", \"anatomy_lh_inferiorparietal_area anatomy_Right-VentralDC\", \"anatomy_lh_lateraloccipital_area anatomy_CSF\", \"anatomy_rh_parahippocampal_thickness participants_sex\", \"anatomy_lh_pericalcarine_area anatomy_lh_supramarginal_area\", \"anatomy_Right-vessel anatomy_5th-Ventricle\", \"anatomy_lh_superiorfrontal_area anatomy_rh_pericalcarine_thickness\", \"anatomy_rh_pericalcarine_thickness anatomy_3rd-Ventricle\", \"anatomy_rh_frontalpole_area anatomy_rh_caudalmiddlefrontal_thickness\", \"anatomy_lh_parsorbitalis_area anatomy_rh_parahippocampal_area\", \"anatomy_rh_caudalmiddlefrontal_area anatomy_Right-Cerebellum-White-Matter\", \"anatomy_rh_entorhinal_thickness anatomy_Right-Cerebellum-Cortex\", \"anatomy_rh_entorhinal_area anatomy_rh_superiortemporal_thickness\", \"anatomy_lh_parsorbitalis_area anatomy_Left-Lateral-Ventricle\", \"anatomy_rh_pericalcarine_thickness anatomy_CSF\", \"anatomy_Left-Pallidum anatomy_Right-Inf-Lat-Vent\", \"anatomy_lh_rostralanteriorcingulate_thickness anatomy_lhCerebralWhiteMatterVol\", \"anatomy_lh_parsorbitalis_area anatomy_4th-Ventricle\", \"anatomy_lh_inferiorparietal_area anatomy_CC_Posterior\", \"anatomy_rh_frontalpole_thickness anatomy_Right-vessel\", \"anatomy_rh_caudalmiddlefrontal_area anatomy_rh_pericalcarine_thickness\", \"anatomy_lh_bankssts_area anatomy_Left-choroid-plexus\", \"anatomy_lh_transversetemporal_area anatomy_Optic-Chiasm\", \"anatomy_3rd-Ventricle anatomy_CC_Mid_Anterior\", \"anatomy_lh_paracentral_area anatomy_rh_rostralanteriorcingulate_thickness\", \"anatomy_lh_bankssts_area anatomy_lh_caudalanteriorcingulate_area\", \"anatomy_lh_superiorfrontal_area anatomy_rh_parstriangularis_area\", \"anatomy_lh_posteriorcingulate_thickness anatomy_CC_Mid_Posterior\", \"anatomy_lh_inferiorparietal_area anatomy_Brain-Stem\", \"anatomy_rh_medialorbitofrontal_area anatomy_Left-Pallidum\", \"anatomy_lh_pericalcarine_thickness anatomy_Right-Inf-Lat-Vent\", \"anatomy_rh_insula_area anatomy_Optic-Chiasm\", \"anatomy_lh_entorhinal_thickness participants_sex\", \"anatomy_rh_parahippocampal_area anatomy_lhCerebralWhiteMatterVol\", \"anatomy_lh_medialorbitofrontal_area anatomy_CC_Posterior\", \"anatomy_lh_temporalpole_thickness anatomy_CC_Posterior\", \"anatomy_lh_insula_area anatomy_lh_temporalpole_thickness\", \"anatomy_rh_superiorparietal_area anatomy_Left-Inf-Lat-Vent\", \"anatomy_lh_caudalmiddlefrontal_area anatomy_rh_rostralmiddlefrontal_thickness\", \"anatomy_rh_isthmuscingulate_thickness anatomy_rh_transversetemporal_thickness\", \"anatomy_lh_precuneus_area anatomy_CC_Central\", \"anatomy_lh_cuneus_thickness participants_sex\", \"anatomy_lh_lingual_area anatomy_4th-Ventricle\", \"anatomy_lh_lateraloccipital_area anatomy_rh_parstriangularis_area\", \"anatomy_lh_caudalanteriorcingulate_area anatomy_rh_paracentral_area\", \"anatomy_lh_insula_area anatomy_rh_rostralanteriorcingulate_area\", \"anatomy_rh_superiortemporal_thickness anatomy_CC_Central\", \"anatomy_lh_fusiform_area anatomy_rh_lateraloccipital_area\", \"anatomy_lh_entorhinal_area anatomy_CC_Mid_Posterior\", \"anatomy_lh_superiorparietal_area anatomy_lh_transversetemporal_thickness\", \"anatomy_rh_lateraloccipital_thickness anatomy_Left-vessel\", \"anatomy_rh_entorhinal_area anatomy_Right-Amygdala\", \"anatomy_WM-hypointensities anatomy_Optic-Chiasm\", \"anatomy_lh_frontalpole_thickness anatomy_WM-hypointensities\", \"anatomy_rh_bankssts_area anatomy_rh_posteriorcingulate_area\", \"anatomy_lh_entorhinal_thickness anatomy_rh_cuneus_thickness\", \"anatomy_lh_lateralorbitofrontal_area anatomy_Right-Inf-Lat-Vent\", \"anatomy_rh_parsopercularis_area anatomy_rh_medialorbitofrontal_thickness\", \"anatomy_Right-Inf-Lat-Vent anatomy_CC_Central\", \"anatomy_rh_frontalpole_thickness anatomy_Left-Accumbens-area\", \"anatomy_rh_lingual_area anatomy_CC_Posterior\", \"anatomy_rh_fusiform_area anatomy_rh_frontalpole_thickness\", \"anatomy_rh_temporalpole_thickness anatomy_CC_Anterior\", \"anatomy_CC_Mid_Anterior anatomy_rhSurfaceHoles\", \"anatomy_lh_cuneus_area anatomy_rh_isthmuscingulate_area\", \"anatomy_rh_temporalpole_thickness anatomy_CC_Mid_Posterior\", \"anatomy_lh_supramarginal_area anatomy_lh_temporalpole_thickness\", \"anatomy_rh_postcentral_area anatomy_CC_Mid_Anterior\", \"anatomy_lh_caudalanteriorcingulate_area anatomy_CC_Anterior\", \"anatomy_lh_insula_area anatomy_rh_transversetemporal_thickness\", \"anatomy_rh_rostralanteriorcingulate_thickness anatomy_Left-Caudate\", \"anatomy_lh_bankssts_area anatomy_Left-Putamen\", \"anatomy_rh_cuneus_area anatomy_rh_isthmuscingulate_thickness\", \"anatomy_rh_parstriangularis_area anatomy_rh_superiorparietal_area\", \"anatomy_lh_caudalanteriorcingulate_area anatomy_lh_lateralorbitofrontal_area\", \"anatomy_lh_middletemporal_area anatomy_CC_Central\", \"anatomy_lh_caudalanteriorcingulate_area anatomy_lh_posteriorcingulate_area\", \"anatomy_Left-Lateral-Ventricle anatomy_Left-Amygdala\", \"anatomy_rh_parstriangularis_area anatomy_rh_frontalpole_area\", \"anatomy_lh_bankssts_area anatomy_rh_bankssts_area\", \"anatomy_lh_rostralanteriorcingulate_area anatomy_rh_frontalpole_thickness\", \"anatomy_lh_pericalcarine_area anatomy_rh_transversetemporal_area\", \"anatomy_rh_postcentral_area anatomy_Left-choroid-plexus\", \"anatomy_lh_supramarginal_area anatomy_rh_precentral_thickness\", \"anatomy_lh_cuneus_area anatomy_MaskVol-to-eTIV\", \"anatomy_rh_parsopercularis_area anatomy_rh_frontalpole_thickness\", \"anatomy_WM-hypointensities anatomy_CC_Mid_Posterior\", \"anatomy_lh_frontalpole_thickness anatomy_SurfaceHoles\", \"anatomy_lh_isthmuscingulate_thickness anatomy_Left-Hippocampus\", \"anatomy_rh_parahippocampal_area anatomy_Right-Hippocampus\", \"anatomy_rh_posteriorcingulate_thickness anatomy_CC_Mid_Posterior\", \"anatomy_lh_caudalmiddlefrontal_area anatomy_rh_frontalpole_thickness\", \"anatomy_lh_caudalanteriorcingulate_thickness anatomy_lhCerebralWhiteMatterVol\", \"anatomy_rh_frontalpole_area anatomy_Right-Lateral-Ventricle\", \"anatomy_lh_superiorfrontal_area anatomy_lh_frontalpole_area\", \"anatomy_rh_temporalpole_thickness participants_age\", \"anatomy_lh_posteriorcingulate_area anatomy_Right-Inf-Lat-Vent\", \"anatomy_lh_parsopercularis_area anatomy_CC_Central\", \"anatomy_rh_fusiform_area anatomy_rh_cuneus_thickness\", \"anatomy_Left-Accumbens-area anatomy_Right-Accumbens-area\", \"anatomy_CC_Posterior anatomy_MaskVol-to-eTIV\", \"anatomy_rh_parsopercularis_thickness anatomy_Right-Pallidum\", \"anatomy_lh_frontalpole_area anatomy_rh_supramarginal_area\", \"anatomy_rh_bankssts_thickness anatomy_Left-choroid-plexus\", \"anatomy_rh_entorhinal_area anatomy_rh_paracentral_thickness\", \"anatomy_lh_superiorfrontal_area anatomy_lh_temporalpole_thickness\", \"anatomy_rh_rostralanteriorcingulate_thickness anatomy_Right-Hippocampus\", \"anatomy_rh_isthmuscingulate_area anatomy_rh_pericalcarine_area\", \"anatomy_lh_caudalanteriorcingulate_thickness anatomy_Right-choroid-plexus\", \"anatomy_lh_bankssts_thickness participants_sex\", \"anatomy_rh_bankssts_area anatomy_rh_parstriangularis_thickness\", \"anatomy_lh_precuneus_area anatomy_rh_isthmuscingulate_area\", \"anatomy_rh_cuneus_area anatomy_rh_pericalcarine_thickness\", \"anatomy_rh_caudalanteriorcingulate_area anatomy_lh_entorhinal_thickness\", \"anatomy_rh_caudalanteriorcingulate_area anatomy_Right-Inf-Lat-Vent\", \"anatomy_rh_inferiortemporal_area anatomy_Right-Inf-Lat-Vent\", \"anatomy_rh_parstriangularis_area anatomy_rhSurfaceHoles\", \"anatomy_lh_paracentral_area anatomy_lh_transversetemporal_thickness\", \"anatomy_lh_caudalmiddlefrontal_area anatomy_rh_lateralorbitofrontal_thickness\", \"anatomy_rh_lateralorbitofrontal_area participants_sex\", \"anatomy_lh_medialorbitofrontal_area anatomy_Left-Accumbens-area\", \"anatomy_rh_caudalanteriorcingulate_area anatomy_rh_parstriangularis_thickness\", \"anatomy_rh_lingual_area anatomy_3rd-Ventricle\", \"anatomy_lh_rostralanteriorcingulate_area anatomy_rh_rostralanteriorcingulate_area\", \"anatomy_5th-Ventricle anatomy_Optic-Chiasm\", \"anatomy_rh_isthmuscingulate_area anatomy_rh_temporalpole_area\", \"anatomy_lh_parsorbitalis_thickness anatomy_Left-Hippocampus\", \"anatomy_rh_posteriorcingulate_area anatomy_rh_rostralanteriorcingulate_area\", \"anatomy_lh_superiorparietal_area participants_age\", \"anatomy_rh_parstriangularis_area anatomy_lhSurfaceHoles\", \"anatomy_Left-Lateral-Ventricle anatomy_non-WM-hypointensities\", \"anatomy_rh_cuneus_area anatomy_rh_parstriangularis_area\", \"anatomy_Left-Inf-Lat-Vent anatomy_3rd-Ventricle\", \"anatomy_lh_precentral_area anatomy_lh_frontalpole_area\", \"anatomy_CSF anatomy_Left-vessel\", \"anatomy_rh_lingual_area anatomy_4th-Ventricle\", \"anatomy_lh_inferiortemporal_area anatomy_CC_Anterior\", \"anatomy_rh_postcentral_area anatomy_rh_supramarginal_area\", \"anatomy_lh_temporalpole_area anatomy_lh_caudalanteriorcingulate_thickness\", \"anatomy_rh_temporalpole_area anatomy_4th-Ventricle\", \"anatomy_rh_parstriangularis_area anatomy_SurfaceHoles\", \"anatomy_rh_lateraloccipital_area anatomy_4th-Ventricle\", \"anatomy_lh_fusiform_area anatomy_lh_isthmuscingulate_thickness\", \"anatomy_rh_parsopercularis_area anatomy_Optic-Chiasm\", \"anatomy_rh_lateraloccipital_area anatomy_rh_frontalpole_thickness\", \"anatomy_lh_parahippocampal_area anatomy_rh_lingual_area\", \"anatomy_lh_pericalcarine_area participants_age\", \"anatomy_lh_lingual_area anatomy_lh_lingual_thickness\", \"anatomy_rh_medialorbitofrontal_area anatomy_Left-Accumbens-area\", \"anatomy_rh_rostralanteriorcingulate_thickness anatomy_Left-Pallidum\", \"anatomy_lh_entorhinal_area anatomy_lh_isthmuscingulate_thickness\", \"anatomy_rh_caudalanteriorcingulate_thickness anatomy_Right-Pallidum\", \"anatomy_rh_caudalmiddlefrontal_area anatomy_CC_Posterior\", \"anatomy_rh_parahippocampal_thickness participants_age\", \"anatomy_lh_fusiform_area anatomy_Left-Lateral-Ventricle\", \"anatomy_lh_cuneus_thickness anatomy_Left-vessel\", \"anatomy_Right-Inf-Lat-Vent anatomy_Right-choroid-plexus\", \"anatomy_MaskVol-to-eTIV participants_age\", \"anatomy_rh_isthmuscingulate_area anatomy_rh_temporalpole_thickness\", \"anatomy_rh_lingual_area anatomy_Left-Cerebellum-Cortex\", \"anatomy_lh_parsopercularis_area anatomy_rh_transversetemporal_area\", \"anatomy_lh_caudalanteriorcingulate_area anatomy_Right-Putamen\", \"anatomy_lh_posteriorcingulate_thickness anatomy_4th-Ventricle\", \"anatomy_lh_parahippocampal_area anatomy_lh_pericalcarine_area\", \"anatomy_Right-Caudate participants_sex\", \"anatomy_rh_supramarginal_area anatomy_Right-Accumbens-area\", \"anatomy_Right-Cerebellum-White-Matter anatomy_CC_Mid_Anterior\", \"anatomy_rh_caudalanteriorcingulate_area anatomy_rh_rostralanteriorcingulate_area\", \"anatomy_rh_lingual_area anatomy_rh_parstriangularis_area\", \"anatomy_Right-Lateral-Ventricle anatomy_lhSurfaceHoles\", \"anatomy_lh_pericalcarine_thickness anatomy_Left-choroid-plexus\", \"anatomy_rh_precuneus_area anatomy_Left-vessel\", \"anatomy_Left-choroid-plexus participants_age\", \"anatomy_lh_medialorbitofrontal_area anatomy_Left-Pallidum\", \"anatomy_rh_isthmuscingulate_thickness anatomy_Right-choroid-plexus\", \"anatomy_Left-Lateral-Ventricle anatomy_4th-Ventricle\", \"anatomy_rh_precuneus_area anatomy_Left-Pallidum\", \"anatomy_rh_supramarginal_area anatomy_rh_insula_area\", \"anatomy_lh_lateralorbitofrontal_area anatomy_4th-Ventricle\", \"anatomy_lh_parsorbitalis_area anatomy_SubCortGrayVol\", \"anatomy_lh_paracentral_area anatomy_rh_temporalpole_thickness\", \"anatomy_lh_caudalanteriorcingulate_area anatomy_Left-Putamen\", \"anatomy_lh_caudalmiddlefrontal_area anatomy_lh_frontalpole_thickness\", \"anatomy_lh_superiorparietal_area anatomy_lh_temporalpole_thickness\", \"anatomy_lh_caudalanteriorcingulate_thickness anatomy_CSF\", \"anatomy_rh_temporalpole_area anatomy_Right-choroid-plexus\", \"anatomy_rh_parahippocampal_thickness anatomy_CC_Mid_Anterior\", \"anatomy_rh_frontalpole_thickness anatomy_rh_transversetemporal_thickness\", \"anatomy_lh_temporalpole_thickness anatomy_CC_Mid_Anterior\", \"anatomy_Right-Accumbens-area participants_sex\", \"anatomy_lh_cuneus_area anatomy_Optic-Chiasm\", \"anatomy_lh_parstriangularis_area anatomy_Left-vessel\", \"anatomy_Right-Pallidum anatomy_CC_Central\", \"anatomy_WM-hypointensities anatomy_CC_Posterior\", \"anatomy_rh_isthmuscingulate_area anatomy_Right-Inf-Lat-Vent\", \"anatomy_lh_isthmuscingulate_area anatomy_rh_temporalpole_area\", \"anatomy_rh_lateraloccipital_thickness anatomy_Right-choroid-plexus\", \"anatomy_lh_parsopercularis_area anatomy_CC_Posterior\", \"anatomy_lh_middletemporal_area anatomy_lh_transversetemporal_area\", \"anatomy_lh_paracentral_thickness anatomy_Brain-Stem\", \"anatomy_lh_entorhinal_area anatomy_rh_rostralanteriorcingulate_thickness\", \"anatomy_lh_superiorparietal_area anatomy_lh_entorhinal_thickness\", \"anatomy_lh_rostralanteriorcingulate_thickness participants_age\", \"anatomy_lh_superiorfrontal_area anatomy_rh_temporalpole_thickness\", \"anatomy_rh_isthmuscingulate_area anatomy_Optic-Chiasm\", \"anatomy_rh_parstriangularis_area anatomy_rh_pericalcarine_area\", \"anatomy_rh_temporalpole_thickness anatomy_CC_Mid_Anterior\", \"anatomy_rh_caudalanteriorcingulate_area anatomy_rh_posteriorcingulate_area\", \"anatomy_lh_medialorbitofrontal_area anatomy_Right-Pallidum\", \"anatomy_lh_rostralmiddlefrontal_area anatomy_Optic-Chiasm\", \"anatomy_lh_inferiorparietal_area participants_age\", \"anatomy_rh_frontalpole_area anatomy_Right-choroid-plexus\", \"anatomy_rh_bankssts_area anatomy_rh_postcentral_area\", \"anatomy_Right-choroid-plexus anatomy_CC_Posterior\", \"anatomy_rh_caudalanteriorcingulate_area anatomy_rh_parsopercularis_thickness\", \"anatomy_rh_insula_area anatomy_4th-Ventricle\", \"anatomy_rh_supramarginal_area anatomy_rh_temporalpole_area\", \"anatomy_rh_postcentral_area anatomy_CC_Posterior\", \"anatomy_Right-Pallidum anatomy_CC_Anterior\", \"anatomy_lh_bankssts_area anatomy_lh_parahippocampal_thickness\", \"anatomy_rh_superiorparietal_thickness anatomy_Optic-Chiasm\", \"anatomy_Left-vessel anatomy_Right-Pallidum\", \"anatomy_lh_precuneus_area anatomy_Left-Pallidum\", \"anatomy_rh_bankssts_area anatomy_rh_paracentral_area\", \"anatomy_lh_rostralanteriorcingulate_thickness anatomy_Left-Hippocampus\", \"anatomy_rh_frontalpole_area anatomy_3rd-Ventricle\", \"anatomy_lh_caudalmiddlefrontal_area anatomy_SurfaceHoles\", \"anatomy_lh_precuneus_area anatomy_Left-Putamen\", \"anatomy_rh_parsorbitalis_area anatomy_CC_Central\", \"anatomy_rh_lingual_area anatomy_Right-Cerebellum-Cortex\", \"anatomy_rh_parahippocampal_thickness anatomy_rh_frontalpole_thickness\", \"anatomy_rh_rostralanteriorcingulate_thickness anatomy_Brain-Stem\", \"anatomy_Left-Cerebellum-White-Matter anatomy_CC_Anterior\", \"anatomy_CC_Central participants_sex\", \"anatomy_lh_supramarginal_area anatomy_rh_inferiorparietal_area\", \"anatomy_rh_isthmuscingulate_area anatomy_Right-vessel\", \"anatomy_rh_rostralanteriorcingulate_thickness anatomy_Right-Pallidum\", \"anatomy_lh_pericalcarine_area anatomy_4th-Ventricle\", \"anatomy_CC_Anterior anatomy_MaskVol-to-eTIV\", \"anatomy_lh_precuneus_area anatomy_Right-Putamen\", \"anatomy_rh_lingual_area anatomy_rh_parsorbitalis_area\", \"anatomy_lh_lateraloccipital_area anatomy_4th-Ventricle\", \"anatomy_lh_isthmuscingulate_area anatomy_CC_Mid_Anterior\", \"anatomy_lh_parsorbitalis_area anatomy_MaskVol-to-eTIV\", \"anatomy_lh_frontalpole_thickness anatomy_lhSurfaceHoles\", \"anatomy_lh_caudalmiddlefrontal_area anatomy_rh_medialorbitofrontal_thickness\", \"anatomy_lh_caudalmiddlefrontal_area anatomy_Left-Cerebellum-White-Matter\", \"anatomy_Left-Cerebellum-Cortex anatomy_Left-choroid-plexus\", \"anatomy_rh_parsorbitalis_thickness anatomy_CC_Mid_Posterior\", \"anatomy_rh_entorhinal_area anatomy_Left-choroid-plexus\", \"anatomy_lh_transversetemporal_area anatomy_rh_parsopercularis_area\", \"anatomy_lh_parsopercularis_area anatomy_lh_precentral_area\", \"anatomy_Right-choroid-plexus anatomy_Optic-Chiasm\", \"anatomy_lh_lingual_thickness anatomy_Left-vessel\", \"anatomy_rh_isthmuscingulate_area anatomy_rh_parstriangularis_area\", \"anatomy_lh_parsopercularis_area anatomy_CC_Mid_Anterior\", \"anatomy_Right-Caudate anatomy_CC_Mid_Posterior\", \"anatomy_lh_precentral_area anatomy_lh_rostralanteriorcingulate_thickness\", \"anatomy_rh_caudalanteriorcingulate_area anatomy_lh_fusiform_thickness\", \"anatomy_rh_parsopercularis_area anatomy_rh_insula_area\", \"anatomy_rh_isthmuscingulate_area participants_sex\", \"anatomy_lh_superiorparietal_area anatomy_CC_Central\", \"anatomy_rh_parsopercularis_area anatomy_rh_posteriorcingulate_area\", \"anatomy_lh_temporalpole_thickness anatomy_CC_Anterior\", \"anatomy_Right-Cerebellum-Cortex anatomy_CC_Anterior\", \"anatomy_CSF anatomy_CC_Posterior\", \"anatomy_rh_fusiform_area anatomy_rh_lingual_area\", \"anatomy_lh_transversetemporal_area anatomy_Left-Inf-Lat-Vent\", \"anatomy_lh_pericalcarine_area anatomy_Right-Cerebellum-Cortex\", \"anatomy_lh_parahippocampal_area anatomy_rh_rostralanteriorcingulate_area\", \"anatomy_rh_caudalanteriorcingulate_area anatomy_rh_fusiform_area\", \"anatomy_Left-Lateral-Ventricle anatomy_Right-Cerebellum-Cortex\", \"anatomy_lh_fusiform_area anatomy_rh_cuneus_thickness\", \"anatomy_Left-vessel anatomy_non-WM-hypointensities\", \"anatomy_lh_rostralanteriorcingulate_area anatomy_rh_caudalanteriorcingulate_area\", \"anatomy_Left-Cerebellum-Cortex anatomy_Right-Lateral-Ventricle\", \"anatomy_rh_cuneus_area anatomy_lh_rostralanteriorcingulate_thickness\", \"anatomy_lh_caudalmiddlefrontal_area anatomy_lh_medialorbitofrontal_thickness\", \"anatomy_lh_parsopercularis_area anatomy_rh_frontalpole_thickness\", \"anatomy_lh_posteriorcingulate_area anatomy_Optic-Chiasm\", \"anatomy_Left-Lateral-Ventricle participants_sex\", \"anatomy_lh_frontalpole_area anatomy_lh_isthmuscingulate_thickness\", \"anatomy_rh_paracentral_thickness anatomy_Left-Cerebellum-White-Matter\", \"anatomy_rh_entorhinal_thickness anatomy_Left-vessel\", \"anatomy_lh_entorhinal_area anatomy_lh_temporalpole_thickness\", \"anatomy_lh_caudalanteriorcingulate_area anatomy_Left-choroid-plexus\", \"anatomy_lh_bankssts_area anatomy_Right-Inf-Lat-Vent\", \"anatomy_rh_parahippocampal_area anatomy_rh_isthmuscingulate_thickness\", \"anatomy_CSF anatomy_CC_Mid_Anterior\", \"anatomy_rh_pericalcarine_area anatomy_Left-Cerebellum-Cortex\", \"anatomy_non-WM-hypointensities anatomy_CC_Mid_Anterior\", \"anatomy_Left-Lateral-Ventricle anatomy_Left-Cerebellum-Cortex\", \"anatomy_lh_paracentral_area anatomy_rh_posteriorcingulate_area\", \"anatomy_lh_inferiorparietal_area anatomy_lh_parsorbitalis_thickness\", \"anatomy_Left-choroid-plexus anatomy_Right-Cerebellum-Cortex\", \"anatomy_lh_temporalpole_area participants_sex\", \"anatomy_lh_rostralanteriorcingulate_area anatomy_Right-vessel\", \"anatomy_rh_inferiortemporal_area anatomy_Left-Inf-Lat-Vent\", \"anatomy_rh_parstriangularis_area anatomy_rh_transversetemporal_area\", \"anatomy_lh_temporalpole_area anatomy_Left-Inf-Lat-Vent\", \"anatomy_rh_caudalanteriorcingulate_area anatomy_lh_transversetemporal_thickness\", \"anatomy_lh_frontalpole_thickness anatomy_Optic-Chiasm\", \"anatomy_rh_cuneus_area anatomy_lh_pericalcarine_thickness\", \"anatomy_Left-Inf-Lat-Vent anatomy_Optic-Chiasm\", \"anatomy_rh_rostralanteriorcingulate_area anatomy_Right-vessel\", \"anatomy_rh_temporalpole_thickness participants_sex\", \"anatomy_lh_caudalanteriorcingulate_thickness anatomy_Left-Accumbens-area\", \"anatomy_lh_rostralanteriorcingulate_area anatomy_Left-Cerebellum-White-Matter\", \"anatomy_lh_caudalanteriorcingulate_area anatomy_rh_lingual_area\", \"anatomy_lh_parstriangularis_area anatomy_rh_parstriangularis_area\", \"anatomy_rh_rostralanteriorcingulate_thickness participants_sex\", \"anatomy_rh_caudalanteriorcingulate_area anatomy_rhSurfaceHoles\", \"anatomy_lh_entorhinal_area anatomy_rh_inferiorparietal_area\", \"anatomy_lh_cuneus_area anatomy_Right-Lateral-Ventricle\", \"anatomy_Left-Putamen anatomy_Left-Amygdala\", \"anatomy_lh_precentral_area anatomy_Left-choroid-plexus\", \"anatomy_lh_caudalmiddlefrontal_area anatomy_lh_frontalpole_area\", \"anatomy_lh_rostralanteriorcingulate_thickness anatomy_Right-Lateral-Ventricle\", \"anatomy_Left-Caudate participants_sex\", \"anatomy_rh_isthmuscingulate_area anatomy_rh_lingual_area\", \"anatomy_rh_rostralanteriorcingulate_area anatomy_CC_Posterior\", \"anatomy_rh_inferiorparietal_area anatomy_4th-Ventricle\", \"anatomy_CC_Mid_Posterior participants_sex\", \"anatomy_lh_entorhinal_area anatomy_Right-choroid-plexus\", \"anatomy_rh_temporalpole_thickness anatomy_CC_Central\", \"anatomy_lh_transversetemporal_area anatomy_lh_pericalcarine_thickness\", \"anatomy_rh_parstriangularis_area anatomy_rh_posteriorcingulate_area\", \"anatomy_rh_posteriorcingulate_area anatomy_3rd-Ventricle\", \"anatomy_5th-Ventricle participants_age\", \"anatomy_rh_supramarginal_area anatomy_Right-Inf-Lat-Vent\", \"anatomy_lh_parahippocampal_area anatomy_rh_pericalcarine_area\", \"anatomy_rh_cuneus_area anatomy_rh_caudalanteriorcingulate_thickness\", \"anatomy_rh_posteriorcingulate_area anatomy_lhSurfaceHoles\", \"anatomy_Left-choroid-plexus anatomy_Right-vessel\", \"anatomy_lh_transversetemporal_area anatomy_lh_rostralanteriorcingulate_thickness\", \"anatomy_lh_cuneus_thickness anatomy_rh_frontalpole_thickness\", \"anatomy_4th-Ventricle anatomy_Right-vessel\", \"anatomy_rh_parahippocampal_thickness anatomy_CC_Anterior\", \"anatomy_rh_parahippocampal_thickness anatomy_Left-choroid-plexus\", \"anatomy_rh_caudalanteriorcingulate_area anatomy_Right-Lateral-Ventricle\", \"anatomy_lh_parsopercularis_area anatomy_Left-vessel\", \"anatomy_rh_entorhinal_area anatomy_Left-Amygdala\", \"anatomy_Left-choroid-plexus participants_sex\", \"anatomy_rh_rostralanteriorcingulate_thickness anatomy_Left-Hippocampus\", \"anatomy_rh_posteriorcingulate_area participants_age\", \"anatomy_rh_isthmuscingulate_area anatomy_rh_rostralanteriorcingulate_area\", \"anatomy_rh_parahippocampal_area anatomy_CC_Mid_Posterior\", \"anatomy_lh_cuneus_area anatomy_3rd-Ventricle\", \"anatomy_lh_frontalpole_area anatomy_rh_caudalmiddlefrontal_area\", \"anatomy_rh_paracentral_area anatomy_Left-Inf-Lat-Vent\", \"anatomy_lh_temporalpole_thickness anatomy_CSF\", \"anatomy_rh_posteriorcingulate_area anatomy_rhSurfaceHoles\", \"anatomy_rh_superiortemporal_area anatomy_Left-vessel\", \"anatomy_rh_posteriorcingulate_area anatomy_SurfaceHoles\", \"anatomy_lh_caudalanteriorcingulate_area anatomy_CC_Mid_Posterior\", \"anatomy_rh_bankssts_area anatomy_rh_caudalmiddlefrontal_area\", \"anatomy_lh_pericalcarine_area anatomy_rh_parstriangularis_area\", \"anatomy_lh_entorhinal_area anatomy_Left-Lateral-Ventricle\", \"anatomy_lh_pericalcarine_area anatomy_Left-Cerebellum-Cortex\", \"anatomy_CC_Mid_Anterior anatomy_CC_Anterior\", \"anatomy_rh_precuneus_area anatomy_CC_Posterior\", \"anatomy_lh_parahippocampal_area anatomy_Right-vessel\", \"anatomy_lh_parsorbitalis_area anatomy_lh_rostralanteriorcingulate_area\", \"anatomy_rh_cuneus_area anatomy_rh_rostralanteriorcingulate_thickness\", \"anatomy_4th-Ventricle anatomy_non-WM-hypointensities\", \"anatomy_rh_lateralorbitofrontal_area anatomy_Right-vessel\", \"anatomy_CC_Mid_Anterior anatomy_MaskVol-to-eTIV\", \"anatomy_lh_caudalmiddlefrontal_area anatomy_rhSurfaceHoles\", \"anatomy_lh_entorhinal_area anatomy_4th-Ventricle\", \"anatomy_lh_isthmuscingulate_area anatomy_3rd-Ventricle\", \"anatomy_lh_frontalpole_area anatomy_rh_isthmuscingulate_area\", \"anatomy_rh_caudalanteriorcingulate_area anatomy_rh_temporalpole_thickness\", \"anatomy_lh_inferiortemporal_area participants_sex\", \"anatomy_lh_pericalcarine_thickness anatomy_CC_Central\", \"anatomy_lh_superiorparietal_area anatomy_rh_isthmuscingulate_area\", \"anatomy_lh_entorhinal_area anatomy_3rd-Ventricle\", \"anatomy_rh_caudalmiddlefrontal_area anatomy_rh_parstriangularis_area\", \"anatomy_Right-vessel anatomy_WM-hypointensities\", \"anatomy_lh_parsopercularis_area anatomy_CC_Mid_Posterior\", \"anatomy_4th-Ventricle anatomy_Left-choroid-plexus\", \"anatomy_CC_Mid_Anterior anatomy_BrainSegVol-to-eTIV\", \"anatomy_lh_inferiorparietal_area anatomy_4th-Ventricle\", \"anatomy_rh_pericalcarine_thickness anatomy_CC_Central\", \"anatomy_Right-Lateral-Ventricle anatomy_WM-hypointensities\", \"anatomy_Left-Cerebellum-White-Matter anatomy_Right-Inf-Lat-Vent\", \"anatomy_rh_caudalanteriorcingulate_thickness participants_sex\", \"anatomy_rh_caudalmiddlefrontal_area anatomy_Left-Cerebellum-White-Matter\", \"anatomy_lh_temporalpole_area anatomy_rh_cuneus_thickness\", \"anatomy_Right-choroid-plexus participants_sex\", \"anatomy_rh_inferiorparietal_area anatomy_Right-Inf-Lat-Vent\", \"anatomy_Left-Accumbens-area anatomy_Optic-Chiasm\", \"anatomy_rh_pericalcarine_thickness anatomy_Left-vessel\", \"anatomy_lh_frontalpole_area anatomy_Left-Inf-Lat-Vent\", \"anatomy_rh_superiorfrontal_area anatomy_rh_pericalcarine_thickness\", \"anatomy_lh_rostralmiddlefrontal_area anatomy_Right-Inf-Lat-Vent\", \"anatomy_lh_caudalanteriorcingulate_area anatomy_Left-Cerebellum-White-Matter\", \"anatomy_rh_precentral_area anatomy_rh_pericalcarine_thickness\", \"anatomy_Left-Lateral-Ventricle anatomy_5th-Ventricle\", \"anatomy_CSF anatomy_Optic-Chiasm\", \"anatomy_rh_posteriorcingulate_area anatomy_Right-Inf-Lat-Vent\", \"anatomy_lh_parsopercularis_area anatomy_Left-Inf-Lat-Vent\", \"anatomy_rh_pericalcarine_area anatomy_3rd-Ventricle\", \"anatomy_Left-Inf-Lat-Vent anatomy_Left-vessel\", \"anatomy_lh_bankssts_area anatomy_4th-Ventricle\", \"anatomy_rh_temporalpole_area anatomy_lh_entorhinal_thickness\", \"anatomy_lh_entorhinal_area anatomy_rh_entorhinal_thickness\", \"anatomy_lh_lingual_area anatomy_3rd-Ventricle\", \"anatomy_lh_cuneus_area anatomy_lh_posteriorcingulate_area\", \"anatomy_rh_isthmuscingulate_area anatomy_3rd-Ventricle\", \"anatomy_lh_parahippocampal_area anatomy_CC_Mid_Posterior\", \"anatomy_rh_lateraloccipital_area anatomy_3rd-Ventricle\", \"anatomy_rh_pericalcarine_thickness anatomy_CC_Mid_Anterior\", \"anatomy_CSF anatomy_Right-vessel\", \"anatomy_lh_rostralanteriorcingulate_thickness anatomy_CSF\", \"anatomy_Left-Lateral-Ventricle anatomy_WM-hypointensities\", \"anatomy_rh_parahippocampal_area anatomy_rh_parsorbitalis_area\", \"anatomy_rh_parsopercularis_area anatomy_rh_supramarginal_area\", \"anatomy_Left-Cerebellum-Cortex anatomy_CC_Anterior\", \"anatomy_lh_isthmuscingulate_area anatomy_Right-Inf-Lat-Vent\", \"anatomy_Left-choroid-plexus anatomy_Optic-Chiasm\", \"anatomy_lh_precuneus_area anatomy_CC_Posterior\", \"anatomy_rh_caudalmiddlefrontal_area anatomy_CC_Mid_Posterior\", \"anatomy_Right-vessel anatomy_Optic-Chiasm\", \"anatomy_lh_supramarginal_area anatomy_rh_entorhinal_thickness\", \"anatomy_rh_caudalanteriorcingulate_area anatomy_4th-Ventricle\", \"anatomy_rh_rostralanteriorcingulate_area participants_age\", \"anatomy_lh_frontalpole_area anatomy_3rd-Ventricle\", \"anatomy_Left-Accumbens-area anatomy_Right-vessel\", \"anatomy_lh_bankssts_area anatomy_lh_entorhinal_area\", \"anatomy_Right-Inf-Lat-Vent anatomy_5th-Ventricle\", \"anatomy_lh_entorhinal_area anatomy_lh_supramarginal_area\", \"anatomy_rh_transversetemporal_area participants_age\", \"anatomy_Left-Inf-Lat-Vent participants_sex\", \"anatomy_lh_parstriangularis_area participants_sex\", \"anatomy_lh_medialorbitofrontal_area anatomy_Right-vessel\", \"anatomy_rh_rostralanteriorcingulate_area anatomy_CC_Central\", \"anatomy_rh_parsopercularis_area anatomy_rh_transversetemporal_area\", \"anatomy_rh_paracentral_area anatomy_Right-Inf-Lat-Vent\", \"anatomy_Left-vessel participants_age\", \"anatomy_lh_caudalanteriorcingulate_area anatomy_Optic-Chiasm\", \"anatomy_rh_parsopercularis_area anatomy_rh_parsorbitalis_thickness\", \"anatomy_Optic-Chiasm anatomy_CC_Mid_Anterior\", \"anatomy_lh_entorhinal_area participants_age\", \"anatomy_lh_parsopercularis_area anatomy_rh_parstriangularis_area\", \"anatomy_rh_entorhinal_area anatomy_Right-choroid-plexus\", \"anatomy_rh_transversetemporal_area anatomy_Left-vessel\", \"anatomy_rh_parstriangularis_area anatomy_Right-vessel\", \"anatomy_lh_caudalanteriorcingulate_area anatomy_rh_rostralanteriorcingulate_area\", \"anatomy_lh_entorhinal_area anatomy_Left-choroid-plexus\", \"anatomy_rh_entorhinal_thickness participants_sex\", \"anatomy_Left-Cerebellum-White-Matter anatomy_CC_Mid_Anterior\", \"anatomy_rh_entorhinal_area anatomy_Left-Inf-Lat-Vent\", \"anatomy_lh_transversetemporal_area anatomy_Left-vessel\", \"anatomy_3rd-Ventricle anatomy_WM-hypointensities\", \"anatomy_lh_pericalcarine_thickness anatomy_CC_Mid_Anterior\", \"anatomy_Left-Accumbens-area anatomy_Right-Inf-Lat-Vent\", \"anatomy_Optic-Chiasm anatomy_CC_Central\", \"anatomy_Left-Amygdala participants_sex\", \"anatomy_lh_isthmuscingulate_area participants_sex\", \"anatomy_lh_entorhinal_area anatomy_Right-Inf-Lat-Vent\", \"anatomy_lh_pericalcarine_thickness anatomy_Left-vessel\", \"anatomy_Left-Lateral-Ventricle participants_age\", \"anatomy_lh_parsorbitalis_area participants_sex\", \"anatomy_lh_temporalpole_thickness participants_sex\", \"anatomy_lh_pericalcarine_area anatomy_3rd-Ventricle\", \"anatomy_rh_parstriangularis_area anatomy_Left-vessel\", \"anatomy_Right-Lateral-Ventricle anatomy_5th-Ventricle\", \"anatomy_Left-choroid-plexus anatomy_Right-choroid-plexus\", \"anatomy_rh_parsopercularis_area anatomy_rh_parstriangularis_area\", \"anatomy_Right-Inf-Lat-Vent anatomy_CC_Mid_Anterior\", \"anatomy_lh_caudalanteriorcingulate_area anatomy_rh_caudalanteriorcingulate_area\", \"anatomy_Left-Inf-Lat-Vent anatomy_Right-vessel\", \"anatomy_lh_entorhinal_area anatomy_lh_entorhinal_thickness\", \"anatomy_Left-Inf-Lat-Vent participants_age\", \"anatomy_Left-vessel anatomy_Right-vessel\", ]\n"
     ]
    }
   ],
   "source": [
    "print(\"[\", end=\"\")\n",
    "for f in topk_2xfeature_names:\n",
    "    print(\"\\\"{}\\\"\".format(f), end=\", \")\n",
    "print(\"]\")"
   ]
  },
  {
   "cell_type": "code",
   "execution_count": null,
   "metadata": {},
   "outputs": [],
   "source": []
  },
  {
   "cell_type": "code",
   "execution_count": null,
   "metadata": {},
   "outputs": [],
   "source": []
  },
  {
   "cell_type": "code",
   "execution_count": null,
   "metadata": {},
   "outputs": [],
   "source": []
  },
  {
   "cell_type": "code",
   "execution_count": null,
   "metadata": {},
   "outputs": [],
   "source": []
  },
  {
   "cell_type": "code",
   "execution_count": null,
   "metadata": {},
   "outputs": [],
   "source": []
  },
  {
   "cell_type": "code",
   "execution_count": null,
   "metadata": {},
   "outputs": [],
   "source": []
  },
  {
   "cell_type": "code",
   "execution_count": null,
   "metadata": {},
   "outputs": [],
   "source": []
  }
 ],
 "metadata": {
  "kernelspec": {
   "display_name": "Python 3",
   "language": "python",
   "name": "python3"
  },
  "language_info": {
   "codemirror_mode": {
    "name": "ipython",
    "version": 3
   },
   "file_extension": ".py",
   "mimetype": "text/x-python",
   "name": "python",
   "nbconvert_exporter": "python",
   "pygments_lexer": "ipython3",
   "version": "3.6.5"
  }
 },
 "nbformat": 4,
 "nbformat_minor": 2
}
