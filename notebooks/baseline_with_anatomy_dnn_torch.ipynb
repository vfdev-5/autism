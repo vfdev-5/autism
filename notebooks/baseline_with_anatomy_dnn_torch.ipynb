{
 "cells": [
  {
   "cell_type": "markdown",
   "metadata": {},
   "source": [
    "# Baseline DNN model based on anatomy features with Torch"
   ]
  },
  {
   "cell_type": "code",
   "execution_count": 1,
   "metadata": {},
   "outputs": [],
   "source": [
    "path = \"..\"\n",
    "\n",
    "import sys\n",
    "sys.path.insert(0, path)"
   ]
  },
  {
   "cell_type": "code",
   "execution_count": 2,
   "metadata": {},
   "outputs": [],
   "source": [
    "import numpy as np\n",
    "import matplotlib.pylab as plt\n",
    "%matplotlib inline\n",
    "import seaborn"
   ]
  },
  {
   "cell_type": "code",
   "execution_count": 3,
   "metadata": {},
   "outputs": [],
   "source": [
    "from problem import get_train_data, get_test_data\n",
    "\n",
    "data_train, labels_train = get_train_data(path=path)\n",
    "data_test, labels_test = get_test_data(path=path)"
   ]
  },
  {
   "cell_type": "code",
   "execution_count": 4,
   "metadata": {},
   "outputs": [
    {
     "data": {
      "text/plain": [
       "((1127, 220), (23, 220))"
      ]
     },
     "execution_count": 4,
     "metadata": {},
     "output_type": "execute_result"
    }
   ],
   "source": [
    "data_train.shape, data_test.shape"
   ]
  },
  {
   "cell_type": "code",
   "execution_count": 5,
   "metadata": {},
   "outputs": [],
   "source": [
    "from sklearn.pipeline import make_pipeline\n",
    "from sklearn.model_selection import cross_validate\n",
    "from problem import get_cv\n",
    "\n",
    "def evaluation(X, y):\n",
    "    pipe = make_pipeline(FeatureExtractor(), Classifier())\n",
    "    cv = get_cv(X, y)\n",
    "    results = cross_validate(pipe, X, y, scoring=['roc_auc', 'accuracy'], cv=cv,\n",
    "                             verbose=1, return_train_score=True,\n",
    "                             n_jobs=1)\n",
    "    \n",
    "    return results"
   ]
  },
  {
   "cell_type": "code",
   "execution_count": null,
   "metadata": {},
   "outputs": [],
   "source": []
  },
  {
   "cell_type": "markdown",
   "metadata": {},
   "source": [
    "### Basic DNN"
   ]
  },
  {
   "cell_type": "code",
   "execution_count": 42,
   "metadata": {},
   "outputs": [],
   "source": [
    "import torch\n",
    "import torch.nn as nn\n",
    "from torch.utils.data import Dataset, DataLoader"
   ]
  },
  {
   "cell_type": "code",
   "execution_count": 63,
   "metadata": {},
   "outputs": [],
   "source": [
    "class AnatomyDataset(Dataset):\n",
    "    \n",
    "    def __init__(self, data, labels, transforms=None, target_transforms=None):\n",
    "        self.data = data\n",
    "        self.labels = labels\n",
    "        assert len(labels) == len(data)\n",
    "        self.transforms = (lambda x: x) if transforms is None else transforms\n",
    "        self.target_transforms = (lambda x: x) if target_transforms is None else target_transforms\n",
    "         \n",
    "    def __len__(self):\n",
    "        return len(self.labels)\n",
    "    \n",
    "    def __getitem__(self, index):\n",
    "        return self.transforms(self.data[index, :]), self.target_transforms(self.labels[index])\n",
    "    \n",
    "\n",
    "mean = data_train[anatomy_cols].values.mean(axis=0)\n",
    "std = data_train[anatomy_cols].values.std(axis=0)\n",
    "\n",
    "train_dataset = AnatomyDataset(data_train[anatomy_cols].values, labels_train, \n",
    "                               transforms=Compose([Normalize(mean, std), ToTensor()]))"
   ]
  },
  {
   "cell_type": "code",
   "execution_count": 64,
   "metadata": {},
   "outputs": [],
   "source": [
    "class Compose:\n",
    "    \n",
    "    def __init__(self, tfs):\n",
    "        self.transforms = tfs\n",
    "        \n",
    "    def __call__(self, x):\n",
    "        for t in self.transforms:\n",
    "            x = t(x)\n",
    "        return x\n",
    "\n",
    "\n",
    "class Normalize:\n",
    "    \n",
    "    def __init__(self, mean, std):\n",
    "        self.mean = mean\n",
    "        self.std = std\n",
    "        \n",
    "    def __call__(self, x):\n",
    "        return (x - self.mean) / (self.std + 1e-10)\n",
    "      \n",
    "        \n",
    "class ToTensor:\n",
    "    \n",
    "    def __call__(self, x):\n",
    "        return torch.tensor(x)\n",
    "        "
   ]
  },
  {
   "cell_type": "code",
   "execution_count": 66,
   "metadata": {},
   "outputs": [
    {
     "data": {
      "text/plain": [
       "(1127, torch.Size([207]), 0)"
      ]
     },
     "execution_count": 66,
     "metadata": {},
     "output_type": "execute_result"
    }
   ],
   "source": [
    "len(train_dataset), train_dataset[0][0].shape, train_dataset[0][1]"
   ]
  },
  {
   "cell_type": "code",
   "execution_count": 28,
   "metadata": {},
   "outputs": [],
   "source": [
    "class AnatomyBasedDNN(nn.Module):\n",
    "    \n",
    "    def __init__(self, in_planes, out_planes):\n",
    "        super(AnatomyBasedDNN, self).__init__()\n",
    "        \n",
    "        self.f1 = nn.Sequential(\n",
    "            nn.Linear(in_planes, in_planes),\n",
    "            nn.BatchNorm1d(in_planes),            \n",
    "        )\n",
    "        \n",
    "        self.f1a = nn.Sequential(\n",
    "            nn.ELU(alpha=0.7),\n",
    "            nn.Linear(in_planes, in_planes),\n",
    "            nn.BatchNorm1d(in_planes),      \n",
    "            nn.ELU(alpha=0.7)\n",
    "        )\n",
    "        \n",
    "        self.f2 = nn.Sequential(\n",
    "            nn.Linear(in_planes, 2 * in_planes),\n",
    "            nn.BatchNorm1d(2 * in_planes),\n",
    "            nn.ELU(alpha=0.7),\n",
    "            nn.Linear(2 * in_planes, in_planes),\n",
    "            nn.BatchNorm1d(in_planes),\n",
    "            nn.ELU(alpha=0.7), \n",
    "        )\n",
    "            \n",
    "        self.classifier = nn.Sequential(\n",
    "            nn.Linear(in_planes, in_planes // 2),\n",
    "            nn.BatchNorm1d(in_planes // 2),            \n",
    "            nn.ReLU(inplace=True),\n",
    "            nn.Linear(in_planes // 2, in_planes // 4),\n",
    "            nn.BatchNorm1d(in_planes // 4),\n",
    "            nn.ReLU(inplace=True),\n",
    "            nn.Linear(in_planes // 4, in_planes // 8),\n",
    "            nn.BatchNorm1d(in_planes // 8),            \n",
    "            nn.ReLU(inplace=True),\n",
    "            nn.Dropout(p=0.5),\n",
    "            nn.Linear(in_planes // 8, out_planes),            \n",
    "        )\n",
    "        \n",
    "        for m in self.modules():\n",
    "            if isinstance(m, nn.Linear):\n",
    "                nn.init.normal_(m.weight, 0, 0.01)\n",
    "                nn.init.constant_(m.bias, 0.0)\n",
    "            elif isinstance(m, nn.BatchNorm2d):\n",
    "                nn.init.constant_(m.weight, 1.0)\n",
    "                nn.init.constant_(m.bias, 0.0)\n",
    "    \n",
    "    def forward(self, x):\n",
    "        \n",
    "        x1 = self.f1(x)\n",
    "        x1 = self.f1a(x1 * x)\n",
    "        \n",
    "        x2 = self.f2(x)\n",
    "        x3 = x1 + x2\n",
    "\n",
    "        return self.classifier(x3)\n"
   ]
  },
  {
   "cell_type": "code",
   "execution_count": 29,
   "metadata": {},
   "outputs": [],
   "source": [
    "model = AnatomyBasedDNN(len(anatomy_cols), out_planes=2)"
   ]
  },
  {
   "cell_type": "code",
   "execution_count": null,
   "metadata": {},
   "outputs": [],
   "source": []
  },
  {
   "cell_type": "code",
   "execution_count": null,
   "metadata": {},
   "outputs": [],
   "source": []
  },
  {
   "cell_type": "code",
   "execution_count": null,
   "metadata": {},
   "outputs": [],
   "source": []
  },
  {
   "cell_type": "code",
   "execution_count": null,
   "metadata": {},
   "outputs": [],
   "source": []
  },
  {
   "cell_type": "code",
   "execution_count": null,
   "metadata": {},
   "outputs": [],
   "source": []
  },
  {
   "cell_type": "code",
   "execution_count": null,
   "metadata": {},
   "outputs": [],
   "source": []
  },
  {
   "cell_type": "code",
   "execution_count": 68,
   "metadata": {},
   "outputs": [],
   "source": [
    "from torch.optim import Adam\n",
    "\n",
    "from ignite.engine import create_supervised_trainer, Events"
   ]
  },
  {
   "cell_type": "code",
   "execution_count": 31,
   "metadata": {},
   "outputs": [],
   "source": [
    "from sklearn.base import BaseEstimator\n",
    "from sklearn.base import TransformerMixin\n",
    "from sklearn.base import BaseEstimator\n",
    "\n",
    "anatomy_cols = [col for col in data_train.columns if col.startswith('anatomy')]\n",
    "anatomy_cols.remove('anatomy_select')\n",
    "\n",
    "data_transform = Compose([Normalize(mean, std), ToTensor()]\n",
    "\n",
    "device = \"cpu\"\n",
    "\n",
    "\n",
    "class FeatureExtractor(BaseEstimator, TransformerMixin):\n",
    "    def fit(self, X_df, y):\n",
    "        return self\n",
    "\n",
    "    def transform(self, X_df):\n",
    "        # get only the anatomical information\n",
    "        X = X_df[anatomy_cols]\n",
    "        return X\n",
    "        \n",
    "\n",
    "class Classifier(BaseEstimator):\n",
    "    def __init__(self):                \n",
    "        self.model = AnatomyBasedDNN(len(anatomy_cols), out_planes=2)\n",
    "        self.optimizer = Adam(self.model.parameter(), lr=0.001)\n",
    "        self.loss = nn.CrossEntropyLoss()\n",
    "        self.trainer = create_supervised_trainer(self.model, self.optimizer, loss_fn=self.loss, device=device)\n",
    "    \n",
    "        @self.trainer.on(Events.EPOCH_COMPLETED)\n",
    "        def log_training(engine):\n",
    "            print(\"Epoch {}\".format(engine.state.epoch))\n",
    "\n",
    "    def fit(self, X, y):\n",
    "        \n",
    "        dataset = AnatomyDataset(X.values, y, transforms=data_transform)\n",
    "        data_loader = DataLoader(dataset, batch_size=10, num_workers=4, shuffle=True)        \n",
    "        self.trainer.run(data_loader, max_epochs=10)        \n",
    "        return self\n",
    "        \n",
    "    def predict(self, X):\n",
    "        return self.model.predict(X)\n",
    "\n",
    "    def predict_proba(self, X):\n",
    "        return self.model.predict_proba(X)\n"
   ]
  },
  {
   "cell_type": "code",
   "execution_count": 7,
   "metadata": {},
   "outputs": [
    {
     "name": "stdout",
     "output_type": "stream",
     "text": [
      "Training score ROC-AUC: 0.850 +- 0.004\n",
      "Validation score ROC-AUC: 0.652 +- 0.016 \n",
      "\n",
      "Training score accuracy: 0.772 +- 0.007\n",
      "Validation score accuracy: 0.621 +- 0.016\n"
     ]
    },
    {
     "name": "stderr",
     "output_type": "stream",
     "text": [
      "[Parallel(n_jobs=1)]: Done   8 out of   8 | elapsed:    1.0s finished\n"
     ]
    }
   ],
   "source": [
    "import numpy as np\n",
    "\n",
    "results = evaluation(data_train, labels_train)\n",
    "\n",
    "print(\"Training score ROC-AUC: {:.3f} +- {:.3f}\".format(np.mean(results['train_roc_auc']),\n",
    "                                                        np.std(results['train_roc_auc'])))\n",
    "print(\"Validation score ROC-AUC: {:.3f} +- {:.3f} \\n\".format(np.mean(results['test_roc_auc']),\n",
    "                                                          np.std(results['test_roc_auc'])))\n",
    "\n",
    "print(\"Training score accuracy: {:.3f} +- {:.3f}\".format(np.mean(results['train_accuracy']),\n",
    "                                                         np.std(results['train_accuracy'])))\n",
    "print(\"Validation score accuracy: {:.3f} +- {:.3f}\".format(np.mean(results['test_accuracy']),\n",
    "                                                           np.std(results['test_accuracy'])))"
   ]
  },
  {
   "cell_type": "markdown",
   "metadata": {},
   "source": [
    "Let's visualize feature importance:"
   ]
  },
  {
   "cell_type": "code",
   "execution_count": 8,
   "metadata": {},
   "outputs": [],
   "source": [
    "def visualize_coefficients(classifier, feature_names, n_top_features=25):\n",
    "    # get coefficients with large absolute values \n",
    "    coef = classifier.coef_.ravel()\n",
    "    positive_coefficients = np.argsort(coef)[-n_top_features:]\n",
    "    negative_coefficients = np.argsort(coef)[:n_top_features]\n",
    "    interesting_coefficients = np.hstack([negative_coefficients, positive_coefficients])\n",
    "    # plot them\n",
    "    plt.figure(figsize=(15, 5))\n",
    "    colors = [\"red\" if c < 0 else \"blue\" for c in coef[interesting_coefficients]]\n",
    "    plt.bar(np.arange(2 * n_top_features), coef[interesting_coefficients], color=colors)\n",
    "    feature_names = np.array(feature_names)\n",
    "    plt.xticks(np.arange(1, 1 + 2 * n_top_features), feature_names[interesting_coefficients], rotation=60, ha=\"right\");"
   ]
  },
  {
   "cell_type": "code",
   "execution_count": 9,
   "metadata": {},
   "outputs": [
    {
     "data": {
      "text/plain": [
       "Pipeline(memory=None,\n",
       "     steps=[('featureextractor', FeatureExtractor()), ('classifier', Classifier())])"
      ]
     },
     "execution_count": 9,
     "metadata": {},
     "output_type": "execute_result"
    }
   ],
   "source": [
    "pipe = make_pipeline(FeatureExtractor(), Classifier())\n",
    "pipe.fit(data_train, labels_train)"
   ]
  },
  {
   "cell_type": "code",
   "execution_count": 10,
   "metadata": {},
   "outputs": [],
   "source": [
    "log_reg = pipe.named_steps['classifier'].clf.named_steps['logisticregression']"
   ]
  },
  {
   "cell_type": "code",
   "execution_count": 11,
   "metadata": {},
   "outputs": [
    {
     "data": {
      "image/png": "[encoded data removed]",
      "text/plain": [
       "<Figure size 1080x360 with 1 Axes>"
      ]
     },
     "metadata": {},
     "output_type": "display_data"
    }
   ],
   "source": [
    "cols=[col for col in data_train.columns if col.startswith('anatomy')]\n",
    "\n",
    "visualize_coefficients(log_reg, feature_names=cols, n_top_features=10)"
   ]
  },
  {
   "cell_type": "code",
   "execution_count": 12,
   "metadata": {},
   "outputs": [],
   "source": [
    "n_top_features = 41\n",
    "coef = log_reg.coef_.ravel()\n",
    "positive_coefficients = np.argsort(coef)[-n_top_features:]\n",
    "negative_coefficients = np.argsort(coef)[:n_top_features]\n",
    "interesting_coefficients = np.hstack([negative_coefficients, positive_coefficients])"
   ]
  },
  {
   "cell_type": "code",
   "execution_count": 13,
   "metadata": {},
   "outputs": [],
   "source": [
    "topk_feature_names = np.array(cols)[interesting_coefficients].tolist()"
   ]
  },
  {
   "cell_type": "code",
   "execution_count": null,
   "metadata": {},
   "outputs": [],
   "source": []
  },
  {
   "cell_type": "code",
   "execution_count": null,
   "metadata": {},
   "outputs": [],
   "source": []
  },
  {
   "cell_type": "markdown",
   "metadata": {},
   "source": [
    "### Basic logistic regression with filtered features "
   ]
  },
  {
   "cell_type": "code",
   "execution_count": 18,
   "metadata": {},
   "outputs": [],
   "source": [
    "topk_feature_names = [\n",
    "    'anatomy_MaskVol', 'anatomy_rhCerebralWhiteMatterVol', 'anatomy_rh_MeanThickness_thickness', 'anatomy_Brain-Stem',\n",
    "    'anatomy_rh_middletemporal_thickness', 'anatomy_rh_lateralorbitofrontal_thickness', 'anatomy_lh_superiortemporal_area',\n",
    "    'anatomy_Right-Cerebellum-White-Matter', 'anatomy_lh_MeanThickness_thickness', 'anatomy_lh_precentral_area',\n",
    "    'anatomy_rh_insula_thickness', 'anatomy_lh_rostralmiddlefrontal_area', 'anatomy_rh_pericalcarine_area',\n",
    "    'anatomy_lh_pericalcarine_area',\n",
    "    'anatomy_lh_lateralorbitofrontal_area',\n",
    "    'anatomy_BrainSegVol',\n",
    "    'anatomy_lh_entorhinal_area',\n",
    "    'anatomy_lh_superiorparietal_area',\n",
    "    'anatomy_rh_middletemporal_area',\n",
    "    'anatomy_BrainSegVolNotVent',\n",
    "    'anatomy_rhSurfaceHoles',\n",
    "    'anatomy_lhCortexVol',\n",
    "    'anatomy_SupraTentorialVolNotVentVox',\n",
    "    'anatomy_rh_medialorbitofrontal_area',\n",
    "    'anatomy_Left-Thalamus-Proper',\n",
    "    'anatomy_CC_Posterior',\n",
    "    'anatomy_rh_inferiorparietal_area',\n",
    "    'anatomy_rh_temporalpole_area',\n",
    "    'anatomy_lh_frontalpole_area',\n",
    "    'anatomy_lh_caudalanteriorcingulate_area',\n",
    "    'anatomy_rh_fusiform_area',\n",
    "    'anatomy_Right-Accumbens-area',\n",
    "    'anatomy_CC_Central',\n",
    "    'anatomy_rh_caudalmiddlefrontal_thickness',\n",
    "    'anatomy_Right-Amygdala',\n",
    "    'anatomy_lh_entorhinal_thickness',\n",
    "    'anatomy_lh_lateralorbitofrontal_thickness',\n",
    "    'anatomy_lh_precentral_thickness',\n",
    "    'anatomy_rh_postcentral_thickness',\n",
    "    'anatomy_Left-Caudate',\n",
    "    'anatomy_rh_insula_area',\n",
    "    'anatomy_lh_inferiortemporal_thickness',\n",
    "    'anatomy_lh_insula_thickness',\n",
    "    'anatomy_rh_entorhinal_thickness',\n",
    "    'anatomy_Left-Inf-Lat-Vent',\n",
    "    'anatomy_rh_precentral_area',\n",
    "    'anatomy_rh_frontalpole_area',\n",
    "    'anatomy_WM-hypointensities',\n",
    "    'anatomy_rh_rostralmiddlefrontal_area',\n",
    "    'anatomy_rh_superiortemporal_thickness',\n",
    "    'anatomy_Left-Hippocampus',\n",
    "    'anatomy_Right-Pallidum',\n",
    "    'anatomy_lh_insula_area',\n",
    "    'anatomy_rhCortexVol',\n",
    "    'anatomy_rh_precuneus_area',\n",
    "    'anatomy_rh_bankssts_area',\n",
    "    'anatomy_lh_medialorbitofrontal_thickness',\n",
    "    'anatomy_eTIV',\n",
    "    'anatomy_EstimatedTotalIntraCranialVol',\n",
    "    'anatomy_rh_rostralmiddlefrontal_thickness',\n",
    "    'anatomy_Left-Amygdala',\n",
    "    'anatomy_rh_lateraloccipital_thickness',\n",
    "    'anatomy_lh_lingual_area',\n",
    "    'anatomy_rh_parsorbitalis_thickness',\n",
    "    'anatomy_lhSurfaceHoles',\n",
    "    'anatomy_lh_cuneus_thickness',\n",
    "    'anatomy_SubCortGrayVol',\n",
    "    'anatomy_Right-Cerebellum-Cortex',\n",
    "    'anatomy_rh_superiorfrontal_area',\n",
    "    'anatomy_lh_fusiform_thickness',\n",
    "    'anatomy_lh_parsorbitalis_area',\n",
    "    'anatomy_rh_lateraloccipital_area',\n",
    "    'anatomy_CC_Mid_Anterior',\n",
    "    'anatomy_Left-VentralDC',\n",
    "    'anatomy_3rd-Ventricle',\n",
    "    'anatomy_lh_superiortemporal_thickness',\n",
    "    'anatomy_rh_inferiortemporal_area',\n",
    "    'anatomy_BrainSegVol-to-eTIV',\n",
    "    'anatomy_lh_superiorfrontal_thickness',\n",
    "    'anatomy_rh_precuneus_thickness',\n",
    "    'anatomy_lhCerebralWhiteMatterVol',\n",
    "    'anatomy_MaskVol-to-eTIV']\n",
    "\n",
    "\n",
    "class FeatureExtractor(BaseEstimator, TransformerMixin):\n",
    "    def fit(self, X_df, y):\n",
    "        return self\n",
    "\n",
    "    def transform(self, X_df):\n",
    "        # get only the anatomical information\n",
    "        X = X_df[topk_feature_names]\n",
    "        return X\n",
    "    \n",
    "    \n",
    "from sklearn.linear_model import LogisticRegressionCV\n",
    "        \n",
    "\n",
    "class Classifier(BaseEstimator):\n",
    "    def __init__(self):\n",
    "        self.clf = None\n",
    "\n",
    "    def fit(self, X, y):\n",
    "        \n",
    "        pipe_cv = make_pipeline(StandardScaler(), \n",
    "                                LogisticRegressionCV(Cs=np.logspace(-2, 6, num=10), \n",
    "                                                     n_jobs=8, scoring=\"roc_auc\"))\n",
    "        pipe_cv.fit(X, y)\n",
    "        best_C = pipe_cv.named_steps['logisticregressioncv'].C_[0]\n",
    "        self.clf = make_pipeline(StandardScaler(), LogisticRegression(C=best_C))\n",
    "        self.clf.fit(X, y)\n",
    "        return self\n",
    "        \n",
    "    def predict(self, X):\n",
    "        return self.clf.predict(X)\n",
    "\n",
    "    def predict_proba(self, X):\n",
    "        return self.clf.predict_proba(X)\n"
   ]
  },
  {
   "cell_type": "code",
   "execution_count": 19,
   "metadata": {},
   "outputs": [
    {
     "name": "stdout",
     "output_type": "stream",
     "text": [
      "Training score ROC-AUC: 0.819 +- 0.004\n",
      "Validation score ROC-AUC: 0.741 +- 0.018 \n",
      "\n",
      "Training score accuracy: 0.744 +- 0.008\n",
      "Validation score accuracy: 0.676 +- 0.018\n"
     ]
    },
    {
     "name": "stderr",
     "output_type": "stream",
     "text": [
      "[Parallel(n_jobs=1)]: Done   8 out of   8 | elapsed:   17.6s finished\n"
     ]
    }
   ],
   "source": [
    "import numpy as np\n",
    "\n",
    "results = evaluation(data_train, labels_train)\n",
    "\n",
    "print(\"Training score ROC-AUC: {:.3f} +- {:.3f}\".for§mat(np.mean(results['train_roc_auc']),\n",
    "                                                        np.std(results['train_roc_auc'])))\n",
    "print(\"Validation score ROC-AUC: {:.3f} +- {:.3f} \\n\".format(np.mean(results['test_roc_auc']),\n",
    "                                                          np.std(results['test_roc_auc'])))\n",
    "\n",
    "print(\"Training score accuracy: {:.3f} +- {:.3f}\".format(np.mean(results['train_accuracy']),\n",
    "                                                         np.std(results['train_accuracy'])))\n",
    "print(\"Validation score accuracy: {:.3f} +- {:.3f}\".format(np.mean(results['test_accuracy']),\n",
    "                                                           np.std(results['test_accuracy'])))"
   ]
  },
  {
   "cell_type": "code",
   "execution_count": null,
   "metadata": {},
   "outputs": [],
   "source": []
  },
  {
   "cell_type": "code",
   "execution_count": null,
   "metadata": {},
   "outputs": [],
   "source": []
  },
  {
   "cell_type": "code",
   "execution_count": null,
   "metadata": {},
   "outputs": [],
   "source": []
  },
  {
   "cell_type": "code",
   "execution_count": null,
   "metadata": {},
   "outputs": [],
   "source": []
  },
  {
   "cell_type": "code",
   "execution_count": null,
   "metadata": {},
   "outputs": [],
   "source": []
  },
  {
   "cell_type": "markdown",
   "metadata": {},
   "source": [
    "### Basic ElasticNet regression "
   ]
  },
  {
   "cell_type": "code",
   "execution_count": 45,
   "metadata": {},
   "outputs": [],
   "source": [
    "from sklearn.base import BaseEstimator\n",
    "from sklearn.base import TransformerMixin\n",
    "from sklearn.base import BaseEstimator\n",
    "from sklearn.preprocessing import StandardScaler\n",
    "from sklearn.linear_model import ElasticNetCV, ElasticNet\n",
    "from sklearn.pipeline import make_pipeline\n",
    "\n",
    "\n",
    "seed = 17\n",
    "\n",
    "class FeatureExtractor(BaseEstimator, TransformerMixin):\n",
    "    def fit(self, X_df, y):\n",
    "        return self\n",
    "\n",
    "    def transform(self, X_df):\n",
    "        # get only the anatomical information\n",
    "        X = X_df[[col for col in X_df.columns if col.startswith('anatomy')]]\n",
    "        return X.drop(columns='anatomy_select')\n",
    "        \n",
    "\n",
    "class Classifier(BaseEstimator):\n",
    "    def __init__(self):\n",
    "        self.clf = make_pipeline(StandardScaler(), ElasticNet(alpha=0.015, l1_ratio=0.3, random_state=seed))\n",
    "\n",
    "    def fit(self, X, y):\n",
    "        self.clf.fit(X, y)\n",
    "        return self\n",
    "        \n",
    "    def predict(self, X):\n",
    "        probas = self.predict_proba(X)[:, 1]\n",
    "        return (probas > 0.5).astype(np.int)\n",
    "\n",
    "    def predict_proba(self, X):\n",
    "        probas = self.clf.predict(X)\n",
    "        probas = probas.reshape((-1, 1))\n",
    "        return np.concatenate([probas, probas], axis=1)        \n"
   ]
  },
  {
   "cell_type": "code",
   "execution_count": 46,
   "metadata": {},
   "outputs": [
    {
     "name": "stdout",
     "output_type": "stream",
     "text": [
      "Training score ROC-AUC: 0.822 +- 0.004\n",
      "Validation score ROC-AUC: 0.662 +- 0.017 \n",
      "\n",
      "Training score accuracy: 0.741 +- 0.009\n",
      "Validation score accuracy: 0.626 +- 0.030\n"
     ]
    },
    {
     "name": "stderr",
     "output_type": "stream",
     "text": [
      "[Parallel(n_jobs=1)]: Done   8 out of   8 | elapsed:    1.1s finished\n"
     ]
    }
   ],
   "source": [
    "import numpy as np\n",
    "\n",
    "results = evaluation(data_train, labels_train)\n",
    "\n",
    "print(\"Training score ROC-AUC: {:.3f} +- {:.3f}\".format(np.mean(results['train_roc_auc']),\n",
    "                                                        np.std(results['train_roc_auc'])))\n",
    "print(\"Validation score ROC-AUC: {:.3f} +- {:.3f} \\n\".format(np.mean(results['test_roc_auc']),\n",
    "                                                          np.std(results['test_roc_auc'])))\n",
    "\n",
    "print(\"Training score accuracy: {:.3f} +- {:.3f}\".format(np.mean(results['train_accuracy']),\n",
    "                                                         np.std(results['train_accuracy'])))\n",
    "print(\"Validation score accuracy: {:.3f} +- {:.3f}\".format(np.mean(results['test_accuracy']),\n",
    "                                                           np.std(results['test_accuracy'])))"
   ]
  },
  {
   "cell_type": "markdown",
   "metadata": {},
   "source": [
    "Let's visualize feature importance:"
   ]
  },
  {
   "cell_type": "code",
   "execution_count": 48,
   "metadata": {},
   "outputs": [],
   "source": [
    "def visualize_coefficients(classifier, feature_names, n_top_features=25):\n",
    "    # get coefficients with large absolute values \n",
    "    coef = classifier.coef_.ravel()\n",
    "    positive_coefficients = np.argsort(coef)[-n_top_features:]\n",
    "    negative_coefficients = np.argsort(coef)[:n_top_features]\n",
    "    interesting_coefficients = np.hstack([negative_coefficients, positive_coefficients])\n",
    "    # plot them\n",
    "    plt.figure(figsize=(15, 5))\n",
    "    colors = [\"red\" if c < 0 else \"blue\" for c in coef[interesting_coefficients]]\n",
    "    plt.bar(np.arange(2 * n_top_features), coef[interesting_coefficients], color=colors)\n",
    "    feature_names = np.array(feature_names)\n",
    "    plt.xticks(np.arange(1, 1 + 2 * n_top_features), feature_names[interesting_coefficients], rotation=60, ha=\"right\");"
   ]
  },
  {
   "cell_type": "code",
   "execution_count": 49,
   "metadata": {},
   "outputs": [
    {
     "data": {
      "text/plain": [
       "Pipeline(memory=None,\n",
       "     steps=[('featureextractor', FeatureExtractor()), ('classifier', Classifier())])"
      ]
     },
     "execution_count": 49,
     "metadata": {},
     "output_type": "execute_result"
    }
   ],
   "source": [
    "pipe = make_pipeline(FeatureExtractor(), Classifier())\n",
    "pipe.fit(data_train, labels_train)"
   ]
  },
  {
   "cell_type": "code",
   "execution_count": 52,
   "metadata": {},
   "outputs": [],
   "source": [
    "log_reg = pipe.named_steps['classifier'].clf.named_steps['elasticnet']"
   ]
  },
  {
   "cell_type": "code",
   "execution_count": 53,
   "metadata": {},
   "outputs": [
    {
     "data": {
      "image/png": "[encoded data removed]",
      "text/plain": [
       "<Figure size 1080x360 with 1 Axes>"
      ]
     },
     "metadata": {},
     "output_type": "display_data"
    }
   ],
   "source": [
    "cols=[col for col in data_train.columns if col.startswith('anatomy')]\n",
    "\n",
    "visualize_coefficients(log_reg, feature_names=cols, n_top_features=10)"
   ]
  },
  {
   "cell_type": "code",
   "execution_count": 121,
   "metadata": {},
   "outputs": [],
   "source": [
    "n_top_features = 25\n",
    "coef = log_reg.coef_.ravel()\n",
    "positive_coefficients = np.argsort(coef)[-n_top_features:]\n",
    "negative_coefficients = np.argsort(coef)[:n_top_features]\n",
    "interesting_coefficients = np.hstack([negative_coefficients, positive_coefficients])"
   ]
  },
  {
   "cell_type": "code",
   "execution_count": 122,
   "metadata": {},
   "outputs": [],
   "source": [
    "topk_feature_names = np.array(cols)[interesting_coefficients].tolist()"
   ]
  },
  {
   "cell_type": "markdown",
   "metadata": {},
   "source": [
    "### Basic ElasticNet with filtered features "
   ]
  },
  {
   "cell_type": "code",
   "execution_count": 126,
   "metadata": {},
   "outputs": [],
   "source": [
    "elasticnet_features = ['anatomy_rh_middletemporal_thickness',\n",
    " 'anatomy_rh_lateralorbitofrontal_thickness',\n",
    " 'anatomy_Brain-Stem',\n",
    " 'anatomy_Right-Cerebellum-White-Matter',\n",
    " 'anatomy_rh_pericalcarine_area',\n",
    " 'anatomy_rh_inferiorparietal_area',\n",
    " 'anatomy_Right-Accumbens-area',\n",
    " 'anatomy_lh_lateralorbitofrontal_area',\n",
    " 'anatomy_lh_superiortemporal_area',\n",
    " 'anatomy_rh_temporalpole_area',\n",
    " 'anatomy_lh_parahippocampal_thickness',\n",
    " 'anatomy_rh_postcentral_thickness',\n",
    " 'anatomy_lh_precentral_thickness',\n",
    " 'anatomy_lh_entorhinal_area',\n",
    " 'anatomy_rh_precentral_thickness',\n",
    " 'anatomy_lh_rostralmiddlefrontal_area',\n",
    " 'anatomy_rh_medialorbitofrontal_area',\n",
    " 'anatomy_lh_frontalpole_area',\n",
    " 'anatomy_lh_caudalanteriorcingulate_area',\n",
    " 'anatomy_lh_precentral_area',\n",
    " 'anatomy_lh_inferiorparietal_thickness',\n",
    " 'anatomy_lh_medialorbitofrontal_area',\n",
    " 'anatomy_Left-Thalamus-Proper',\n",
    " 'anatomy_CC_Central',\n",
    " 'anatomy_rh_caudalanteriorcingulate_thickness',\n",
    " 'anatomy_lh_temporalpole_area',\n",
    " 'anatomy_Right-Cerebellum-Cortex',\n",
    " 'anatomy_lh_lingual_area',\n",
    " 'anatomy_lh_medialorbitofrontal_thickness',\n",
    " 'anatomy_Left-Inf-Lat-Vent',\n",
    " 'anatomy_rh_bankssts_area',\n",
    " 'anatomy_rh_precuneus_area',\n",
    " 'anatomy_rh_inferiortemporal_area',\n",
    " 'anatomy_Left-Amygdala',\n",
    " 'anatomy_rh_precuneus_thickness',\n",
    " 'anatomy_rh_lateraloccipital_thickness',\n",
    " 'anatomy_rh_superiorfrontal_area',\n",
    " 'anatomy_WM-hypointensities',\n",
    " 'anatomy_rh_parsorbitalis_thickness',\n",
    " 'anatomy_lh_cuneus_thickness',\n",
    " 'anatomy_rh_frontalpole_area',\n",
    " 'anatomy_rh_superiortemporal_thickness',\n",
    " 'anatomy_lh_fusiform_thickness',\n",
    " 'anatomy_lh_parsorbitalis_area',\n",
    " 'anatomy_rh_lateraloccipital_area',\n",
    " 'anatomy_lh_superiortemporal_thickness',\n",
    " 'anatomy_CC_Mid_Anterior',\n",
    " 'anatomy_lh_superiorfrontal_thickness',\n",
    " 'anatomy_Left-VentralDC',\n",
    " 'anatomy_3rd-Ventricle']\n",
    "\n",
    "\n",
    "\n",
    "class FeatureExtractor(BaseEstimator, TransformerMixin):\n",
    "    def fit(self, X_df, y):\n",
    "        return self\n",
    "\n",
    "    def transform(self, X_df):\n",
    "        # get only the anatomical information\n",
    "        X = X_df[elasticnet_features]\n",
    "        return X\n",
    "    \n",
    "    \n",
    "from sklearn.linear_model import ElasticNetCV, ElasticNet\n",
    "        \n",
    "\n",
    "seed = 15    \n",
    "\n",
    "    \n",
    "class Classifier(BaseEstimator):\n",
    "    def __init__(self):\n",
    "        self.clf = None\n",
    "\n",
    "    def fit(self, X, y):\n",
    "        l1_ratio = 0.4\n",
    "        pipe_cv = make_pipeline(StandardScaler(), \n",
    "                        ElasticNetCV(l1_ratio=l1_ratio, n_jobs=8, random_state=seed, max_iter=10000))\n",
    "        pipe_cv.fit(X, y)\n",
    "        best_alpha = pipe_cv.named_steps['elasticnetcv'].alpha_        \n",
    "        self.clf = make_pipeline(StandardScaler(), \n",
    "                                 ElasticNet(l1_ratio=l1_ratio, alpha=best_alpha, \n",
    "                                            random_state=seed, max_iter=10000))\n",
    "        self.clf.fit(X, y)\n",
    "        return self\n",
    "        \n",
    "    def predict(self, X):\n",
    "        probas = self.predict_proba(X)[:, 1]\n",
    "        return (probas > 0.5).astype(np.int)\n",
    "    \n",
    "    def predict_proba(self, X):\n",
    "        probas = self.clf.predict(X)\n",
    "        probas = probas.reshape((-1, 1))\n",
    "        return np.concatenate([probas, probas], axis=1)        \n",
    "\n"
   ]
  },
  {
   "cell_type": "code",
   "execution_count": 127,
   "metadata": {},
   "outputs": [
    {
     "name": "stdout",
     "output_type": "stream",
     "text": [
      "Training score ROC-AUC: 0.785 +- 0.004\n",
      "Validation score ROC-AUC: 0.735 +- 0.016 \n",
      "\n",
      "Training score accuracy: 0.708 +- 0.007\n",
      "Validation score accuracy: 0.665 +- 0.011\n"
     ]
    },
    {
     "name": "stderr",
     "output_type": "stream",
     "text": [
      "[Parallel(n_jobs=1)]: Done   8 out of   8 | elapsed:    2.3s finished\n"
     ]
    }
   ],
   "source": [
    "import numpy as np\n",
    "\n",
    "results = evaluation(data_train, labels_train)\n",
    "\n",
    "print(\"Training score ROC-AUC: {:.3f} +- {:.3f}\".format(np.mean(results['train_roc_auc']),\n",
    "                                                        np.std(results['train_roc_auc'])))\n",
    "print(\"Validation score ROC-AUC: {:.3f} +- {:.3f} \\n\".format(np.mean(results['test_roc_auc']),\n",
    "                                                          np.std(results['test_roc_auc'])))\n",
    "\n",
    "print(\"Training score accuracy: {:.3f} +- {:.3f}\".format(np.mean(results['train_accuracy']),\n",
    "                                                         np.std(results['train_accuracy'])))\n",
    "print(\"Validation score accuracy: {:.3f} +- {:.3f}\".format(np.mean(results['test_accuracy']),\n",
    "                                                           np.std(results['test_accuracy'])))"
   ]
  },
  {
   "cell_type": "code",
   "execution_count": null,
   "metadata": {},
   "outputs": [],
   "source": []
  },
  {
   "cell_type": "code",
   "execution_count": 108,
   "metadata": {},
   "outputs": [
    {
     "name": "stdout",
     "output_type": "stream",
     "text": [
      "Training score ROC-AUC: 0.789 +- 0.004\n",
      "Validation score ROC-AUC: 0.732 +- 0.017 \n",
      "\n",
      "Training score accuracy: 0.711 +- 0.006\n",
      "Validation score accuracy: 0.672 +- 0.018\n"
     ]
    },
    {
     "name": "stderr",
     "output_type": "stream",
     "text": [
      "[Parallel(n_jobs=1)]: Done   8 out of   8 | elapsed:    2.5s finished\n"
     ]
    }
   ],
   "source": [
    "import numpy as np\n",
    "\n",
    "results = evaluation(data_train, labels_train)\n",
    "\n",
    "print(\"Training score ROC-AUC: {:.3f} +- {:.3f}\".format(np.mean(results['train_roc_auc']),\n",
    "                                                        np.std(results['train_roc_auc'])))\n",
    "print(\"Validation score ROC-AUC: {:.3f} +- {:.3f} \\n\".format(np.mean(results['test_roc_auc']),\n",
    "                                                          np.std(results['test_roc_auc'])))\n",
    "\n",
    "print(\"Training score accuracy: {:.3f} +- {:.3f}\".format(np.mean(results['train_accuracy']),\n",
    "                                                         np.std(results['train_accuracy'])))\n",
    "print(\"Validation score accuracy: {:.3f} +- {:.3f}\".format(np.mean(results['test_accuracy']),\n",
    "                                                           np.std(results['test_accuracy'])))"
   ]
  },
  {
   "cell_type": "code",
   "execution_count": null,
   "metadata": {},
   "outputs": [],
   "source": []
  },
  {
   "cell_type": "markdown",
   "metadata": {},
   "source": []
  },
  {
   "cell_type": "code",
   "execution_count": null,
   "metadata": {},
   "outputs": [],
   "source": []
  },
  {
   "cell_type": "code",
   "execution_count": null,
   "metadata": {},
   "outputs": [],
   "source": []
  },
  {
   "cell_type": "code",
   "execution_count": null,
   "metadata": {},
   "outputs": [],
   "source": []
  },
  {
   "cell_type": "markdown",
   "metadata": {},
   "source": [
    "Mix of LogReg+ElasticNet"
   ]
  },
  {
   "cell_type": "code",
   "execution_count": 156,
   "metadata": {},
   "outputs": [],
   "source": [
    "logreg_features = [\n",
    "    'anatomy_MaskVol', 'anatomy_rhCerebralWhiteMatterVol', 'anatomy_rh_MeanThickness_thickness', 'anatomy_Brain-Stem',\n",
    "    'anatomy_rh_middletemporal_thickness', 'anatomy_rh_lateralorbitofrontal_thickness', 'anatomy_lh_superiortemporal_area',\n",
    "    'anatomy_Right-Cerebellum-White-Matter', 'anatomy_lh_MeanThickness_thickness', 'anatomy_lh_precentral_area',\n",
    "    'anatomy_rh_insula_thickness', 'anatomy_lh_rostralmiddlefrontal_area', 'anatomy_rh_pericalcarine_area',\n",
    "    'anatomy_lh_pericalcarine_area',\n",
    "    'anatomy_lh_lateralorbitofrontal_area',\n",
    "    'anatomy_BrainSegVol',\n",
    "    'anatomy_lh_entorhinal_area',\n",
    "    'anatomy_lh_superiorparietal_area',\n",
    "    'anatomy_rh_middletemporal_area',\n",
    "    'anatomy_BrainSegVolNotVent',\n",
    "    'anatomy_rhSurfaceHoles',\n",
    "    'anatomy_lhCortexVol',\n",
    "    'anatomy_SupraTentorialVolNotVentVox',\n",
    "    'anatomy_rh_medialorbitofrontal_area',\n",
    "    'anatomy_Left-Thalamus-Proper',\n",
    "    'anatomy_CC_Posterior',\n",
    "    'anatomy_rh_inferiorparietal_area',\n",
    "    'anatomy_rh_temporalpole_area',\n",
    "    'anatomy_lh_frontalpole_area',\n",
    "    'anatomy_lh_caudalanteriorcingulate_area',\n",
    "    'anatomy_rh_fusiform_area',\n",
    "    'anatomy_Right-Accumbens-area',\n",
    "    'anatomy_CC_Central',\n",
    "    'anatomy_rh_caudalmiddlefrontal_thickness',\n",
    "    'anatomy_Right-Amygdala',\n",
    "    'anatomy_lh_entorhinal_thickness',\n",
    "    'anatomy_lh_lateralorbitofrontal_thickness',\n",
    "    'anatomy_lh_precentral_thickness',\n",
    "    'anatomy_rh_postcentral_thickness',\n",
    "    'anatomy_Left-Caudate',\n",
    "    'anatomy_rh_insula_area',\n",
    "    'anatomy_lh_inferiortemporal_thickness',\n",
    "    'anatomy_lh_insula_thickness',\n",
    "    'anatomy_rh_entorhinal_thickness',\n",
    "    'anatomy_Left-Inf-Lat-Vent',\n",
    "    'anatomy_rh_precentral_area',\n",
    "    'anatomy_rh_frontalpole_area',\n",
    "    'anatomy_WM-hypointensities',\n",
    "    'anatomy_rh_rostralmiddlefrontal_area',\n",
    "    'anatomy_rh_superiortemporal_thickness',\n",
    "    'anatomy_Left-Hippocampus',\n",
    "    'anatomy_Right-Pallidum',\n",
    "    'anatomy_lh_insula_area',\n",
    "    'anatomy_rhCortexVol',\n",
    "    'anatomy_rh_precuneus_area',\n",
    "    'anatomy_rh_bankssts_area',\n",
    "    'anatomy_lh_medialorbitofrontal_thickness',\n",
    "    'anatomy_eTIV',\n",
    "    'anatomy_EstimatedTotalIntraCranialVol',\n",
    "    'anatomy_rh_rostralmiddlefrontal_thickness',\n",
    "    'anatomy_Left-Amygdala',\n",
    "    'anatomy_rh_lateraloccipital_thickness',\n",
    "    'anatomy_lh_lingual_area',\n",
    "    'anatomy_rh_parsorbitalis_thickness',\n",
    "    'anatomy_lhSurfaceHoles',\n",
    "    'anatomy_lh_cuneus_thickness',\n",
    "    'anatomy_SubCortGrayVol',\n",
    "    'anatomy_Right-Cerebellum-Cortex',\n",
    "    'anatomy_rh_superiorfrontal_area',\n",
    "    'anatomy_lh_fusiform_thickness',\n",
    "    'anatomy_lh_parsorbitalis_area',\n",
    "    'anatomy_rh_lateraloccipital_area',\n",
    "    'anatomy_CC_Mid_Anterior',\n",
    "    'anatomy_Left-VentralDC',\n",
    "    'anatomy_3rd-Ventricle',\n",
    "    'anatomy_lh_superiortemporal_thickness',\n",
    "    'anatomy_rh_inferiortemporal_area',\n",
    "    'anatomy_BrainSegVol-to-eTIV',\n",
    "    'anatomy_lh_superiorfrontal_thickness',\n",
    "    'anatomy_rh_precuneus_thickness',\n",
    "    'anatomy_lhCerebralWhiteMatterVol',\n",
    "    'anatomy_MaskVol-to-eTIV']\n",
    "\n",
    "\n",
    "elasticnet_features = ['anatomy_rh_middletemporal_thickness',\n",
    " 'anatomy_rh_lateralorbitofrontal_thickness',\n",
    " 'anatomy_Brain-Stem',\n",
    " 'anatomy_Right-Cerebellum-White-Matter',\n",
    " 'anatomy_rh_pericalcarine_area',\n",
    " 'anatomy_rh_inferiorparietal_area',\n",
    " 'anatomy_Right-Accumbens-area',\n",
    " 'anatomy_lh_lateralorbitofrontal_area',\n",
    " 'anatomy_lh_superiortemporal_area',\n",
    " 'anatomy_rh_temporalpole_area',\n",
    " 'anatomy_lh_parahippocampal_thickness',\n",
    " 'anatomy_rh_postcentral_thickness',\n",
    " 'anatomy_lh_precentral_thickness',\n",
    " 'anatomy_lh_entorhinal_area',\n",
    " 'anatomy_rh_precentral_thickness',\n",
    " 'anatomy_lh_rostralmiddlefrontal_area',\n",
    " 'anatomy_rh_medialorbitofrontal_area',\n",
    " 'anatomy_lh_frontalpole_area',\n",
    " 'anatomy_lh_caudalanteriorcingulate_area',\n",
    " 'anatomy_lh_precentral_area',\n",
    " 'anatomy_lh_inferiorparietal_thickness',\n",
    " 'anatomy_lh_medialorbitofrontal_area',\n",
    " 'anatomy_Left-Thalamus-Proper',\n",
    " 'anatomy_CC_Central',\n",
    " 'anatomy_rh_caudalanteriorcingulate_thickness',\n",
    " 'anatomy_lh_temporalpole_area',\n",
    " 'anatomy_Right-Cerebellum-Cortex',\n",
    " 'anatomy_lh_lingual_area',\n",
    " 'anatomy_lh_medialorbitofrontal_thickness',\n",
    " 'anatomy_Left-Inf-Lat-Vent',\n",
    " 'anatomy_rh_bankssts_area',\n",
    " 'anatomy_rh_precuneus_area',\n",
    " 'anatomy_rh_inferiortemporal_area',\n",
    " 'anatomy_Left-Amygdala',\n",
    " 'anatomy_rh_precuneus_thickness',\n",
    " 'anatomy_rh_lateraloccipital_thickness',\n",
    " 'anatomy_rh_superiorfrontal_area',\n",
    " 'anatomy_WM-hypointensities',\n",
    " 'anatomy_rh_parsorbitalis_thickness',\n",
    " 'anatomy_lh_cuneus_thickness',\n",
    " 'anatomy_rh_frontalpole_area',\n",
    " 'anatomy_rh_superiortemporal_thickness',\n",
    " 'anatomy_lh_fusiform_thickness',\n",
    " 'anatomy_lh_parsorbitalis_area',\n",
    " 'anatomy_rh_lateraloccipital_area',\n",
    " 'anatomy_lh_superiortemporal_thickness',\n",
    " 'anatomy_CC_Mid_Anterior',\n",
    " 'anatomy_lh_superiorfrontal_thickness',\n",
    " 'anatomy_Left-VentralDC',\n",
    " 'anatomy_3rd-Ventricle']\n",
    "\n",
    "\n",
    "\n",
    "class FeatureExtractor(BaseEstimator, TransformerMixin):\n",
    "    def fit(self, X_df, y):\n",
    "        return self\n",
    "\n",
    "    def transform(self, X_df):\n",
    "        # get only the anatomical information\n",
    "        return X_df\n",
    "    \n",
    "    \n",
    "from sklearn.linear_model import LogisticRegressionCV, LogisticRegression\n",
    "from sklearn.linear_model import ElasticNetCV, ElasticNet\n",
    "        \n",
    "    \n",
    "seed = 72\n",
    "\n",
    "\n",
    "class Classifier(BaseEstimator):\n",
    "    def __init__(self):\n",
    "        self.logreg = None\n",
    "        self.elnet = None\n",
    "        self.weights = [0.65, 0.35]\n",
    "\n",
    "    def fit(self, X, y):\n",
    "                \n",
    "        l1_ratio = 0.5\n",
    "        \n",
    "        pipe1_cv = make_pipeline(StandardScaler(), \n",
    "                                 LogisticRegressionCV(n_jobs=8, scoring=\"roc_auc\", random_state=seed))\n",
    "        pipe2_cv = make_pipeline(StandardScaler(), \n",
    "                                 ElasticNetCV(l1_ratio=l1_ratio, n_jobs=8, random_state=seed, max_iter=10000))\n",
    "                \n",
    "        pipe1_cv.fit(X[logreg_features], y)\n",
    "        pipe2_cv.fit(X[elasticnet_features], y)\n",
    "        \n",
    "        best_C = pipe1_cv.named_steps['logisticregressioncv'].C_[0]\n",
    "        self.logreg = make_pipeline(StandardScaler(), LogisticRegression(C=best_C, random_state=seed))\n",
    "        \n",
    "        best_alpha = pipe2_cv.named_steps['elasticnetcv'].alpha_        \n",
    "        self.elnet = make_pipeline(StandardScaler(), \n",
    "                                   ElasticNet(l1_ratio=l1_ratio, alpha=best_alpha, \n",
    "                                              random_state=seed, max_iter=10000))\n",
    "         \n",
    "        self.logreg.fit(X[logreg_features], y)\n",
    "        self.elnet.fit(X[elasticnet_features], y)        \n",
    "        return self\n",
    "        \n",
    "    def predict(self, X):        \n",
    "        probas = self.predict_proba(X)[:, 1]\n",
    "        return (probas > 0.5).astype(np.int)\n",
    "    \n",
    "    def predict_proba(self, X):\n",
    "        pr1 = self.logreg_predict_proba(X)\n",
    "        pr2 = self.elnet_predict_proba(X)\n",
    "        probas = self.weights[0] * pr1 + self.weights[1] * pr2\n",
    "        return probas\n",
    "    \n",
    "    def logreg_predict_proba(self, X):\n",
    "        return self.logreg.predict_proba(X[logreg_features])\n",
    "    \n",
    "    def elnet_predict_proba(self, X):\n",
    "        probas = self.elnet.predict(X[elasticnet_features])\n",
    "        probas = probas.reshape((-1, 1))\n",
    "        return np.concatenate([probas, probas], axis=1)                \n"
   ]
  },
  {
   "cell_type": "code",
   "execution_count": 157,
   "metadata": {},
   "outputs": [
    {
     "name": "stdout",
     "output_type": "stream",
     "text": [
      "Training score ROC-AUC: 0.817 +- 0.004\n",
      "Validation score ROC-AUC: 0.745 +- 0.017 \n",
      "\n",
      "Training score accuracy: 0.742 +- 0.006\n",
      "Validation score accuracy: 0.680 +- 0.018\n"
     ]
    },
    {
     "name": "stderr",
     "output_type": "stream",
     "text": [
      "[Parallel(n_jobs=1)]: Done   8 out of   8 | elapsed:   15.9s finished\n"
     ]
    }
   ],
   "source": [
    "import numpy as np\n",
    "\n",
    "results = evaluation(data_train, labels_train)\n",
    "\n",
    "print(\"Training score ROC-AUC: {:.3f} +- {:.3f}\".format(np.mean(results['train_roc_auc']),\n",
    "                                                        np.std(results['train_roc_auc'])))\n",
    "print(\"Validation score ROC-AUC: {:.3f} +- {:.3f} \\n\".format(np.mean(results['test_roc_auc']),\n",
    "                                                          np.std(results['test_roc_auc'])))\n",
    "\n",
    "print(\"Training score accuracy: {:.3f} +- {:.3f}\".format(np.mean(results['train_accuracy']),\n",
    "                                                         np.std(results['train_accuracy'])))\n",
    "print(\"Validation score accuracy: {:.3f} +- {:.3f}\".format(np.mean(results['test_accuracy']),\n",
    "                                                           np.std(results['test_accuracy'])))"
   ]
  },
  {
   "cell_type": "code",
   "execution_count": null,
   "metadata": {},
   "outputs": [],
   "source": []
  },
  {
   "cell_type": "markdown",
   "metadata": {},
   "source": [
    "Logreg only"
   ]
  },
  {
   "cell_type": "code",
   "execution_count": 19,
   "metadata": {},
   "outputs": [
    {
     "name": "stdout",
     "output_type": "stream",
     "text": [
      "Training score ROC-AUC: 0.819 +- 0.004\n",
      "Validation score ROC-AUC: 0.741 +- 0.018 \n",
      "\n",
      "Training score accuracy: 0.744 +- 0.008\n",
      "Validation score accuracy: 0.676 +- 0.018\n"
     ]
    },
    {
     "name": "stderr",
     "output_type": "stream",
     "text": [
      "[Parallel(n_jobs=1)]: Done   8 out of   8 | elapsed:   17.6s finished\n"
     ]
    }
   ],
   "source": [
    "import numpy as np\n",
    "\n",
    "results = evaluation(data_train, labels_train)\n",
    "\n",
    "print(\"Training score ROC-AUC: {:.3f} +- {:.3f}\".for§mat(np.mean(results['train_roc_auc']),\n",
    "                                                        np.std(results['train_roc_auc'])))\n",
    "print(\"Validation score ROC-AUC: {:.3f} +- {:.3f} \\n\".format(np.mean(results['test_roc_auc']),\n",
    "                                                          np.std(results['test_roc_auc'])))\n",
    "\n",
    "print(\"Training score accuracy: {:.3f} +- {:.3f}\".format(np.mean(results['train_accuracy']),\n",
    "                                                         np.std(results['train_accuracy'])))\n",
    "print(\"Validation score accuracy: {:.3f} +- {:.3f}\".format(np.mean(results['test_accuracy']),\n",
    "                                                           np.std(results['test_accuracy'])))"
   ]
  },
  {
   "cell_type": "code",
   "execution_count": null,
   "metadata": {},
   "outputs": [],
   "source": []
  }
 ],
 "metadata": {
  "kernelspec": {
   "display_name": "Python 3",
   "language": "python",
   "name": "python3"
  },
  "language_info": {
   "codemirror_mode": {
    "name": "ipython",
    "version": 3
   },
   "file_extension": ".py",
   "mimetype": "text/x-python",
   "name": "python",
   "nbconvert_exporter": "python",
   "pygments_lexer": "ipython3",
   "version": "3.6.5"
  }
 },
 "nbformat": 4,
 "nbformat_minor": 2
}
