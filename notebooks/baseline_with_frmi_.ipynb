{
 "cells": [
  {
   "cell_type": "markdown",
   "metadata": {},
   "source": [
    "# Functional RMI in Nutshell\n",
    "\n",
    "https://arxiv.org/pdf/1304.3880.pdf\n",
    "    \n",
    "\n",
    "- Representation of brain connectivity is often called the functional connectome\n",
    "- \"Functional connectivity\" is defined as a measure of synchronization in brain signals\n",
    "- By \"functional connectome\", here we specifically denote a graph representing functional interactions in the brain\n",
    "\n",
    "### How to exstimate functional connectome\n",
    "\n",
    "- Confounding signal : (wiki) variable that influences both the dependent variable and independent variable causing a spurious association\n",
    "\n",
    "- RoI and atlases\n",
    "\n",
    "- For  the  problem  of  recovering  the  functional connectivity structure, i.e. finding which region is connected to which, **sparse inverse covariance estimators** have been found to be efficient\n",
    "\n",
    "- Inverse-covariance matrix, which captures partial correlations, appears then as extracting a backbone or core of the graph\n",
    "\n",
    "\n"
   ]
  },
  {
   "cell_type": "code",
   "execution_count": null,
   "metadata": {},
   "outputs": [],
   "source": []
  },
  {
   "cell_type": "code",
   "execution_count": 1,
   "metadata": {},
   "outputs": [],
   "source": [
    "path = \"..\"\n",
    "\n",
    "import sys\n",
    "sys.path.insert(0, path)\n",
    "\n",
    "import numpy as np\n",
    "import pandas as pd\n",
    "\n",
    "import matplotlib.pylab as plt\n",
    "%matplotlib inline\n",
    "import seaborn as sns"
   ]
  },
  {
   "cell_type": "code",
   "execution_count": 2,
   "metadata": {},
   "outputs": [],
   "source": [
    "from problem import get_train_data, get_test_data\n",
    "\n",
    "data_train_, labels_train_ = get_train_data(path=path)\n",
    "data_test_, labels_test_ = get_test_data(path=path)"
   ]
  },
  {
   "cell_type": "code",
   "execution_count": 5,
   "metadata": {},
   "outputs": [
    {
     "data": {
      "text/plain": [
       "['fmri_basc064',\n",
       " 'fmri_basc122',\n",
       " 'fmri_basc197',\n",
       " 'fmri_craddock_scorr_mean',\n",
       " 'fmri_harvard_oxford_cort_prob_2mm',\n",
       " 'fmri_motions',\n",
       " 'fmri_msdl',\n",
       " 'fmri_power_2011',\n",
       " 'fmri_select']"
      ]
     },
     "execution_count": 5,
     "metadata": {},
     "output_type": "execute_result"
    }
   ],
   "source": [
    "fmri_cols = [c for c in data_train_.columns if \"fmri\" in c]\n",
    "fmri_cols"
   ]
  },
  {
   "cell_type": "code",
   "execution_count": 8,
   "metadata": {},
   "outputs": [],
   "source": [
    "accepted_fmri = data_train_['fmri_select'] > 0"
   ]
  },
  {
   "cell_type": "code",
   "execution_count": null,
   "metadata": {},
   "outputs": [],
   "source": []
  },
  {
   "cell_type": "code",
   "execution_count": null,
   "metadata": {},
   "outputs": [],
   "source": []
  },
  {
   "cell_type": "code",
   "execution_count": null,
   "metadata": {},
   "outputs": [],
   "source": []
  },
  {
   "cell_type": "code",
   "execution_count": null,
   "metadata": {},
   "outputs": [],
   "source": []
  },
  {
   "cell_type": "code",
   "execution_count": null,
   "metadata": {},
   "outputs": [],
   "source": []
  },
  {
   "cell_type": "code",
   "execution_count": null,
   "metadata": {},
   "outputs": [],
   "source": []
  }
 ],
 "metadata": {
  "kernelspec": {
   "display_name": "Python 3",
   "language": "python",
   "name": "python3"
  },
  "language_info": {
   "codemirror_mode": {
    "name": "ipython",
    "version": 3
   },
   "file_extension": ".py",
   "mimetype": "text/x-python",
   "name": "python",
   "nbconvert_exporter": "python",
   "pygments_lexer": "ipython3",
   "version": "3.6.5"
  }
 },
 "nbformat": 4,
 "nbformat_minor": 2
}
