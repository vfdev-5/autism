{
 "cells": [
  {
   "cell_type": "markdown",
   "metadata": {},
   "source": [
    "# Baseline model based on anatomy features"
   ]
  },
  {
   "cell_type": "code",
   "execution_count": 1,
   "metadata": {},
   "outputs": [],
   "source": [
    "path = \"..\"\n",
    "\n",
    "import sys\n",
    "sys.path.insert(0, path)"
   ]
  },
  {
   "cell_type": "code",
   "execution_count": 2,
   "metadata": {},
   "outputs": [],
   "source": [
    "import numpy as np\n",
    "import matplotlib.pylab as plt\n",
    "%matplotlib inline\n",
    "import seaborn"
   ]
  },
  {
   "cell_type": "code",
   "execution_count": 3,
   "metadata": {},
   "outputs": [],
   "source": [
    "from problem import get_train_data, get_test_data\n",
    "\n",
    "data_train, labels_train = get_train_data(path=path)\n",
    "data_test, labels_test = get_test_data(path=path)"
   ]
  },
  {
   "cell_type": "code",
   "execution_count": 4,
   "metadata": {},
   "outputs": [
    {
     "data": {
      "text/plain": [
       "((1127, 220), (23, 220))"
      ]
     },
     "execution_count": 4,
     "metadata": {},
     "output_type": "execute_result"
    }
   ],
   "source": [
    "data_train.shape, data_test.shape"
   ]
  },
  {
   "cell_type": "code",
   "execution_count": 5,
   "metadata": {},
   "outputs": [],
   "source": [
    "from sklearn.pipeline import make_pipeline\n",
    "from sklearn.model_selection import cross_validate\n",
    "from problem import get_cv\n",
    "\n",
    "def evaluation(X, y):\n",
    "    pipe = make_pipeline(FeatureExtractor(), Classifier())\n",
    "    cv = get_cv(X, y)\n",
    "    results = cross_validate(pipe, X, y, scoring=['roc_auc', 'accuracy'], cv=cv,\n",
    "                             verbose=1, return_train_score=True,\n",
    "                             n_jobs=1)\n",
    "    \n",
    "    return results"
   ]
  },
  {
   "cell_type": "code",
   "execution_count": null,
   "metadata": {},
   "outputs": [],
   "source": []
  },
  {
   "cell_type": "markdown",
   "metadata": {},
   "source": [
    "### Basic RF"
   ]
  },
  {
   "cell_type": "code",
   "execution_count": 98,
   "metadata": {},
   "outputs": [],
   "source": [
    "from sklearn.base import BaseEstimator\n",
    "from sklearn.base import TransformerMixin\n",
    "from sklearn.base import BaseEstimator\n",
    "from sklearn.preprocessing import StandardScaler\n",
    "from sklearn.pipeline import make_pipeline\n",
    "\n",
    "\n",
    "class FeatureExtractor(BaseEstimator, TransformerMixin):\n",
    "    def fit(self, X_df, y):\n",
    "        return self\n",
    "\n",
    "    def transform(self, X_df):\n",
    "        # get only the anatomical information\n",
    "        X = X_df[[col for col in X_df.columns if col.startswith('anatomy')]]\n",
    "        return X.drop(columns='anatomy_select')\n",
    "\n",
    "    \n",
    "from sklearn.ensemble import RandomForestClassifier\n",
    "\n",
    "seed = 12345\n",
    "\n",
    "class Classifier(BaseEstimator):\n",
    "    def __init__(self):\n",
    "        self.clf = RandomForestClassifier(max_depth=2, n_estimators=50, min_samples_leaf=2, random_state=seed)\n",
    "\n",
    "    def fit(self, X, y):\n",
    "        self.clf.fit(X, y)\n",
    "        return self\n",
    "        \n",
    "    def predict(self, X):\n",
    "        return self.clf.predict(X)\n",
    "\n",
    "    def predict_proba(self, X):\n",
    "        return self.clf.predict_proba(X)\n"
   ]
  },
  {
   "cell_type": "code",
   "execution_count": 100,
   "metadata": {},
   "outputs": [
    {
     "name": "stdout",
     "output_type": "stream",
     "text": [
      "Training score ROC-AUC: 0.773 +- 0.012\n",
      "Validation score ROC-AUC: 0.601 +- 0.031 \n",
      "\n",
      "Training score accuracy: 0.672 +- 0.007\n",
      "Validation score accuracy: 0.574 +- 0.026\n"
     ]
    },
    {
     "name": "stderr",
     "output_type": "stream",
     "text": [
      "[Parallel(n_jobs=1)]: Done   8 out of   8 | elapsed:    1.0s finished\n"
     ]
    }
   ],
   "source": [
    "import numpy as np\n",
    "\n",
    "results = evaluation(data_train, labels_train)\n",
    "\n",
    "print(\"Training score ROC-AUC: {:.3f} +- {:.3f}\".format(np.mean(results['train_roc_auc']),\n",
    "                                                        np.std(results['train_roc_auc'])))\n",
    "print(\"Validation score ROC-AUC: {:.3f} +- {:.3f} \\n\".format(np.mean(results['test_roc_auc']),\n",
    "                                                          np.std(results['test_roc_auc'])))\n",
    "\n",
    "print(\"Training score accuracy: {:.3f} +- {:.3f}\".format(np.mean(results['train_accuracy']),\n",
    "                                                         np.std(results['train_accuracy'])))\n",
    "print(\"Validation score accuracy: {:.3f} +- {:.3f}\".format(np.mean(results['test_accuracy']),\n",
    "                                                           np.std(results['test_accuracy'])))"
   ]
  },
  {
   "cell_type": "markdown",
   "metadata": {},
   "source": [
    "Let's visualize feature importance:"
   ]
  },
  {
   "cell_type": "code",
   "execution_count": 101,
   "metadata": {},
   "outputs": [],
   "source": [
    "def visualize_coefficients(classifier, feature_names, n_top_features=25):\n",
    "    # get coefficients with large absolute values \n",
    "    coef = classifier.feature_importances_.ravel()\n",
    "    interesting_coefficients = np.argsort(coef)[-n_top_features:]\n",
    "    # plot them\n",
    "    plt.figure(figsize=(15, 5))\n",
    "    colors = [\"red\" if c < 0 else \"blue\" for c in coef[interesting_coefficients]]\n",
    "    plt.bar(np.arange(n_top_features), coef[interesting_coefficients], color=colors)\n",
    "    feature_names = np.array(feature_names)\n",
    "    plt.xticks(np.arange(1, 1 + n_top_features), feature_names[interesting_coefficients], rotation=90);"
   ]
  },
  {
   "cell_type": "code",
   "execution_count": 102,
   "metadata": {},
   "outputs": [
    {
     "data": {
      "text/plain": [
       "Pipeline(memory=None,\n",
       "     steps=[('featureextractor', FeatureExtractor()), ('classifier', Classifier())])"
      ]
     },
     "execution_count": 102,
     "metadata": {},
     "output_type": "execute_result"
    }
   ],
   "source": [
    "pipe = make_pipeline(FeatureExtractor(), Classifier())\n",
    "pipe.fit(data_train, labels_train)"
   ]
  },
  {
   "cell_type": "code",
   "execution_count": 105,
   "metadata": {},
   "outputs": [],
   "source": [
    "rf = pipe.named_steps['classifier'].clf"
   ]
  },
  {
   "cell_type": "code",
   "execution_count": 106,
   "metadata": {},
   "outputs": [
    {
     "data": {
      "image/png": "[encoded data removed]",
      "text/plain": [
       "<Figure size 1080x360 with 1 Axes>"
      ]
     },
     "metadata": {},
     "output_type": "display_data"
    }
   ],
   "source": [
    "cols=[col for col in data_train.columns if col.startswith('anatomy')]\n",
    "\n",
    "visualize_coefficients(rf, feature_names=cols, n_top_features=40)"
   ]
  },
  {
   "cell_type": "code",
   "execution_count": 148,
   "metadata": {},
   "outputs": [],
   "source": [
    "n_top_features = 12\n",
    "coef = rf.feature_importances_.ravel()\n",
    "interesting_coefficients = np.argsort(coef)[-n_top_features:]"
   ]
  },
  {
   "cell_type": "code",
   "execution_count": 149,
   "metadata": {},
   "outputs": [],
   "source": [
    "topk_feature_names = np.array(cols)[interesting_coefficients].tolist()"
   ]
  },
  {
   "cell_type": "code",
   "execution_count": 152,
   "metadata": {},
   "outputs": [
    {
     "data": {
      "text/plain": [
       "['anatomy_BrainSegVol',\n",
       " 'anatomy_EstimatedTotalIntraCranialVol',\n",
       " 'anatomy_lh_isthmuscingulate_area',\n",
       " 'anatomy_eTIV',\n",
       " 'anatomy_lh_rostralmiddlefrontal_area',\n",
       " 'anatomy_lh_parsorbitalis_area',\n",
       " 'anatomy_CSF',\n",
       " 'anatomy_WM-hypointensities',\n",
       " 'anatomy_rh_frontalpole_area',\n",
       " 'anatomy_lh_superiorfrontal_area',\n",
       " 'anatomy_lh_lateraloccipital_thickness',\n",
       " 'anatomy_3rd-Ventricle']"
      ]
     },
     "execution_count": 152,
     "metadata": {},
     "output_type": "execute_result"
    }
   ],
   "source": [
    "topk_feature_names"
   ]
  },
  {
   "cell_type": "markdown",
   "metadata": {},
   "source": [
    "### Basic RF with filtered features "
   ]
  },
  {
   "cell_type": "code",
   "execution_count": 169,
   "metadata": {},
   "outputs": [],
   "source": [
    "topk_feature_names = ['anatomy_BrainSegVol',\n",
    " 'anatomy_EstimatedTotalIntraCranialVol',\n",
    " 'anatomy_lh_isthmuscingulate_area',\n",
    " 'anatomy_eTIV',\n",
    " 'anatomy_lh_rostralmiddlefrontal_area',\n",
    " 'anatomy_lh_parsorbitalis_area',\n",
    " 'anatomy_CSF',\n",
    " 'anatomy_WM-hypointensities',\n",
    " 'anatomy_rh_frontalpole_area',\n",
    " 'anatomy_lh_superiorfrontal_area',\n",
    " 'anatomy_lh_lateraloccipital_thickness',\n",
    " 'anatomy_3rd-Ventricle'\n",
    "]\n",
    "\n",
    "\n",
    "class FeatureExtractor(BaseEstimator, TransformerMixin):\n",
    "    def fit(self, X_df, y):\n",
    "        return self\n",
    "\n",
    "    def transform(self, X_df):\n",
    "        # get only the anatomical information\n",
    "        X = X_df[topk_feature_names]\n",
    "        return X\n",
    "    \n",
    "\n",
    "seed = 17        \n",
    "\n",
    "class Classifier(BaseEstimator):\n",
    "    def __init__(self):\n",
    "        self.clf = None\n",
    "\n",
    "    def fit(self, X, y):        \n",
    "        self.clf = RandomForestClassifier(max_depth=3, n_estimators=150, min_samples_leaf=2, random_state=seed)\n",
    "        self.clf.fit(X, y)\n",
    "        return self\n",
    "        \n",
    "    def predict(self, X):\n",
    "        return self.clf.predict(X)\n",
    "\n",
    "    def predict_proba(self, X):\n",
    "        return self.clf.predict_proba(X)\n"
   ]
  },
  {
   "cell_type": "code",
   "execution_count": 170,
   "metadata": {},
   "outputs": [
    {
     "name": "stdout",
     "output_type": "stream",
     "text": [
      "Training score ROC-AUC: 0.767 +- 0.005\n",
      "Validation score ROC-AUC: 0.662 +- 0.032 \n",
      "\n",
      "Training score accuracy: 0.686 +- 0.009\n",
      "Validation score accuracy: 0.614 +- 0.028\n"
     ]
    },
    {
     "name": "stderr",
     "output_type": "stream",
     "text": [
      "[Parallel(n_jobs=1)]: Done   8 out of   8 | elapsed:    1.7s finished\n"
     ]
    }
   ],
   "source": [
    "import numpy as np\n",
    "\n",
    "results = evaluation(data_train, labels_train)\n",
    "\n",
    "print(\"Training score ROC-AUC: {:.3f} +- {:.3f}\".format(np.mean(results['train_roc_auc']),\n",
    "                                                        np.std(results['train_roc_auc'])))\n",
    "print(\"Validation score ROC-AUC: {:.3f} +- {:.3f} \\n\".format(np.mean(results['test_roc_auc']),\n",
    "                                                          np.std(results['test_roc_auc'])))\n",
    "\n",
    "print(\"Training score accuracy: {:.3f} +- {:.3f}\".format(np.mean(results['train_accuracy']),\n",
    "                                                         np.std(results['train_accuracy'])))\n",
    "print(\"Validation score accuracy: {:.3f} +- {:.3f}\".format(np.mean(results['test_accuracy']),\n",
    "                                                           np.std(results['test_accuracy'])))"
   ]
  },
  {
   "cell_type": "code",
   "execution_count": null,
   "metadata": {},
   "outputs": [],
   "source": []
  },
  {
   "cell_type": "code",
   "execution_count": null,
   "metadata": {},
   "outputs": [],
   "source": []
  },
  {
   "cell_type": "code",
   "execution_count": null,
   "metadata": {},
   "outputs": [],
   "source": []
  },
  {
   "cell_type": "code",
   "execution_count": null,
   "metadata": {},
   "outputs": [],
   "source": []
  },
  {
   "cell_type": "code",
   "execution_count": null,
   "metadata": {},
   "outputs": [],
   "source": []
  },
  {
   "cell_type": "code",
   "execution_count": null,
   "metadata": {},
   "outputs": [],
   "source": []
  },
  {
   "cell_type": "code",
   "execution_count": null,
   "metadata": {},
   "outputs": [],
   "source": []
  },
  {
   "cell_type": "markdown",
   "metadata": {},
   "source": [
    "### Basic GBT"
   ]
  },
  {
   "cell_type": "code",
   "execution_count": 198,
   "metadata": {},
   "outputs": [],
   "source": [
    "from sklearn.base import BaseEstimator\n",
    "from sklearn.base import TransformerMixin\n",
    "from sklearn.base import BaseEstimator\n",
    "from sklearn.preprocessing import StandardScaler\n",
    "from sklearn.pipeline import make_pipeline\n",
    "\n",
    "\n",
    "class FeatureExtractor(BaseEstimator, TransformerMixin):\n",
    "    def fit(self, X_df, y):\n",
    "        return self\n",
    "\n",
    "    def transform(self, X_df):\n",
    "        # get only the anatomical information\n",
    "        X = X_df[[col for col in X_df.columns if col.startswith('anatomy')]]\n",
    "        return X.drop(columns='anatomy_select')\n",
    "\n",
    "    \n",
    "from sklearn.ensemble import GradientBoostingClassifier\n",
    "\n",
    "seed = 12\n",
    "\n",
    "class Classifier(BaseEstimator):\n",
    "    def __init__(self):\n",
    "        self.clf = GradientBoostingClassifier(learning_rate=0.0051, max_depth=2, n_estimators=100, \n",
    "                                              subsample=0.4,\n",
    "                                              random_state=seed)\n",
    "\n",
    "    def fit(self, X, y):\n",
    "        self.clf.fit(X, y)\n",
    "        return self\n",
    "        \n",
    "    def predict(self, X):\n",
    "        return self.clf.predict(X)\n",
    "\n",
    "    def predict_proba(self, X):\n",
    "        return self.clf.predict_proba(X)\n"
   ]
  },
  {
   "cell_type": "code",
   "execution_count": 199,
   "metadata": {},
   "outputs": [
    {
     "name": "stdout",
     "output_type": "stream",
     "text": [
      "Training score ROC-AUC: 0.818 +- 0.008\n",
      "Validation score ROC-AUC: 0.627 +- 0.036 \n",
      "\n",
      "Training score accuracy: 0.674 +- 0.010\n",
      "Validation score accuracy: 0.577 +- 0.016\n"
     ]
    },
    {
     "name": "stderr",
     "output_type": "stream",
     "text": [
      "[Parallel(n_jobs=1)]: Done   8 out of   8 | elapsed:    3.5s finished\n"
     ]
    }
   ],
   "source": [
    "import numpy as np\n",
    "\n",
    "results = evaluation(data_train, labels_train)\n",
    "\n",
    "print(\"Training score ROC-AUC: {:.3f} +- {:.3f}\".format(np.mean(results['train_roc_auc']),\n",
    "                                                        np.std(results['train_roc_auc'])))\n",
    "print(\"Validation score ROC-AUC: {:.3f} +- {:.3f} \\n\".format(np.mean(results['test_roc_auc']),\n",
    "                                                          np.std(results['test_roc_auc'])))\n",
    "\n",
    "print(\"Training score accuracy: {:.3f} +- {:.3f}\".format(np.mean(results['train_accuracy']),\n",
    "                                                         np.std(results['train_accuracy'])))\n",
    "print(\"Validation score accuracy: {:.3f} +- {:.3f}\".format(np.mean(results['test_accuracy']),\n",
    "                                                           np.std(results['test_accuracy'])))"
   ]
  },
  {
   "cell_type": "markdown",
   "metadata": {},
   "source": [
    "Let's visualize feature importance:"
   ]
  },
  {
   "cell_type": "code",
   "execution_count": 200,
   "metadata": {},
   "outputs": [],
   "source": [
    "def visualize_coefficients(classifier, feature_names, n_top_features=25):\n",
    "    # get coefficients with large absolute values \n",
    "    coef = classifier.feature_importances_.ravel()\n",
    "    interesting_coefficients = np.argsort(coef)[-n_top_features:]\n",
    "    # plot them\n",
    "    plt.figure(figsize=(15, 5))\n",
    "    colors = [\"red\" if c < 0 else \"blue\" for c in coef[interesting_coefficients]]\n",
    "    plt.bar(np.arange(n_top_features), coef[interesting_coefficients], color=colors)\n",
    "    feature_names = np.array(feature_names)\n",
    "    plt.xticks(np.arange(1, 1 + n_top_features), feature_names[interesting_coefficients], rotation=90);"
   ]
  },
  {
   "cell_type": "code",
   "execution_count": 201,
   "metadata": {},
   "outputs": [
    {
     "data": {
      "text/plain": [
       "Pipeline(memory=None,\n",
       "     steps=[('featureextractor', FeatureExtractor()), ('classifier', Classifier())])"
      ]
     },
     "execution_count": 201,
     "metadata": {},
     "output_type": "execute_result"
    }
   ],
   "source": [
    "pipe = make_pipeline(FeatureExtractor(), Classifier())\n",
    "pipe.fit(data_train, labels_train)"
   ]
  },
  {
   "cell_type": "code",
   "execution_count": 239,
   "metadata": {},
   "outputs": [],
   "source": [
    "gbt = pipe.named_steps['classifier'].clf"
   ]
  },
  {
   "cell_type": "code",
   "execution_count": 240,
   "metadata": {},
   "outputs": [
    {
     "data": {
      "image/png": "[encoded data removed]",
      "text/plain": [
       "<Figure size 1080x360 with 1 Axes>"
      ]
     },
     "metadata": {},
     "output_type": "display_data"
    }
   ],
   "source": [
    "cols=[col for col in data_train.columns if col.startswith('anatomy')]\n",
    "\n",
    "visualize_coefficients(gbt, feature_names=cols, n_top_features=40)"
   ]
  },
  {
   "cell_type": "code",
   "execution_count": 221,
   "metadata": {},
   "outputs": [],
   "source": [
    "n_top_features = 12\n",
    "coef = rf.feature_importances_.ravel()\n",
    "interesting_coefficients = np.argsort(coef)[-n_top_features:]"
   ]
  },
  {
   "cell_type": "code",
   "execution_count": 222,
   "metadata": {},
   "outputs": [],
   "source": [
    "topk_feature_names = np.array(cols)[interesting_coefficients].tolist()"
   ]
  },
  {
   "cell_type": "code",
   "execution_count": 223,
   "metadata": {},
   "outputs": [
    {
     "data": {
      "text/plain": [
       "['anatomy_CC_Mid_Anterior',\n",
       " 'anatomy_Left-Lateral-Ventricle',\n",
       " 'anatomy_rh_entorhinal_thickness',\n",
       " 'anatomy_CSF',\n",
       " 'anatomy_Left-Inf-Lat-Vent',\n",
       " 'anatomy_MaskVol',\n",
       " 'anatomy_lh_cuneus_thickness',\n",
       " 'anatomy_rh_frontalpole_area',\n",
       " 'anatomy_lh_rostralmiddlefrontal_area',\n",
       " 'anatomy_lh_lateraloccipital_thickness',\n",
       " 'anatomy_WM-hypointensities',\n",
       " 'anatomy_3rd-Ventricle']"
      ]
     },
     "execution_count": 223,
     "metadata": {},
     "output_type": "execute_result"
    }
   ],
   "source": [
    "topk_feature_names"
   ]
  },
  {
   "cell_type": "markdown",
   "metadata": {},
   "source": [
    "### Basic GBT with filtered features "
   ]
  },
  {
   "cell_type": "code",
   "execution_count": 234,
   "metadata": {},
   "outputs": [],
   "source": [
    "\n",
    "\n",
    "class FeatureExtractor(BaseEstimator, TransformerMixin):\n",
    "    def fit(self, X_df, y):\n",
    "        return self\n",
    "\n",
    "    def transform(self, X_df):\n",
    "        # get only the anatomical information\n",
    "        X = X_df[topk_feature_names]\n",
    "        return X\n",
    "    \n",
    "\n",
    "seed = 17        \n",
    "\n",
    "class Classifier(BaseEstimator):\n",
    "    def __init__(self):\n",
    "        self.clf = None\n",
    "\n",
    "    def fit(self, X, y):        \n",
    "        self.clf = GradientBoostingClassifier(learning_rate=0.001, max_depth=2, n_estimators=150, \n",
    "                                              subsample=0.4,\n",
    "                                              random_state=seed)\n",
    "        self.clf.fit(X, y)\n",
    "        return self\n",
    "        \n",
    "    def predict(self, X):\n",
    "        return self.clf.predict(X)\n",
    "\n",
    "    def predict_proba(self, X):\n",
    "        return self.clf.predict_proba(X)\n"
   ]
  },
  {
   "cell_type": "code",
   "execution_count": 235,
   "metadata": {},
   "outputs": [
    {
     "name": "stdout",
     "output_type": "stream",
     "text": [
      "Training score ROC-AUC: 0.760 +- 0.004\n",
      "Validation score ROC-AUC: 0.671 +- 0.026 \n",
      "\n",
      "Training score accuracy: 0.685 +- 0.008\n",
      "Validation score accuracy: 0.620 +- 0.018\n"
     ]
    },
    {
     "name": "stderr",
     "output_type": "stream",
     "text": [
      "[Parallel(n_jobs=1)]: Done   8 out of   8 | elapsed:    0.9s finished\n"
     ]
    }
   ],
   "source": [
    "import numpy as np\n",
    "\n",
    "results = evaluation(data_train, labels_train)\n",
    "\n",
    "print(\"Training score ROC-AUC: {:.3f} +- {:.3f}\".format(np.mean(results['train_roc_auc']),\n",
    "                                                        np.std(results['train_roc_auc'])))\n",
    "print(\"Validation score ROC-AUC: {:.3f} +- {:.3f} \\n\".format(np.mean(results['test_roc_auc']),\n",
    "                                                          np.std(results['test_roc_auc'])))\n",
    "\n",
    "print(\"Training score accuracy: {:.3f} +- {:.3f}\".format(np.mean(results['train_accuracy']),\n",
    "                                                         np.std(results['train_accuracy'])))\n",
    "print(\"Validation score accuracy: {:.3f} +- {:.3f}\".format(np.mean(results['test_accuracy']),\n",
    "                                                           np.std(results['test_accuracy'])))"
   ]
  },
  {
   "cell_type": "code",
   "execution_count": null,
   "metadata": {},
   "outputs": [],
   "source": []
  },
  {
   "cell_type": "code",
   "execution_count": null,
   "metadata": {},
   "outputs": [],
   "source": []
  },
  {
   "cell_type": "markdown",
   "metadata": {},
   "source": [
    "### Basic ensembling of RF + GBT"
   ]
  },
  {
   "cell_type": "code",
   "execution_count": 276,
   "metadata": {},
   "outputs": [],
   "source": [
    "class FeatureExtractor(BaseEstimator, TransformerMixin):\n",
    "    def fit(self, X_df, y):\n",
    "        return self\n",
    "\n",
    "    def transform(self, X_df):\n",
    "        # get only the anatomical information\n",
    "        return X_df\n",
    "    \n",
    "\n",
    "seed = 17\n",
    "\n",
    "rf_features = ['anatomy_BrainSegVol',\n",
    " 'anatomy_EstimatedTotalIntraCranialVol',\n",
    " 'anatomy_lh_isthmuscingulate_area',\n",
    " 'anatomy_eTIV',\n",
    " 'anatomy_lh_rostralmiddlefrontal_area',\n",
    " 'anatomy_lh_parsorbitalis_area',\n",
    " 'anatomy_CSF',\n",
    " 'anatomy_WM-hypointensities',\n",
    " 'anatomy_rh_frontalpole_area',\n",
    " 'anatomy_lh_superiorfrontal_area',\n",
    " 'anatomy_lh_lateraloccipital_thickness',\n",
    " 'anatomy_3rd-Ventricle'\n",
    "]\n",
    "\n",
    "gbt_features = ['anatomy_CC_Mid_Anterior',\n",
    " 'anatomy_Left-Lateral-Ventricle',\n",
    " 'anatomy_rh_entorhinal_thickness',\n",
    " 'anatomy_CSF',\n",
    " 'anatomy_Left-Inf-Lat-Vent',\n",
    " 'anatomy_MaskVol',\n",
    " 'anatomy_lh_cuneus_thickness',\n",
    " 'anatomy_rh_frontalpole_area',\n",
    " 'anatomy_lh_rostralmiddlefrontal_area',\n",
    " 'anatomy_lh_lateraloccipital_thickness',\n",
    " 'anatomy_WM-hypointensities',\n",
    " 'anatomy_3rd-Ventricle']\n",
    "\n",
    "\n",
    "class Classifier(BaseEstimator):\n",
    "    def __init__(self):\n",
    "        self.rf = None\n",
    "        self.gbt = None\n",
    "\n",
    "    def fit(self, X, y):        \n",
    "        \n",
    "        self.rf = RandomForestClassifier(max_depth=3, n_estimators=150, \n",
    "                                         random_state=seed) \n",
    "        \n",
    "        self.gbt = GradientBoostingClassifier(learning_rate=0.0071, max_depth=2, n_estimators=150, \n",
    "                                              subsample=0.4,\n",
    "                                              random_state=seed)\n",
    "        self.rf.fit(X[rf_features], y)\n",
    "        self.gbt.fit(X[gbt_features], y)        \n",
    "        return self\n",
    "        \n",
    "    def predict(self, X):  \n",
    "        y = self.predict_proba(X)[:, 1]\n",
    "        return (y > 0.5).astype(np.int)\n",
    "\n",
    "    def predict_proba(self, X):\n",
    "        y_rf = self.rf.predict_proba(X[rf_features])\n",
    "        y_gbt = self.gbt.predict_proba(X[gbt_features])\n",
    "        return 0.5 * (y_rf + y_gbt)\n"
   ]
  },
  {
   "cell_type": "code",
   "execution_count": 277,
   "metadata": {},
   "outputs": [
    {
     "name": "stdout",
     "output_type": "stream",
     "text": [
      "Training score ROC-AUC: 0.776 +- 0.004\n",
      "Validation score ROC-AUC: 0.674 +- 0.029 \n",
      "\n",
      "Training score accuracy: 0.693 +- 0.007\n",
      "Validation score accuracy: 0.627 +- 0.021\n"
     ]
    },
    {
     "name": "stderr",
     "output_type": "stream",
     "text": [
      "[Parallel(n_jobs=1)]: Done   8 out of   8 | elapsed:    2.7s finished\n"
     ]
    }
   ],
   "source": [
    "import numpy as np\n",
    "\n",
    "results = evaluation(data_train, labels_train)\n",
    "\n",
    "print(\"Training score ROC-AUC: {:.3f} +- {:.3f}\".format(np.mean(results['train_roc_auc']),\n",
    "                                                        np.std(results['train_roc_auc'])))\n",
    "print(\"Validation score ROC-AUC: {:.3f} +- {:.3f} \\n\".format(np.mean(results['test_roc_auc']),\n",
    "                                                          np.std(results['test_roc_auc'])))\n",
    "\n",
    "print(\"Training score accuracy: {:.3f} +- {:.3f}\".format(np.mean(results['train_accuracy']),\n",
    "                                                         np.std(results['train_accuracy'])))\n",
    "print(\"Validation score accuracy: {:.3f} +- {:.3f}\".format(np.mean(results['test_accuracy']),\n",
    "                                                           np.std(results['test_accuracy'])))"
   ]
  },
  {
   "cell_type": "code",
   "execution_count": null,
   "metadata": {},
   "outputs": [],
   "source": []
  },
  {
   "cell_type": "code",
   "execution_count": null,
   "metadata": {},
   "outputs": [],
   "source": []
  },
  {
   "cell_type": "code",
   "execution_count": null,
   "metadata": {},
   "outputs": [],
   "source": []
  },
  {
   "cell_type": "code",
   "execution_count": null,
   "metadata": {},
   "outputs": [],
   "source": []
  },
  {
   "cell_type": "markdown",
   "metadata": {},
   "source": [
    "### Bonus trees + log_reg"
   ]
  },
  {
   "cell_type": "code",
   "execution_count": 284,
   "metadata": {},
   "outputs": [],
   "source": [
    "class FeatureExtractor(BaseEstimator, TransformerMixin):\n",
    "    def fit(self, X_df, y):\n",
    "        return self\n",
    "\n",
    "    def transform(self, X_df):\n",
    "        # get only the anatomical information\n",
    "        return X_df\n",
    "\n",
    "\n",
    "\n",
    "logreg_features = [\n",
    "    'anatomy_MaskVol', 'anatomy_rhCerebralWhiteMatterVol', 'anatomy_rh_MeanThickness_thickness', 'anatomy_Brain-Stem',\n",
    "    'anatomy_rh_middletemporal_thickness', 'anatomy_rh_lateralorbitofrontal_thickness', 'anatomy_lh_superiortemporal_area',\n",
    "    'anatomy_Right-Cerebellum-White-Matter', 'anatomy_lh_MeanThickness_thickness', 'anatomy_lh_precentral_area',\n",
    "    'anatomy_rh_insula_thickness', 'anatomy_lh_rostralmiddlefrontal_area', 'anatomy_rh_pericalcarine_area',\n",
    "    'anatomy_lh_pericalcarine_area',\n",
    "    'anatomy_lh_lateralorbitofrontal_area',\n",
    "    'anatomy_BrainSegVol',\n",
    "    'anatomy_lh_entorhinal_area',\n",
    "    'anatomy_lh_superiorparietal_area',\n",
    "    'anatomy_rh_middletemporal_area',\n",
    "    'anatomy_BrainSegVolNotVent',\n",
    "    'anatomy_rhSurfaceHoles',\n",
    "    'anatomy_lhCortexVol',\n",
    "    'anatomy_SupraTentorialVolNotVentVox',\n",
    "    'anatomy_rh_medialorbitofrontal_area',\n",
    "    'anatomy_Left-Thalamus-Proper',\n",
    "    'anatomy_CC_Posterior',\n",
    "    'anatomy_rh_inferiorparietal_area',\n",
    "    'anatomy_rh_temporalpole_area',\n",
    "    'anatomy_lh_frontalpole_area',\n",
    "    'anatomy_lh_caudalanteriorcingulate_area',\n",
    "    'anatomy_rh_fusiform_area',\n",
    "    'anatomy_Right-Accumbens-area',\n",
    "    'anatomy_CC_Central',\n",
    "    'anatomy_rh_caudalmiddlefrontal_thickness',\n",
    "    'anatomy_Right-Amygdala',\n",
    "    'anatomy_lh_entorhinal_thickness',\n",
    "    'anatomy_lh_lateralorbitofrontal_thickness',\n",
    "    'anatomy_lh_precentral_thickness',\n",
    "    'anatomy_rh_postcentral_thickness',\n",
    "    'anatomy_Left-Caudate',\n",
    "    'anatomy_rh_insula_area',\n",
    "    'anatomy_lh_inferiortemporal_thickness',\n",
    "    'anatomy_lh_insula_thickness',\n",
    "    'anatomy_rh_entorhinal_thickness',\n",
    "    'anatomy_Left-Inf-Lat-Vent',\n",
    "    'anatomy_rh_precentral_area',\n",
    "    'anatomy_rh_frontalpole_area',\n",
    "    'anatomy_WM-hypointensities',\n",
    "    'anatomy_rh_rostralmiddlefrontal_area',\n",
    "    'anatomy_rh_superiortemporal_thickness',\n",
    "    'anatomy_Left-Hippocampus',\n",
    "    'anatomy_Right-Pallidum',\n",
    "    'anatomy_lh_insula_area',\n",
    "    'anatomy_rhCortexVol',\n",
    "    'anatomy_rh_precuneus_area',\n",
    "    'anatomy_rh_bankssts_area',\n",
    "    'anatomy_lh_medialorbitofrontal_thickness',\n",
    "    'anatomy_eTIV',\n",
    "    'anatomy_EstimatedTotalIntraCranialVol',\n",
    "    'anatomy_rh_rostralmiddlefrontal_thickness',\n",
    "    'anatomy_Left-Amygdala',\n",
    "    'anatomy_rh_lateraloccipital_thickness',\n",
    "    'anatomy_lh_lingual_area',\n",
    "    'anatomy_rh_parsorbitalis_thickness',\n",
    "    'anatomy_lhSurfaceHoles',\n",
    "    'anatomy_lh_cuneus_thickness',\n",
    "    'anatomy_SubCortGrayVol',\n",
    "    'anatomy_Right-Cerebellum-Cortex',\n",
    "    'anatomy_rh_superiorfrontal_area',\n",
    "    'anatomy_lh_fusiform_thickness',\n",
    "    'anatomy_lh_parsorbitalis_area',\n",
    "    'anatomy_rh_lateraloccipital_area',\n",
    "    'anatomy_CC_Mid_Anterior',\n",
    "    'anatomy_Left-VentralDC',\n",
    "    'anatomy_3rd-Ventricle',\n",
    "    'anatomy_lh_superiortemporal_thickness',\n",
    "    'anatomy_rh_inferiortemporal_area',\n",
    "    'anatomy_BrainSegVol-to-eTIV',\n",
    "    'anatomy_lh_superiorfrontal_thickness',\n",
    "    'anatomy_rh_precuneus_thickness',\n",
    "    'anatomy_lhCerebralWhiteMatterVol',\n",
    "    'anatomy_MaskVol-to-eTIV']\n",
    "            \n",
    "\n",
    "rf_features = ['anatomy_BrainSegVol',\n",
    " 'anatomy_EstimatedTotalIntraCranialVol',\n",
    " 'anatomy_lh_isthmuscingulate_area',\n",
    " 'anatomy_eTIV',\n",
    " 'anatomy_lh_rostralmiddlefrontal_area',\n",
    " 'anatomy_lh_parsorbitalis_area',\n",
    " 'anatomy_CSF',\n",
    " 'anatomy_WM-hypointensities',\n",
    " 'anatomy_rh_frontalpole_area',\n",
    " 'anatomy_lh_superiorfrontal_area',\n",
    " 'anatomy_lh_lateraloccipital_thickness',\n",
    " 'anatomy_3rd-Ventricle'\n",
    "]\n",
    "\n",
    "gbt_features = ['anatomy_CC_Mid_Anterior',\n",
    " 'anatomy_Left-Lateral-Ventricle',\n",
    " 'anatomy_rh_entorhinal_thickness',\n",
    " 'anatomy_CSF',\n",
    " 'anatomy_Left-Inf-Lat-Vent',\n",
    " 'anatomy_MaskVol',\n",
    " 'anatomy_lh_cuneus_thickness',\n",
    " 'anatomy_rh_frontalpole_area',\n",
    " 'anatomy_lh_rostralmiddlefrontal_area',\n",
    " 'anatomy_lh_lateraloccipital_thickness',\n",
    " 'anatomy_WM-hypointensities',\n",
    " 'anatomy_3rd-Ventricle']\n",
    "\n",
    "\n",
    "\n",
    "seed = 17\n",
    "\n",
    "\n",
    "from sklearn.linear_model import LogisticRegressionCV, LogisticRegression\n",
    "\n",
    "\n",
    "class Classifier(BaseEstimator):\n",
    "    def __init__(self):\n",
    "        self.rf = None\n",
    "        self.gbt = None\n",
    "        self.log_reg = None\n",
    "\n",
    "    def fit(self, X, y):        \n",
    "        \n",
    "        self.rf = RandomForestClassifier(max_depth=3, n_estimators=150, \n",
    "                                         random_state=seed) \n",
    "        \n",
    "        self.gbt = GradientBoostingClassifier(learning_rate=0.0071, max_depth=2, n_estimators=150, \n",
    "                                              subsample=0.4,\n",
    "                                              random_state=seed)\n",
    "\n",
    "        log_reg_cv = LogisticRegressionCV(n_jobs=8, scoring=\"roc_auc\")        \n",
    "        log_reg_cv.fit(X[logreg_features], y)\n",
    "        best_C = log_reg_cv.C_[0]        \n",
    "        self.log_reg = make_pipeline(StandardScaler(), LogisticRegression(C=best_C))\n",
    "        \n",
    "        self.log_reg.fit(X[logreg_features], y)        \n",
    "        self.rf.fit(X[rf_features], y)\n",
    "        self.gbt.fit(X[gbt_features], y)        \n",
    "        return self\n",
    "        \n",
    "    def predict(self, X):  \n",
    "        y = self.predict_proba(X)[:, 1]\n",
    "        return (y > 0.5).astype(np.int)\n",
    "\n",
    "    def predict_proba(self, X):\n",
    "        y_rf = self.rf.predict_proba(X[rf_features])\n",
    "        y_gbt = self.gbt.predict_proba(X[gbt_features])\n",
    "        y_logreg = self.log_reg.predict_proba(X[logreg_features])\n",
    "        return 0.333 * (y_rf + y_gbt + y_logreg)\n",
    "        "
   ]
  },
  {
   "cell_type": "code",
   "execution_count": 285,
   "metadata": {},
   "outputs": [
    {
     "name": "stdout",
     "output_type": "stream",
     "text": [
      "Training score ROC-AUC: 0.843 +- 0.005\n",
      "Validation score ROC-AUC: 0.750 +- 0.019 \n",
      "\n",
      "Training score accuracy: 0.762 +- 0.006\n",
      "Validation score accuracy: 0.683 +- 0.025\n"
     ]
    },
    {
     "name": "stderr",
     "output_type": "stream",
     "text": [
      "[Parallel(n_jobs=1)]: Done   8 out of   8 | elapsed:   23.7s finished\n"
     ]
    }
   ],
   "source": [
    "import numpy as np\n",
    "\n",
    "results = evaluation(data_train, labels_train)\n",
    "\n",
    "print(\"Training score ROC-AUC: {:.3f} +- {:.3f}\".format(np.mean(results['train_roc_auc']),\n",
    "                                                        np.std(results['train_roc_auc'])))\n",
    "print(\"Validation score ROC-AUC: {:.3f} +- {:.3f} \\n\".format(np.mean(results['test_roc_auc']),\n",
    "                                                          np.std(results['test_roc_auc'])))\n",
    "\n",
    "print(\"Training score accuracy: {:.3f} +- {:.3f}\".format(np.mean(results['train_accuracy']),\n",
    "                                                         np.std(results['train_accuracy'])))\n",
    "print(\"Validation score accuracy: {:.3f} +- {:.3f}\".format(np.mean(results['test_accuracy']),\n",
    "                                                           np.std(results['test_accuracy'])))"
   ]
  },
  {
   "cell_type": "code",
   "execution_count": null,
   "metadata": {},
   "outputs": [],
   "source": []
  }
 ],
 "metadata": {
  "kernelspec": {
   "display_name": "Python 3",
   "language": "python",
   "name": "python3"
  },
  "language_info": {
   "codemirror_mode": {
    "name": "ipython",
    "version": 3
   },
   "file_extension": ".py",
   "mimetype": "text/x-python",
   "name": "python",
   "nbconvert_exporter": "python",
   "pygments_lexer": "ipython3",
   "version": "3.6.5"
  }
 },
 "nbformat": 4,
 "nbformat_minor": 2
}
