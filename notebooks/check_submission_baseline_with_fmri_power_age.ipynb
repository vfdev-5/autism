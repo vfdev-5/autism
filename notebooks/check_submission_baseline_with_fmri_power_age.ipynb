{
 "cells": [
  {
   "cell_type": "markdown",
   "metadata": {},
   "source": [
    "# Baseline linear model based on fRMI of Power 2011 atlas\n",
    "\n",
    "Ramp submissions:\n",
    "- lr_fmri_nvauc=0.973"
   ]
  },
  {
   "cell_type": "code",
   "execution_count": 1,
   "metadata": {},
   "outputs": [],
   "source": [
    "path = \"..\"\n",
    "\n",
    "import sys\n",
    "sys.path.insert(0, path)\n",
    "\n",
    "import numpy as np\n",
    "import pandas as pd\n",
    "\n",
    "import matplotlib.pylab as plt\n",
    "%matplotlib inline\n",
    "import seaborn as sns\n",
    "\n",
    "from problem import get_train_data, get_test_data\n",
    "\n",
    "data_train_, labels_train_ = get_train_data(path=path)\n",
    "data_test_, labels_test_ = get_test_data(path=path)"
   ]
  },
  {
   "cell_type": "code",
   "execution_count": null,
   "metadata": {},
   "outputs": [],
   "source": []
  },
  {
   "cell_type": "code",
   "execution_count": null,
   "metadata": {},
   "outputs": [],
   "source": []
  },
  {
   "cell_type": "code",
   "execution_count": 102,
   "metadata": {},
   "outputs": [],
   "source": [
    "import os\n",
    "\n",
    "import numpy as np\n",
    "import pandas as pd\n",
    "\n",
    "from sklearn.base import BaseEstimator\n",
    "from sklearn.base import TransformerMixin\n",
    "\n",
    "from nilearn.signal import clean\n",
    "from nilearn.connectome import ConnectivityMeasure\n",
    "\n",
    "\n",
    "correlation_measure = ConnectivityMeasure(kind='covariance', discard_diagonal=True, vectorize=True)\n",
    "\n",
    "\n",
    "# Following features are CV selected with LogisticRegression as the most important features at coefficient thresholds : -0.011 0.011\n",
    "f2_columns = [\"power_37 / participants_age\", \"power_46 / participants_age\", \"power_62 / participants_age\", \"power_64 / participants_age\", \"power_166 x participants_age\", \"power_180 / participants_age\", \"power_255 / participants_age\", \"power_262 x participants_age\", \"power_328 / participants_age\", \"power_343 / participants_age\", \"power_409 x participants_age\", \"power_436 / participants_age\", \"power_451 / participants_age\", \"power_499 / participants_age\", \"power_505 x participants_age\", \"power_561 / participants_age\", \"power_633 / participants_age\", \"power_648 / participants_age\", \"power_729 x participants_age\", \"power_729 / participants_age\", \"power_737 / participants_age\", \"power_739 x participants_age\", \"power_739 / participants_age\", \"power_789 / participants_age\", \"power_863 x participants_age\", \"power_888 / participants_age\", \"power_1028 / participants_age\", \"power_1075 / participants_age\", \"power_1145 / participants_age\", \"power_1156 / participants_age\", \"power_1193 / participants_age\", \"power_1204 / participants_age\", \"power_1231 x participants_age\", \"power_1231 / participants_age\", \"power_1253 / participants_age\", \"power_1265 / participants_age\", \"power_1302 / participants_age\", \"power_1349 / participants_age\", \"power_1354 / participants_age\", \"power_1366 / participants_age\", \"power_1370 / participants_age\", \"power_1431 x participants_age\", \"power_1512 / participants_age\", \"power_1534 x participants_age\", \"power_1567 / participants_age\", \"power_1738 / participants_age\", \"power_1829 / participants_age\", \"power_1847 / participants_age\", \"power_1857 / participants_age\", \"power_2347 / participants_age\", \"power_2373 / participants_age\", \"power_2442 / participants_age\", \"power_2726 x participants_age\", \"power_2735 x participants_age\", \"power_2840 x participants_age\", \"power_2840 / participants_age\", \"power_2856 x participants_age\", \"power_2875 / participants_age\", \"power_2897 / participants_age\", \"power_2910 x participants_age\", \"power_2923 x participants_age\", \"power_2945 x participants_age\", \"power_2945 / participants_age\", \"power_2946 / participants_age\", \"power_2951 x participants_age\", \"power_2951 / participants_age\", \"power_2955 / participants_age\", \"power_2956 / participants_age\", \"power_2958 x participants_age\", \"power_2958 / participants_age\", \"power_2961 / participants_age\", \"power_2962 x participants_age\", \"power_2970 / participants_age\", \"power_2974 / participants_age\", \"power_2995 / participants_age\", \"power_3028 / participants_age\", \"power_3098 / participants_age\", \"power_3142 / participants_age\", \"power_3143 / participants_age\", \"power_3297 / participants_age\", \"power_3316 / participants_age\", \"power_3318 / participants_age\", \"power_3576 / participants_age\", \"power_3594 / participants_age\", \"power_3632 / participants_age\", \"power_3633 / participants_age\", \"power_3640 / participants_age\", \"power_3679 / participants_age\", \"power_3684 / participants_age\", \"power_3687 / participants_age\", \"power_3730 / participants_age\", \"power_3822 / participants_age\", \"power_3853 x participants_age\", \"power_3880 x participants_age\", \"power_3925 x participants_age\", \"power_3940 / participants_age\", \"power_4014 x participants_age\", \"power_4336 / participants_age\", \"power_4380 x participants_age\", \"power_4395 / participants_age\", \"power_4402 / participants_age\", \"power_4447 x participants_age\", \"power_4478 / participants_age\", \"power_4528 / participants_age\", \"power_4618 / participants_age\", \"power_4637 / participants_age\", \"power_4712 / participants_age\", \"power_4713 / participants_age\", \"power_4740 / participants_age\", \"power_4796 / participants_age\", \"power_4853 / participants_age\", \"power_4858 / participants_age\", \"power_4862 / participants_age\", \"power_4867 / participants_age\", \"power_5034 / participants_age\", \"power_5067 / participants_age\", \"power_5106 / participants_age\", \"power_5121 / participants_age\", \"power_5207 / participants_age\", \"power_5249 / participants_age\", \"power_5320 / participants_age\", \"power_5558 / participants_age\", \"power_5569 / participants_age\", \"power_5675 / participants_age\", \"power_5690 x participants_age\", \"power_5690 / participants_age\", \"power_5696 x participants_age\", \"power_5696 / participants_age\", \"power_5703 x participants_age\", \"power_5703 / participants_age\", \"power_5768 / participants_age\", \"power_5782 / participants_age\", \"power_5894 / participants_age\", \"power_5911 / participants_age\", \"power_5917 / participants_age\", \"power_5933 / participants_age\", \"power_5946 x participants_age\", \"power_5946 / participants_age\", \"power_5999 / participants_age\", \"power_6076 / participants_age\", \"power_6112 x participants_age\", \"power_6112 / participants_age\", \"power_6184 x participants_age\", \"power_6186 / participants_age\", \"power_6207 / participants_age\", \"power_6297 / participants_age\", \"power_6318 / participants_age\", \"power_6559 / participants_age\", \"power_6630 / participants_age\", \"power_6658 / participants_age\", \"power_6661 x participants_age\", \"power_6661 / participants_age\", \"power_6663 / participants_age\", \"power_6664 x participants_age\", \"power_6664 / participants_age\", \"power_6693 / participants_age\", \"power_6710 x participants_age\", \"power_6710 / participants_age\", \"power_6812 / participants_age\", \"power_6816 / participants_age\", \"power_6825 / participants_age\", \"power_6867 / participants_age\", \"power_6878 x participants_age\", \"power_6915 / participants_age\", \"power_7066 x participants_age\", \"power_7196 / participants_age\", \"power_7205 / participants_age\", \"power_7257 / participants_age\", \"power_7285 / participants_age\", \"power_7320 x participants_age\", \"power_7320 / participants_age\", \"power_7332 x participants_age\", \"power_7332 / participants_age\", \"power_7382 / participants_age\", \"power_7391 / participants_age\", \"power_7419 / participants_age\", \"power_7453 / participants_age\", \"power_7474 x participants_age\", \"power_7474 / participants_age\", \"power_7479 x participants_age\", \"power_7487 x participants_age\", \"power_7500 x participants_age\", \"power_7529 / participants_age\", \"power_7609 x participants_age\", \"power_7628 x participants_age\", \"power_7702 x participants_age\", \"power_7714 / participants_age\", \"power_7752 x participants_age\", \"power_7752 / participants_age\", \"power_7917 / participants_age\", \"power_7938 / participants_age\", \"power_7961 / participants_age\", \"power_7967 / participants_age\", \"power_7969 / participants_age\", \"power_7981 / participants_age\", \"power_7994 / participants_age\", \"power_7999 x participants_age\", \"power_8099 / participants_age\", \"power_8104 x participants_age\", \"power_8112 / participants_age\", \"power_8205 / participants_age\", \"power_8275 / participants_age\", \"power_8288 / participants_age\", \"power_8321 / participants_age\", \"power_8349 / participants_age\", \"power_8415 / participants_age\", \"power_8451 x participants_age\", \"power_8451 / participants_age\", \"power_8453 / participants_age\", \"power_8462 / participants_age\", \"power_8465 x participants_age\", \"power_8477 x participants_age\", \"power_8483 / participants_age\", \"power_8590 / participants_age\", \"power_8596 x participants_age\", \"power_8596 / participants_age\", \"power_8611 / participants_age\", \"power_8619 / participants_age\", \"power_8620 / participants_age\", \"power_8631 / participants_age\", \"power_8642 x participants_age\", \"power_8642 / participants_age\", \"power_8704 / participants_age\", \"power_8705 / participants_age\", \"power_8768 x participants_age\", \"power_8772 / participants_age\", \"power_9037 x participants_age\", \"power_9037 / participants_age\", \"power_9291 x participants_age\", \"power_9291 / participants_age\", \"power_9332 x participants_age\", \"power_9333 / participants_age\", \"power_9347 / participants_age\", \"power_9429 / participants_age\", \"power_9471 / participants_age\", \"power_9539 / participants_age\", \"power_9548 / participants_age\", \"power_9550 / participants_age\", \"power_9552 / participants_age\", \"power_9556 / participants_age\", \"power_9564 / participants_age\", \"power_9570 x participants_age\", \"power_9570 / participants_age\", \"power_9580 / participants_age\", \"power_9711 / participants_age\", \"power_9791 / participants_age\", \"power_10222 / participants_age\", \"power_10251 / participants_age\", \"power_10375 / participants_age\", \"power_10463 / participants_age\", \"power_10654 / participants_age\", \"power_10667 x participants_age\", \"power_10880 / participants_age\", \"power_11208 x participants_age\", \"power_11382 / participants_age\", \"power_11438 x participants_age\", \"power_11478 / participants_age\", \"power_11617 / participants_age\", \"power_11630 / participants_age\", \"power_11649 / participants_age\", \"power_11654 / participants_age\", \"power_11664 / participants_age\", \"power_11705 / participants_age\", \"power_11710 / participants_age\", \"power_11720 x participants_age\", \"power_11720 / participants_age\", \"power_11736 / participants_age\", \"power_11783 x participants_age\", \"power_11783 / participants_age\", \"power_11797 / participants_age\", \"power_11937 / participants_age\", \"power_11938 / participants_age\", \"power_12111 / participants_age\", \"power_12151 / participants_age\", \"power_12161 / participants_age\", \"power_12251 / participants_age\", \"power_12276 / participants_age\", \"power_12472 / participants_age\", \"power_12579 x participants_age\", \"power_12583 x participants_age\", \"power_12583 / participants_age\", \"power_12584 / participants_age\", \"power_12587 / participants_age\", \"power_12597 / participants_age\", \"power_12621 x participants_age\", \"power_12721 / participants_age\", \"power_12794 x participants_age\", \"power_12805 x participants_age\", \"power_12806 x participants_age\", \"power_12806 / participants_age\", \"power_12883 / participants_age\", \"power_12895 / participants_age\", \"power_13073 x participants_age\", \"power_13158 x participants_age\", \"power_13169 x participants_age\", \"power_13194 x participants_age\", \"power_13194 / participants_age\", \"power_13206 / participants_age\", \"power_13280 / participants_age\", \"power_13295 / participants_age\", \"power_13365 / participants_age\", \"power_13368 / participants_age\", \"power_13409 / participants_age\", \"power_13427 / participants_age\", \"power_13446 x participants_age\", \"power_13446 / participants_age\", \"power_13621 x participants_age\", \"power_13621 / participants_age\", \"power_13718 / participants_age\", \"power_13797 x participants_age\", \"power_13797 / participants_age\", \"power_13864 / participants_age\", \"power_13882 / participants_age\", \"power_14097 / participants_age\", \"power_14169 / participants_age\", \"power_14201 / participants_age\", \"power_14370 / participants_age\", \"power_14557 / participants_age\", \"power_14707 / participants_age\", \"power_14775 / participants_age\", \"power_14787 x participants_age\", \"power_14904 / participants_age\", \"power_15182 / participants_age\", \"power_15193 / participants_age\", \"power_15195 / participants_age\", \"power_15196 / participants_age\", \"power_15198 / participants_age\", \"power_15217 / participants_age\", \"power_15220 / participants_age\", \"power_15287 x participants_age\", \"power_15291 x participants_age\", \"power_15343 / participants_age\", \"power_15366 / participants_age\", \"power_15411 / participants_age\", \"power_15502 / participants_age\", \"power_15505 x participants_age\", \"power_15505 / participants_age\", \"power_15518 / participants_age\", \"power_15538 / participants_age\", \"power_15712 / participants_age\", \"power_15749 / participants_age\", \"power_15814 x participants_age\", \"power_15814 / participants_age\", \"power_15892 / participants_age\", \"power_16017 x participants_age\", \"power_16050 x participants_age\", \"power_16187 / participants_age\", \"power_16258 / participants_age\", \"power_16264 / participants_age\", \"power_16372 / participants_age\", \"power_16409 / participants_age\", \"power_16529 x participants_age\", \"power_16529 / participants_age\", \"power_16530 / participants_age\", \"power_16551 / participants_age\", \"power_16647 / participants_age\", \"power_16663 / participants_age\", \"power_16732 x participants_age\", \"power_16741 / participants_age\", \"power_16745 / participants_age\", \"power_16747 / participants_age\", \"power_16785 / participants_age\", \"power_16786 x participants_age\", \"power_16786 / participants_age\", \"power_16787 x participants_age\", \"power_16787 / participants_age\", \"power_16830 / participants_age\", \"power_16878 / participants_age\", \"power_16906 / participants_age\", \"power_16909 x participants_age\", \"power_16909 / participants_age\", \"power_16915 x participants_age\", \"power_16921 / participants_age\", \"power_16922 / participants_age\", \"power_16928 x participants_age\", \"power_16930 / participants_age\", \"power_16955 / participants_age\", \"power_16960 x participants_age\", \"power_17038 / participants_age\", \"power_17079 x participants_age\", \"power_17151 / participants_age\", \"power_17240 x participants_age\", \"power_17323 / participants_age\", \"power_17389 x participants_age\", \"power_17389 / participants_age\", \"power_17394 x participants_age\", \"power_17394 / participants_age\", \"power_17426 / participants_age\", \"power_17451 x participants_age\", \"power_17451 / participants_age\", \"power_17457 x participants_age\", \"power_17493 / participants_age\", \"power_17578 / participants_age\", \"power_17581 x participants_age\", \"power_17581 / participants_age\", \"power_17596 / participants_age\", \"power_17627 / participants_age\", \"power_17719 / participants_age\", \"power_17760 / participants_age\", \"power_17977 x participants_age\", \"power_17990 x participants_age\", \"power_17990 / participants_age\", \"power_18053 x participants_age\", \"power_18111 x participants_age\", \"power_18116 x participants_age\", \"power_18129 / participants_age\", \"power_18139 x participants_age\", \"power_18139 / participants_age\", \"power_18328 x participants_age\", \"power_18329 x participants_age\", \"power_18329 / participants_age\", \"power_18394 / participants_age\", \"power_18398 x participants_age\", \"power_18398 / participants_age\", \"power_18446 / participants_age\", \"power_18450 / participants_age\", \"power_18711 x participants_age\", \"power_18712 x participants_age\", \"power_18712 / participants_age\", \"power_18755 x participants_age\", \"power_18762 / participants_age\", \"power_18764 / participants_age\", \"power_18766 / participants_age\", \"power_18791 x participants_age\", \"power_18791 / participants_age\", \"power_18816 / participants_age\", \"power_18822 / participants_age\", \"power_18823 / participants_age\", \"power_18839 / participants_age\", \"power_18840 / participants_age\", \"power_18850 x participants_age\", \"power_18850 / participants_age\", \"power_18904 x participants_age\", \"power_18904 / participants_age\", \"power_18905 / participants_age\", \"power_19021 / participants_age\", \"power_19025 x participants_age\", \"power_19025 / participants_age\", \"power_19027 / participants_age\", \"power_19287 / participants_age\", \"power_19342 x participants_age\", \"power_19366 x participants_age\", \"power_19450 / participants_age\", \"power_19451 x participants_age\", \"power_19483 / participants_age\", \"power_19491 / participants_age\", \"power_19525 / participants_age\", \"power_19526 / participants_age\", \"power_19564 / participants_age\", \"power_19573 / participants_age\", \"power_19620 x participants_age\", \"power_19677 / participants_age\", \"power_19735 x participants_age\", \"power_19750 x participants_age\", \"power_19761 x participants_age\", \"power_19769 x participants_age\", \"power_19771 x participants_age\", \"power_20002 / participants_age\", \"power_20016 / participants_age\", \"power_20036 / participants_age\", \"power_20111 / participants_age\", \"power_20201 / participants_age\", \"power_20202 / participants_age\", \"power_20215 / participants_age\", \"power_20218 / participants_age\", \"power_20230 / participants_age\", \"power_20236 / participants_age\", \"power_20238 / participants_age\", \"power_20286 / participants_age\", \"power_20430 / participants_age\", \"power_20475 / participants_age\", \"power_20606 / participants_age\", \"power_20686 x participants_age\", \"power_20762 / participants_age\", \"power_20790 / participants_age\", \"power_20811 / participants_age\", \"power_20882 / participants_age\", \"power_20935 / participants_age\", \"power_21264 x participants_age\", \"power_21381 / participants_age\", \"power_21600 x participants_age\", \"power_21607 / participants_age\", \"power_21625 / participants_age\", \"power_21630 / participants_age\", \"power_21633 / participants_age\", \"power_21796 / participants_age\", \"power_21802 / participants_age\", \"power_21808 x participants_age\", \"power_21833 / participants_age\", \"power_21853 x participants_age\", \"power_21853 / participants_age\", \"power_21855 x participants_age\", \"power_21855 / participants_age\", \"power_21875 x participants_age\", \"power_21875 / participants_age\", \"power_21893 x participants_age\", \"power_21914 x participants_age\", \"power_21972 / participants_age\", \"power_22017 x participants_age\", \"power_22025 x participants_age\", \"power_22093 / participants_age\", \"power_22161 x participants_age\", \"power_22251 / participants_age\", \"power_22257 / participants_age\", \"power_22311 / participants_age\", \"power_22346 / participants_age\", \"power_22348 / participants_age\", \"power_22350 / participants_age\", \"power_22353 x participants_age\", \"power_22353 / participants_age\", \"power_22563 / participants_age\", \"power_22657 x participants_age\", \"power_22659 x participants_age\", \"power_22659 / participants_age\", \"power_22675 / participants_age\", \"power_22680 / participants_age\", \"power_22693 x participants_age\", \"power_22694 x participants_age\", \"power_22705 / participants_age\", \"power_22870 / participants_age\", \"power_22982 x participants_age\", \"power_22982 / participants_age\", \"power_22989 / participants_age\", \"power_23183 / participants_age\", \"power_23226 x participants_age\", \"power_23363 / participants_age\", \"power_23376 / participants_age\", \"power_23402 x participants_age\", \"power_23402 / participants_age\", \"power_23411 x participants_age\", \"power_23411 / participants_age\", \"power_23418 / participants_age\", \"power_23439 x participants_age\", \"power_23439 / participants_age\", \"power_23448 / participants_age\", \"power_23582 / participants_age\", \"power_23601 / participants_age\", \"power_23638 / participants_age\", \"power_23700 / participants_age\", \"power_23746 / participants_age\", \"power_23786 / participants_age\", \"power_23831 x participants_age\", \"power_23857 / participants_age\", \"power_24012 / participants_age\", \"power_24053 / participants_age\", \"power_24145 / participants_age\", \"power_24148 / participants_age\", \"power_24149 / participants_age\", \"power_24171 x participants_age\", \"power_24171 / participants_age\", \"power_24194 / participants_age\", \"power_24195 x participants_age\", \"power_24195 / participants_age\", \"power_24205 x participants_age\", \"power_24216 / participants_age\", \"power_24295 / participants_age\", \"power_24296 / participants_age\", \"power_24304 / participants_age\", \"power_24308 / participants_age\", \"power_24316 x participants_age\", \"power_24337 x participants_age\", \"power_24337 / participants_age\", \"power_24341 x participants_age\", \"power_24493 / participants_age\", \"power_24612 / participants_age\", \"power_24651 / participants_age\", \"power_24779 / participants_age\", \"power_24780 / participants_age\", \"power_24828 x participants_age\", \"power_24876 x participants_age\", \"power_24898 / participants_age\", \"power_24922 / participants_age\", \"power_24982 x participants_age\", \"power_25002 / participants_age\", \"power_25003 / participants_age\", \"power_25145 / participants_age\", \"power_25163 / participants_age\", \"power_25320 x participants_age\", \"power_25383 / participants_age\", \"power_25391 / participants_age\", \"power_25396 x participants_age\", \"power_25400 / participants_age\", \"power_25429 / participants_age\", \"power_25451 / participants_age\", \"power_25452 / participants_age\", \"power_25606 / participants_age\", \"power_25678 x participants_age\", \"power_25678 / participants_age\", \"power_25691 / participants_age\", \"power_25781 x participants_age\", \"power_25781 / participants_age\", \"power_25826 / participants_age\", \"power_25838 / participants_age\", \"power_25905 / participants_age\", \"power_26062 x participants_age\", \"power_26062 / participants_age\", \"power_26066 x participants_age\", \"power_26066 / participants_age\", \"power_26077 x participants_age\", \"power_26085 x participants_age\", \"power_26085 / participants_age\", \"power_26112 x participants_age\", \"power_26112 / participants_age\", \"power_26133 / participants_age\", \"power_26182 x participants_age\", \"power_26362 / participants_age\", \"power_26547 x participants_age\", \"power_26592 / participants_age\", \"power_26762 / participants_age\", \"power_26769 / participants_age\", \"power_26773 x participants_age\", \"power_26777 / participants_age\", \"power_26814 / participants_age\", \"power_26823 / participants_age\", \"power_26824 / participants_age\", \"power_26827 / participants_age\", \"power_26836 / participants_age\", \"power_26965 / participants_age\", \"power_26983 / participants_age\", \"power_26990 / participants_age\", \"power_27014 / participants_age\", \"power_27055 / participants_age\", \"power_27198 / participants_age\", \"power_27200 / participants_age\", \"power_27215 / participants_age\", \"power_27222 / participants_age\", \"power_27276 x participants_age\", \"power_27278 / participants_age\", \"power_27280 x participants_age\", \"power_27293 x participants_age\", \"power_27307 x participants_age\", \"power_27312 x participants_age\", \"power_27314 x participants_age\", \"power_27354 / participants_age\", \"power_27374 / participants_age\", \"power_27393 / participants_age\", \"power_27396 / participants_age\", \"power_27463 x participants_age\", \"power_27463 / participants_age\", \"power_27481 / participants_age\", \"power_27512 / participants_age\", \"power_27516 / participants_age\", \"power_27525 / participants_age\", \"power_27529 / participants_age\", \"power_27534 / participants_age\", \"power_27572 x participants_age\", \"power_27658 / participants_age\", \"power_27699 / participants_age\", \"power_27704 x participants_age\", \"power_27704 / participants_age\", \"power_27751 / participants_age\", \"power_27760 / participants_age\", \"power_27764 / participants_age\", \"power_27767 / participants_age\", \"power_27810 x participants_age\", \"power_27983 / participants_age\", \"power_27993 / participants_age\", \"power_27994 x participants_age\", \"power_28006 / participants_age\", \"power_28009 / participants_age\", \"power_28035 / participants_age\", \"power_28046 x participants_age\", \"power_28046 / participants_age\", \"power_28109 / participants_age\", \"power_28113 / participants_age\", \"power_28123 / participants_age\", \"power_28124 / participants_age\", \"power_28129 / participants_age\", \"power_28132 / participants_age\", \"power_28138 / participants_age\", \"power_28259 / participants_age\", \"power_28283 x participants_age\", \"power_28283 / participants_age\", \"power_28300 / participants_age\", \"power_28320 / participants_age\", \"power_28334 x participants_age\", \"power_28334 / participants_age\", \"power_28458 / participants_age\", \"power_28521 x participants_age\", \"power_28523 x participants_age\", \"power_28524 x participants_age\", \"power_28526 / participants_age\", \"power_28538 x participants_age\", \"power_28554 / participants_age\", \"power_28560 x participants_age\", \"power_28560 / participants_age\", \"power_28572 x participants_age\", \"power_28740 x participants_age\", \"power_28740 / participants_age\", \"power_28744 x participants_age\", \"power_28744 / participants_age\", \"power_28811 x participants_age\", \"power_28811 / participants_age\", \"power_28819 / participants_age\", \"power_28829 / participants_age\", \"power_28906 / participants_age\", \"power_28908 / participants_age\", \"power_29017 / participants_age\", \"power_29031 / participants_age\", \"power_29038 / participants_age\", \"power_29040 / participants_age\", \"power_29051 / participants_age\", \"power_29064 / participants_age\", \"power_29071 / participants_age\", \"power_29166 / participants_age\", \"power_29203 / participants_age\", \"power_29222 x participants_age\", \"power_29222 / participants_age\", \"power_29241 / participants_age\", \"power_29459 / participants_age\", \"power_29593 x participants_age\", \"power_29630 x participants_age\", \"power_29630 / participants_age\", \"power_29633 x participants_age\", \"power_29640 / participants_age\", \"power_29648 / participants_age\", \"power_29867 / participants_age\", \"power_29880 / participants_age\", \"power_29895 / participants_age\", \"power_29951 x participants_age\", \"power_29951 / participants_age\", \"power_29982 x participants_age\", \"power_30023 x participants_age\", \"power_30023 / participants_age\", \"power_30024 x participants_age\", \"power_30025 x participants_age\", \"power_30025 / participants_age\", \"power_30084 x participants_age\", \"power_30089 x participants_age\", \"power_30105 x participants_age\", \"power_30106 x participants_age\", \"power_30111 / participants_age\", \"power_30115 / participants_age\", \"power_30118 / participants_age\", \"power_30135 x participants_age\", \"power_30214 x participants_age\", \"power_30217 / participants_age\", \"power_30218 / participants_age\", \"power_30235 x participants_age\", \"power_30270 x participants_age\", \"power_30270 / participants_age\", \"power_30276 x participants_age\", \"power_30276 / participants_age\", \"power_30313 x participants_age\", \"power_30441 x participants_age\", \"power_30464 / participants_age\", \"power_30477 x participants_age\", \"power_30485 / participants_age\", \"power_30555 x participants_age\", \"power_30568 / participants_age\", \"power_30599 x participants_age\", \"power_30640 / participants_age\", \"power_30644 x participants_age\", \"power_30644 / participants_age\", \"power_30645 x participants_age\", \"power_30645 / participants_age\", \"power_30666 x participants_age\", \"power_30666 / participants_age\", \"power_30667 x participants_age\", \"power_30667 / participants_age\", \"power_30701 / participants_age\", \"power_30705 / participants_age\", \"power_30707 x participants_age\", \"power_30717 x participants_age\", \"power_30717 / participants_age\", \"power_30720 x participants_age\", \"power_30720 / participants_age\", \"power_30721 x participants_age\", \"power_30721 / participants_age\", \"power_30722 / participants_age\", \"power_30723 / participants_age\", \"power_30724 x participants_age\", \"power_30731 x participants_age\", \"power_30731 / participants_age\", \"power_30738 / participants_age\", \"power_30739 / participants_age\", \"power_30740 / participants_age\", \"power_30744 / participants_age\", \"power_30757 / participants_age\", \"power_30760 x participants_age\", \"power_30760 / participants_age\", \"power_30761 x participants_age\", \"power_30763 / participants_age\", \"power_30786 / participants_age\", \"power_30790 / participants_age\", \"power_30831 / participants_age\", \"power_30848 x participants_age\", \"power_30848 / participants_age\", \"power_30938 / participants_age\", \"power_30961 / participants_age\", \"power_30986 / participants_age\", \"power_30988 / participants_age\", \"power_31038 x participants_age\", \"power_31069 x participants_age\", \"power_31299 / participants_age\", \"power_31306 / participants_age\", \"power_31308 x participants_age\", \"power_31308 / participants_age\", \"power_31316 / participants_age\", \"power_31318 / participants_age\", \"power_31365 x participants_age\", \"power_31439 / participants_age\", \"power_31441 / participants_age\", \"power_31444 / participants_age\", \"power_31452 x participants_age\", \"power_31452 / participants_age\", \"power_31540 / participants_age\", \"power_31579 / participants_age\", \"power_31678 x participants_age\", \"power_31683 x participants_age\", \"power_31685 x participants_age\", \"power_31687 / participants_age\", \"power_31693 x participants_age\", \"power_31761 x participants_age\", \"power_31795 / participants_age\", \"power_31854 x participants_age\", \"power_31854 / participants_age\", \"power_31870 / participants_age\", \"power_31876 x participants_age\", \"power_31939 / participants_age\", \"power_32011 x participants_age\", \"power_32013 / participants_age\", \"power_32022 x participants_age\", \"power_32022 / participants_age\", \"power_32025 / participants_age\", \"power_32033 / participants_age\", \"power_32047 x participants_age\", \"power_32047 / participants_age\", \"power_32102 / participants_age\", \"power_32111 / participants_age\", \"power_32177 / participants_age\", \"power_32252 / participants_age\", \"power_32268 / participants_age\", \"power_32336 / participants_age\", \"power_32345 / participants_age\", \"power_32346 / participants_age\", \"power_32347 / participants_age\", \"power_32390 x participants_age\", \"power_32483 x participants_age\", \"power_32496 x participants_age\", \"power_32496 / participants_age\", \"power_32559 / participants_age\", \"power_32569 x participants_age\", \"power_32642 x participants_age\", \"power_32643 / participants_age\", \"power_32650 x participants_age\", \"power_32650 / participants_age\", \"power_32824 / participants_age\", \"power_32829 / participants_age\", \"power_32843 x participants_age\", \"power_32874 x participants_age\", \"power_32877 x participants_age\", \"power_32877 / participants_age\", \"power_32878 x participants_age\", \"power_32884 / participants_age\", \"power_33029 / participants_age\", \"power_33063 x participants_age\", \"power_33070 / participants_age\", \"power_33074 / participants_age\", \"power_33085 / participants_age\", \"power_33089 / participants_age\", \"power_33271 / participants_age\", \"power_33297 / participants_age\", \"power_33337 / participants_age\", \"power_33370 / participants_age\", \"power_33398 x participants_age\", \"power_33594 x participants_age\", \"power_33595 x participants_age\", \"power_33595 / participants_age\", \"power_33644 / participants_age\", \"power_33687 / participants_age\", \"power_33688 x participants_age\", \"power_33688 / participants_age\", \"power_33771 / participants_age\", \"power_33814 / participants_age\", \"power_33959 / participants_age\", \"power_33965 x participants_age\", \"power_33969 x participants_age\", \"power_34022 / participants_age\", \"power_34152 / participants_age\", \"power_34153 / participants_age\", \"power_34154 / participants_age\", \"power_34163 / participants_age\", \"power_34180 / participants_age\", \"power_34289 x participants_age\", \"power_34330 / participants_age\", \"power_34358 / participants_age\", \"power_34372 / participants_age\", \"power_34396 / participants_age\", \"power_34452 x participants_age\", \"power_34452 / participants_age\", \"power_34553 x participants_age\", \"power_34553 / participants_age\", \"power_34631 / participants_age\", \"power_34714 / participants_age\", \"power_142 x participants_age\", \"power_142 / participants_age\", \"power_283 / participants_age\", \"power_311 / participants_age\", \"power_330 x participants_age\", \"power_359 / participants_age\", \"power_417 / participants_age\", \"power_445 / participants_age\", \"power_497 / participants_age\", \"power_541 / participants_age\", \"power_672 / participants_age\", \"power_882 x participants_age\", \"power_882 / participants_age\", \"power_953 / participants_age\", \"power_1011 / participants_age\", \"power_1027 / participants_age\", \"power_1043 / participants_age\", \"power_1045 / participants_age\", \"power_1094 / participants_age\", \"power_1235 / participants_age\", \"power_1236 / participants_age\", \"power_1307 x participants_age\", \"power_1307 / participants_age\", \"power_1320 x participants_age\", \"power_1320 / participants_age\", \"power_1334 / participants_age\", \"power_1336 / participants_age\", \"power_1572 x participants_age\", \"power_1677 x participants_age\", \"power_1677 / participants_age\", \"power_1727 x participants_age\", \"power_1735 x participants_age\", \"power_1749 x participants_age\", \"power_1756 x participants_age\", \"power_1904 / participants_age\", \"power_1976 / participants_age\", \"power_1988 / participants_age\", \"power_2020 / participants_age\", \"power_2040 / participants_age\", \"power_2051 / participants_age\", \"power_2133 / participants_age\", \"power_2135 / participants_age\", \"power_2138 / participants_age\", \"power_2155 / participants_age\", \"power_2282 x participants_age\", \"power_2282 / participants_age\", \"power_2312 x participants_age\", \"power_2312 / participants_age\", \"power_2350 / participants_age\", \"power_2351 x participants_age\", \"power_2351 / participants_age\", \"power_2375 / participants_age\", \"power_2378 / participants_age\", \"power_2436 / participants_age\", \"power_2452 / participants_age\", \"power_2496 / participants_age\", \"power_2591 / participants_age\", \"power_2675 x participants_age\", \"power_2681 x participants_age\", \"power_2706 / participants_age\", \"power_2707 / participants_age\", \"power_2860 x participants_age\", \"power_2867 / participants_age\", \"power_2894 / participants_age\", \"power_2926 / participants_age\", \"power_2927 / participants_age\", \"power_2932 / participants_age\", \"power_2934 / participants_age\", \"power_2936 / participants_age\", \"power_3004 / participants_age\", \"power_3163 / participants_age\", \"power_3169 / participants_age\", \"power_3251 / participants_age\", \"power_3266 x participants_age\", \"power_3266 / participants_age\", \"power_3267 x participants_age\", \"power_3268 x participants_age\", \"power_3288 x participants_age\", \"power_3373 / participants_age\", \"power_3397 / participants_age\", \"power_3408 / participants_age\", \"power_3479 / participants_age\", \"power_3488 / participants_age\", \"power_3489 x participants_age\", \"power_3538 / participants_age\", \"power_3619 / participants_age\", \"power_4077 / participants_age\", \"power_4081 / participants_age\", \"power_4197 / participants_age\", \"power_4212 / participants_age\", \"power_4222 / participants_age\", \"power_4224 / participants_age\", \"power_4225 / participants_age\", \"power_4235 / participants_age\", \"power_4240 / participants_age\", \"power_4280 / participants_age\", \"power_4364 / participants_age\", \"power_4425 / participants_age\", \"power_4517 / participants_age\", \"power_4547 / participants_age\", \"power_4569 / participants_age\", \"power_5038 / participants_age\", \"power_5055 x participants_age\", \"power_5186 / participants_age\", \"power_5367 x participants_age\", \"power_5367 / participants_age\", \"power_5466 / participants_age\", \"power_5576 x participants_age\", \"power_5576 / participants_age\", \"power_5682 x participants_age\", \"power_5682 / participants_age\", \"power_5723 / participants_age\", \"power_5726 / participants_age\", \"power_5781 / participants_age\", \"power_5789 x participants_age\", \"power_5789 / participants_age\", \"power_5897 x participants_age\", \"power_5897 / participants_age\", \"power_6006 / participants_age\", \"power_6107 / participants_age\", \"power_6157 / participants_age\", \"power_6332 / participants_age\", \"power_6333 / participants_age\", \"power_6334 / participants_age\", \"power_6403 / participants_age\", \"power_6404 / participants_age\", \"power_6443 / participants_age\", \"power_6452 x participants_age\", \"power_6452 / participants_age\", \"power_6474 x participants_age\", \"power_6502 / participants_age\", \"power_6596 x participants_age\", \"power_6601 x participants_age\", \"power_6601 / participants_age\", \"power_6603 / participants_age\", \"power_6604 / participants_age\", \"power_6607 / participants_age\", \"power_6608 / participants_age\", \"power_6616 / participants_age\", \"power_6622 x participants_age\", \"power_6622 / participants_age\", \"power_6624 / participants_age\", \"power_6906 / participants_age\", \"power_6945 / participants_age\", \"power_6950 / participants_age\", \"power_6951 / participants_age\", \"power_6953 / participants_age\", \"power_6955 x participants_age\", \"power_6955 / participants_age\", \"power_6957 / participants_age\", \"power_7040 / participants_age\", \"power_7046 / participants_age\", \"power_7110 / participants_age\", \"power_7122 x participants_age\", \"power_7188 / participants_age\", \"power_7215 / participants_age\", \"power_7440 / participants_age\", \"power_7482 / participants_age\", \"power_7558 / participants_age\", \"power_7562 / participants_age\", \"power_7622 / participants_age\", \"power_7668 / participants_age\", \"power_7679 x participants_age\", \"power_7682 / participants_age\", \"power_7869 / participants_age\", \"power_7893 / participants_age\", \"power_7898 / participants_age\", \"power_7923 / participants_age\", \"power_7924 x participants_age\", \"power_7924 / participants_age\", \"power_7927 / participants_age\", \"power_8045 / participants_age\", \"power_8106 / participants_age\", \"power_8253 / participants_age\", \"power_8376 / participants_age\", \"power_8388 x participants_age\", \"power_8517 / participants_age\", \"power_8518 / participants_age\", \"power_8780 x participants_age\", \"power_8863 / participants_age\", \"power_8887 / participants_age\", \"power_8924 / participants_age\", \"power_8937 / participants_age\", \"power_8960 / participants_age\", \"power_8967 / participants_age\", \"power_8971 / participants_age\", \"power_9209 / participants_age\", \"power_9212 / participants_age\", \"power_9255 / participants_age\", \"power_9267 x participants_age\", \"power_9267 / participants_age\", \"power_9269 / participants_age\", \"power_9306 x participants_age\", \"power_9328 / participants_age\", \"power_9377 / participants_age\", \"power_9458 / participants_age\", \"power_9459 x participants_age\", \"power_9459 / participants_age\", \"power_9482 / participants_age\", \"power_9503 x participants_age\", \"power_9503 / participants_age\", \"power_9514 / participants_age\", \"power_9529 / participants_age\", \"power_9672 / participants_age\", \"power_9674 x participants_age\", \"power_9750 x participants_age\", \"power_9808 / participants_age\", \"power_9812 / participants_age\", \"power_9829 / participants_age\", \"power_9887 / participants_age\", \"power_9947 / participants_age\", \"power_9973 / participants_age\", \"power_9976 / participants_age\", \"power_9977 / participants_age\", \"power_10121 / participants_age\", \"power_10132 / participants_age\", \"power_10157 / participants_age\", \"power_10182 x participants_age\", \"power_10182 / participants_age\", \"power_10189 / participants_age\", \"power_10220 / participants_age\", \"power_10444 / participants_age\", \"power_10457 / participants_age\", \"power_10515 / participants_age\", \"power_10589 x participants_age\", \"power_10589 / participants_age\", \"power_10598 x participants_age\", \"power_10660 / participants_age\", \"power_10717 / participants_age\", \"power_10721 / participants_age\", \"power_10723 / participants_age\", \"power_10882 / participants_age\", \"power_10951 / participants_age\", \"power_10953 / participants_age\", \"power_10964 / participants_age\", \"power_11103 / participants_age\", \"power_11136 / participants_age\", \"power_11386 / participants_age\", \"power_11425 / participants_age\", \"power_11500 / participants_age\", \"power_11524 x participants_age\", \"power_11525 x participants_age\", \"power_11541 x participants_age\", \"power_11542 x participants_age\", \"power_11569 x participants_age\", \"power_11569 / participants_age\", \"power_11653 / participants_age\", \"power_11668 / participants_age\", \"power_11686 / participants_age\", \"power_11766 / participants_age\", \"power_11904 / participants_age\", \"power_11925 / participants_age\", \"power_11998 / participants_age\", \"power_12277 x participants_age\", \"power_12313 / participants_age\", \"power_12345 x participants_age\", \"power_12345 / participants_age\", \"power_12664 / participants_age\", \"power_12858 / participants_age\", \"power_12884 / participants_age\", \"power_12955 / participants_age\", \"power_12957 / participants_age\", \"power_12987 / participants_age\", \"power_13095 / participants_age\", \"power_13214 / participants_age\", \"power_13216 x participants_age\", \"power_13252 x participants_age\", \"power_13259 x participants_age\", \"power_13261 x participants_age\", \"power_13261 / participants_age\", \"power_13339 / participants_age\", \"power_13341 / participants_age\", \"power_13503 / participants_age\", \"power_13586 / participants_age\", \"power_13610 / participants_age\", \"power_13674 / participants_age\", \"power_13738 / participants_age\", \"power_13749 x participants_age\", \"power_13753 / participants_age\", \"power_13758 / participants_age\", \"power_13767 / participants_age\", \"power_13886 / participants_age\", \"power_13893 / participants_age\", \"power_13902 / participants_age\", \"power_13911 x participants_age\", \"power_13911 / participants_age\", \"power_13912 x participants_age\", \"power_13912 / participants_age\", \"power_13997 / participants_age\", \"power_13999 / participants_age\", \"power_14086 x participants_age\", \"power_14086 / participants_age\", \"power_14271 / participants_age\", \"power_14273 / participants_age\", \"power_14277 / participants_age\", \"power_14323 / participants_age\", \"power_14397 / participants_age\", \"power_14415 x participants_age\", \"power_14438 / participants_age\", \"power_14458 / participants_age\", \"power_14671 / participants_age\", \"power_14756 x participants_age\", \"power_14851 / participants_age\", \"power_14875 / participants_age\", \"power_14939 x participants_age\", \"power_15067 / participants_age\", \"power_15164 / participants_age\", \"power_15177 / participants_age\", \"power_15348 x participants_age\", \"power_15392 / participants_age\", \"power_15447 / participants_age\", \"power_15452 / participants_age\", \"power_15531 x participants_age\", \"power_15531 / participants_age\", \"power_15537 / participants_age\", \"power_15552 / participants_age\", \"power_15558 / participants_age\", \"power_15565 / participants_age\", \"power_15567 / participants_age\", \"power_15572 / participants_age\", \"power_15582 / participants_age\", \"power_15655 / participants_age\", \"power_15657 / participants_age\", \"power_15671 / participants_age\", \"power_15707 / participants_age\", \"power_15830 / participants_age\", \"power_15876 x participants_age\", \"power_15952 x participants_age\", \"power_15962 / participants_age\", \"power_15978 / participants_age\", \"power_16230 / participants_age\", \"power_16287 x participants_age\", \"power_16287 / participants_age\", \"power_16290 x participants_age\", \"power_16320 / participants_age\", \"power_16371 / participants_age\", \"power_16435 / participants_age\", \"power_16459 / participants_age\", \"power_16488 x participants_age\", \"power_16488 / participants_age\", \"power_16492 x participants_age\", \"power_16631 / participants_age\", \"power_16634 / participants_age\", \"power_16653 x participants_age\", \"power_16653 / participants_age\", \"power_16676 / participants_age\", \"power_16679 / participants_age\", \"power_16794 / participants_age\", \"power_16801 / participants_age\", \"power_16806 / participants_age\", \"power_16823 x participants_age\", \"power_16838 x participants_age\", \"power_16888 / participants_age\", \"power_16893 / participants_age\", \"power_16913 / participants_age\", \"power_16967 x participants_age\", \"power_16967 / participants_age\", \"power_17015 / participants_age\", \"power_17016 x participants_age\", \"power_17016 / participants_age\", \"power_17036 / participants_age\", \"power_17110 x participants_age\", \"power_17110 / participants_age\", \"power_17114 x participants_age\", \"power_17173 / participants_age\", \"power_17187 / participants_age\", \"power_17252 / participants_age\", \"power_17278 / participants_age\", \"power_17297 / participants_age\", \"power_17313 / participants_age\", \"power_17314 / participants_age\", \"power_17337 / participants_age\", \"power_17464 / participants_age\", \"power_17483 / participants_age\", \"power_17556 / participants_age\", \"power_17557 / participants_age\", \"power_17632 / participants_age\", \"power_17670 x participants_age\", \"power_17670 / participants_age\", \"power_17685 x participants_age\", \"power_17685 / participants_age\", \"power_17686 x participants_age\", \"power_17690 x participants_age\", \"power_17690 / participants_age\", \"power_17693 / participants_age\", \"power_17779 x participants_age\", \"power_17779 / participants_age\", \"power_17890 x participants_age\", \"power_18084 / participants_age\", \"power_18087 x participants_age\", \"power_18087 / participants_age\", \"power_18146 / participants_age\", \"power_18468 / participants_age\", \"power_18499 / participants_age\", \"power_18521 / participants_age\", \"power_18620 / participants_age\", \"power_18641 / participants_age\", \"power_18660 / participants_age\", \"power_18687 x participants_age\", \"power_18713 / participants_age\", \"power_18722 / participants_age\", \"power_18723 x participants_age\", \"power_18813 / participants_age\", \"power_18845 x participants_age\", \"power_18845 / participants_age\", \"power_18852 x participants_age\", \"power_18873 / participants_age\", \"power_18874 / participants_age\", \"power_18880 x participants_age\", \"power_18888 / participants_age\", \"power_18891 / participants_age\", \"power_18892 / participants_age\", \"power_18893 / participants_age\", \"power_18924 x participants_age\", \"power_18924 / participants_age\", \"power_18930 / participants_age\", \"power_18965 / participants_age\", \"power_19050 x participants_age\", \"power_19062 / participants_age\", \"power_19066 x participants_age\", \"power_19066 / participants_age\", \"power_19071 / participants_age\", \"power_19299 x participants_age\", \"power_19399 / participants_age\", \"power_19409 x participants_age\", \"power_19597 x participants_age\", \"power_19683 x participants_age\", \"power_19789 x participants_age\", \"power_19793 x participants_age\", \"power_19809 x participants_age\", \"power_19810 x participants_age\", \"power_19810 / participants_age\", \"power_19825 / participants_age\", \"power_19901 / participants_age\", \"power_19947 x participants_age\", \"power_20132 x participants_age\", \"power_20296 x participants_age\", \"power_20311 / participants_age\", \"power_20431 / participants_age\", \"power_20453 x participants_age\", \"power_20453 / participants_age\", \"power_20456 / participants_age\", \"power_20462 / participants_age\", \"power_20467 / participants_age\", \"power_20471 / participants_age\", \"power_20550 / participants_age\", \"power_20640 x participants_age\", \"power_20640 / participants_age\", \"power_20693 / participants_age\", \"power_20701 / participants_age\", \"power_20735 x participants_age\", \"power_20735 / participants_age\", \"power_20800 / participants_age\", \"power_20829 / participants_age\", \"power_20830 / participants_age\", \"power_20859 / participants_age\", \"power_20869 / participants_age\", \"power_20977 / participants_age\", \"power_21144 / participants_age\", \"power_21222 x participants_age\", \"power_21406 x participants_age\", \"power_21497 / participants_age\", \"power_21515 x participants_age\", \"power_21650 / participants_age\", \"power_21738 / participants_age\", \"power_21789 / participants_age\", \"power_21810 x participants_age\", \"power_21810 / participants_age\", \"power_21811 x participants_age\", \"power_21811 / participants_age\", \"power_21813 x participants_age\", \"power_21813 / participants_age\", \"power_21832 / participants_age\", \"power_21836 x participants_age\", \"power_21836 / participants_age\", \"power_21840 x participants_age\", \"power_21842 x participants_age\", \"power_21842 / participants_age\", \"power_21843 x participants_age\", \"power_21844 x participants_age\", \"power_21844 / participants_age\", \"power_21845 x participants_age\", \"power_21845 / participants_age\", \"power_21941 x participants_age\", \"power_22139 x participants_age\", \"power_22199 x participants_age\", \"power_22200 / participants_age\", \"power_22207 x participants_age\", \"power_22216 x participants_age\", \"power_22339 / participants_age\", \"power_22575 x participants_age\", \"power_22575 / participants_age\", \"power_22580 / participants_age\", \"power_22652 / participants_age\", \"power_22656 / participants_age\", \"power_22699 / participants_age\", \"power_22707 / participants_age\", \"power_22765 x participants_age\", \"power_22765 / participants_age\", \"power_22772 / participants_age\", \"power_22775 / participants_age\", \"power_22975 / participants_age\", \"power_23070 / participants_age\", \"power_23244 x participants_age\", \"power_23256 x participants_age\", \"power_23257 x participants_age\", \"power_23258 x participants_age\", \"power_23334 / participants_age\", \"power_23357 / participants_age\", \"power_23438 / participants_age\", \"power_23534 / participants_age\", \"power_23547 / participants_age\", \"power_23645 x participants_age\", \"power_23790 x participants_age\", \"power_23790 / participants_age\", \"power_23830 x participants_age\", \"power_23830 / participants_age\", \"power_23841 / participants_age\", \"power_23936 / participants_age\", \"power_23975 / participants_age\", \"power_23983 / participants_age\", \"power_24020 x participants_age\", \"power_24020 / participants_age\", \"power_24117 / participants_age\", \"power_24172 / participants_age\", \"power_24175 / participants_age\", \"power_24176 / participants_age\", \"power_24209 / participants_age\", \"power_24263 / participants_age\", \"power_24267 / participants_age\", \"power_24276 / participants_age\", \"power_24280 x participants_age\", \"power_24280 / participants_age\", \"power_24283 / participants_age\", \"power_24284 / participants_age\", \"power_24384 / participants_age\", \"power_24412 x participants_age\", \"power_24427 / participants_age\", \"power_24428 x participants_age\", \"power_24428 / participants_age\", \"power_24463 x participants_age\", \"power_24463 / participants_age\", \"power_24544 x participants_age\", \"power_24563 x participants_age\", \"power_24608 / participants_age\", \"power_24614 x participants_age\", \"power_24685 / participants_age\", \"power_24704 x participants_age\", \"power_24711 / participants_age\", \"power_24717 x participants_age\", \"power_24731 x participants_age\", \"power_24785 x participants_age\", \"power_24827 / participants_age\", \"power_24835 / participants_age\", \"power_24907 x participants_age\", \"power_24907 / participants_age\", \"power_24908 / participants_age\", \"power_24986 / participants_age\", \"power_25047 x participants_age\", \"power_25050 / participants_age\", \"power_25058 / participants_age\", \"power_25094 x participants_age\", \"power_25094 / participants_age\", \"power_25214 / participants_age\", \"power_25219 / participants_age\", \"power_25221 / participants_age\", \"power_25232 / participants_age\", \"power_25238 / participants_age\", \"power_25241 / participants_age\", \"power_25244 / participants_age\", \"power_25245 x participants_age\", \"power_25245 / participants_age\", \"power_25290 / participants_age\", \"power_25313 / participants_age\", \"power_25317 x participants_age\", \"power_25317 / participants_age\", \"power_25352 x participants_age\", \"power_25353 x participants_age\", \"power_25353 / participants_age\", \"power_25423 / participants_age\", \"power_25873 / participants_age\", \"power_25902 / participants_age\", \"power_25907 x participants_age\", \"power_25907 / participants_age\", \"power_25910 / participants_age\", \"power_25923 x participants_age\", \"power_25949 x participants_age\", \"power_25979 / participants_age\", \"power_25996 / participants_age\", \"power_26020 / participants_age\", \"power_26149 x participants_age\", \"power_26171 x participants_age\", \"power_26171 / participants_age\", \"power_26228 x participants_age\", \"power_26228 / participants_age\", \"power_26240 / participants_age\", \"power_26486 / participants_age\", \"power_26502 / participants_age\", \"power_26576 / participants_age\", \"power_26647 x participants_age\", \"power_26681 x participants_age\", \"power_26692 / participants_age\", \"power_26787 x participants_age\", \"power_26787 / participants_age\", \"power_26890 / participants_age\", \"power_27057 / participants_age\", \"power_27102 / participants_age\", \"power_27120 / participants_age\", \"power_27249 / participants_age\", \"power_27398 / participants_age\", \"power_27438 / participants_age\", \"power_27483 / participants_age\", \"power_27494 x participants_age\", \"power_27494 / participants_age\", \"power_27682 x participants_age\", \"power_27720 / participants_age\", \"power_27903 x participants_age\", \"power_27903 / participants_age\", \"power_28039 / participants_age\", \"power_28062 / participants_age\", \"power_28066 / participants_age\", \"power_28086 / participants_age\", \"power_28104 / participants_age\", \"power_28199 x participants_age\", \"power_28199 / participants_age\", \"power_28205 / participants_age\", \"power_28303 / participants_age\", \"power_28304 x participants_age\", \"power_28304 / participants_age\", \"power_28370 / participants_age\", \"power_28408 / participants_age\", \"power_28424 x participants_age\", \"power_28424 / participants_age\", \"power_28427 x participants_age\", \"power_28580 x participants_age\", \"power_28580 / participants_age\", \"power_28589 x participants_age\", \"power_28602 x participants_age\", \"power_28674 x participants_age\", \"power_28706 / participants_age\", \"power_28847 / participants_age\", \"power_28868 / participants_age\", \"power_28876 x participants_age\", \"power_28885 / participants_age\", \"power_28924 / participants_age\", \"power_28944 / participants_age\", \"power_28945 / participants_age\", \"power_28949 / participants_age\", \"power_28952 x participants_age\", \"power_28952 / participants_age\", \"power_28995 / participants_age\", \"power_29045 / participants_age\", \"power_29178 x participants_age\", \"power_29178 / participants_age\", \"power_29279 x participants_age\", \"power_29302 / participants_age\", \"power_29342 / participants_age\", \"power_29437 / participants_age\", \"power_29478 / participants_age\", \"power_29522 / participants_age\", \"power_29647 x participants_age\", \"power_29650 / participants_age\", \"power_29654 / participants_age\", \"power_29669 / participants_age\", \"power_29672 / participants_age\", \"power_29764 x participants_age\", \"power_29764 / participants_age\", \"power_29785 x participants_age\", \"power_29785 / participants_age\", \"power_29786 x participants_age\", \"power_29894 / participants_age\", \"power_29916 x participants_age\", \"power_29924 x participants_age\", \"power_29926 x participants_age\", \"power_29965 / participants_age\", \"power_29966 x participants_age\", \"power_30003 / participants_age\", \"power_30006 x participants_age\", \"power_30008 / participants_age\", \"power_30031 x participants_age\", \"power_30043 x participants_age\", \"power_30043 / participants_age\", \"power_30069 / participants_age\", \"power_30071 / participants_age\", \"power_30171 x participants_age\", \"power_30178 x participants_age\", \"power_30179 x participants_age\", \"power_30179 / participants_age\", \"power_30199 / participants_age\", \"power_30240 / participants_age\", \"power_30278 / participants_age\", \"power_30303 / participants_age\", \"power_30331 / participants_age\", \"power_30342 / participants_age\", \"power_30361 x participants_age\", \"power_30361 / participants_age\", \"power_30367 / participants_age\", \"power_30376 x participants_age\", \"power_30376 / participants_age\", \"power_30387 / participants_age\", \"power_30445 x participants_age\", \"power_30577 x participants_age\", \"power_30577 / participants_age\", \"power_30622 x participants_age\", \"power_30622 / participants_age\", \"power_30637 x participants_age\", \"power_30637 / participants_age\", \"power_30809 / participants_age\", \"power_30857 x participants_age\", \"power_30882 / participants_age\", \"power_30951 / participants_age\", \"power_30995 x participants_age\", \"power_31057 / participants_age\", \"power_31059 x participants_age\", \"power_31291 / participants_age\", \"power_31364 / participants_age\", \"power_31367 x participants_age\", \"power_31386 / participants_age\", \"power_31490 / participants_age\", \"power_31501 / participants_age\", \"power_31511 / participants_age\", \"power_31558 / participants_age\", \"power_31620 / participants_age\", \"power_31706 / participants_age\", \"power_31707 / participants_age\", \"power_31717 / participants_age\", \"power_31731 / participants_age\", \"power_31739 / participants_age\", \"power_31748 / participants_age\", \"power_31758 / participants_age\", \"power_31953 / participants_age\", \"power_32008 / participants_age\", \"power_32058 x participants_age\", \"power_32058 / participants_age\", \"power_32064 / participants_age\", \"power_32068 / participants_age\", \"power_32075 x participants_age\", \"power_32078 / participants_age\", \"power_32119 / participants_age\", \"power_32250 / participants_age\", \"power_32298 / participants_age\", \"power_32301 / participants_age\", \"power_32372 / participants_age\", \"power_32398 x participants_age\", \"power_32399 x participants_age\", \"power_32414 x participants_age\", \"power_32434 x participants_age\", \"power_32515 / participants_age\", \"power_32644 / participants_age\", \"power_32719 / participants_age\", \"power_32732 / participants_age\", \"power_32734 / participants_age\", \"power_32744 / participants_age\", \"power_32745 / participants_age\", \"power_32748 / participants_age\", \"power_32750 / participants_age\", \"power_32764 / participants_age\", \"power_32782 / participants_age\", \"power_32908 x participants_age\", \"power_32923 / participants_age\", \"power_32936 / participants_age\", \"power_32998 / participants_age\", \"power_33012 / participants_age\", \"power_33026 / participants_age\", \"power_33098 x participants_age\", \"power_33135 / participants_age\", \"power_33137 / participants_age\", \"power_33141 / participants_age\", \"power_33154 / participants_age\", \"power_33155 x participants_age\", \"power_33155 / participants_age\", \"power_33164 / participants_age\", \"power_33180 / participants_age\", \"power_33289 / participants_age\", \"power_33325 / participants_age\", \"power_33329 x participants_age\", \"power_33332 x participants_age\", \"power_33332 / participants_age\", \"power_33350 x participants_age\", \"power_33354 x participants_age\", \"power_33375 x participants_age\", \"power_33376 x participants_age\", \"power_33394 / participants_age\", \"power_33406 / participants_age\", \"power_33458 x participants_age\", \"power_33631 / participants_age\", \"power_33650 x participants_age\", \"power_33651 / participants_age\", \"power_33717 / participants_age\", \"power_33737 / participants_age\", \"power_33741 / participants_age\", \"power_33796 / participants_age\", \"power_33802 x participants_age\", \"power_33846 / participants_age\", \"power_33864 / participants_age\", \"power_33880 / participants_age\", \"power_33890 x participants_age\", \"power_33890 / participants_age\", \"power_33905 x participants_age\", \"power_33906 x participants_age\", \"power_33906 / participants_age\", \"power_33934 x participants_age\", \"power_33941 / participants_age\", \"power_34011 / participants_age\", \"power_34026 x participants_age\", \"power_34026 / participants_age\", \"power_34033 / participants_age\", \"power_34035 / participants_age\", \"power_34050 x participants_age\", \"power_34050 / participants_age\", \"power_34053 x participants_age\", \"power_34055 x participants_age\", \"power_34058 / participants_age\", \"power_34175 x participants_age\", \"power_34233 x participants_age\", \"power_34239 x participants_age\", \"power_34260 x participants_age\", \"power_34260 / participants_age\", \"power_34270 x participants_age\", \"power_34334 x participants_age\", \"power_34334 / participants_age\", \"power_34370 / participants_age\", \"power_34419 x participants_age\", \"power_34419 / participants_age\", \"power_34454 / participants_age\", \"power_34548 / participants_age\", \"power_34572 / participants_age\", \"power_34579 / participants_age\", \"power_34582 / participants_age\", \"power_34589 / participants_age\", \"power_34633 / participants_age\", \"power_34656 / participants_age\", \"power_34694 / participants_age\", ]\n",
    "\n",
    "# f2_columns = [\"power_1011 / participants_age\", \"power_10121 / participants_age\", \"power_10132 / participants_age\", \"power_10157 / participants_age\", \"power_10182 / participants_age\", \"power_10189 / participants_age\", \"power_10220 / participants_age\", \"power_10222 / participants_age\", \"power_10251 / participants_age\", \"power_1027 / participants_age\", \"power_1028 / participants_age\", \"power_10375 / participants_age\", \"power_1043 / participants_age\", \"power_10444 / participants_age\", \"power_1045 / participants_age\", \"power_10457 / participants_age\", \"power_10463 / participants_age\", \"power_10515 / participants_age\", \"power_10589 / participants_age\", \"power_10654 / participants_age\", \"power_10660 / participants_age\", \"power_10717 / participants_age\", \"power_10721 / participants_age\", \"power_10723 / participants_age\", \"power_1075 / participants_age\", \"power_10880 / participants_age\", \"power_10882 / participants_age\", \"power_1094 / participants_age\", \"power_10951 / participants_age\", \"power_10953 / participants_age\", \"power_10964 / participants_age\", \"power_11103 / participants_age\", \"power_11136 / participants_age\", \"power_11382 / participants_age\", \"power_11386 / participants_age\", \"power_11425 / participants_age\", \"power_1145 / participants_age\", \"power_11478 / participants_age\", \"power_11500 / participants_age\", \"power_1156 / participants_age\", \"power_11569 / participants_age\", \"power_11617 / participants_age\", \"power_11630 / participants_age\", \"power_11649 / participants_age\", \"power_11653 / participants_age\", \"power_11654 / participants_age\", \"power_11664 / participants_age\", \"power_11668 / participants_age\", \"power_11686 / participants_age\", \"power_11705 / participants_age\", \"power_11710 / participants_age\", \"power_11720 / participants_age\", \"power_11736 / participants_age\", \"power_11766 / participants_age\", \"power_11783 / participants_age\", \"power_11797 / participants_age\", \"power_11904 / participants_age\", \"power_11925 / participants_age\", \"power_1193 / participants_age\", \"power_11937 / participants_age\", \"power_11938 / participants_age\", \"power_11998 / participants_age\", \"power_1204 / participants_age\", \"power_12111 / participants_age\", \"power_12151 / participants_age\", \"power_12161 / participants_age\", \"power_12251 / participants_age\", \"power_12276 / participants_age\", \"power_1231 / participants_age\", \"power_12313 / participants_age\", \"power_12345 / participants_age\", \"power_1235 / participants_age\", \"power_1236 / participants_age\", \"power_12472 / participants_age\", \"power_1253 / participants_age\", \"power_12583 / participants_age\", \"power_12584 / participants_age\", \"power_12587 / participants_age\", \"power_12597 / participants_age\", \"power_1265 / participants_age\", \"power_12664 / participants_age\", \"power_12721 / participants_age\", \"power_12806 / participants_age\", \"power_12858 / participants_age\", \"power_12883 / participants_age\", \"power_12884 / participants_age\", \"power_12895 / participants_age\", \"power_12955 / participants_age\", \"power_12957 / participants_age\", \"power_12987 / participants_age\", \"power_1302 / participants_age\", \"power_1307 / participants_age\", \"power_13095 / participants_age\", \"power_13194 / participants_age\", \"power_1320 / participants_age\", \"power_13206 / participants_age\", \"power_13214 / participants_age\", \"power_13261 / participants_age\", \"power_13280 / participants_age\", \"power_13295 / participants_age\", \"power_13339 / participants_age\", \"power_1334 / participants_age\", \"power_13341 / participants_age\", \"power_1336 / participants_age\", \"power_13365 / participants_age\", \"power_13368 / participants_age\", \"power_13409 / participants_age\", \"power_13427 / participants_age\", \"power_13446 / participants_age\", \"power_1349 / participants_age\", \"power_13503 / participants_age\", \"power_1354 / participants_age\", \"power_13586 / participants_age\", \"power_13610 / participants_age\", \"power_13621 / participants_age\", \"power_1366 / participants_age\", \"power_13674 / participants_age\", \"power_1370 / participants_age\", \"power_13718 / participants_age\", \"power_13738 / participants_age\", \"power_13753 / participants_age\", \"power_13758 / participants_age\", \"power_13767 / participants_age\", \"power_13797 / participants_age\", \"power_13864 / participants_age\", \"power_13882 / participants_age\", \"power_13886 / participants_age\", \"power_13893 / participants_age\", \"power_13902 / participants_age\", \"power_13911 / participants_age\", \"power_13912 / participants_age\", \"power_13997 / participants_age\", \"power_13999 / participants_age\", \"power_14086 / participants_age\", \"power_14097 / participants_age\", \"power_14169 / participants_age\", \"power_142 / participants_age\", \"power_14201 / participants_age\", \"power_14271 / participants_age\", \"power_14273 / participants_age\", \"power_14277 / participants_age\", \"power_14323 / participants_age\", \"power_14370 / participants_age\", \"power_14397 / participants_age\", \"power_14438 / participants_age\", \"power_14458 / participants_age\", \"power_14557 / participants_age\", \"power_14671 / participants_age\", \"power_14707 / participants_age\", \"power_14775 / participants_age\", \"power_14851 / participants_age\", \"power_14875 / participants_age\", \"power_14904 / participants_age\", \"power_15067 / participants_age\", \"power_1512 / participants_age\", \"power_15164 / participants_age\", \"power_15177 / participants_age\", \"power_15182 / participants_age\", \"power_15193 / participants_age\", \"power_15195 / participants_age\", \"power_15196 / participants_age\", \"power_15198 / participants_age\", \"power_15217 / participants_age\", \"power_15220 / participants_age\", \"power_15343 / participants_age\", \"power_15366 / participants_age\", \"power_15392 / participants_age\", \"power_15411 / participants_age\", \"power_15447 / participants_age\", \"power_15452 / participants_age\", \"power_15502 / participants_age\", \"power_15505 / participants_age\", \"power_15518 / participants_age\", \"power_15531 / participants_age\", \"power_15537 / participants_age\", \"power_15538 / participants_age\", \"power_15552 / participants_age\", \"power_15558 / participants_age\", \"power_15565 / participants_age\", \"power_15567 / participants_age\", \"power_15572 / participants_age\", \"power_15582 / participants_age\", \"power_15655 / participants_age\", \"power_15657 / participants_age\", \"power_1567 / participants_age\", \"power_15671 / participants_age\", \"power_15707 / participants_age\", \"power_15712 / participants_age\", \"power_15749 / participants_age\", \"power_15814 / participants_age\", \"power_15830 / participants_age\", \"power_15892 / participants_age\", \"power_15962 / participants_age\", \"power_15978 / participants_age\", \"power_16187 / participants_age\", \"power_16230 / participants_age\", \"power_16258 / participants_age\", \"power_16264 / participants_age\", \"power_16287 / participants_age\", \"power_16320 / participants_age\", \"power_16371 / participants_age\", \"power_16372 / participants_age\", \"power_16409 / participants_age\", \"power_16435 / participants_age\", \"power_16459 / participants_age\", \"power_16488 / participants_age\", \"power_16529 / participants_age\", \"power_16530 / participants_age\", \"power_16551 / participants_age\", \"power_16631 / participants_age\", \"power_16634 / participants_age\", \"power_16647 / participants_age\", \"power_16653 / participants_age\", \"power_16663 / participants_age\", \"power_16676 / participants_age\", \"power_16679 / participants_age\", \"power_16741 / participants_age\", \"power_16745 / participants_age\", \"power_16747 / participants_age\", \"power_1677 / participants_age\", \"power_16785 / participants_age\", \"power_16786 / participants_age\", \"power_16787 / participants_age\", \"power_16794 / participants_age\", \"power_16801 / participants_age\", \"power_16806 / participants_age\", \"power_16830 / participants_age\", \"power_16878 / participants_age\", \"power_16888 / participants_age\", \"power_16893 / participants_age\", \"power_16906 / participants_age\", \"power_16909 / participants_age\", \"power_16913 / participants_age\", \"power_16921 / participants_age\", \"power_16922 / participants_age\", \"power_16930 / participants_age\", \"power_16955 / participants_age\", \"power_16967 / participants_age\", \"power_17015 / participants_age\", \"power_17016 / participants_age\", \"power_17036 / participants_age\", \"power_17038 / participants_age\", \"power_17110 / participants_age\", \"power_17151 / participants_age\", \"power_17173 / participants_age\", \"power_17187 / participants_age\", \"power_17252 / participants_age\", \"power_17278 / participants_age\", \"power_17297 / participants_age\", \"power_17313 / participants_age\", \"power_17314 / participants_age\", \"power_17323 / participants_age\", \"power_17337 / participants_age\", \"power_1738 / participants_age\", \"power_17389 / participants_age\", \"power_17394 / participants_age\", \"power_17426 / participants_age\", \"power_17451 / participants_age\", \"power_17464 / participants_age\", \"power_17483 / participants_age\", \"power_17493 / participants_age\", \"power_17556 / participants_age\", \"power_17557 / participants_age\", \"power_17578 / participants_age\", \"power_17581 / participants_age\", \"power_17596 / participants_age\", \"power_17627 / participants_age\", \"power_17632 / participants_age\", \"power_17670 / participants_age\", \"power_17685 / participants_age\", \"power_17690 / participants_age\", \"power_17693 / participants_age\", \"power_17719 / participants_age\", \"power_17760 / participants_age\", \"power_17779 / participants_age\", \"power_17990 / participants_age\", \"power_180 / participants_age\", \"power_18084 / participants_age\", \"power_18087 / participants_age\", \"power_18129 / participants_age\", \"power_18139 / participants_age\", \"power_18146 / participants_age\", \"power_1829 / participants_age\", \"power_18329 / participants_age\", \"power_18394 / participants_age\", \"power_18398 / participants_age\", \"power_18446 / participants_age\", \"power_18450 / participants_age\", \"power_18468 / participants_age\", \"power_1847 / participants_age\", \"power_18499 / participants_age\", \"power_18521 / participants_age\", \"power_1857 / participants_age\", \"power_18620 / participants_age\", \"power_18641 / participants_age\", \"power_18660 / participants_age\", \"power_18712 / participants_age\", \"power_18713 / participants_age\", \"power_18722 / participants_age\", \"power_18762 / participants_age\", \"power_18764 / participants_age\", \"power_18766 / participants_age\", \"power_18791 / participants_age\", \"power_18813 / participants_age\", \"power_18816 / participants_age\", \"power_18822 / participants_age\", \"power_18823 / participants_age\", \"power_18839 / participants_age\", \"power_18840 / participants_age\", \"power_18845 / participants_age\", \"power_18850 / participants_age\", \"power_18873 / participants_age\", \"power_18874 / participants_age\", \"power_18888 / participants_age\", \"power_18891 / participants_age\", \"power_18892 / participants_age\", \"power_18893 / participants_age\", \"power_18904 / participants_age\", \"power_18905 / participants_age\", \"power_18924 / participants_age\", \"power_18930 / participants_age\", \"power_18965 / participants_age\", \"power_19021 / participants_age\", \"power_19025 / participants_age\", \"power_19027 / participants_age\", \"power_1904 / participants_age\", \"power_19062 / participants_age\", \"power_19066 / participants_age\", \"power_19071 / participants_age\", \"power_19287 / participants_age\", \"power_19399 / participants_age\", \"power_19450 / participants_age\", \"power_19483 / participants_age\", \"power_19491 / participants_age\", \"power_19525 / participants_age\", \"power_19526 / participants_age\", \"power_19564 / participants_age\", \"power_19573 / participants_age\", \"power_19677 / participants_age\", \"power_1976 / participants_age\", \"power_19810 / participants_age\", \"power_19825 / participants_age\", \"power_1988 / participants_age\", \"power_19901 / participants_age\", \"power_20002 / participants_age\", \"power_20016 / participants_age\", \"power_20036 / participants_age\", \"power_20111 / participants_age\", \"power_2020 / participants_age\", \"power_20201 / participants_age\", \"power_20202 / participants_age\", \"power_20215 / participants_age\", \"power_20218 / participants_age\", \"power_20230 / participants_age\", \"power_20236 / participants_age\", \"power_20238 / participants_age\", \"power_20286 / participants_age\", \"power_20311 / participants_age\", \"power_2040 / participants_age\", \"power_20430 / participants_age\", \"power_20431 / participants_age\", \"power_20453 / participants_age\", \"power_20456 / participants_age\", \"power_20462 / participants_age\", \"power_20467 / participants_age\", \"power_20471 / participants_age\", \"power_20475 / participants_age\", \"power_2051 / participants_age\", \"power_20550 / participants_age\", \"power_20606 / participants_age\", \"power_20640 / participants_age\", \"power_20693 / participants_age\", \"power_20701 / participants_age\", \"power_20735 / participants_age\", \"power_20762 / participants_age\", \"power_20790 / participants_age\", \"power_20800 / participants_age\", \"power_20811 / participants_age\", \"power_20829 / participants_age\", \"power_20830 / participants_age\", \"power_20859 / participants_age\", \"power_20869 / participants_age\", \"power_20882 / participants_age\", \"power_20935 / participants_age\", \"power_20977 / participants_age\", \"power_21144 / participants_age\", \"power_2133 / participants_age\", \"power_2135 / participants_age\", \"power_2138 / participants_age\", \"power_21381 / participants_age\", \"power_21497 / participants_age\", \"power_2155 / participants_age\", \"power_21607 / participants_age\", \"power_21625 / participants_age\", \"power_21630 / participants_age\", \"power_21633 / participants_age\", \"power_21650 / participants_age\", \"power_21738 / participants_age\", \"power_21789 / participants_age\", \"power_21796 / participants_age\", \"power_21802 / participants_age\", \"power_21810 / participants_age\", \"power_21811 / participants_age\", \"power_21813 / participants_age\", \"power_21832 / participants_age\", \"power_21833 / participants_age\", \"power_21836 / participants_age\", \"power_21842 / participants_age\", \"power_21844 / participants_age\", \"power_21845 / participants_age\", \"power_21853 / participants_age\", \"power_21855 / participants_age\", \"power_21875 / participants_age\", \"power_21972 / participants_age\", \"power_22093 / participants_age\", \"power_22200 / participants_age\", \"power_22251 / participants_age\", \"power_22257 / participants_age\", \"power_22311 / participants_age\", \"power_22339 / participants_age\", \"power_22346 / participants_age\", \"power_22348 / participants_age\", \"power_22350 / participants_age\", \"power_22353 / participants_age\", \"power_22563 / participants_age\", \"power_22575 / participants_age\", \"power_22580 / participants_age\", \"power_22652 / participants_age\", \"power_22656 / participants_age\", \"power_22659 / participants_age\", \"power_22675 / participants_age\", \"power_22680 / participants_age\", \"power_22699 / participants_age\", \"power_22705 / participants_age\", \"power_22707 / participants_age\", \"power_22765 / participants_age\", \"power_22772 / participants_age\", \"power_22775 / participants_age\", \"power_2282 / participants_age\", \"power_22870 / participants_age\", \"power_22975 / participants_age\", \"power_22982 / participants_age\", \"power_22989 / participants_age\", \"power_23070 / participants_age\", \"power_2312 / participants_age\", \"power_23183 / participants_age\", \"power_23334 / participants_age\", \"power_23357 / participants_age\", \"power_23363 / participants_age\", \"power_23376 / participants_age\", \"power_23402 / participants_age\", \"power_23411 / participants_age\", \"power_23418 / participants_age\", \"power_23438 / participants_age\", \"power_23439 / participants_age\", \"power_23448 / participants_age\", \"power_2347 / participants_age\", \"power_2350 / participants_age\", \"power_2351 / participants_age\", \"power_23534 / participants_age\", \"power_23547 / participants_age\", \"power_23582 / participants_age\", \"power_23601 / participants_age\", \"power_23638 / participants_age\", \"power_23700 / participants_age\", \"power_2373 / participants_age\", \"power_23746 / participants_age\", \"power_2375 / participants_age\", \"power_2378 / participants_age\", \"power_23786 / participants_age\", \"power_23790 / participants_age\", \"power_23830 / participants_age\", \"power_23841 / participants_age\", \"power_23857 / participants_age\", \"power_23936 / participants_age\", \"power_23975 / participants_age\", \"power_23983 / participants_age\", \"power_24012 / participants_age\", \"power_24020 / participants_age\", \"power_24053 / participants_age\", \"power_24117 / participants_age\", \"power_24145 / participants_age\", \"power_24148 / participants_age\", \"power_24149 / participants_age\", \"power_24171 / participants_age\", \"power_24172 / participants_age\", \"power_24175 / participants_age\", \"power_24176 / participants_age\", \"power_24194 / participants_age\", \"power_24195 / participants_age\", \"power_24209 / participants_age\", \"power_24216 / participants_age\", \"power_24263 / participants_age\", \"power_24267 / participants_age\", \"power_24276 / participants_age\", \"power_24280 / participants_age\", \"power_24283 / participants_age\", \"power_24284 / participants_age\", \"power_24295 / participants_age\", \"power_24296 / participants_age\", \"power_24304 / participants_age\", \"power_24308 / participants_age\", \"power_24337 / participants_age\", \"power_2436 / participants_age\", \"power_24384 / participants_age\", \"power_2442 / participants_age\", \"power_24427 / participants_age\", \"power_24428 / participants_age\", \"power_24463 / participants_age\", \"power_24493 / participants_age\", \"power_2452 / participants_age\", \"power_24608 / participants_age\", \"power_24612 / participants_age\", \"power_24651 / participants_age\", \"power_24685 / participants_age\", \"power_24711 / participants_age\", \"power_24779 / participants_age\", \"power_24780 / participants_age\", \"power_24827 / participants_age\", \"power_24835 / participants_age\", \"power_24898 / participants_age\", \"power_24907 / participants_age\", \"power_24908 / participants_age\", \"power_24922 / participants_age\", \"power_2496 / participants_age\", \"power_24986 / participants_age\", \"power_25002 / participants_age\", \"power_25003 / participants_age\", \"power_25050 / participants_age\", \"power_25058 / participants_age\", \"power_25094 / participants_age\", \"power_25145 / participants_age\", \"power_25163 / participants_age\", \"power_25214 / participants_age\", \"power_25219 / participants_age\", \"power_25221 / participants_age\", \"power_25232 / participants_age\", \"power_25238 / participants_age\", \"power_25241 / participants_age\", \"power_25244 / participants_age\", \"power_25245 / participants_age\", \"power_25290 / participants_age\", \"power_25313 / participants_age\", \"power_25317 / participants_age\", \"power_25353 / participants_age\", \"power_25383 / participants_age\", \"power_25391 / participants_age\", \"power_25400 / participants_age\", \"power_25423 / participants_age\", \"power_25429 / participants_age\", \"power_25451 / participants_age\", \"power_25452 / participants_age\", \"power_255 / participants_age\", \"power_25606 / participants_age\", \"power_25678 / participants_age\", \"power_25691 / participants_age\", \"power_25781 / participants_age\", \"power_25826 / participants_age\", \"power_25838 / participants_age\", \"power_25873 / participants_age\", \"power_25902 / participants_age\", \"power_25905 / participants_age\", \"power_25907 / participants_age\", \"power_2591 / participants_age\", \"power_25910 / participants_age\", \"power_25979 / participants_age\", \"power_25996 / participants_age\", \"power_26020 / participants_age\", \"power_26062 / participants_age\", \"power_26066 / participants_age\", \"power_26085 / participants_age\", \"power_26112 / participants_age\", \"power_26133 / participants_age\", \"power_26171 / participants_age\", \"power_26228 / participants_age\", \"power_26240 / participants_age\", \"power_26362 / participants_age\", \"power_26486 / participants_age\", \"power_26502 / participants_age\", \"power_26576 / participants_age\", \"power_26592 / participants_age\", \"power_26692 / participants_age\", \"power_26762 / participants_age\", \"power_26769 / participants_age\", \"power_26777 / participants_age\", \"power_26787 / participants_age\", \"power_26814 / participants_age\", \"power_26823 / participants_age\", \"power_26824 / participants_age\", \"power_26827 / participants_age\", \"power_26836 / participants_age\", \"power_26890 / participants_age\", \"power_26965 / participants_age\", \"power_26983 / participants_age\", \"power_26990 / participants_age\", \"power_27014 / participants_age\", \"power_27055 / participants_age\", \"power_27057 / participants_age\", \"power_2706 / participants_age\", \"power_2707 / participants_age\", \"power_27102 / participants_age\", \"power_27120 / participants_age\", \"power_27198 / participants_age\", \"power_27200 / participants_age\", \"power_27215 / participants_age\", \"power_27222 / participants_age\", \"power_27249 / participants_age\", \"power_27278 / participants_age\", \"power_27354 / participants_age\", \"power_27374 / participants_age\", \"power_27393 / participants_age\", \"power_27396 / participants_age\", \"power_27398 / participants_age\", \"power_27438 / participants_age\", \"power_27463 / participants_age\", \"power_27481 / participants_age\", \"power_27483 / participants_age\", \"power_27494 / participants_age\", \"power_27512 / participants_age\", \"power_27516 / participants_age\", \"power_27525 / participants_age\", \"power_27529 / participants_age\", \"power_27534 / participants_age\", \"power_27658 / participants_age\", \"power_27699 / participants_age\", \"power_27704 / participants_age\", \"power_27720 / participants_age\", \"power_27751 / participants_age\", \"power_27760 / participants_age\", \"power_27764 / participants_age\", \"power_27767 / participants_age\", \"power_27903 / participants_age\", \"power_27983 / participants_age\", \"power_27993 / participants_age\", \"power_28006 / participants_age\", \"power_28009 / participants_age\", \"power_28035 / participants_age\", \"power_28039 / participants_age\", \"power_28046 / participants_age\", \"power_28062 / participants_age\", \"power_28066 / participants_age\", \"power_28086 / participants_age\", \"power_28104 / participants_age\", \"power_28109 / participants_age\", \"power_28113 / participants_age\", \"power_28123 / participants_age\", \"power_28124 / participants_age\", \"power_28129 / participants_age\", \"power_28132 / participants_age\", \"power_28138 / participants_age\", \"power_28199 / participants_age\", \"power_28205 / participants_age\", \"power_28259 / participants_age\", \"power_28283 / participants_age\", \"power_283 / participants_age\", \"power_28300 / participants_age\", \"power_28303 / participants_age\", \"power_28304 / participants_age\", \"power_28320 / participants_age\", \"power_28334 / participants_age\", \"power_28370 / participants_age\", \"power_2840 / participants_age\", \"power_28408 / participants_age\", \"power_28424 / participants_age\", \"power_28458 / participants_age\", \"power_28526 / participants_age\", \"power_28554 / participants_age\", \"power_28560 / participants_age\", \"power_28580 / participants_age\", \"power_2867 / participants_age\", \"power_28706 / participants_age\", \"power_28740 / participants_age\", \"power_28744 / participants_age\", \"power_2875 / participants_age\", \"power_28811 / participants_age\", \"power_28819 / participants_age\", \"power_28829 / participants_age\", \"power_28847 / participants_age\", \"power_28868 / participants_age\", \"power_28885 / participants_age\", \"power_28906 / participants_age\", \"power_28908 / participants_age\", \"power_28924 / participants_age\", \"power_2894 / participants_age\", \"power_28944 / participants_age\", \"power_28945 / participants_age\", \"power_28949 / participants_age\", \"power_28952 / participants_age\", \"power_2897 / participants_age\", \"power_28995 / participants_age\", \"power_29017 / participants_age\", \"power_29031 / participants_age\", \"power_29038 / participants_age\", \"power_29040 / participants_age\", \"power_29045 / participants_age\", \"power_29051 / participants_age\", \"power_29064 / participants_age\", \"power_29071 / participants_age\", \"power_29166 / participants_age\", \"power_29178 / participants_age\", \"power_29203 / participants_age\", \"power_29222 / participants_age\", \"power_29241 / participants_age\", \"power_2926 / participants_age\", \"power_2927 / participants_age\", \"power_29302 / participants_age\", \"power_2932 / participants_age\", \"power_2934 / participants_age\", \"power_29342 / participants_age\", \"power_2936 / participants_age\", \"power_29437 / participants_age\", \"power_2945 / participants_age\", \"power_29459 / participants_age\", \"power_2946 / participants_age\", \"power_29478 / participants_age\", \"power_2951 / participants_age\", \"power_29522 / participants_age\", \"power_2955 / participants_age\", \"power_2956 / participants_age\", \"power_2958 / participants_age\", \"power_2961 / participants_age\", \"power_29630 / participants_age\", \"power_29640 / participants_age\", \"power_29648 / participants_age\", \"power_29650 / participants_age\", \"power_29654 / participants_age\", \"power_29669 / participants_age\", \"power_29672 / participants_age\", \"power_2970 / participants_age\", \"power_2974 / participants_age\", \"power_29764 / participants_age\", \"power_29785 / participants_age\", \"power_29867 / participants_age\", \"power_29880 / participants_age\", \"power_29894 / participants_age\", \"power_29895 / participants_age\", \"power_2995 / participants_age\", \"power_29951 / participants_age\", \"power_29965 / participants_age\", \"power_30003 / participants_age\", \"power_30008 / participants_age\", \"power_30023 / participants_age\", \"power_30025 / participants_age\", \"power_3004 / participants_age\", \"power_30043 / participants_age\", \"power_30069 / participants_age\", \"power_30071 / participants_age\", \"power_30111 / participants_age\", \"power_30115 / participants_age\", \"power_30118 / participants_age\", \"power_30179 / participants_age\", \"power_30199 / participants_age\", \"power_30217 / participants_age\", \"power_30218 / participants_age\", \"power_30240 / participants_age\", \"power_30270 / participants_age\", \"power_30276 / participants_age\", \"power_30278 / participants_age\", \"power_3028 / participants_age\", \"power_30303 / participants_age\", \"power_30331 / participants_age\", \"power_30342 / participants_age\", \"power_30361 / participants_age\", \"power_30367 / participants_age\", \"power_30376 / participants_age\", \"power_30387 / participants_age\", \"power_30464 / participants_age\", \"power_30485 / participants_age\", \"power_30568 / participants_age\", \"power_30577 / participants_age\", \"power_30622 / participants_age\", \"power_30637 / participants_age\", \"power_30640 / participants_age\", \"power_30644 / participants_age\", \"power_30645 / participants_age\", \"power_30666 / participants_age\", \"power_30667 / participants_age\", \"power_30701 / participants_age\", \"power_30705 / participants_age\", \"power_30717 / participants_age\", \"power_30720 / participants_age\", \"power_30721 / participants_age\", \"power_30722 / participants_age\", \"power_30723 / participants_age\", \"power_30731 / participants_age\", \"power_30738 / participants_age\", \"power_30739 / participants_age\", \"power_30740 / participants_age\", \"power_30744 / participants_age\", \"power_30757 / participants_age\", \"power_30760 / participants_age\", \"power_30763 / participants_age\", \"power_30786 / participants_age\", \"power_30790 / participants_age\", \"power_30809 / participants_age\", \"power_30831 / participants_age\", \"power_30848 / participants_age\", \"power_30882 / participants_age\", \"power_30938 / participants_age\", \"power_30951 / participants_age\", \"power_30961 / participants_age\", \"power_3098 / participants_age\", \"power_30986 / participants_age\", \"power_30988 / participants_age\", \"power_31057 / participants_age\", \"power_311 / participants_age\", \"power_31291 / participants_age\", \"power_31299 / participants_age\", \"power_31306 / participants_age\", \"power_31308 / participants_age\", \"power_31316 / participants_age\", \"power_31318 / participants_age\", \"power_31364 / participants_age\", \"power_31386 / participants_age\", \"power_3142 / participants_age\", \"power_3143 / participants_age\", \"power_31439 / participants_age\", \"power_31441 / participants_age\", \"power_31444 / participants_age\", \"power_31452 / participants_age\", \"power_31490 / participants_age\", \"power_31501 / participants_age\", \"power_31511 / participants_age\", \"power_31540 / participants_age\", \"power_31558 / participants_age\", \"power_31579 / participants_age\", \"power_31620 / participants_age\", \"power_3163 / participants_age\", \"power_31687 / participants_age\", \"power_3169 / participants_age\", \"power_31706 / participants_age\", \"power_31707 / participants_age\", \"power_31717 / participants_age\", \"power_31731 / participants_age\", \"power_31739 / participants_age\", \"power_31748 / participants_age\", \"power_31758 / participants_age\", \"power_31795 / participants_age\", \"power_31854 / participants_age\", \"power_31870 / participants_age\", \"power_31939 / participants_age\", \"power_31953 / participants_age\", \"power_32008 / participants_age\", \"power_32013 / participants_age\", \"power_32022 / participants_age\", \"power_32025 / participants_age\", \"power_32033 / participants_age\", \"power_32047 / participants_age\", \"power_32058 / participants_age\", \"power_32064 / participants_age\", \"power_32068 / participants_age\", \"power_32078 / participants_age\", \"power_32102 / participants_age\", \"power_32111 / participants_age\", \"power_32119 / participants_age\", \"power_32177 / participants_age\", \"power_32250 / participants_age\", \"power_32252 / participants_age\", \"power_32268 / participants_age\", \"power_32298 / participants_age\", \"power_32301 / participants_age\", \"power_32336 / participants_age\", \"power_32345 / participants_age\", \"power_32346 / participants_age\", \"power_32347 / participants_age\", \"power_32372 / participants_age\", \"power_32496 / participants_age\", \"power_3251 / participants_age\", \"power_32515 / participants_age\", \"power_32559 / participants_age\", \"power_32643 / participants_age\", \"power_32644 / participants_age\", \"power_32650 / participants_age\", \"power_3266 / participants_age\", \"power_32719 / participants_age\", \"power_32732 / participants_age\", \"power_32734 / participants_age\", \"power_32744 / participants_age\", \"power_32745 / participants_age\", \"power_32748 / participants_age\", \"power_32750 / participants_age\", \"power_32764 / participants_age\", \"power_32782 / participants_age\", \"power_328 / participants_age\", \"power_32824 / participants_age\", \"power_32829 / participants_age\", \"power_32877 / participants_age\", \"power_32884 / participants_age\", \"power_32923 / participants_age\", \"power_32936 / participants_age\", \"power_3297 / participants_age\", \"power_32998 / participants_age\", \"power_33012 / participants_age\", \"power_33026 / participants_age\", \"power_33029 / participants_age\", \"power_33070 / participants_age\", \"power_33074 / participants_age\", \"power_33085 / participants_age\", \"power_33089 / participants_age\", \"power_33135 / participants_age\", \"power_33137 / participants_age\", \"power_33141 / participants_age\", \"power_33154 / participants_age\", \"power_33155 / participants_age\", \"power_3316 / participants_age\", \"power_33164 / participants_age\", \"power_3318 / participants_age\", \"power_33180 / participants_age\", \"power_33271 / participants_age\", \"power_33289 / participants_age\", \"power_33297 / participants_age\", \"power_33325 / participants_age\", \"power_33332 / participants_age\", \"power_33337 / participants_age\", \"power_33370 / participants_age\", \"power_33394 / participants_age\", \"power_33406 / participants_age\", \"power_33595 / participants_age\", \"power_33631 / participants_age\", \"power_33644 / participants_age\", \"power_33651 / participants_age\", \"power_33687 / participants_age\", \"power_33688 / participants_age\", \"power_33717 / participants_age\", \"power_3373 / participants_age\", \"power_33737 / participants_age\", \"power_33741 / participants_age\", \"power_33771 / participants_age\", \"power_33796 / participants_age\", \"power_33814 / participants_age\", \"power_33846 / participants_age\", \"power_33864 / participants_age\", \"power_33880 / participants_age\", \"power_33890 / participants_age\", \"power_33906 / participants_age\", \"power_33941 / participants_age\", \"power_33959 / participants_age\", \"power_3397 / participants_age\", \"power_34011 / participants_age\", \"power_34022 / participants_age\", \"power_34026 / participants_age\", \"power_34033 / participants_age\", \"power_34035 / participants_age\", \"power_34050 / participants_age\", \"power_34058 / participants_age\", \"power_3408 / participants_age\", \"power_34152 / participants_age\", \"power_34153 / participants_age\", \"power_34154 / participants_age\", \"power_34163 / participants_age\", \"power_34180 / participants_age\", \"power_34260 / participants_age\", \"power_343 / participants_age\", \"power_34330 / participants_age\", \"power_34334 / participants_age\", \"power_34358 / participants_age\", \"power_34370 / participants_age\", \"power_34372 / participants_age\", \"power_34396 / participants_age\", \"power_34419 / participants_age\", \"power_34452 / participants_age\", \"power_34454 / participants_age\", \"power_34548 / participants_age\", \"power_34553 / participants_age\", \"power_34572 / participants_age\", \"power_34579 / participants_age\", \"power_34582 / participants_age\", \"power_34589 / participants_age\", \"power_34631 / participants_age\", \"power_34633 / participants_age\", \"power_34656 / participants_age\", \"power_34694 / participants_age\", \"power_34714 / participants_age\", \"power_3479 / participants_age\", \"power_3488 / participants_age\", \"power_3538 / participants_age\", \"power_3576 / participants_age\", \"power_359 / participants_age\", \"power_3594 / participants_age\", \"power_3619 / participants_age\", \"power_3632 / participants_age\", \"power_3633 / participants_age\", \"power_3640 / participants_age\", \"power_3679 / participants_age\", \"power_3684 / participants_age\", \"power_3687 / participants_age\", \"power_37 / participants_age\", \"power_3730 / participants_age\", \"power_3822 / participants_age\", \"power_3940 / participants_age\", \"power_4077 / participants_age\", \"power_4081 / participants_age\", \"power_417 / participants_age\", \"power_4197 / participants_age\", \"power_4212 / participants_age\", \"power_4222 / participants_age\", \"power_4224 / participants_age\", \"power_4225 / participants_age\", \"power_4235 / participants_age\", \"power_4240 / participants_age\", \"power_4280 / participants_age\", \"power_4336 / participants_age\", \"power_436 / participants_age\", \"power_4364 / participants_age\", \"power_4395 / participants_age\", \"power_4402 / participants_age\", \"power_4425 / participants_age\", \"power_445 / participants_age\", \"power_4478 / participants_age\", \"power_451 / participants_age\", \"power_4517 / participants_age\", \"power_4528 / participants_age\", \"power_4547 / participants_age\", \"power_4569 / participants_age\", \"power_46 / participants_age\", \"power_4618 / participants_age\", \"power_4637 / participants_age\", \"power_4712 / participants_age\", \"power_4713 / participants_age\", \"power_4740 / participants_age\", \"power_4796 / participants_age\", \"power_4853 / participants_age\", \"power_4858 / participants_age\", \"power_4862 / participants_age\", \"power_4867 / participants_age\", \"power_497 / participants_age\", \"power_499 / participants_age\", \"power_5034 / participants_age\", \"power_5038 / participants_age\", \"power_5067 / participants_age\", \"power_5106 / participants_age\", \"power_5121 / participants_age\", \"power_5186 / participants_age\", \"power_5207 / participants_age\", \"power_5249 / participants_age\", \"power_5320 / participants_age\", \"power_5367 / participants_age\", \"power_541 / participants_age\", \"power_5466 / participants_age\", \"power_5558 / participants_age\", \"power_5569 / participants_age\", \"power_5576 / participants_age\", \"power_561 / participants_age\", \"power_5675 / participants_age\", \"power_5682 / participants_age\", \"power_5690 / participants_age\", \"power_5696 / participants_age\", \"power_5703 / participants_age\", \"power_5723 / participants_age\", \"power_5726 / participants_age\", \"power_5768 / participants_age\", \"power_5781 / participants_age\", \"power_5782 / participants_age\", \"power_5789 / participants_age\", \"power_5894 / participants_age\", \"power_5897 / participants_age\", \"power_5911 / participants_age\", \"power_5917 / participants_age\", \"power_5933 / participants_age\", \"power_5946 / participants_age\", \"power_5999 / participants_age\", \"power_6006 / participants_age\", \"power_6076 / participants_age\", \"power_6107 / participants_age\", \"power_6112 / participants_age\", \"power_6157 / participants_age\", \"power_6186 / participants_age\", \"power_62 / participants_age\", \"power_6207 / participants_age\", \"power_6297 / participants_age\", \"power_6318 / participants_age\", \"power_633 / participants_age\", \"power_6332 / participants_age\", \"power_6333 / participants_age\", \"power_6334 / participants_age\", \"power_64 / participants_age\", \"power_6403 / participants_age\", \"power_6404 / participants_age\", \"power_6443 / participants_age\", \"power_6452 / participants_age\", \"power_648 / participants_age\", \"power_6502 / participants_age\", \"power_6559 / participants_age\", \"power_6601 / participants_age\", \"power_6603 / participants_age\", \"power_6604 / participants_age\", \"power_6607 / participants_age\", \"power_6608 / participants_age\", \"power_6616 / participants_age\", \"power_6622 / participants_age\", \"power_6624 / participants_age\", \"power_6630 / participants_age\", \"power_6658 / participants_age\", \"power_6661 / participants_age\", \"power_6663 / participants_age\", \"power_6664 / participants_age\", \"power_6693 / participants_age\", \"power_6710 / participants_age\", \"power_672 / participants_age\", \"power_6812 / participants_age\", \"power_6816 / participants_age\", \"power_6825 / participants_age\", \"power_6867 / participants_age\", \"power_6906 / participants_age\", \"power_6915 / participants_age\", \"power_6945 / participants_age\", \"power_6950 / participants_age\", \"power_6951 / participants_age\", \"power_6953 / participants_age\", \"power_6955 / participants_age\", \"power_6957 / participants_age\", \"power_7040 / participants_age\", \"power_7046 / participants_age\", \"power_7110 / participants_age\", \"power_7188 / participants_age\", \"power_7196 / participants_age\", \"power_7205 / participants_age\", \"power_7215 / participants_age\", \"power_7257 / participants_age\", \"power_7285 / participants_age\", \"power_729 / participants_age\", \"power_7320 / participants_age\", \"power_7332 / participants_age\", \"power_737 / participants_age\", \"power_7382 / participants_age\", \"power_739 / participants_age\", \"power_7391 / participants_age\", \"power_7419 / participants_age\", \"power_7440 / participants_age\", \"power_7453 / participants_age\", \"power_7474 / participants_age\", \"power_7482 / participants_age\", \"power_7529 / participants_age\", \"power_7558 / participants_age\", \"power_7562 / participants_age\", \"power_7622 / participants_age\", \"power_7668 / participants_age\", \"power_7682 / participants_age\", \"power_7714 / participants_age\", \"power_7752 / participants_age\", \"power_7869 / participants_age\", \"power_789 / participants_age\", \"power_7893 / participants_age\", \"power_7898 / participants_age\", \"power_7917 / participants_age\", \"power_7923 / participants_age\", \"power_7924 / participants_age\", \"power_7927 / participants_age\", \"power_7938 / participants_age\", \"power_7961 / participants_age\", \"power_7967 / participants_age\", \"power_7969 / participants_age\", \"power_7981 / participants_age\", \"power_7994 / participants_age\", \"power_8045 / participants_age\", \"power_8099 / participants_age\", \"power_8106 / participants_age\", \"power_8112 / participants_age\", \"power_8205 / participants_age\", \"power_8253 / participants_age\", \"power_8275 / participants_age\", \"power_8288 / participants_age\", \"power_8321 / participants_age\", \"power_8349 / participants_age\", \"power_8376 / participants_age\", \"power_8415 / participants_age\", \"power_8451 / participants_age\", \"power_8453 / participants_age\", \"power_8462 / participants_age\", \"power_8483 / participants_age\", \"power_8517 / participants_age\", \"power_8518 / participants_age\", \"power_8590 / participants_age\", \"power_8596 / participants_age\", \"power_8611 / participants_age\", \"power_8619 / participants_age\", \"power_8620 / participants_age\", \"power_8631 / participants_age\", \"power_8642 / participants_age\", \"power_8704 / participants_age\", \"power_8705 / participants_age\", \"power_8772 / participants_age\", \"power_882 / participants_age\", \"power_8863 / participants_age\", \"power_888 / participants_age\", \"power_8887 / participants_age\", \"power_8924 / participants_age\", \"power_8937 / participants_age\", \"power_8960 / participants_age\", \"power_8967 / participants_age\", \"power_8971 / participants_age\", \"power_9037 / participants_age\", \"power_9209 / participants_age\", \"power_9212 / participants_age\", \"power_9255 / participants_age\", \"power_9267 / participants_age\", \"power_9269 / participants_age\", \"power_9291 / participants_age\", \"power_9328 / participants_age\", \"power_9333 / participants_age\", \"power_9347 / participants_age\", \"power_9377 / participants_age\", \"power_9429 / participants_age\", \"power_9458 / participants_age\", \"power_9459 / participants_age\", \"power_9471 / participants_age\", \"power_9482 / participants_age\", \"power_9503 / participants_age\", \"power_9514 / participants_age\", \"power_9529 / participants_age\", \"power_953 / participants_age\", \"power_9539 / participants_age\", \"power_9548 / participants_age\", \"power_9550 / participants_age\", \"power_9552 / participants_age\", \"power_9556 / participants_age\", \"power_9564 / participants_age\", \"power_9570 / participants_age\", \"power_9580 / participants_age\", \"power_9672 / participants_age\", \"power_9711 / participants_age\", \"power_9791 / participants_age\", \"power_9808 / participants_age\", \"power_9812 / participants_age\", \"power_9829 / participants_age\", \"power_9887 / participants_age\", \"power_9947 / participants_age\", \"power_9973 / participants_age\", \"power_9976 / participants_age\", \"power_9977 / participants_age\", ]\n",
    "\n",
    "\n",
    "\n",
    "\n",
    "verbose = False\n",
    "path = \"..\"\n",
    "\n",
    "\n",
    "class FeatureExtractor(BaseEstimator, TransformerMixin):\n",
    "        \n",
    "    def fit(self, x_df, y):\n",
    "        return self\n",
    "\n",
    "    def transform(self, x_df):\n",
    "        new_x_df = get_transformed_features(x_df)\n",
    "        return new_x_df\n",
    "\n",
    "\n",
    "def get_transformed_features(x_df):\n",
    "\n",
    "    participant_cols = ['participants_age', 'participants_sex']\n",
    "    if verbose: print(\"- participant_cols : {}\".format(len(participant_cols)))\n",
    "\n",
    "    new_x_df = x_df[participant_cols + ['fmri_select', 'fmri_motions', 'fmri_power_2011']].copy()    \n",
    "    if verbose: print(\"-- get_transformed_features : {} --- \".format(new_x_df.shape))    \n",
    "        \n",
    "    # add plain index to remove properly poor QA samples\n",
    "    new_x_df.loc[:, 'index'] = np.arange(len(new_x_df))\n",
    "    accepted_anatomy = new_x_df['fmri_select'] > 0\n",
    "        \n",
    "    _transform_participant_gender(new_x_df)\n",
    "    \n",
    "    connectome_df = _get_power_2011_connectome(new_x_df)\n",
    "    power_features = connectome_df.columns.values.tolist()\n",
    "    new_x_df = pd.concat([new_x_df, connectome_df], axis=1)\n",
    "    \n",
    "    train_columns = []\n",
    "    \n",
    "    # Compute pairs on the most important first degree features:\n",
    "    pairs_df = _get_feature_pairs(new_x_df, power_features)\n",
    "    pairs_columns = pairs_df.columns.values.tolist()\n",
    "    if verbose: print(\"- pairs_columns : {}\".format(len(pairs_columns)))\n",
    "\n",
    "    new_x_df = pd.concat([new_x_df, pairs_df], axis=1)\n",
    "    if verbose: print(\"-> with pairs: {}\".format(new_x_df.shape))\n",
    "    \n",
    "    train_columns += f2_columns\n",
    "    return new_x_df[train_columns + ['fmri_select', 'index', ]]\n",
    "\n",
    "\n",
    "def _transform_participant_gender(x_df):\n",
    "    if x_df['participants_sex'].dtype != np.float64:\n",
    "        x_df.loc[:, 'participants_sex'] = x_df['participants_sex'].map({'F': -1.0, 'M': +1.0})\n",
    "\n",
    "\n",
    "def _get_power_2011_connectome(x_df):    \n",
    "    data_ = np.zeros((len(x_df), 34716))\n",
    "    ll = len(x_df.index)\n",
    "    for i, idx in enumerate(x_df.index):\n",
    "        path_motions = os.path.join(path, x_df.loc[idx, 'fmri_motions'])\n",
    "        confounds = np.loadtxt(path_motions)\n",
    "        path_fmri_atlas = os.path.join(path, x_df.loc[idx, 'fmri_power_2011'])\n",
    "        timeseries = pd.read_csv(path_fmri_atlas, header=None).values\n",
    "        cleaned_timeseries = clean(timeseries, confounds=confounds)\n",
    "        correlation_matrix = correlation_measure.fit_transform([cleaned_timeseries])[0]\n",
    "        data_[i, :] = correlation_matrix\n",
    "\n",
    "    power_features = [\"power_{}\".format(i) for i in range(data_.shape[1])]\n",
    "    return pd.DataFrame(data_, index=x_df.index, columns=power_features)\n",
    "\n",
    "\n",
    "def _get_feature_pairs(x_df, power_features):\n",
    "    \n",
    "    data_ = np.zeros((len(x_df), len(power_features) * 2))\n",
    "    pairs_columns = []\n",
    "\n",
    "    for i, name in enumerate(power_features):\n",
    "        new_col = \"{} x participants_age\".format(name)\n",
    "        pairs_columns.append(new_col)\n",
    "        data_[:, 2*i] = x_df[name] * x_df['participants_age']\n",
    "        new_col = \"{} / participants_age\".format(name)\n",
    "        pairs_columns.append(new_col)\n",
    "        data_[:, 2*i + 1] = x_df[name] / x_df['participants_age']\n",
    "\n",
    "    pairs_df = pd.DataFrame(data_, columns=pairs_columns, index=x_df.index)\n",
    "    return pairs_df\n"
   ]
  },
  {
   "cell_type": "code",
   "execution_count": null,
   "metadata": {},
   "outputs": [],
   "source": []
  },
  {
   "cell_type": "code",
   "execution_count": 20,
   "metadata": {},
   "outputs": [],
   "source": [
    "data_train = pd.concat([data_train_, pd.Series(labels_train_, index=data_train_.index, name='target')], axis=1)\n",
    "data_test = pd.concat([data_test_, pd.Series(labels_test_, index=data_test_.index, name='target')], axis=1)\n",
    "\n",
    "data_train.loc[:, 'is_train'] = 1\n",
    "data_test.loc[:, 'is_train'] = 0\n",
    "\n",
    "data = pd.concat([data_train, data_test], axis=0)\n",
    "\n",
    "accepted_anatomy = data['fmri_select'].isin([1, 2])\n",
    "data1 = data[accepted_anatomy].copy()"
   ]
  },
  {
   "cell_type": "code",
   "execution_count": 8,
   "metadata": {},
   "outputs": [],
   "source": [
    "# connectome_df = _get_power_2011_connectome(data1)"
   ]
  },
  {
   "cell_type": "code",
   "execution_count": 23,
   "metadata": {},
   "outputs": [
    {
     "name": "stdout",
     "output_type": "stream",
     "text": [
      "- participant_cols : 2\n",
      "-- get_transformed_features : (1029, 5) --- \n",
      "- pairs_columns : 69432\n",
      "-> with pairs: (1029, 104154)\n"
     ]
    }
   ],
   "source": [
    "new_x_df = get_transformed_features(data1)"
   ]
  },
  {
   "cell_type": "code",
   "execution_count": 24,
   "metadata": {},
   "outputs": [
    {
     "data": {
      "text/plain": [
       "(1029, 1730)"
      ]
     },
     "execution_count": 24,
     "metadata": {},
     "output_type": "execute_result"
    }
   ],
   "source": [
    "new_x_df.shape"
   ]
  },
  {
   "cell_type": "code",
   "execution_count": null,
   "metadata": {},
   "outputs": [],
   "source": []
  },
  {
   "cell_type": "code",
   "execution_count": 25,
   "metadata": {},
   "outputs": [],
   "source": [
    "from sklearn.pipeline import make_pipeline\n",
    "from sklearn.model_selection import cross_validate\n",
    "from problem import get_cv\n",
    "\n",
    "def public_evaluation(X, y):\n",
    "    pipe = make_pipeline(FeatureExtractor(), Classifier())\n",
    "    cv = get_cv(X, y)\n",
    "    results = cross_validate(pipe, X, y, scoring=['roc_auc', 'accuracy'], cv=cv,\n",
    "                             verbose=1, return_train_score=True,\n",
    "                             n_jobs=1)\n",
    "    \n",
    "    return results"
   ]
  },
  {
   "cell_type": "code",
   "execution_count": 26,
   "metadata": {},
   "outputs": [],
   "source": [
    "from sklearn.pipeline import make_pipeline\n",
    "from sklearn.model_selection import cross_validate, StratifiedShuffleSplit\n",
    "\n",
    "\n",
    "def custom_evaluation(X, y):        \n",
    "    pipe = make_pipeline(FeatureExtractor(), Classifier())\n",
    "    cv = StratifiedShuffleSplit(n_splits=10, test_size=0.5, random_state=42).split(X, y)\n",
    "    results = cross_validate(pipe, X, y, scoring=['roc_auc', 'accuracy'], cv=cv,\n",
    "                             verbose=1, return_train_score=True,\n",
    "                             n_jobs=1)\n",
    "    \n",
    "    return results"
   ]
  },
  {
   "cell_type": "code",
   "execution_count": 30,
   "metadata": {},
   "outputs": [],
   "source": [
    "from sklearn.base import BaseEstimator\n",
    "from sklearn.preprocessing import StandardScaler\n",
    "from sklearn.linear_model import LogisticRegression\n",
    "from sklearn.pipeline import make_pipeline\n",
    "from sklearn.linear_model import LogisticRegressionCV, LogisticRegression\n",
    "seed = 90\n",
    "        \n",
    "\n",
    "class Classifier(BaseEstimator):\n",
    "    def __init__(self):\n",
    "        self.clf = None\n",
    "\n",
    "    def fit(self, X, y):\n",
    "                \n",
    "        columns = X.columns.values.tolist()\n",
    "        columns.remove('fmri_select')\n",
    "        columns.remove('index')        \n",
    "        \n",
    "        accepted_fmri = X['fmri_select'] > 0\n",
    "        accepted_fmri_indices = X.loc[accepted_fmri, 'index'].values\n",
    "        X = X.loc[accepted_fmri, columns]\n",
    "        y = y[accepted_fmri_indices]\n",
    "                \n",
    "        pipe_cv = make_pipeline(\n",
    "            StandardScaler(),\n",
    "            LogisticRegressionCV(n_jobs=8,\n",
    "                                 # cv=StratifiedKFold(n_splits=5, random_state=seed),                                                    \n",
    "                                 scoring=\"roc_auc\", \n",
    "                                 solver='liblinear',\n",
    "                                 random_state=seed))\n",
    "        pipe_cv.fit(X, y)\n",
    "        best_C = pipe_cv.named_steps['logisticregressioncv'].C_[0]\n",
    "        self.clf = make_pipeline(\n",
    "            StandardScaler(),\n",
    "            LogisticRegression(C=best_C, \n",
    "                               solver='liblinear',\n",
    "                               random_state=seed)\n",
    "        )\n",
    "        self.clf.fit(X, y)\n",
    "        return self\n",
    "        \n",
    "    def predict(self, X):\n",
    "        columns = X.columns.values.tolist()\n",
    "        columns.remove('fmri_select')\n",
    "        columns.remove('index')        \n",
    "        X = X.loc[:, columns]\n",
    "        return self.clf.predict(X)\n",
    "\n",
    "    def predict_proba(self, X):\n",
    "        columns = X.columns.values.tolist()\n",
    "        columns.remove('fmri_select')\n",
    "        columns.remove('index')        \n",
    "        X = X.loc[:, columns]        \n",
    "        return self.clf.predict_proba(X)"
   ]
  },
  {
   "cell_type": "code",
   "execution_count": 33,
   "metadata": {
    "scrolled": false
   },
   "outputs": [
    {
     "name": "stdout",
     "output_type": "stream",
     "text": [
      "Training score ROC-AUC: 0.983 +- 0.006\n",
      "Validation score ROC-AUC: 0.973 +- 0.006 \n",
      "\n",
      "Training score accuracy: 0.952 +- 0.007\n",
      "Validation score accuracy: 0.940 +- 0.009\n"
     ]
    },
    {
     "name": "stderr",
     "output_type": "stream",
     "text": [
      "[Parallel(n_jobs=1)]: Done  10 out of  10 | elapsed: 21.9min finished\n"
     ]
    }
   ],
   "source": [
    "import numpy as np\n",
    "\n",
    "results = custom_evaluation(data_train_, labels_train_)\n",
    "\n",
    "print(\"Training score ROC-AUC: {:.3f} +- {:.3f}\".format(np.mean(results['train_roc_auc']),\n",
    "                                                        np.std(results['train_roc_auc'])))\n",
    "print(\"Validation score ROC-AUC: {:.3f} +- {:.3f} \\n\".format(np.mean(results['test_roc_auc']),\n",
    "                                                          np.std(results['test_roc_auc'])))\n",
    "\n",
    "print(\"Training score accuracy: {:.3f} +- {:.3f}\".format(np.mean(results['train_accuracy']),\n",
    "                                                         np.std(results['train_accuracy'])))\n",
    "print(\"Validation score accuracy: {:.3f} +- {:.3f}\".format(np.mean(results['test_accuracy']),\n",
    "                                                           np.std(results['test_accuracy'])))"
   ]
  },
  {
   "cell_type": "markdown",
   "metadata": {},
   "source": [
    "\n",
    "-0.011 0.011 | 833+895\n",
    "```\n",
    "Training score ROC-AUC: 0.983 +- 0.006\n",
    "Validation score ROC-AUC: 0.973 +- 0.006 \n",
    "\n",
    "Training score accuracy: 0.952 +- 0.007\n",
    "Validation score accuracy: 0.940 +- 0.009\n",
    "```\n",
    "\n",
    "\n",
    "\n",
    "#### Anatomy based model reference\n",
    "\n",
    "f1+f2+f3\n",
    "```\n",
    "Training score ROC-AUC: 0.975 +- 0.005\n",
    "Validation score ROC-AUC: 0.933 +- 0.014 \n",
    "\n",
    "Training score accuracy: 0.954 +- 0.008\n",
    "Validation score accuracy: 0.895 +- 0.013\n",
    "```\n",
    "\n",
    "\n",
    "f2+f3\n",
    "```\n",
    "Training score ROC-AUC: 0.975 +- 0.005\n",
    "Validation score ROC-AUC: 0.933 +- 0.014 \n",
    "\n",
    "Training score accuracy: 0.955 +- 0.008\n",
    "Validation score accuracy: 0.894 +- 0.014\n",
    "```\n"
   ]
  },
  {
   "cell_type": "code",
   "execution_count": null,
   "metadata": {},
   "outputs": [],
   "source": []
  },
  {
   "cell_type": "code",
   "execution_count": 105,
   "metadata": {},
   "outputs": [
    {
     "name": "stdout",
     "output_type": "stream",
     "text": [
      "\u001b[38;5;178m\u001b[1mTesting Autism Spectrum Disorder classification\u001b[0m\n",
      "\u001b[38;5;178m\u001b[1mReading train and test files from ./data ...\u001b[0m\n",
      "\u001b[38;5;178m\u001b[1mReading cv ...\u001b[0m\n",
      "\u001b[38;5;178m\u001b[1mTraining ./submissions/fmri_power_age ...\u001b[0m\n",
      "\u001b[38;5;178m\u001b[1mCV fold 0\u001b[0m\n",
      "\t\u001b[38;5;178m\u001b[1mscore    auc    acc\u001b[0m\n",
      "\t\u001b[38;5;10m\u001b[1mtrain\u001b[0m  \u001b[38;5;10m\u001b[1m0.984\u001b[0m  \u001b[38;5;150m0.956\u001b[0m\n",
      "\t\u001b[38;5;12m\u001b[1mvalid\u001b[0m  \u001b[38;5;12m\u001b[1m0.972\u001b[0m  \u001b[38;5;105m0.934\u001b[0m\n",
      "\t\u001b[38;5;1m\u001b[1mtest\u001b[0m   \u001b[38;5;1m\u001b[1m0.538\u001b[0m  \u001b[38;5;218m0.522\u001b[0m\n",
      "\u001b[38;5;178m\u001b[1mCV fold 1\u001b[0m\n",
      "\t\u001b[38;5;178m\u001b[1mscore    auc    acc\u001b[0m\n",
      "\t\u001b[38;5;10m\u001b[1mtrain\u001b[0m  \u001b[38;5;10m\u001b[1m0.980\u001b[0m  \u001b[38;5;150m0.949\u001b[0m\n",
      "\t\u001b[38;5;12m\u001b[1mvalid\u001b[0m  \u001b[38;5;12m\u001b[1m0.983\u001b[0m  \u001b[38;5;105m0.947\u001b[0m\n",
      "\t\u001b[38;5;1m\u001b[1mtest\u001b[0m   \u001b[38;5;1m\u001b[1m0.545\u001b[0m  \u001b[38;5;218m0.565\u001b[0m\n",
      "\u001b[38;5;178m\u001b[1mCV fold 2\u001b[0m\n",
      "\t\u001b[38;5;178m\u001b[1mscore    auc    acc\u001b[0m\n",
      "\t\u001b[38;5;10m\u001b[1mtrain\u001b[0m  \u001b[38;5;10m\u001b[1m0.984\u001b[0m  \u001b[38;5;150m0.957\u001b[0m\n",
      "\t\u001b[38;5;12m\u001b[1mvalid\u001b[0m  \u001b[38;5;12m\u001b[1m0.967\u001b[0m  \u001b[38;5;105m0.938\u001b[0m\n",
      "\t\u001b[38;5;1m\u001b[1mtest\u001b[0m   \u001b[38;5;1m\u001b[1m0.508\u001b[0m  \u001b[38;5;218m0.522\u001b[0m\n",
      "\u001b[38;5;178m\u001b[1mCV fold 3\u001b[0m\n",
      "\t\u001b[38;5;178m\u001b[1mscore    auc    acc\u001b[0m\n",
      "\t\u001b[38;5;10m\u001b[1mtrain\u001b[0m  \u001b[38;5;10m\u001b[1m0.982\u001b[0m  \u001b[38;5;150m0.960\u001b[0m\n",
      "\t\u001b[38;5;12m\u001b[1mvalid\u001b[0m  \u001b[38;5;12m\u001b[1m0.966\u001b[0m  \u001b[38;5;105m0.920\u001b[0m\n",
      "\t\u001b[38;5;1m\u001b[1mtest\u001b[0m   \u001b[38;5;1m\u001b[1m0.515\u001b[0m  \u001b[38;5;218m0.478\u001b[0m\n",
      "\u001b[38;5;178m\u001b[1mCV fold 4\u001b[0m\n",
      "\t\u001b[38;5;178m\u001b[1mscore    auc    acc\u001b[0m\n",
      "\t\u001b[38;5;10m\u001b[1mtrain\u001b[0m  \u001b[38;5;10m\u001b[1m0.978\u001b[0m  \u001b[38;5;150m0.950\u001b[0m\n",
      "\t\u001b[38;5;12m\u001b[1mvalid\u001b[0m  \u001b[38;5;12m\u001b[1m0.992\u001b[0m  \u001b[38;5;105m0.947\u001b[0m\n",
      "\t\u001b[38;5;1m\u001b[1mtest\u001b[0m   \u001b[38;5;1m\u001b[1m0.508\u001b[0m  \u001b[38;5;218m0.478\u001b[0m\n",
      "\u001b[38;5;178m\u001b[1mCV fold 5\u001b[0m\n",
      "\t\u001b[38;5;178m\u001b[1mscore    auc    acc\u001b[0m\n",
      "\t\u001b[38;5;10m\u001b[1mtrain\u001b[0m  \u001b[38;5;10m\u001b[1m0.986\u001b[0m  \u001b[38;5;150m0.952\u001b[0m\n",
      "\t\u001b[38;5;12m\u001b[1mvalid\u001b[0m  \u001b[38;5;12m\u001b[1m0.973\u001b[0m  \u001b[38;5;105m0.942\u001b[0m\n",
      "\t\u001b[38;5;1m\u001b[1mtest\u001b[0m   \u001b[38;5;1m\u001b[1m0.523\u001b[0m  \u001b[38;5;218m0.478\u001b[0m\n",
      "\u001b[38;5;178m\u001b[1mCV fold 6\u001b[0m\n",
      "\t\u001b[38;5;178m\u001b[1mscore    auc    acc\u001b[0m\n",
      "\t\u001b[38;5;10m\u001b[1mtrain\u001b[0m  \u001b[38;5;10m\u001b[1m0.984\u001b[0m  \u001b[38;5;150m0.957\u001b[0m\n",
      "\t\u001b[38;5;12m\u001b[1mvalid\u001b[0m  \u001b[38;5;12m\u001b[1m0.976\u001b[0m  \u001b[38;5;105m0.942\u001b[0m\n",
      "\t\u001b[38;5;1m\u001b[1mtest\u001b[0m   \u001b[38;5;1m\u001b[1m0.508\u001b[0m  \u001b[38;5;218m0.522\u001b[0m\n",
      "\u001b[38;5;178m\u001b[1mCV fold 7\u001b[0m\n",
      "\t\u001b[38;5;178m\u001b[1mscore    auc    acc\u001b[0m\n",
      "\t\u001b[38;5;10m\u001b[1mtrain\u001b[0m  \u001b[38;5;10m\u001b[1m0.982\u001b[0m  \u001b[38;5;150m0.956\u001b[0m\n",
      "\t\u001b[38;5;12m\u001b[1mvalid\u001b[0m  \u001b[38;5;12m\u001b[1m0.976\u001b[0m  \u001b[38;5;105m0.942\u001b[0m\n",
      "\t\u001b[38;5;1m\u001b[1mtest\u001b[0m   \u001b[38;5;1m\u001b[1m0.492\u001b[0m  \u001b[38;5;218m0.522\u001b[0m\n",
      "\u001b[38;5;178m\u001b[1m----------------------------\u001b[0m\n",
      "\u001b[38;5;178m\u001b[1mMean CV scores\u001b[0m\n",
      "\u001b[38;5;178m\u001b[1m----------------------------\u001b[0m\n",
      "\t\u001b[38;5;178m\u001b[1mscore             auc             acc\u001b[0m\n",
      "\t\u001b[38;5;10m\u001b[1mtrain\u001b[0m  \u001b[38;5;10m\u001b[1m0.983\u001b[0m \u001b[38;5;150m\u001b[38;5;150m±\u001b[0m\u001b[0m \u001b[38;5;150m0.0024\u001b[0m  \u001b[38;5;150m0.954\u001b[0m \u001b[38;5;150m\u001b[38;5;150m±\u001b[0m\u001b[0m \u001b[38;5;150m0.0035\u001b[0m\n",
      "\t\u001b[38;5;12m\u001b[1mvalid\u001b[0m   \u001b[38;5;12m\u001b[1m0.976\u001b[0m \u001b[38;5;105m\u001b[38;5;105m±\u001b[0m\u001b[0m \u001b[38;5;105m0.008\u001b[0m  \u001b[38;5;105m0.939\u001b[0m \u001b[38;5;105m\u001b[38;5;105m±\u001b[0m\u001b[0m \u001b[38;5;105m0.008\u001b[0m2\n",
      "\t\u001b[38;5;1m\u001b[1mtest\u001b[0m   \u001b[38;5;1m\u001b[1m0.517\u001b[0m \u001b[38;5;218m\u001b[38;5;218m±\u001b[0m\u001b[0m \u001b[38;5;218m0.0164\u001b[0m  \u001b[38;5;218m0.511\u001b[0m \u001b[38;5;218m\u001b[38;5;218m±\u001b[0m\u001b[0m \u001b[38;5;218m0.0288\u001b[0m\n",
      "\u001b[38;5;178m\u001b[1m----------------------------\u001b[0m\n",
      "\u001b[38;5;178m\u001b[1mBagged scores\u001b[0m\n",
      "\u001b[38;5;178m\u001b[1m----------------------------\u001b[0m\n",
      "\t\u001b[38;5;178m\u001b[1mscore    auc\u001b[0m\n",
      "\t\u001b[38;5;12m\u001b[1mvalid\u001b[0m  \u001b[38;5;12m\u001b[1m0.978\u001b[0m\n",
      "\t\u001b[38;5;1m\u001b[1mtest\u001b[0m   \u001b[38;5;1m\u001b[1m0.530\u001b[0m\n"
     ]
    }
   ],
   "source": [
    "!cd ../ && ramp_test_submission --submission fmri_power_age"
   ]
  },
  {
   "cell_type": "code",
   "execution_count": null,
   "metadata": {},
   "outputs": [],
   "source": []
  },
  {
   "cell_type": "code",
   "execution_count": null,
   "metadata": {},
   "outputs": [],
   "source": []
  },
  {
   "cell_type": "code",
   "execution_count": null,
   "metadata": {},
   "outputs": [],
   "source": []
  },
  {
   "cell_type": "code",
   "execution_count": null,
   "metadata": {},
   "outputs": [],
   "source": []
  },
  {
   "cell_type": "code",
   "execution_count": 34,
   "metadata": {
    "scrolled": true
   },
   "outputs": [
    {
     "name": "stdout",
     "output_type": "stream",
     "text": [
      "Training score ROC-AUC: 0.983 +- 0.002\n",
      "Validation score ROC-AUC: 0.976 +- 0.008 \n",
      "\n",
      "Training score accuracy: 0.954 +- 0.004\n",
      "Validation score accuracy: 0.939 +- 0.008\n"
     ]
    },
    {
     "name": "stderr",
     "output_type": "stream",
     "text": [
      "[Parallel(n_jobs=1)]: Done   8 out of   8 | elapsed: 19.0min finished\n"
     ]
    }
   ],
   "source": [
    "import numpy as np\n",
    "\n",
    "results = public_evaluation(data_train_, labels_train_)\n",
    "\n",
    "print(\"Training score ROC-AUC: {:.3f} +- {:.3f}\".format(np.mean(results['train_roc_auc']),\n",
    "                                                        np.std(results['train_roc_auc'])))\n",
    "print(\"Validation score ROC-AUC: {:.3f} +- {:.3f} \\n\".format(np.mean(results['test_roc_auc']),\n",
    "                                                          np.std(results['test_roc_auc'])))\n",
    "\n",
    "print(\"Training score accuracy: {:.3f} +- {:.3f}\".format(np.mean(results['train_accuracy']),\n",
    "                                                         np.std(results['train_accuracy'])))\n",
    "print(\"Validation score accuracy: {:.3f} +- {:.3f}\".format(np.mean(results['test_accuracy']),\n",
    "                                                           np.std(results['test_accuracy'])))"
   ]
  },
  {
   "cell_type": "code",
   "execution_count": null,
   "metadata": {},
   "outputs": [],
   "source": []
  },
  {
   "cell_type": "code",
   "execution_count": null,
   "metadata": {},
   "outputs": [],
   "source": []
  },
  {
   "cell_type": "code",
   "execution_count": null,
   "metadata": {},
   "outputs": [],
   "source": []
  },
  {
   "cell_type": "markdown",
   "metadata": {},
   "source": [
    "### Check generalization ability"
   ]
  },
  {
   "cell_type": "code",
   "execution_count": 35,
   "metadata": {},
   "outputs": [
    {
     "data": {
      "text/plain": [
       "(1127, 23)"
      ]
     },
     "execution_count": 35,
     "metadata": {},
     "output_type": "execute_result"
    }
   ],
   "source": [
    "len(data_train_), len(data_test_)"
   ]
  },
  {
   "cell_type": "code",
   "execution_count": 100,
   "metadata": {},
   "outputs": [],
   "source": [
    "from sklearn.model_selection import StratifiedShuffleSplit\n",
    "from sklearn.metrics import roc_auc_score, accuracy_score, recall_score, confusion_matrix"
   ]
  },
  {
   "cell_type": "code",
   "execution_count": 103,
   "metadata": {
    "scrolled": false
   },
   "outputs": [
    {
     "name": "stdout",
     "output_type": "stream",
     "text": [
      "\n",
      "--- Trial 1\n",
      "\tfemale+male : [143 557]\n",
      "\tbackground+target : [365 335]\n",
      "\tROC [M, F] test=(0.9219950834519341, 0.9632281553398059)\n",
      "\tAcc [M, F] test=(0.9228007181328546, 0.958041958041958)\n",
      "\tRecall [M, F] test=[0.92054795 0.94029851]\n",
      "\tConfusion matrix test = 336 29 | 20 315\n",
      "\n",
      "--- Trial 2\n",
      "\tfemale+male : [142 558]\n",
      "\tbackground+target : [365 335]\n",
      "\tROC [M, F] test=(0.9046577457539887, 0.9170675830469646)\n",
      "\tAcc [M, F] test=(0.9050179211469535, 0.9436619718309859)\n",
      "\tRecall [M, F] test=[0.92054795 0.90447761]\n",
      "\tConfusion matrix test = 336 29 | 32 303\n",
      "\n",
      "--- Trial 3\n",
      "\tfemale+male : [144 556]\n",
      "\tbackground+target : [365 335]\n",
      "\tROC [M, F] test=(0.9206898787525125, 0.9231818181818181)\n",
      "\tAcc [M, F] test=(0.920863309352518, 0.9375)\n",
      "\tRecall [M, F] test=[0.92876712 0.91940299]\n",
      "\tConfusion matrix test = 339 26 | 27 308\n",
      "\n",
      "--- Trial 4\n",
      "\tfemale+male : [126 574]\n",
      "\tbackground+target : [365 335]\n",
      "\tROC [M, F] test=(0.9001068830238179, 0.9226190476190476)\n",
      "\tAcc [M, F] test=(0.9006968641114983, 0.9285714285714286)\n",
      "\tRecall [M, F] test=[0.88767123 0.92537313]\n",
      "\tConfusion matrix test = 324 41 | 25 310\n",
      "\n",
      "--- Trial 5\n",
      "\tfemale+male : [138 562]\n",
      "\tbackground+target : [365 335]\n",
      "\tROC [M, F] test=(0.9069926613179209, 0.9293478260869564)\n",
      "\tAcc [M, F] test=(0.9074733096085409, 0.9492753623188406)\n",
      "\tRecall [M, F] test=[0.91506849 0.91641791]\n",
      "\tConfusion matrix test = 334 31 | 28 307\n",
      "\n",
      "--- Trial 6\n",
      "\tfemale+male : [144 556]\n",
      "\tbackground+target : [365 335]\n",
      "\tROC [M, F] test=(0.9165111940298507, 0.9471375301601228)\n",
      "\tAcc [M, F] test=(0.9172661870503597, 0.9583333333333334)\n",
      "\tRecall [M, F] test=[0.91780822 0.93432836]\n",
      "\tConfusion matrix test = 335 30 | 22 313\n",
      "\n",
      "--- Trial 7\n",
      "\tfemale+male : [152 548]\n",
      "\tbackground+target : [365 335]\n",
      "\tROC [M, F] test=(0.9105129744513374, 0.9154901960784313)\n",
      "\tAcc [M, F] test=(0.9105839416058394, 0.9276315789473685)\n",
      "\tRecall [M, F] test=[0.92054795 0.90746269]\n",
      "\tConfusion matrix test = 336 29 | 31 304\n",
      "\n",
      "--- Trial 8\n",
      "\tfemale+male : [144 556]\n",
      "\tbackground+target : [365 335]\n",
      "\tROC [M, F] test=(0.9021929199642502, 0.9479166666666666)\n",
      "\tAcc [M, F] test=(0.9028776978417267, 0.9583333333333334)\n",
      "\tRecall [M, F] test=[0.90684932 0.92238806]\n",
      "\tConfusion matrix test = 331 34 | 26 309\n",
      "\n",
      "--- Trial 9\n",
      "\tfemale+male : [138 562]\n",
      "\tbackground+target : [365 335]\n",
      "\tROC [M, F] test=(0.919836595097853, 0.9343181818181818)\n",
      "\tAcc [M, F] test=(0.9199288256227758, 0.9492753623188406)\n",
      "\tRecall [M, F] test=[0.93150685 0.91940299]\n",
      "\tConfusion matrix test = 340 25 | 27 308\n",
      "\n",
      "--- Trial 10\n",
      "\tfemale+male : [136 564]\n",
      "\tbackground+target : [365 335]\n",
      "\tROC [M, F] test=(0.9198481930440693, 0.9668972332015812)\n",
      "\tAcc [M, F] test=(0.9202127659574468, 0.9632352941176471)\n",
      "\tRecall [M, F] test=[0.92054795 0.93731343]\n",
      "\tConfusion matrix test = 336 29 | 21 314\n",
      "------------------\n",
      "Mean ROC [M, F] test = [0.91233441 0.93672042] ± [0.00797793 0.01768162]\n",
      "Mean Recall [M, F] test = [0.9169863  0.92268657] ± [0.01169128 0.01136291]\n",
      "Mean Confusion Matrix test = [[334.7  30.3]\n",
      " [ 25.9 309.1]] ± [[4.26731766 4.26731766]\n",
      " [3.80657326 3.80657326]]\n"
     ]
    }
   ],
   "source": [
    "import random\n",
    "\n",
    "seed = 12\n",
    "\n",
    "mean_roc_test = []\n",
    "mean_recall_per_class_test = []\n",
    "mean_confusion_matrix = []\n",
    "\n",
    "splt = StratifiedShuffleSplit(test_size=0.6, random_state=seed)\n",
    "\n",
    "X_test_ = data_test_\n",
    "y_test_ = labels_test_\n",
    "\n",
    "c = 0\n",
    "for train_indices, test_indices in splt.split(data_train_, labels_train_):\n",
    "\n",
    "    c += 1\n",
    "    print(\"\\n--- Trial {}\".format(c))\n",
    "\n",
    "    train_idx = data_train_.index[train_indices]\n",
    "    test_idx = data_train_.index[test_indices]\n",
    "    X_train = data_train_.loc[train_idx, :]\n",
    "    y_train = labels_train_[train_indices]\n",
    "\n",
    "    pipe = make_pipeline(FeatureExtractor(), Classifier())\n",
    "    pipe.fit(X_train, y_train)\n",
    "\n",
    "    X_test = pd.concat((X_test_, data_train_.loc[test_idx, :]), axis=0)\n",
    "    y_test = np.concatenate((y_test_, labels_train_[test_indices]))\n",
    "    \n",
    "    X_test.loc[:, 'index'] = np.arange(len(X_test))\n",
    "    is_male = X_test['participants_sex'] == \"M\"\n",
    "    is_male_indices = X_test[is_male]['index']\n",
    "    is_female_indices = X_test[~is_male]['index']    \n",
    "\n",
    "    y_test_pred = pipe.predict(X_test)\n",
    "    print(\"\\tfemale+male : {}\".format(np.bincount(X_test['participants_sex'].map({'M': 1, 'F': 0}).values)))\n",
    "    print(\"\\tbackground+target : {}\".format(np.bincount(y_test)))\n",
    "        \n",
    "    roc_test_male = roc_auc_score(y_test[is_male_indices], y_test_pred[is_male_indices])\n",
    "    roc_test_female = roc_auc_score(y_test[is_female_indices], y_test_pred[is_female_indices])    \n",
    "    mean_roc_test.append((roc_test_male, roc_test_female))\n",
    "    print(\"\\tROC [M, F] test={}\".format((roc_test_male, roc_test_female)))\n",
    "\n",
    "    acc_test_male = accuracy_score(y_test[is_male_indices], y_test_pred[is_male_indices])\n",
    "    acc_test_female = accuracy_score(y_test[is_female_indices], y_test_pred[is_female_indices])\n",
    "    print(\"\\tAcc [M, F] test={}\".format((acc_test_male, acc_test_female)))\n",
    "    \n",
    "    recall_per_class_test = recall_score(y_test, y_test_pred, average=None)\n",
    "    mean_recall_per_class_test.append(recall_per_class_test)    \n",
    "    print(\"\\tRecall [M, F] test={}\".format(recall_per_class_test))\n",
    "    \n",
    "    cm = confusion_matrix(y_test, y_test_pred)\n",
    "    mean_confusion_matrix.append(cm)\n",
    "    print(\"\\tConfusion matrix test = {} {} | {} {}\".format(cm[0, 0], cm[0, 1], cm[1, 0], cm[1, 1]))\n",
    "    \n",
    "print(\"------------------\")    \n",
    "print(\"Mean ROC [M, F] test = {} ± {}\".format(np.mean(mean_roc_test, axis=0), \n",
    "                                np.std(mean_roc_test, axis=0)))\n",
    "print(\"Mean Recall [M, F] test = {} ± {}\".format(np.mean(mean_recall_per_class_test, axis=0), \n",
    "                                   np.std(mean_recall_per_class_test, axis=0)))\n",
    "print(\"Mean Confusion Matrix test = {} ± {}\".format(np.mean(mean_confusion_matrix, axis=0), \n",
    "                                   np.std(mean_confusion_matrix, axis=0)))\n"
   ]
  },
  {
   "cell_type": "markdown",
   "metadata": {},
   "source": [
    "\n",
    "Model : `/` only\n",
    "```\n",
    "seed = 12\n",
    "Mean ROC [M, F] test = [0.82856784 0.89330549] ± [0.00989337 0.03071958]\n",
    "Mean Recall [M, F] test = [0.83972603 0.84716418] ± [0.02463469 0.02884268]\n",
    "Mean Confusion Matrix test = [[306.5  58.5]\n",
    " [ 51.2 283.8]] ± [[8.99166281 8.99166281]\n",
    " [9.66229786 9.66229786]]\n",
    "```\n",
    "\n",
    "\n",
    "Model : `x` and `/`\n",
    "```\n",
    "seed = 12\n",
    "Mean ROC [M, F] test = [0.91233441 0.93672042] ± [0.00797793 0.01768162]\n",
    "Mean Recall [M, F] test = [0.9169863  0.92268657] ± [0.01169128 0.01136291]\n",
    "Mean Confusion Matrix test = [[334.7  30.3]\n",
    " [ 25.9 309.1]] ± [[4.26731766 4.26731766]\n",
    " [3.80657326 3.80657326]]\n",
    "```\n",
    "\n",
    "\n",
    "#### Anatomy based model reference\n",
    "\n",
    "```\n",
    "seed = 12345\n",
    "Mean ROC test=0.8595093028010632\n",
    "Mean Recall test=[0.8909589 0.8280597]\n",
    "```\n",
    "\n",
    "```\n",
    "seed = 17\n",
    "Mean ROC test=0.844759762829687\n",
    "Mean Recall test=[0.87369863 0.8158209 ]\n",
    "```\n",
    "\n",
    "```\n",
    "seed = 12\n",
    "Mean ROC test=0.8529768963402168\n",
    "Mean Recall test=[0.88684932 0.81910448]\n",
    "```"
   ]
  },
  {
   "cell_type": "code",
   "execution_count": null,
   "metadata": {},
   "outputs": [],
   "source": []
  },
  {
   "cell_type": "code",
   "execution_count": 89,
   "metadata": {},
   "outputs": [],
   "source": [
    "clf = pipe.named_steps['classifier']"
   ]
  },
  {
   "cell_type": "code",
   "execution_count": 92,
   "metadata": {},
   "outputs": [],
   "source": [
    "log_reg = clf.clf.named_steps['logisticregression']"
   ]
  },
  {
   "cell_type": "code",
   "execution_count": 96,
   "metadata": {},
   "outputs": [
    {
     "data": {
      "text/plain": [
       "(1, 1728)"
      ]
     },
     "execution_count": 96,
     "metadata": {},
     "output_type": "execute_result"
    }
   ],
   "source": [
    "log_reg.coef_.shape"
   ]
  },
  {
   "cell_type": "code",
   "execution_count": 95,
   "metadata": {},
   "outputs": [
    {
     "name": "stderr",
     "output_type": "stream",
     "text": [
      "/opt/conda/envs/rampwf/lib/python3.6/site-packages/matplotlib/axes/_axes.py:6462: UserWarning: The 'normed' kwarg is deprecated, and has been replaced by the 'density' kwarg.\n",
      "  warnings.warn(\"The 'normed' kwarg is deprecated, and has been \"\n"
     ]
    },
    {
     "data": {
      "text/plain": [
       "<matplotlib.axes._subplots.AxesSubplot at 0x7f7945076ef0>"
      ]
     },
     "execution_count": 95,
     "metadata": {},
     "output_type": "execute_result"
    },
    {
     "data": {
      "image/png": "[encoded data removed]",
      "text/plain": [
       "<Figure size 432x288 with 1 Axes>"
      ]
     },
     "metadata": {},
     "output_type": "display_data"
    }
   ],
   "source": [
    "sns.distplot(log_reg.coef_, kde=False, bins=100)"
   ]
  },
  {
   "cell_type": "code",
   "execution_count": null,
   "metadata": {},
   "outputs": [],
   "source": []
  },
  {
   "cell_type": "code",
   "execution_count": null,
   "metadata": {},
   "outputs": [],
   "source": []
  },
  {
   "cell_type": "markdown",
   "metadata": {},
   "source": [
    "CV + small test"
   ]
  },
  {
   "cell_type": "code",
   "execution_count": 38,
   "metadata": {},
   "outputs": [
    {
     "data": {
      "text/plain": [
       "array([11, 12])"
      ]
     },
     "execution_count": 38,
     "metadata": {},
     "output_type": "execute_result"
    }
   ],
   "source": [
    "np.bincount(labels_test_)"
   ]
  },
  {
   "cell_type": "code",
   "execution_count": 44,
   "metadata": {},
   "outputs": [
    {
     "data": {
      "text/plain": [
       "array([ 1, 22])"
      ]
     },
     "execution_count": 44,
     "metadata": {},
     "output_type": "execute_result"
    }
   ],
   "source": [
    "np.bincount(data_test_['fmri_select'])"
   ]
  },
  {
   "cell_type": "code",
   "execution_count": 40,
   "metadata": {},
   "outputs": [],
   "source": [
    "from sklearn.model_selection import StratifiedKFold\n",
    "from sklearn.metrics import roc_auc_score"
   ]
  },
  {
   "cell_type": "code",
   "execution_count": 41,
   "metadata": {},
   "outputs": [],
   "source": [
    "seed = 12345"
   ]
  },
  {
   "cell_type": "code",
   "execution_count": 42,
   "metadata": {
    "scrolled": true
   },
   "outputs": [
    {
     "name": "stdout",
     "output_type": "stream",
     "text": [
      "ROC valid=0.963483575248281\n",
      "ROC valid=0.9204736440030558\n",
      "ROC valid=0.9507575757575758\n",
      "ROC valid=0.9074675324675325\n",
      "ROC valid=0.9253246753246753\n",
      "ROC valid=0.9696115288220551\n",
      "ROC valid=0.9570802005012532\n",
      "ROC test=0.5303030303030303\n",
      "Acc test=0.5217391304347826\n",
      "Recall test=[0.72727273 0.33333333]\n"
     ]
    }
   ],
   "source": [
    "n_splits = 7\n",
    "splt = StratifiedKFold(n_splits=n_splits, random_state=seed)\n",
    "\n",
    "pipes = []\n",
    "X_test = data_test_\n",
    "y_test = labels_test_\n",
    "\n",
    "\n",
    "for train_indices, test_indices in splt.split(data_train_, labels_train_):\n",
    "\n",
    "    train_idx = data_train_.index[train_indices]\n",
    "    test_idx = data_train_.index[test_indices]\n",
    "    X_train = data_train_.loc[train_idx, :]\n",
    "    y_train = labels_train_[train_indices]\n",
    "\n",
    "    pipe = make_pipeline(FeatureExtractor(), Classifier())\n",
    "    pipe.fit(X_train, y_train)\n",
    "    pipes.append(pipe)\n",
    "\n",
    "    X_valid = data_train_.loc[test_idx, :]\n",
    "    y_valid = labels_train_[test_indices]\n",
    "    y_valid_pred = pipe.predict(X_valid)\n",
    "    print(\"ROC valid={}\".format(roc_auc_score(y_valid, y_valid_pred)))\n",
    "    \n",
    "    \n",
    "y_test_preds = np.zeros((len(y_test), n_splits))\n",
    "for i, pipe in enumerate(pipes):\n",
    "    y_test_preds[:, i] = pipe.predict_proba(X_test)[:, 1]\n",
    "\n",
    "\n",
    "y_test_pred = (y_test_preds.mean(axis=1) > 0.5).astype(np.uint8)\n",
    "print(\"ROC test={}\".format(roc_auc_score(y_test, y_test_pred)))\n",
    "print(\"Acc test={}\".format(accuracy_score(y_test, y_test_pred)))\n",
    "print(\"Recall test={}\".format(recall_score(y_test, y_test_pred, average=None)))"
   ]
  },
  {
   "cell_type": "markdown",
   "metadata": {},
   "source": [
    "\n",
    "\n",
    "\n",
    "#### Anatomy based model reference\n",
    "\n",
    "imbalanced\n",
    "```\n",
    "ROC valid=0.9687547746371276\n",
    "ROC valid=0.9192513368983958\n",
    "ROC valid=0.9502164502164502\n",
    "ROC valid=0.9296536796536795\n",
    "ROC valid=0.9377705627705627\n",
    "ROC valid=0.9235588972431078\n",
    "ROC valid=0.9229323308270676\n",
    "ROC test=0.606060606060606\n",
    "Acc test=0.6086956521739131\n",
    "Recall test=[0.54545455 0.66666667]\n",
    "```\n",
    "\n",
    "\n",
    "balanced\n",
    "```\n",
    "ROC valid=0.9628724216959511\n",
    "ROC valid=0.9192513368983958\n",
    "ROC valid=0.9502164502164502\n",
    "ROC valid=0.9296536796536795\n",
    "ROC valid=0.9442640692640693\n",
    "ROC valid=0.9301378446115287\n",
    "ROC valid=0.9229323308270676\n",
    "ROC test=0.5606060606060606\n",
    "Acc test=0.5652173913043478\n",
    "Recall test=[0.45454545 0.66666667]\n",
    "```"
   ]
  },
  {
   "cell_type": "code",
   "execution_count": null,
   "metadata": {},
   "outputs": [],
   "source": []
  },
  {
   "cell_type": "code",
   "execution_count": 85,
   "metadata": {},
   "outputs": [
    {
     "name": "stderr",
     "output_type": "stream",
     "text": [
      "/opt/conda/envs/rampwf/lib/python3.6/site-packages/matplotlib/axes/_axes.py:6462: UserWarning: The 'normed' kwarg is deprecated, and has been replaced by the 'density' kwarg.\n",
      "  warnings.warn(\"The 'normed' kwarg is deprecated, and has been \"\n",
      "/opt/conda/envs/rampwf/lib/python3.6/site-packages/matplotlib/axes/_axes.py:6462: UserWarning: The 'normed' kwarg is deprecated, and has been replaced by the 'density' kwarg.\n",
      "  warnings.warn(\"The 'normed' kwarg is deprecated, and has been \"\n",
      "/opt/conda/envs/rampwf/lib/python3.6/site-packages/matplotlib/axes/_axes.py:6462: UserWarning: The 'normed' kwarg is deprecated, and has been replaced by the 'density' kwarg.\n",
      "  warnings.warn(\"The 'normed' kwarg is deprecated, and has been \"\n",
      "/opt/conda/envs/rampwf/lib/python3.6/site-packages/matplotlib/axes/_axes.py:6462: UserWarning: The 'normed' kwarg is deprecated, and has been replaced by the 'density' kwarg.\n",
      "  warnings.warn(\"The 'normed' kwarg is deprecated, and has been \"\n"
     ]
    },
    {
     "data": {
      "text/plain": [
       "<matplotlib.legend.Legend at 0x7f794439dd30>"
      ]
     },
     "execution_count": 85,
     "metadata": {},
     "output_type": "execute_result"
    },
    {
     "data": {
      "image/png": "[encoded data removed]",
      "text/plain": [
       "<Figure size 1440x360 with 2 Axes>"
      ]
     },
     "metadata": {},
     "output_type": "display_data"
    }
   ],
   "source": [
    "plt.figure(figsize=(20, 5))\n",
    "plt.subplot(121)\n",
    "is_male = X_test['participants_sex'] == \"M\"\n",
    "plt.title(\"Test\")\n",
    "sns.distplot(X_test[is_male]['participants_age'], kde=False, bins=30, label=\"M\")\n",
    "sns.distplot(X_test[~is_male]['participants_age'], kde=False, bins=30, label=\"F\")\n",
    "plt.legend()\n",
    "\n",
    "plt.subplot(122)\n",
    "is_male = data_train_['participants_sex'] == \"M\"\n",
    "plt.title(\"Train\")\n",
    "sns.distplot(data_train_[is_male]['participants_age'], kde=False, bins=100, label=\"M\")\n",
    "sns.distplot(data_train_[~is_male]['participants_age'], kde=False, bins=100, label=\"F\")\n",
    "plt.legend()"
   ]
  },
  {
   "cell_type": "code",
   "execution_count": 75,
   "metadata": {},
   "outputs": [
    {
     "data": {
      "text/plain": [
       "array([0, 1, 0, 1, 1, 0, 1, 1, 1, 1, 1, 0, 0, 1, 0, 0, 0, 1, 0, 1, 1, 0,\n",
       "       0])"
      ]
     },
     "execution_count": 75,
     "metadata": {},
     "output_type": "execute_result"
    }
   ],
   "source": [
    "\n",
    "y_test"
   ]
  },
  {
   "cell_type": "code",
   "execution_count": null,
   "metadata": {},
   "outputs": [],
   "source": []
  },
  {
   "cell_type": "code",
   "execution_count": null,
   "metadata": {},
   "outputs": [],
   "source": []
  },
  {
   "cell_type": "code",
   "execution_count": 46,
   "metadata": {},
   "outputs": [
    {
     "data": {
      "text/plain": [
       "(23, 7)"
      ]
     },
     "execution_count": 46,
     "metadata": {},
     "output_type": "execute_result"
    }
   ],
   "source": [
    "y_test_preds.shape"
   ]
  },
  {
   "cell_type": "code",
   "execution_count": 86,
   "metadata": {},
   "outputs": [
    {
     "name": "stdout",
     "output_type": "stream",
     "text": [
      "0  :  M 12.2 0  =  0.858  <-  ['0.990', '0.919', '0.981', '0.979', '0.536', '0.900', '0.699']\n",
      "1  :  M 14.0 1  =  0.982  <-  ['1.000', '0.945', '0.995', '0.994', '0.988', '0.957', '0.996']\n",
      "2  :  M 14.425 0  =  0.998  <-  ['1.000', '1.000', '1.000', '1.000', '1.000', '0.990', '1.000']\n",
      "3  :  M 22.8802 1  =  0.484  <-  ['0.675', '0.562', '0.378', '0.251', '0.642', '0.496', '0.380']\n",
      "4  :  M 8.252054795 1  =  0.752  <-  ['0.969', '0.827', '0.960', '0.567', '0.629', '0.685', '0.624']\n",
      "5  :  M 18.2177 0  =  0.328  <-  ['0.441', '0.042', '0.264', '0.378', '0.130', '0.451', '0.588']\n",
      "6  :  M 17.93 1  =  0.326  <-  ['0.619', '0.199', '0.128', '0.259', '0.348', '0.263', '0.468']\n",
      "7  :  M 22.99 1  =  0.001  <-  ['0.000', '0.000', '0.000', '0.000', '0.000', '0.006', '0.000']\n",
      "8  :  M 14.3 1  =  0.000  <-  ['0.000', '0.000', '0.000', '0.000', '0.000', '0.001', '0.000']\n",
      "9  :  M 29.0 1  =  0.203  <-  ['0.358', '0.083', '0.012', '0.022', '0.285', '0.146', '0.517']\n",
      "10  :  M 14.1 1  =  0.912  <-  ['0.751', '0.961', '0.944', '0.977', '0.944', '0.910', '0.895']\n",
      "11  :  M 20.51 0  =  0.205  <-  ['0.080', '0.203', '0.216', '0.073', '0.086', '0.416', '0.363']\n",
      "12  :  M 11.09589041 0  =  0.306  <-  ['0.738', '0.460', '0.081', '0.111', '0.070', '0.418', '0.264']\n",
      "13  :  M 18.4175 1  =  0.024  <-  ['0.025', '0.012', '0.012', '0.005', '0.033', '0.060', '0.021']\n",
      "14  :  M 12.0 0  =  0.488  <-  ['0.662', '0.689', '0.179', '0.503', '0.381', '0.628', '0.375']\n",
      "15  :  M 13.75 0  =  0.000  <-  ['0.000', '0.000', '0.000', '0.000', '0.000', '0.001', '0.000']\n",
      "16  :  F 12.36164384 0  =  0.000  <-  ['0.000', '0.000', '0.000', '0.000', '0.000', '0.001', '0.000']\n",
      "17  :  M 11.83 1  =  0.000  <-  ['0.000', '0.000', '0.000', '0.000', '0.000', '0.002', '0.000']\n",
      "18  :  M 12.5257 0  =  0.983  <-  ['0.999', '0.999', '0.999', '0.966', '0.997', '0.962', '0.958']\n",
      "19  :  F 34.76 1  =  0.105  <-  ['0.197', '0.009', '0.063', '0.293', '0.056', '0.056', '0.062']\n",
      "20  :  F 8.844 1  =  0.997  <-  ['0.997', '1.000', '0.999', '0.999', '0.991', '0.994', '0.999']\n",
      "21  :  M 17.78 0  =  0.000  <-  ['0.000', '0.000', '0.000', '0.000', '0.000', '0.000', '0.000']\n",
      "22  :  M 17.7 0  =  0.053  <-  ['0.067', '0.105', '0.054', '0.057', '0.019', '0.044', '0.020']\n"
     ]
    }
   ],
   "source": [
    "gender = X_test['participants_sex'].values\n",
    "age = X_test['participants_age'].values\n",
    "\n",
    "for i in range(len(y_test)):\n",
    "    print(i, \" : \", gender[i], age[i], y_test[i], \" = \", \"{:.3f}\".format(y_test_preds[i, :].mean()), \n",
    "        \" <- \", [\"{:.3f}\".format(v) for v in y_test_preds[i, :]])\n",
    "    "
   ]
  },
  {
   "cell_type": "code",
   "execution_count": null,
   "metadata": {},
   "outputs": [],
   "source": []
  },
  {
   "cell_type": "code",
   "execution_count": null,
   "metadata": {},
   "outputs": [],
   "source": []
  },
  {
   "cell_type": "code",
   "execution_count": null,
   "metadata": {},
   "outputs": [],
   "source": []
  },
  {
   "cell_type": "markdown",
   "metadata": {},
   "source": [
    "Best features exploration"
   ]
  },
  {
   "cell_type": "code",
   "execution_count": 165,
   "metadata": {
    "scrolled": false
   },
   "outputs": [
    {
     "data": {
      "text/plain": [
       "['(anatomy_Left-Amygdala - anatomy_Right-Amygdala)']"
      ]
     },
     "execution_count": 165,
     "metadata": {},
     "output_type": "execute_result"
    }
   ],
   "source": [
    "cols = [c for c in f1_columns if \"Amygdala\" in c]\n",
    "cols"
   ]
  },
  {
   "cell_type": "code",
   "execution_count": 163,
   "metadata": {
    "scrolled": false
   },
   "outputs": [
    {
     "data": {
      "text/plain": [
       "['(anatomy_Left-Amygdala - anatomy_Right-Amygdala) / participants_age']"
      ]
     },
     "execution_count": 163,
     "metadata": {},
     "output_type": "execute_result"
    }
   ],
   "source": [
    "cols = [c for c in f2_columns if \"Amygdala\" in c and \"age\" in c]\n",
    "cols"
   ]
  },
  {
   "cell_type": "code",
   "execution_count": 162,
   "metadata": {
    "scrolled": false
   },
   "outputs": [
    {
     "data": {
      "text/plain": [
       "['(anatomy_Left-Amygdala - anatomy_Right-Amygdala) / participants_age x anatomy_CC_Posterior',\n",
       " '(anatomy_Left-Amygdala - anatomy_Right-Amygdala) / participants_age x anatomy_4th-Ventricle']"
      ]
     },
     "execution_count": 162,
     "metadata": {},
     "output_type": "execute_result"
    }
   ],
   "source": [
    "cols = [c for c in f3_columns if \"Amygdala\" in c and \"age\" in c]\n",
    "cols"
   ]
  },
  {
   "cell_type": "code",
   "execution_count": 166,
   "metadata": {
    "scrolled": false
   },
   "outputs": [
    {
     "data": {
      "text/plain": [
       "['(anatomy_Left-Cerebellum-White-Matter + anatomy_Right-Cerebellum-White-Matter) x participants_age x anatomy_Brain-Stem',\n",
       " '(anatomy_Left-Cerebellum-White-Matter + anatomy_Right-Cerebellum-White-Matter) x participants_age x anatomy_Optic-Chiasm',\n",
       " '(anatomy_Left-Cerebellum-White-Matter + anatomy_Right-Cerebellum-White-Matter) x participants_age x anatomy_CC_Anterior']"
      ]
     },
     "execution_count": 166,
     "metadata": {},
     "output_type": "execute_result"
    }
   ],
   "source": [
    "cols = [c for c in f3_columns if \"Cerebellum\" in c and \"age\" in c]\n",
    "cols"
   ]
  },
  {
   "cell_type": "code",
   "execution_count": null,
   "metadata": {},
   "outputs": [],
   "source": []
  }
 ],
 "metadata": {
  "kernelspec": {
   "display_name": "Python 3",
   "language": "python",
   "name": "python3"
  },
  "language_info": {
   "codemirror_mode": {
    "name": "ipython",
    "version": 3
   },
   "file_extension": ".py",
   "mimetype": "text/x-python",
   "name": "python",
   "nbconvert_exporter": "python",
   "pygments_lexer": "ipython3",
   "version": "3.6.5"
  }
 },
 "nbformat": 4,
 "nbformat_minor": 2
}
